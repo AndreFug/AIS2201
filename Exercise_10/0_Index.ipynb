{
 "cells": [
  {
   "cell_type": "markdown",
   "id": "c0bae674-3f6b-4ae7-8ad5-7defdcb53f45",
   "metadata": {},
   "source": [
    "# Assignment 10\n",
    "\n",
    "This assignment focuses on sample rate conversion, as discussed in chapter 10 in the book \"Understanding Digital Signal Processing\". The main learning goal of this exercise is to understand how removing samples or inerpolating a signal with samples affects the frequency-domain characteristics of a signal, and how filters can be used to obtain the frequency-domain characteristics we want.\n",
    "\n",
    "## Problems \n",
    "\n",
    "Problem | Topic\n",
    "--- | --- \n",
    "[Fundamentals of Sample Rate Conversin](1_Multirate_basics.ipynb) | Decimation, downsampling, interpolation, upsampling, resampling.\n",
    "[Oversampling and CIC filter theory](2_CIC_intro.ipynb) | Cascaded Integrator Comb filters, and how they are used in oversampling.\n",
    "[CIC IMplementation](3_CIC_stm32.ipynb) | Implementing a Cascaded Integrator Comb filter in C"
   ]
  }
 ],
 "metadata": {
  "kernelspec": {
   "display_name": "Python 3 (ipykernel)",
   "language": "python",
   "name": "python3"
  },
  "language_info": {
   "codemirror_mode": {
    "name": "ipython",
    "version": 3
   },
   "file_extension": ".py",
   "mimetype": "text/x-python",
   "name": "python",
   "nbconvert_exporter": "python",
   "pygments_lexer": "ipython3",
   "version": "3.11.5"
  }
 },
 "nbformat": 4,
 "nbformat_minor": 5
}
