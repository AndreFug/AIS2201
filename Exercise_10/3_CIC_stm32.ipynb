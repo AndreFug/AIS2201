{
 "cells": [
  {
   "cell_type": "markdown",
   "id": "e8791391-b358-40f9-b2d7-a097808f3a55",
   "metadata": {},
   "source": [
    "# Implementing a CIC filter using C \n",
    "\n",
    "When implementing a filter on a microprocessor, we generally need three things:\n",
    "1. State variables which can retain information about the filter state between filtering operations.\n",
    "2. A way to initialize filter states.\n",
    "3. A function to process the input data $x[n]$ and calculate the output data $y[n]$. This could either be done on a sample-by-sample basis, or using entire arrays as input.\n",
    "\n",
    "\n",
    "If we were programming in C++, Java, Python or any other object oriented language, all of the above could be wraped int one class. However, since we are programing the stm32 in C, we will have to make do with the next-best thing: structs and functions.\n",
    "\n",
    "In this task we will have a closer look at one possible implementation of a CIC filter, where we process an entire array of input data (such as the array `ADC_buffer` from assignment $6$). The structure of the solution is closely modeled on similar functions in the CMSIS-DSP library we used to perform the RFFT in assignment $6$."
   ]
  },
  {
   "cell_type": "markdown",
   "id": "b3564763-6d81-4ded-8c64-998934382abc",
   "metadata": {},
   "source": [
    "#### 1. Defining a struct for storing information about filter state\n",
    "\n",
    "The following code declares a struct with three member variables. Think of this as the private variables of a class. The struct is given an identifier `CIC_isnt_int16` which allows us to pass struct pointer as arguments to functions.\n",
    "\n",
    "```C\n",
    "typedef struct\n",
    "{\n",
    "\tuint16_t decimation_factor;\n",
    "\tint32_t acc;\n",
    "\tint32_t prev_acc;\n",
    "\n",
    "}CIC_inst_int16;\n",
    "```\n",
    "\n",
    "#### 2. Initializing the filter state\n",
    "Below is a function description for a function `CIC_int16_init` which initializes the filter state, and sets crucial filter parameters such as decimation factor. Think of this as the filter's constructor.\n",
    "\n",
    "```C\n",
    "void CIC_int16_init(CIC_inst_int16 *S, uint16_t M){\n",
    "\tS->acc = 0;\n",
    "\tS->prev_acc = 0;\n",
    "\tS->decimation_factor = M;\n",
    "}\n",
    "```\n",
    "\n",
    "#### 3. Downsampling signal by processing arrays\n",
    "Below is a function description for a function `CIC_int16` which is responsible for doing the actual downsampling.\n",
    "```C\n",
    "\n",
    "void CIC_int16(CIC_inst_int16 *S,\n",
    "\t\tint16_t *input,\n",
    "\t\tuint32_t n_samples,\n",
    "\t\tint16_t *output)\n",
    "{\n",
    "\tuint32_t n=0;\n",
    "\tuint32_t m=0;\n",
    "\twhile(n<n_samples){\n",
    "\t\tS->acc += input[n];\n",
    "        n++;\n",
    "\t\tif (n%S->decimation_factor==0){\n",
    "\t\t\toutput[m] = (uint16_t)(S->acc - S->prev_acc);\n",
    "\t\t\tm++;\n",
    "\t\t\tS->prev_acc = S->acc;\n",
    "\t\t}\n",
    "\t}\n",
    "}\n",
    "```"
   ]
  },
  {
   "cell_type": "markdown",
   "id": "c8e33fea-b253-466b-b511-1f386d1b3d11",
   "metadata": {},
   "source": [
    "## a)\n",
    "* Study the code above in steps 1-3, and try to understand what is going on in each part. Write a suggestion for how you would use these function/struct definitions to downsample data in an array (e.g. `ADC_buffer`) by a factor of `8`, and submit your answer as an abbreviated `void main()` function description. (You don't need to include all the `HAL_ADC_Init`-calls etc., only the parts relevant to this downsampling operation specifically."
   ]
  },
  {
   "cell_type": "markdown",
   "id": "bf80026d-6712-42ed-b441-4df39f6ab2e8",
   "metadata": {
    "deletable": false,
    "nbgrader": {
     "cell_type": "markdown",
     "checksum": "abb233d567ba061e001041a3afa0179e",
     "grade": true,
     "grade_id": "cell-381b79f3d4254510",
     "locked": false,
     "points": 1,
     "schema_version": 3,
     "solution": true,
     "task": false
    }
   },
   "source": [
    "ANSWER THEORY QUESTIONS HERE:\n",
    "\n",
    "```C\n",
    "// Step 1: Declare the instance of the struct\n",
    "    CIC_inst_int16 cic_filter;\n",
    "\n",
    "// Step 2: init the filter, with a factor of 8\n",
    "    CIC_int16_init(&cic_filter, 8);\n",
    "\n",
    "// Step 3: Prepare I/O buffers\n",
    "    int16_t ADC_buffer[N_SAMPLES]; \n",
    "    int16_t downsampled_buffer[N_SAMPLES / 8];\n",
    "\n",
    "\n",
    "    CIC_int16(&cic_filter, ADC_buffer, N_SAMPLES, downsampled_buffer);\n",
    "```"
   ]
  }
 ],
 "metadata": {
  "kernelspec": {
   "display_name": "Python 3 (ipykernel)",
   "language": "python",
   "name": "python3"
  },
  "language_info": {
   "codemirror_mode": {
    "name": "ipython",
    "version": 3
   },
   "file_extension": ".py",
   "mimetype": "text/x-python",
   "name": "python",
   "nbconvert_exporter": "python",
   "pygments_lexer": "ipython3",
   "version": "3.11.5"
  }
 },
 "nbformat": 4,
 "nbformat_minor": 5
}
