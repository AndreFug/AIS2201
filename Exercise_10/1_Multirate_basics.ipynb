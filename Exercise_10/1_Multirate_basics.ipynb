{
 "cells": [
  {
   "cell_type": "markdown",
   "id": "5a586580-0153-40ec-8208-70c87eec2682",
   "metadata": {},
   "source": [
    "# The fundamentals of sample rate conversion\n",
    "\n",
    "**Learning goals:**\n",
    "* Experiencing the effects of interpolation and decimation on the frequency content of a signal\n",
    "* Understanding the role of filters in sample rate conversion\n",
    "\n",
    "**Relevant reading:**\n",
    "* Chapters 10.1 - 10.6 in the book \"Understanding Digital Signal Processing\"\n",
    "\n",
    "**Libraries and notebook config:**"
   ]
  },
  {
   "cell_type": "code",
   "execution_count": null,
   "id": "5f083baa-7943-4fc6-bdff-2cb18c572fdb",
   "metadata": {
    "deletable": false,
    "editable": false,
    "nbgrader": {
     "cell_type": "code",
     "checksum": "1dfa0a11b5d4e8ef6807cb04dd5b81be",
     "grade": true,
     "grade_id": "cell-bc48f2e7a0e30653",
     "locked": true,
     "points": 0,
     "schema_version": 3,
     "solution": false,
     "task": false
    }
   },
   "outputs": [],
   "source": [
    "from scipy.io import wavfile\n",
    "import scipy.signal as sig\n",
    "import numpy as np\n",
    "from IPython.display import Audio\n",
    "import matplotlib.pyplot as plt\n",
    "\n",
    "plt.rcParams[\"figure.figsize\"] = [8.00, 4.5]\n",
    "plt.rcParams[\"figure.autolayout\"] = True\n",
    "plt.rcParams[\"axes.grid\"] = True\n",
    "plt.rcParams[\"axes.xmargin\"] = 0.0\n",
    "\n",
    "%matplotlib inline"
   ]
  },
  {
   "cell_type": "markdown",
   "id": "1697ffe7-2177-4f91-8a87-8afbf2c0b36a",
   "metadata": {},
   "source": [
    "### Introduction\n",
    "\n",
    "In a number of situations, it is desirable to convert a digital signal $x_{\\text{old}}[n]$ acquired at sampling frequency $f_{s, \\text{ old}}$ to a new sampling frequency $f_{s, \\text{ new}}$, producing a new signal $x_{\\text{new}}[m]$. The reasons for doing this might be comparing streams of data with different sample rates, or reducing the sample rate of a signal which was initially [oversampled](https://en.wikipedia.org/wiki/Oversampling). Given that both $x_{\\text{old}}[n]$ and $x_{\\text{new}}[m]$ are a discrete-time representation of the same analog signal $x(t)$, the ideal result is for the signal $x_{\\text{new}}[m]$ to be an exact discrete-time representation of $x(t)$ (assuming the nyquist criterion is met with the new sampling frequency $f_{s, \\text{ new}}$):\n",
    "$$x_{\\text{new}}[m] = x(t) \\bigg|_{t = \\frac{m}{f_{s, \\text{ new}}}}$$\n"
   ]
  },
  {
   "cell_type": "markdown",
   "id": "0ee9937b-60a7-4cf2-b89a-53db36d25546",
   "metadata": {},
   "source": [
    "### Problem description\n",
    "\n",
    "Given a continuous-time signal $x(t)$ which has the following frequency content: \n",
    "$$X(\\omega) = \\begin{cases}1 - \\frac{|f|}{40}, & -40\\text{ Hz} < f < 40\\text{ Hz} \\\\ 0 ,& \\text{otherwise} \\end{cases}$$\n",
    "\n",
    "The signal $x(t)$ is sampled with a initial sampling rate $f_s = 100 \\text{ Hz}$, to produce a discrete-time signal $x[n]$. The sampled signal $x[n]$ is recorded in the file `task1_signal.mat` in the `data` folder. The code cell below will load the signal $x[n]$ into an array `x_n` as well as the initial sampling frequency $f_s$ into the variable `fs`, and use the matlab-function `magnitude_spectrum` to create a plot of the signal's frequency content."
   ]
  },
  {
   "cell_type": "code",
   "execution_count": null,
   "id": "72aaffe6-545b-4542-85d9-82a7be4ac132",
   "metadata": {
    "deletable": false,
    "editable": false,
    "nbgrader": {
     "cell_type": "code",
     "checksum": "a031d132d6c50c507145363db3052562",
     "grade": true,
     "grade_id": "cell-15cefcee9b0932e6",
     "locked": true,
     "points": 0,
     "schema_version": 3,
     "solution": false,
     "task": false
    }
   },
   "outputs": [],
   "source": [
    "from scipy.io import loadmat\n",
    "data = loadmat(\"data/task1_signal.mat\", squeeze_me=True)\n",
    "x_n = data[\"x_n\"]\n",
    "fs = data[\"fs\"]\n",
    "\n",
    "plt.magnitude_spectrum(x_n, Fs=fs);\n",
    "plt.title(\"Magnitude spectrum of signal stored in 'task1_signal.mat'\")"
   ]
  },
  {
   "cell_type": "markdown",
   "id": "21783e3e-6a4e-4406-8c0b-8c73fb97d402",
   "metadata": {},
   "source": [
    "Throughout this problem we will explore how sample rate conversion can be performed on the signal $x[n]$, and what steps need to be taken to ensure the frequency content after sample rate conversion matches that seen in the plot above to the largest possible degree.\n",
    "\n",
    "\n",
    "### Downsampling\n",
    "The first component of sample rate conversion we will explore is Downsampling; the process of reducing the sample rate of a discrete signal $x_{\\text{old}}[n]$ by a factor of $M$. Described mathematically, the downsampled signal $x_{\\text{new}}[m]$ is a discrete-time signal where the new sampling frequency is \n",
    "$$f_{s, \\text{ new}} = \\frac{f_{s, \\text{ old}}}{M}$$\n",
    "Before we simply reduce the number of samples in a signal however, it is important to first remove any frequency components which reside above the *new* nyquist frequency $\\frac{f_{s, \\text{ new}}}{2}$. Otherwise, the high-frequency portions of the signal $x[n]$ will cause aliasing in the downsampled signal $x_{\\text{new}}[m]$. To illustrate why this is necessary, let's see what happens when we decimate the signal $x[n]$ without filtering first..."
   ]
  },
  {
   "cell_type": "markdown",
   "id": "7eacff40-b251-4924-a34d-0dd28e31e789",
   "metadata": {},
   "source": [
    "## a)\n",
    "* Create a new array of downsampled data by using **list slicing** to decimate the signal `x_n` by a factor of $2$, and display the magnitude spectrum of the decimated signal alongside the original signal. Mathematically, the decimated signal will given by the following equation:\n",
    "\n",
    "$$x_{\\text{new}}[m] = x[2\\cdot m]$$\n"
   ]
  },
  {
   "cell_type": "code",
   "execution_count": null,
   "id": "39ac75fb-623b-4c3c-95ba-39c8a68890b2",
   "metadata": {
    "deletable": false,
    "nbgrader": {
     "cell_type": "code",
     "checksum": "6a1583385195203c2b43ca12fa2123b1",
     "grade": true,
     "grade_id": "cell-6c3171478bf3f031",
     "locked": false,
     "points": 1,
     "schema_version": 3,
     "solution": true,
     "task": false
    }
   },
   "outputs": [],
   "source": [
    "# WRITE YOUR CODE IN THIS CELL:"
   ]
  },
  {
   "cell_type": "markdown",
   "id": "279bbc75-5862-42ba-a747-e38021a4167b",
   "metadata": {},
   "source": [
    "[Here](figures/task1a_lf.png) is an image showing what the end result should look like.\n",
    "\n",
    "* Study the magnitude spectrum of the decimated signal `x_new`. What is going on in the frequency range $10\\text{Hz}<f<25\\text{Hz}$?"
   ]
  },
  {
   "cell_type": "markdown",
   "id": "cb5a47f5-6643-428f-a39b-0254ec11cf06",
   "metadata": {
    "deletable": false,
    "nbgrader": {
     "cell_type": "markdown",
     "checksum": "1f44d5f0a5ce78e4b3c67ecdb88995bc",
     "grade": true,
     "grade_id": "cell-dcd57ed4dc949372",
     "locked": false,
     "points": 1,
     "schema_version": 3,
     "solution": true,
     "task": false
    }
   },
   "source": [
    "ANSWER THEORY QUESTIONS HERE:"
   ]
  },
  {
   "cell_type": "markdown",
   "id": "c3507d51-25bc-4f23-9279-97f0b4bee1d4",
   "metadata": {},
   "source": [
    "Now that we have observed the effects of directly decimating the signal $x[n]$, lets now insert a filter before the decimation, and see what effects this will have on the downsampled signal's frequency content.\n",
    "\n",
    "## b)\n",
    "\n",
    "* Use either the *window design method* or the function [remez](https://docs.scipy.org/doc/scipy/reference/generated/scipy.signal.remez.html) to design a $257$-tap lowpass FIR filter with the transition region centered around $\\hat{\\omega}_c=\\frac{\\pi}{4}$. Then, filter the full-rate signal $x[n]$ using your lowpass filter **before** decimation. Once again, plot the magnitude spectrum of the downsampled signal $x_{\\text{new}}[m]$ alongside the original signal $x[n]$. Use convolution `mode=\"same\"` to ensure output length equals input length.\n",
    "\n",
    "<!--*PS: Filtering the signal using convolution will result in a longer output than input, but with the same total signal energy. Matlab's `magnitude_spectrum` function divides by signal lenght $N$ to calculate the magnitde spectrum, meaning the filtered magnitude spectrum may appear weaker than the input magnitude spectrum. This can be corrected by scaling with $\\frac{L_{\\text{out}}}{L_{\\text{in}}}$*.-->"
   ]
  },
  {
   "cell_type": "code",
   "execution_count": null,
   "id": "ef848c83-34e6-4439-bf04-53135af3197a",
   "metadata": {
    "deletable": false,
    "nbgrader": {
     "cell_type": "code",
     "checksum": "61282588a0f72afd5dee77e288f09f24",
     "grade": true,
     "grade_id": "cell-8b09c331a021295e",
     "locked": false,
     "points": 1,
     "schema_version": 3,
     "solution": true,
     "task": false
    }
   },
   "outputs": [],
   "source": [
    "# WRITE YOUR CODE IN THIS CELL:"
   ]
  },
  {
   "cell_type": "markdown",
   "id": "b31d1e61-10fa-4f66-ba5b-fbe6b629ed5f",
   "metadata": {},
   "source": [
    "[Here](figures/task1b_lf.png) is an image showing what the end result should look like. PS: don't worry too much if the magnitudes don't match exaclty, this is merely a scaling issue. The important part is that the *shape* of the downsampled magnitude spectrum is correct.\n",
    "\n",
    "* Study the magnitude spectrum plot for $x_{\\text{new}}[m]$ and $x[n]$. Explain why our current result would be more desirable as a output of a downsampling operation thant the result in task **a)**"
   ]
  },
  {
   "cell_type": "markdown",
   "id": "6ae566f1-e491-45fd-95c6-177b4e36c98a",
   "metadata": {
    "deletable": false,
    "nbgrader": {
     "cell_type": "markdown",
     "checksum": "602fc168a25068093b7b45765c5c3045",
     "grade": true,
     "grade_id": "cell-cac42538194d65ab",
     "locked": false,
     "points": 1,
     "schema_version": 3,
     "solution": true,
     "task": false
    }
   },
   "source": [
    "ANSWER THEORY QUESTIONS HERE:"
   ]
  },
  {
   "cell_type": "markdown",
   "id": "bb9bb6ea-c89d-4ee3-aeda-4167294aedb6",
   "metadata": {},
   "source": [
    "### Upsampling\n",
    "\n",
    "The next component of sample rate conversion we will explore is Upsampling; the process of increasing the sample rate of a discrete signal $x_{\\text{old}}[n]$ by a factor of $L$. Described mathematically, the upsampled signal $x_{\\text{new}}[m]$ is a discrete-time signal where the new sampling frequency is \n",
    "$$f_{s, \\text{ new}} = f_{s, \\text{ old}} \\cdot L$$\n",
    "\n",
    "For upsampling to be successful, we need to estimate the value of the original analog signal $x(t)$ at points *between* the sampling times $t_n \\in \\{0, T_s, 2T_s, \\ldots\\}$. The term for this is [*interpolation*](https://en.wikipedia.org/wiki/Interpolation), and there exists many approaches to interpolation depending on the field.\n",
    "\n",
    "From a signal processing perspective, the goal can be defined as follows: find the discrete-time signal $x_{\\text{new}}[m]$ whose frequency-domain representation $X_{\\text{new}}(\\hat{\\omega})$ is:\n",
    "\n",
    "$$X_{\\text{new}}(\\hat{\\omega}) \\begin{cases} X_{\\text{old}}(\\hat{2\\omega}), & 0 \\leq \\hat{\\omega} \\leq \\frac{\\pi}{2} \\\\ 0, & \\frac{\\pi}{2}  < \\hat{\\omega} \\leq \\pi \\end{cases}$$\n",
    "\n",
    "\n",
    "This is accomplished in two stages:\n",
    "1. Interpolate the signal with $L-1$ zeroes between each sample. This will create a signal with high-frequency spectral images of $x(t)$\n",
    "2. Use a lowpass filter to remove the spectral images, and amplify the frequencies in the frequency range $0 \\leq f < \\frac{f_{s, \\text{ old}}}{2}$.\n",
    "\n",
    "Let's take a closer look at the first stage, and what the frequency domain of a signal looks like if we interpolate by a factor of $L=2$...\n",
    "\n",
    "## c)\n",
    "* Use python to interpolate the signal $x[n]$ by a factor of $2$. The output should be a new array `x_new` with twice the lenght of `x_n`, where each original sample value is interspersed with a zero ($0$). Show the magnitude spectrum of both the original signal $x[n]$, and the upsampled signal $x_{\\text{new}}[m]$."
   ]
  },
  {
   "cell_type": "code",
   "execution_count": null,
   "id": "8810916b-9e00-404e-963e-980bda3cb7b1",
   "metadata": {
    "deletable": false,
    "nbgrader": {
     "cell_type": "code",
     "checksum": "2f34cf63d374698f74feb8977eb5ac68",
     "grade": true,
     "grade_id": "cell-a711862b24f5afbd",
     "locked": false,
     "points": 1,
     "schema_version": 3,
     "solution": true,
     "task": false
    }
   },
   "outputs": [],
   "source": [
    "# WRITE YOUR CODE IN THIS CELL:"
   ]
  },
  {
   "cell_type": "markdown",
   "id": "d741979a-0570-4da3-bf36-66f8ec934eea",
   "metadata": {},
   "source": [
    "[Here](figures/task1c_lf.png) is a plot showing what the interpolated signal magnitude spectrum should look like. \n",
    "* Study the magnitude spectrum, and explain why there is a high-frequency mirror image of the original signal, and why the magnitude of each mirror image is half that of the original."
   ]
  },
  {
   "cell_type": "markdown",
   "id": "d91d64d7-cdfa-4b67-a9fc-e3f04b9e8630",
   "metadata": {
    "deletable": false,
    "nbgrader": {
     "cell_type": "markdown",
     "checksum": "f2cf5023d91f55d449944f2352dea2cf",
     "grade": true,
     "grade_id": "cell-29e57f33a9671e65",
     "locked": false,
     "points": 1,
     "schema_version": 3,
     "solution": true,
     "task": false
    }
   },
   "source": [
    "ANSWER THEORY QUESTIONS HERE:"
   ]
  },
  {
   "cell_type": "markdown",
   "id": "33c9971e-daec-4878-b8a4-e5bb845a883e",
   "metadata": {},
   "source": [
    "Now let's implement the second stage, where we use a filter to suppress the right half of the frequency spectrum from problem **c)**.\n",
    "\n",
    "## d)\n",
    "* Use the lowpass filter from problem **b)** to finish the interpolation process and produce a new upsampled digital signal $x_{\\text{new}}[m] = x\\left(m\\cdot \\frac{T_s}{2}\\right)$. Show the magnitude spectrum of both the original signal $x[n]$, and the upsampled signal $x_{\\text{new}}[m]$."
   ]
  },
  {
   "cell_type": "code",
   "execution_count": null,
   "id": "bacc5ece-32ae-4897-ba5b-4e3c6eda655c",
   "metadata": {
    "deletable": false,
    "nbgrader": {
     "cell_type": "code",
     "checksum": "3a40f08ce87f9e3eec05e074e36508b6",
     "grade": true,
     "grade_id": "cell-c2868c6c8e4e3de8",
     "locked": false,
     "points": 1,
     "schema_version": 3,
     "solution": true,
     "task": false
    }
   },
   "outputs": [],
   "source": [
    "# WRITE YOUR CODE IN THIS CELL:"
   ]
  },
  {
   "cell_type": "markdown",
   "id": "28ef6e32-0ad6-4858-bdfe-fd55f883ba28",
   "metadata": {},
   "source": [
    "[Here](figures/task1d_lf.png) is a plot showing what the interpolated signal magnitude spectrum should look like. PS: don't worry too much if the magnitudes don't match exaclty, this is merely a scaling issue. The important part is that the *shape* of the upsampled magnitude spectrum is correct.\n",
    "\n",
    "\n",
    "* Study the magnitude spectrum plot for $x_{\\text{new}}[m]$ and $x[n]$. Explain why our current result would be more desirable as a output of an upsampling operation thant the result in task **c)**."
   ]
  },
  {
   "cell_type": "markdown",
   "id": "c4028d24-5088-43d9-b8f4-0bc4157133b0",
   "metadata": {
    "deletable": false,
    "nbgrader": {
     "cell_type": "markdown",
     "checksum": "47d24e8a9157004a3a530d6f91d525c2",
     "grade": true,
     "grade_id": "cell-73cf4109c68a8155",
     "locked": false,
     "points": 1,
     "schema_version": 3,
     "solution": true,
     "task": false
    }
   },
   "source": [
    "ANSWER THEORY QUESTIONS HERE:"
   ]
  },
  {
   "cell_type": "markdown",
   "id": "c53a2d1d-9eb7-472c-b3a7-84fa8b7f8779",
   "metadata": {},
   "source": [
    "### Resampling\n",
    "\n",
    "We have now covered how to decrease sampling frequency by a integer ration $M$, and how to increase sampling frequency by a integer ratio $L$. However, in order to achieve a sample rate conversion by a non-integer ratio we need to combine both upsampling and downsampling. Resampling can be performed as long as the ratio of sampling frequencies is a rational number:\n",
    "$$\\frac{f_{s, \\text{ new}}}{f_{s, \\text{ old}}} = \\frac{L}{M}, \\ \\ \\ L, M \\in \\mathbb{Z}$$\n",
    "\n",
    "The signal processing operations which accomplish this resampling can be divided into 3 steps:\n",
    "1. Interpolate the signal $x_{old}[n]$ by a factor of $L$, interspersing each sample with $L-1$ zeros.\n",
    "2. Filter the interpolated signal with a lowpass filter which suppresses all frequencies above $f_c = \\text{min}\\left(\\frac{f_{s, \\text{ new}}}{2}, \\frac{f_{s, \\text{ old}}}{2} \\right)$, passband gain of $L$\n",
    "3. Decimate the filtered signal by a factor of $M$\n",
    "\n",
    "\n",
    "## e)\n",
    "* Determine what the Nyquist Frequency for the signal $x(t)$ represented by the samples $x[n]$ is. Then, determine what the upsampling factor $L$ and downsampling factor $M$ needs to be for the combined interpolation and decimation system in figure .... to resample the signal at precisely the Nyquist frequency. Finally, determine what the corner frequency $\\hat{\\omega}_c$ of the lowpass filter used for resampling needs to be for the $-6dB$ cutoff to occur precisely at the Nyquist Frequency.\n",
    "* Finally, use the your code soution from problems **a)** through **d)** to resample the signal using a newly designed FIR lowpass filter, and plot the magnitude spectrum of the resampled signal. Alternativelym you can use the built-in function  [`upfirdn`](https://docs.scipy.org/doc/scipy/reference/generated/scipy.signal.upfirdn.html)."
   ]
  },
  {
   "cell_type": "code",
   "execution_count": null,
   "id": "6155aac9-3857-45dc-a85c-82f266919000",
   "metadata": {
    "deletable": false,
    "nbgrader": {
     "cell_type": "code",
     "checksum": "e6ff10bca95ae7d5a50a0360245d332a",
     "grade": false,
     "grade_id": "cell-46222670e8ecd57a",
     "locked": false,
     "schema_version": 3,
     "solution": true,
     "task": false
    }
   },
   "outputs": [],
   "source": [
    "f_nyquist = \"???\"  # Nyquist Frequency\n",
    "M = \"???\"  # Downsampling factor\n",
    "L = \"???\"  # Upsampling factor.\n",
    "w_c = \"???\"  # -6dB cutoff frequency for resampling filter\n",
    "# WRITE YOUR CODE IN THIS CELL:"
   ]
  },
  {
   "cell_type": "markdown",
   "id": "958b028f-77b4-45c0-aea4-f6efcc28c4cf",
   "metadata": {},
   "source": [
    "[Here](figures/task1e_lf.png) is a plot showing what the interpolated signal magnitude spectrum should look like. PS: don't worry too much if the magnitudes don't match exaclty, this is merely a scaling issue. The important part is that the *shape* of the upsampled magnitude spectrum is correct."
   ]
  },
  {
   "cell_type": "code",
   "execution_count": null,
   "id": "dcfbe22a-a179-418a-9820-1b509547f25c",
   "metadata": {
    "deletable": false,
    "editable": false,
    "nbgrader": {
     "cell_type": "code",
     "checksum": "9c254920a9e29eab5315505f4598818b",
     "grade": true,
     "grade_id": "cell-9b1f228c9d015b2f",
     "locked": true,
     "points": 1,
     "schema_version": 3,
     "solution": false,
     "task": false
    }
   },
   "outputs": [],
   "source": [
    "from hashlib import sha1\n",
    "assert sha1(str(round(f_nyquist)).encode('utf-8')+b'e0b5a').hexdigest() == '21c7b924e527a0638233adafe70cac78be3a78be', 'Wrong answer for f_nyquist :('; print('Correct answer for f_nyquist :)')\n",
    "assert sha1(str(round(M)).encode('utf-8')+b'6d5db').hexdigest() == '15732e35cb2875d2566f11a3ac8184f32990f0be', 'Wrong answer for M :('; print('Correct answer for M :)')\n",
    "assert sha1(str(round(L)).encode('utf-8')+b'904ad').hexdigest() == 'fb8d8d7db26743e1d048889f053ec9a0d21a3883', 'Wrong answer for L :('; print('Correct answer for L :)')\n",
    "assert sha1(str(round(w_c, 5)).encode('utf-8')+b'7da52').hexdigest() == '54901accde568e56eae88f9e81a42dc199cd0b31', 'Wrong answer for w_c :('; print('Correct answer for w_c :)')"
   ]
  },
  {
   "cell_type": "code",
   "execution_count": null,
   "id": "d0668f23-5cc2-47fe-bbfb-2786a09b1dfe",
   "metadata": {},
   "outputs": [],
   "source": []
  }
 ],
 "metadata": {
  "kernelspec": {
   "display_name": "Python 3 (ipykernel)",
   "language": "python",
   "name": "python3"
  },
  "language_info": {
   "codemirror_mode": {
    "name": "ipython",
    "version": 3
   },
   "file_extension": ".py",
   "mimetype": "text/x-python",
   "name": "python",
   "nbconvert_exporter": "python",
   "pygments_lexer": "ipython3",
   "version": "3.11.5"
  }
 },
 "nbformat": 4,
 "nbformat_minor": 5
}
