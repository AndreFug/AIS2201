{
 "cells": [
  {
   "cell_type": "markdown",
   "id": "893ecddb-4ae7-4e8b-975c-22fce738b44c",
   "metadata": {},
   "source": [
    "# Oversampling with a CIC filter\n",
    "\n",
    "### Oversampling Introduction\n",
    "\n",
    "Oversampling is a particular application of sample rate conversion where an analog signal $x(t)$ is sampled at a much higher rate than strictly necessary accoring to the Nyquist Sampling Theorem, and the sample rate is then reduced by means of downsampling. The reasons for doing this can be many: increasing SNR in the desired frequency band, increasing ADC resolution etc..\n",
    "\n",
    "As we saw in problem 1, downsampling involves the use of a FIR filter to suppress any frequency components in the full rate signal $x_{\\text{old}}[n]$ which would cause aliasing in the decimated signal $x_{\\text{new}}[m]$. However, ordinary FIR filtering can be computationally intensive, and using a high-order FIR filter to operate at the sampling speed used for oversampling may cause a prohibitiely large processor load. This is where Cascaded Ingegrator-Comb (CIC) filters come in handy.\n",
    "\n",
    "### Cascaded Integrator Comb filters\n",
    "\n",
    "A Cascaded Integrator Comb filter is, in essence, a particular architecture for implementing a *moving average* filter used for downsampling which only requires one integer addition and one integer subtraction per sample. \n",
    "\n",
    "$$\\begin{align}\n",
    "v[n] &= x[n] + v[n-1] \\tag{1}\\\\\n",
    "y[n] &= v[n] - v[n-L] \\tag{2}\n",
    "\\end{align}$$\n",
    "\n",
    "The impulse response of the cascaded systems will be $h[n] = u[n] - u[n-L]$, which is *almost* identical to a moving average filter except we're missing the $\\frac{1}{L}$ term. Below is a code cell which when run shows a visualization of the properties of a filter with impulse response $h[n] = u[n] - u[n-8]$. You should see a pole-zero plot of the system, a plot of the filter's magnitude response as well as a 3D representation of the transfer function $H(z)$."
   ]
  },
  {
   "cell_type": "code",
   "execution_count": null,
   "id": "6b2c6497-ff35-4e02-923d-42701a1831bb",
   "metadata": {},
   "outputs": [],
   "source": [
    "from Kildekode import visualizeTF\n",
    "L = 8\n",
    "hn = np.ones(L)\n",
    "visualizeTF(b=hn, a=[1])"
   ]
  },
  {
   "cell_type": "markdown",
   "id": "05ae7b12-f952-4ceb-aa4a-1a5140da351b",
   "metadata": {},
   "source": [
    "## a)\n",
    "* Find the filter coefficients $a_k$ and $b_k$ for the integrator filter in equation $1$ ($v[n] = x[n] + v[n-1] $) and use the function `visualizeTF` to display the filter's magnitude response and pole/zero plot."
   ]
  },
  {
   "cell_type": "code",
   "execution_count": null,
   "id": "92f93ca7-a5ad-4b76-af2d-0ee0bc2e489d",
   "metadata": {
    "deletable": false,
    "nbgrader": {
     "cell_type": "code",
     "checksum": "93dc24c343c5284dd665258565766b01",
     "grade": false,
     "grade_id": "cell-6d0f9edd714bab74",
     "locked": false,
     "schema_version": 3,
     "solution": true,
     "task": false
    }
   },
   "outputs": [],
   "source": [
    "b = \"???\"\n",
    "a = \"???\"\n",
    "# WRITE YOUR CODE IN THIS CELL:"
   ]
  },
  {
   "cell_type": "code",
   "execution_count": null,
   "id": "a444108f-d60e-474a-94e7-0c2ac1fe7af8",
   "metadata": {},
   "outputs": [],
   "source": []
  },
  {
   "cell_type": "markdown",
   "id": "140a0bdf-547a-4b7b-8f0c-d73330c833b7",
   "metadata": {},
   "source": [
    "## b)\n",
    "* Find the filter coefficients $a_k$ and $b_k$ for the comb filter in equation $2$ ($y[n] = v[n] - v[n-L]$ ) where $L=8$, and use the function `visualizeTF` to display the filter's magnitude response and pole/zero plot."
   ]
  },
  {
   "cell_type": "code",
   "execution_count": null,
   "id": "41a8dea2-274f-463f-9cd1-5fe70eb2ae68",
   "metadata": {
    "deletable": false,
    "nbgrader": {
     "cell_type": "code",
     "checksum": "04e3d85b229f89d6317470c35464e550",
     "grade": false,
     "grade_id": "cell-6f7865a27bcefee3",
     "locked": false,
     "schema_version": 3,
     "solution": true,
     "task": false
    }
   },
   "outputs": [],
   "source": [
    "b = \"???\"\n",
    "a = \"???\"\n",
    "# WRITE YOUR CODE IN THIS CELL:"
   ]
  },
  {
   "cell_type": "code",
   "execution_count": null,
   "id": "98b132e0-4c12-4385-b6b6-2eb7d1348ac7",
   "metadata": {},
   "outputs": [],
   "source": []
  },
  {
   "cell_type": "markdown",
   "id": "17045c2a-f8b0-416a-975d-4fafc20034c8",
   "metadata": {},
   "source": [
    "## c) \n",
    "* Find the filter coefficients $a_k$ and $b_k$ for the filter which equals the cascaded system from equation $1$ and $2$ (v[n] &= x[n] + v[n-1] ) and use the function `visualizeTF` to display the filter's magnitude response and pole/zero plot.\n",
    "* Explain what is special about the frequency $\\hat{\\omega} = 0$, and why this system has a frequency response which is identical to that of the moving average filter $h[n] = u[n] - u[n-8]$ which we analyzed in the introduction of this problem"
   ]
  },
  {
   "cell_type": "code",
   "execution_count": null,
   "id": "a0b71d91-3ee9-4639-ad15-4f8fd8298414",
   "metadata": {
    "deletable": false,
    "nbgrader": {
     "cell_type": "code",
     "checksum": "ee47b9d68be8b38a5792dd3bf0898501",
     "grade": true,
     "grade_id": "cell-aeb96be34c713276",
     "locked": false,
     "points": 1,
     "schema_version": 3,
     "solution": true,
     "task": false
    }
   },
   "outputs": [],
   "source": [
    "b = \"???\"\n",
    "a = \"???\"\n",
    "# WRITE YOUR CODE IN THIS CELL:"
   ]
  },
  {
   "cell_type": "code",
   "execution_count": null,
   "id": "9d82a624-d2a8-42ba-bcce-d98c2b3cd8fc",
   "metadata": {},
   "outputs": [],
   "source": []
  },
  {
   "cell_type": "markdown",
   "id": "c8267289-c708-4c36-9c94-cf67e89d2c92",
   "metadata": {
    "deletable": false,
    "nbgrader": {
     "cell_type": "markdown",
     "checksum": "cee0bf2de13909cdbc247a3191ba6f82",
     "grade": true,
     "grade_id": "cell-84acdc8ea87b00c5",
     "locked": false,
     "points": 1,
     "schema_version": 3,
     "solution": true,
     "task": false
    }
   },
   "source": [
    "ANSWER THEORY QUESTIONS HERE:"
   ]
  },
  {
   "cell_type": "markdown",
   "id": "d9f30a9a-7378-4c64-b4a3-104590fbf8b6",
   "metadata": {},
   "source": [
    "### CIC filters in Downsampling\n",
    "\n",
    "In downsampling, the CIC filter is typically used in conjunction with a decimation stage where the signal is decimated by a factor $L$. And, since we only actually need to calculate the output for $1$ in $L$ samples, the decimation stage can be placed between the integrator and the comb filter, further simplifying the process as shown below.\n",
    "\n",
    "[Figure]\n",
    "\n",
    "One interesting point to note in this filter is that the integrator output $v[n]$ may easily be an ever-increasing value if the signal $x[n]$ is not zero mean. If the signal $v[n]$ is represented using floating-point numbers this might result in loss of precision over time. In practice however, CIC filters are implemented using either integer values or fixed-point decimal representation.\n",
    "\n",
    "## d) \n",
    "* Assuming the input samples $x[n]$ are processed as *integer* data types and not floating-point values, explain why the system illustrated in the figure above will produce the correct output $y[m]$ *even if* the output $v[n]$ from the integrator stage experiences [integer overflow](https://en.wikipedia.org/wiki/Integer_overflow).\n"
   ]
  },
  {
   "cell_type": "markdown",
   "id": "7b8d0285-1101-462c-8785-ac1161531ead",
   "metadata": {},
   "source": [
    "The stm32 ADC can sample data with $12$ bit resolution, and outputs this as a stream of $16$-bit integers where each ADC output sample is stored in the $12$ least significant bits. \n",
    "## e) \n",
    "\n",
    "* Let's assume we are using a CIC filter to downsample the sampled data $x[n]$ from the stm32 ADC, and are representing the output $y[m]$ using 16-bit integers. What is the maximum possible decimation factor $M$ we can use before we risk the output being corrupted by integer overflow?<br>*Hint: what happens if integer overflow occurs twice in the space of $M$ samples?*"
   ]
  },
  {
   "cell_type": "code",
   "execution_count": null,
   "id": "f8a3c64c-1f48-4d0c-814e-91a6bb55d1d9",
   "metadata": {
    "deletable": false,
    "nbgrader": {
     "cell_type": "code",
     "checksum": "7156e33afafc97c17968607cae43fdbc",
     "grade": false,
     "grade_id": "cell-537d307d61ff333c",
     "locked": false,
     "schema_version": 3,
     "solution": true,
     "task": false
    }
   },
   "outputs": [],
   "source": [
    "M_max = \"???\"\n",
    "# WRITE YOUR CODE IN THIS CELL:"
   ]
  },
  {
   "cell_type": "code",
   "execution_count": null,
   "id": "ef1aa6d4-47f2-4ac9-b8d8-2270fcb5d7f4",
   "metadata": {
    "deletable": false,
    "editable": false,
    "nbgrader": {
     "cell_type": "code",
     "checksum": "d8042407f1cb7c3425c3b86f963ef21b",
     "grade": true,
     "grade_id": "cell-666e50d1ce7102c4",
     "locked": true,
     "points": 1,
     "schema_version": 3,
     "solution": false,
     "task": false
    }
   },
   "outputs": [],
   "source": [
    "from hashlib import sha1\n",
    "assert sha1(str(round(M_max)).encode('utf-8')+b'2b2b9').hexdigest() == '64e5b02dc228042bcc5bd4a8385e30a52cbb0be9', 'Wrong answer for M_max :('; print('Correct answer for M_max :)')"
   ]
  }
 ],
 "metadata": {
  "kernelspec": {
   "display_name": "Python 3 (ipykernel)",
   "language": "python",
   "name": "python3"
  },
  "language_info": {
   "codemirror_mode": {
    "name": "ipython",
    "version": 3
   },
   "file_extension": ".py",
   "mimetype": "text/x-python",
   "name": "python",
   "nbconvert_exporter": "python",
   "pygments_lexer": "ipython3",
   "version": "3.11.5"
  }
 },
 "nbformat": 4,
 "nbformat_minor": 5
}
