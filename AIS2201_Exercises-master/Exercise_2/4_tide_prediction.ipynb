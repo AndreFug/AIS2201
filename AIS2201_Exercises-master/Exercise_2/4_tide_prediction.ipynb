{
 "cells": [
  {
   "cell_type": "markdown",
   "id": "5988c180",
   "metadata": {},
   "source": [
    "# Predicting the tides\n",
    "\n",
    "### Introduction\n",
    "\n",
    "Now that we have become familiar with how the fourier series decomposition works, it is time to apply the principles to our tide prediction problem. Step one is to get our hands on some historical data.\n",
    "\n",
    "### Historical tide levels in Ålesund\n",
    "\n",
    "Now that we have an idea of what time interval of tide measurements to analyze, it is time to get our hands on some actual measurements. Attached to this exercise is a python module with functions to download tidal measurements taken in Ålesund at **10** minute intervals up until **23:50** last night. The input argument `N_days_recorded` defines the lenght of the historical log in days. The data is sourced from Kartverket.\n",
    "\n",
    "<!--. One well known early use of Fourier Series relates to predicting ocean tide levels. Back in the 19th century the vast majority of transportation was done by sea, and having access to reliable prediction for tide levels in different port locations was highly desirable.\n",
    "\n",
    "In 1867, William Thompson (Lord Kelvin) developed a method for predicting tide levels by calculating the sum of a numbuer of sinusoids. This was accomplished by subjecting historical tide measurements to Fourier Series decomposition, and then using the resulting fourier series to generate a tide prediction as a mathematical function.\n",
    "\n",
    "[Figure]\n",
    "\n",
    "As we know, fourier series decomposition involves analyzing a periodic function $x(t)$ over a period of time known as the fundamental period $T$ as illustrated above. The idea being that once you can find a function to describe mathematically the values of $x(t)$ within the time frame $0 \\leq t < T$, the value of $x(t)$ for any other point in time can be easily extrapolated due to the repeating nature of the function $x(t)$. \n",
    "\n",
    "In practice few real-world phenomena can be modeled perfectly as periodic functions, but tide levels which are governed primarily by rotations of the earth and moon come pretty close. Seeing as a [lunar day](https://en.wikipedia.org/wiki/Lunar_day) corresponds to *approximately* $29 \\frac{1}{2}$ day, one suggestion for choice of fundamental-ish period $T$ for use in fourier analysis is $59 \\text{ earth days} \\approx 2 \\text{ lunar days}$.\n",
    "\n",
    "### Historical tide levels in Ålesund\n",
    "\n",
    "Now that we have an idea of what time interval of tide measurements to analyze, it is time to get our hands on some actual measurements. Attached to this exercise is a python module with functions to download tidal measurements taken at **10** minute intervals up until **00:00** last night. Input arguments are location and observation period. The data is sourced from Kartverket. -->"
   ]
  },
  {
   "cell_type": "code",
   "execution_count": null,
   "id": "72ade48f",
   "metadata": {},
   "outputs": [],
   "source": [
    "from module2functions import getTideObservations\n",
    "N_days_recorded = 59 # This is a suggestion, feel free to adjust if desired.\n",
    "measurements_cm, meas_freq, from_date, to_date = getTideObservations(N_days_recorded)"
   ]
  },
  {
   "cell_type": "markdown",
   "id": "d1ebe895",
   "metadata": {},
   "source": [
    "The function `getTideObservations` has 4 return values:\n",
    "* `measurements_cm`: An array contaning all the sea level measurements in centimeters relative to mean sea level.\n",
    "* `meas_freq`: Number of measurements per day\n",
    "* `from_date`: First day of measurement series\n",
    "* `to_date`: Last day of measurement series\n",
    "\n",
    "These values will make up the basis of our tide predictions. Before we do this though, it may be useful to analyze the measurements graphically, both in the time and frequency domain. The codecell below will produce interactive plots of both the sea level time series as well as the magnitude spectrum. "
   ]
  },
  {
   "cell_type": "code",
   "execution_count": null,
   "id": "05f8a66a",
   "metadata": {},
   "outputs": [],
   "source": [
    "import matplotlib.pyplot as plt\n",
    "import numpy as np\n",
    "%matplotlib ipympl\n",
    "\n",
    "plt.figure(figsize=(9,7))\n",
    "plt.subplot(2,1,1)\n",
    "plt.magnitude_spectrum(measurements_cm, # Array of tide observations in cm\n",
    "                       Fs=meas_freq, # Measurements per day\n",
    "                       window=np.ones(len(measurements_cm)) # Will be covered in exercise 4\n",
    "                      )\n",
    "plt.xlim([0, 5]) # Focusing on lower end of frequency spectrum\n",
    "plt.title(\"Magnitude spectrum of sea level measurements\")\n",
    "plt.xlabel(\"Frequency (cycles per day)\")\n",
    "plt.grid(True)\n",
    "plt.subplot(2,1,2)\n",
    "\n",
    "t_past = np.linspace(-N_days_recorded, 0, N_days_recorded*meas_freq, endpoint=False)\n",
    "plt.plot(t_past, measurements_cm)\n",
    "plt.xlim([-N_days_recorded, 0])\n",
    "plt.xlabel(\"Time $t$ (days) relative to present day\")\n",
    "plt.ylabel(\"Sea level (cm)\")\n",
    "plt.title(f\"Sea level measurements between {from_date} and {to_date}\")\n",
    "plt.grid(True)\n",
    "plt.tight_layout()"
   ]
  },
  {
   "cell_type": "markdown",
   "id": "936df960-1fd2-4cb7-9c44-7a13018af240",
   "metadata": {},
   "source": [
    "As we can see from the graphical plots, most of the signal energy is confined to a set of different frequencies. We *could* identify these by inspecting the magnitude plot, but they are determined by orbital mechanics and have already been calculated quite precisely.\n",
    "\n",
    "The 5 most prominent perids are: $\\{ 12.42\\text{h}, 12.00\\text{h}, 12.66\\text{h}, 23.93\\text{h}, 25.82\\text{h}\\} $. You can find more of them [here](https://geo.libretexts.org/Bookshelves/Oceanography/Coastal_Dynamics_(Bosboom_and_Stive)/03%3A_Ocean_waves/3.07%3A_Generation_of_the_tide/3.7.6%3A_Tidal_constituents) if you want."
   ]
  },
  {
   "cell_type": "markdown",
   "id": "4b93da85-6849-4d9a-bae7-fcb1bd901e0a",
   "metadata": {},
   "source": [
    "## a)\n",
    "\n",
    "Use what you learned in tasks **1-3** to extract the magnitude and phase of the most prominent frequency components. You can confine yourself to the 5 listed above, or select a larger number.\n",
    "\n",
    "*PS. Tasks **a)** and **b)** should share a common reference time for both the historical log and the predictions. It is strongly suggested you use midnight ($00:00$) last night as reference ($t=0$).*\n",
    "\n",
    "*PPS. We are sadly not observing the data over a perfect fundamental period. As such, we can't rely on the integral of all other frequency components to equal zero. However, the longer the data set, the closer to zero the mean values for the other frequency components will become.*"
   ]
  },
  {
   "cell_type": "code",
   "execution_count": null,
   "id": "0391e501-45a8-45c5-a5be-3364305a3628",
   "metadata": {
    "deletable": false,
    "nbgrader": {
     "cell_type": "code",
     "checksum": "ceef9e3121d934cd633370dac80a8252",
     "grade": true,
     "grade_id": "cell-66bf456be11e43d5",
     "locked": false,
     "points": 15,
     "schema_version": 3,
     "solution": true,
     "task": false
    }
   },
   "outputs": [],
   "source": [
    "# WRITE YOUR CODE HERE:"
   ]
  },
  {
   "cell_type": "markdown",
   "id": "d1391bcd-0ddb-429f-8e1b-1da2b27d7a36",
   "metadata": {},
   "source": [
    "## b)\n",
    "Use the information you extracted in task **a)** to create a new array containing predictions for the next $14$ days. (i.e. from 00:00 tonight up to 23:50 13 days from now). Store your predictions in the array `my_prediction`.<br>\n",
    "*PS. make sure you calculate the function values for the correct time interval. When doing frequency analysis, the \"start time\" (i.e. $t=0$) was `N_days` days ago. The time interval should therefore be `N_days` $\\leq t <$ `N_days` $+ 14$.*"
   ]
  },
  {
   "cell_type": "code",
   "execution_count": null,
   "id": "e902e941-3b89-4ea7-8489-4d679e4ca712",
   "metadata": {
    "deletable": false,
    "nbgrader": {
     "cell_type": "code",
     "checksum": "68116ac22d39314ca07d850330fde5f1",
     "grade": true,
     "grade_id": "cell-b514e8698a705879",
     "locked": false,
     "points": 15,
     "schema_version": 3,
     "solution": true,
     "task": false
    }
   },
   "outputs": [],
   "source": [
    "days_to_predict = 14\n",
    "# WRITE YOUR CODE HERE:"
   ]
  },
  {
   "cell_type": "markdown",
   "id": "d1d07a8c-3bcf-40f9-965c-bfe405e7ca45",
   "metadata": {},
   "source": [
    "### Evaluating your tide prediction\n",
    "\n",
    "The code cell below will acquire tide level predictions from Kartverket, and plot them next to the predictions you have made and stored in the variable `tide_prediction`. While not identical, you should definitely see a strong correlation between your predictions and those available from Kartverket. [This](Figurer/tide_predictions.png) is what it looked like when i compared the two ."
   ]
  },
  {
   "cell_type": "code",
   "execution_count": null,
   "id": "b00cc05d-0ebe-4ced-a16b-d033b599f90c",
   "metadata": {},
   "outputs": [],
   "source": [
    "import matplotlib.pyplot as plt\n",
    "from module2functions import getTidePredictions\n",
    "\n",
    "predictions_kartverket, pred_freq, from_date, to_date = getTidePredictions(days_to_predict)\n",
    "\n",
    "plt.figure(figsize=(9, 5))\n",
    "plt.plot(t_future, predictions_kartverket, label=\"Kartverket Predictions\")\n",
    "plt.xlim([0, days_to_predict])\n",
    "plt.xlabel(\"Time (days)\")\n",
    "plt.ylabel(\"Sea level (cm)\")\n",
    "plt.title(f\"Sea level predictions for the next {days_to_predict} days from {from_date}\")\n",
    "plt.grid(True)\n",
    "plt.plot(t_future, tide_prediction, label=\"My Predictions\")\n",
    "plt.legend()\n",
    "plt.tight_layout()\n",
    "#plt.savefig(\"Figurer/tide_predictions.png\")"
   ]
  }
 ],
 "metadata": {
  "kernelspec": {
   "display_name": "Python 3 (ipykernel)",
   "language": "python",
   "name": "python3"
  },
  "language_info": {
   "codemirror_mode": {
    "name": "ipython",
    "version": 3
   },
   "file_extension": ".py",
   "mimetype": "text/x-python",
   "name": "python",
   "nbconvert_exporter": "python",
   "pygments_lexer": "ipython3",
   "version": "3.12.2"
  },
  "varInspector": {
   "cols": {
    "lenName": 16,
    "lenType": 16,
    "lenVar": 40
   },
   "kernels_config": {
    "python": {
     "delete_cmd_postfix": "",
     "delete_cmd_prefix": "del ",
     "library": "var_list.py",
     "varRefreshCmd": "print(var_dic_list())"
    },
    "r": {
     "delete_cmd_postfix": ") ",
     "delete_cmd_prefix": "rm(",
     "library": "var_list.r",
     "varRefreshCmd": "cat(var_dic_list()) "
    }
   },
   "types_to_exclude": [
    "module",
    "function",
    "builtin_function_or_method",
    "instance",
    "_Feature"
   ],
   "window_display": false
  }
 },
 "nbformat": 4,
 "nbformat_minor": 5
}
