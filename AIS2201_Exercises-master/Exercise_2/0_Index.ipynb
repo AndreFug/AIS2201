{
 "cells": [
  {
   "cell_type": "markdown",
   "id": "bd1e7f7b",
   "metadata": {},
   "source": [
    "# Exercise 2: Understanding the fourier transform\n",
    "\n",
    "In exercise 1 we learned about the magnitude spectrum, which is a graphical representation of the frequency content of a signal, and how it can be interpreted to gather information about for instance the pitch of an an audio signal. In this exercise we will take a closer look at the main mathematical formula which allows us to find the magnitude spectrum of a signal in the first place: the Fourier Transform.\n",
    "\n",
    "## Motivation\n",
    "\n",
    "<div style=\"width: 100%;\">\n",
    "    <img src=\"Figurer/Tide_illustrated.png\" style=\"float: right; width: 25%\" />\n",
    "    <div style=\"width: 70%\">\n",
    "        The fourier transform is a challenging topic to understand, and it is often easy to get lost in the \"pure mathematics\" when first approaching the subject. In this exercise, we will take a practical and problem-oriented approach to understanding the concepts of transforms by tackling an old problem which the Fourier Transform was instrumental in solving: predicting the tides.<!--following in the footsteps of mathematician and engineer William Thompson (Lord Kelvin), who successfully applied the principles of the fourier transform to create a tidal prediction machine in the early 20th century. -->\n",
    "</p>\n",
    "        <p>Tidal patterns are primarily governed by gravitational pull of the moon and sun, with the moon dominating due to it's spatial proximity to the earth. In principle, the sea level $h$ at a given point on earth as a function of time $t$ can be decomposed into a number of sinusoidal functions with periods governed by the relative motion of the sun, the moon and the earth. <!--The frequencies of the two most significant components will be twice per solar day ($T = 12$h), and twice per lunar day ($T=12.42$h). The reason for frequencies being twice per day and not once per day is related to how water collects both at the sublunar and antipodal side of the planet (as shown in the figure).--></p>\n",
    "    <p>If the frequency, phase and magnitude of these sinusoidal components are known, it should be possible to predict the tides for any given future point in time $t$. As such, tidal prediction becomes a matter of identifying the properties of each sine wave present in the tidal function $h(t)$. <!--Since we already know what frequencies of sinusoidal functions <i>should</i> be present in the tidal patterns, all that remains in theory is estimating the magnitude and phase values.--> To do this, we need to start by somehow <i><b>decomposing</b></i> historical data into a finite set of wave functions.</p>\n",
    "    </div>\n",
    "</div> \n",
    "\n",
    "### The data\n",
    "\n",
    "What you see below is a Python script which will download recorded sea level data for Ålesund between `from_date` and `to_date` from [kartverket.no](https://kartverket.no/til-sjos/se-havniva/resultat?id=192945&location=%C3%85lesund#waterlevel-tab), and plot a curve showing the sea level changes over time. Our goal in this exercise is to find a mathematical formula which describes, to an extent, the sea level changes seen in the data, and use this mathematical formula to make predictions of future tide levels. By the end of the exercise, we can also evaluate our prediction´s accuracy by comparing it to the \"official\" forecast available from kartverket.\n",
    "\n"
   ]
  },
  {
   "cell_type": "code",
   "execution_count": null,
   "id": "ceed4316-c668-4567-82e0-f0d0456f832d",
   "metadata": {},
   "outputs": [],
   "source": [
    "from module2functions import getTideObservations\n",
    "import matplotlib.pyplot as plt\n",
    "import numpy as np\n",
    "T = 14 # Number of days before today to collect data from\n",
    "measurements_cm, meas_freq, from_date, to_date = getTideObservations(T)\n",
    "\n",
    "days = np.linspace(0, T, T*meas_freq, endpoint=False)\n",
    "plt.plot(days, measurements_cm)\n",
    "plt.xlabel(f\"Days since {from_date}\")\n",
    "plt.ylabel(f\"Sea level (cm)\")"
   ]
  },
  {
   "cell_type": "markdown",
   "id": "9c1c610e-b26b-4cfa-a30b-78eb9956cefd",
   "metadata": {},
   "source": [
    "However, before we dive into the tidal data<!-- which is publically available from [kartverket.no](https://kartverket.no/til-sjos/se-havniva/resultat?id=192945&location=%C3%85lesund#waterlevel-tab)-->, we will begin by constructing and decomposing simpler signals based on pure sine waves. While not quite as exciting, it will help make the fundamental principles of fourier analysis clearer, so we can successfully employ the principles on a more complex signal by the end of the exercise.\n",
    "\n",
    "<!--\n",
    "All 4 tasks in this assigment will focus on analyzing historical sea level data recorded in Ålesund, which is publically available from [kartverket.no](https://kartverket.no/til-sjos/se-havniva/resultat?id=192945&location=%C3%85lesund#waterlevel-tab). Through the course of these tasks we will explore the underlying mathematical principles which enable fourier series decomposition, and use to produce our own tidal predictions based on fourier analysis. The accuracy of our predictions can be evaluated by comparing with the official predictions \n",
    "\n",
    "\n",
    "-->\n",
    "<br>\n",
    "\n",
    "\n",
    "## Overview\n",
    "<!--\n",
    "| |Task|Topics|Points|\n",
    "|--:|:--|:--| --:|\n",
    "|1|A trial-and-error approach| *Why do fourier-series decomposition?* | $20$ |\n",
    "|2|Frequency Mixing| *the modulation operation in time and frequency*| $30$ |\n",
    "|3|Complex Frequency Shifting| *complex functions in python, the two-sided frequency spectrum* | $30$ |\n",
    "|4|Constructing a tide-level prediction| *fourier series reconstruction* | $20$ |\n",
    "-->\n",
    "\n",
    "| |Task|Topics|Points|\n",
    "|--:|:--|:--| --:|\n",
    "|1|[The vector addition theorem](1_adding_sines.ipynb)| *Adding two sine-waves.* | $20$ |\n",
    "|2|[Decomposition of a single sine wave](2_sinusoids_decomposition.ipynb)| *frequency mixing, two-sided frequency spectrum*| $20$ |\n",
    "|3|[Complex Frequency Shifting](3_frequency_shifting.ipynb)| *complex functions in python, complex fourier coefficients* | $30$ |\n",
    "|4|[Constructing a tide prediction](4_tide_prediction.ipynb)| *fourier series decomposition & reconstruction* | $30$ |"
   ]
  }
 ],
 "metadata": {
  "kernelspec": {
   "display_name": "Python 3 (ipykernel)",
   "language": "python",
   "name": "python3"
  },
  "language_info": {
   "codemirror_mode": {
    "name": "ipython",
    "version": 3
   },
   "file_extension": ".py",
   "mimetype": "text/x-python",
   "name": "python",
   "nbconvert_exporter": "python",
   "pygments_lexer": "ipython3",
   "version": "3.12.2"
  },
  "varInspector": {
   "cols": {
    "lenName": 16,
    "lenType": 16,
    "lenVar": 40
   },
   "kernels_config": {
    "python": {
     "delete_cmd_postfix": "",
     "delete_cmd_prefix": "del ",
     "library": "var_list.py",
     "varRefreshCmd": "print(var_dic_list())"
    },
    "r": {
     "delete_cmd_postfix": ") ",
     "delete_cmd_prefix": "rm(",
     "library": "var_list.r",
     "varRefreshCmd": "cat(var_dic_list()) "
    }
   },
   "types_to_exclude": [
    "module",
    "function",
    "builtin_function_or_method",
    "instance",
    "_Feature"
   ],
   "window_display": false
  }
 },
 "nbformat": 4,
 "nbformat_minor": 5
}
