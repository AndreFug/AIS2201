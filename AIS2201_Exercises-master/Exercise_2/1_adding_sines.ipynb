{
 "cells": [
  {
   "cell_type": "markdown",
   "id": "5afdd157-1f54-4ce4-9816-cf0a50f06a3b",
   "metadata": {},
   "source": [
    "# Problem 1: adding sines\n",
    "\n",
    "One of the properties of sinusoids which make them exceedingly useful, is that the sum of two sinusoids of equal frequency is another sinusoid. \n",
    "\n",
    "Calculating the sum of two sinusoids is simply a matter of representing each component sinusoid as a complex ***phasor*** with length equal to the sinusoid magnitude, and angle equal to the sinusoid phase. \n",
    "$$A\\cdot \\cos(\\omega \\cdot t + \\phi) \\rightarrow \\boldsymbol{A} = A\\angle \\phi$$\n",
    "\n",
    "Adding the two sines together now becomes a simple matter of adding two complex phaseors. The sum of these will be a new phasor, whose absolute value equals the resultign signal magnitude, and angle equals the resulting sinusoid phase.\n",
    "\n",
    "Below is a python demo showing this principle:"
   ]
  },
  {
   "cell_type": "code",
   "execution_count": null,
   "id": "587b8198-f36d-46d4-a2f8-001173ed7ac7",
   "metadata": {},
   "outputs": [],
   "source": [
    "from demos import VectorSumDemo\n",
    "%matplotlib ipympl\n",
    "VectorSumDemo();"
   ]
  },
  {
   "cell_type": "markdown",
   "id": "0e07eebe-ee6d-4f85-a2d9-0f0bdb705f30",
   "metadata": {},
   "source": [
    "## a) \n",
    "Plot the functions $x_1(t) = A_1\\cdot \\cos(2\\pi \\cdot t)$, $x_2(t) = A_2\\cdot \\sin(2\\pi \\cdot t)$ and $x_3(t) = x_1(t) + x_2(t)$ given the amplitude values $A_1 = -1$ and $A_2 = 0.5$ for the time interval $0 \\leq t \\leq 1$."
   ]
  },
  {
   "cell_type": "code",
   "execution_count": null,
   "id": "1ad8e33e-d8cb-4a76-80a3-d977d46f1227",
   "metadata": {
    "deletable": false,
    "nbgrader": {
     "cell_type": "code",
     "checksum": "e9941f566efe5498fb94b19ee2dd1c2e",
     "grade": true,
     "grade_id": "cell-9a72e83f4511f1d1",
     "locked": false,
     "points": 4,
     "schema_version": 3,
     "solution": true,
     "task": false
    }
   },
   "outputs": [],
   "source": [
    "# WRITE YOUR CODE HERE:"
   ]
  },
  {
   "cell_type": "markdown",
   "id": "e8054205-6908-4f53-98d2-6e28a4df223e",
   "metadata": {},
   "source": [
    "*If you have answered the question correctly, the plot will look something like [this](Figurer/task1a_sol.png)*"
   ]
  },
  {
   "cell_type": "markdown",
   "id": "0251086a-0748-484c-ad68-3afc356d668c",
   "metadata": {},
   "source": [
    "## b) \n",
    "Use the vector addition principle to calculate magnitude and phase (in degrees) for the sinusoid $x_3(t) = A_3\\cdot \\cos(2\\pi \\cdot t + \\phi_3)$. You should provide explanations for your calculations in the markdown cell, and use the code cell as a calculator. Make sure to store your answer in the variables `x3_mag` and `x3_phase`.\n",
    "\n",
    "*Hint: have a look at the function [`arctan2`](https://numpy.org/doc/stable/reference/generated/numpy.arctan2.html)* in numpy."
   ]
  },
  {
   "cell_type": "markdown",
   "id": "64c15d28-4549-4a22-b4f9-58a911c55ed8",
   "metadata": {
    "deletable": false,
    "nbgrader": {
     "cell_type": "markdown",
     "checksum": "9162c771c273429fbb2d25b182b4ba5d",
     "grade": true,
     "grade_id": "cell-eb555dfcddbf3853",
     "locked": false,
     "points": 4,
     "schema_version": 3,
     "solution": true,
     "task": false
    }
   },
   "source": [
    "ANSWER THEORY QUESTIONS HERE:"
   ]
  },
  {
   "cell_type": "code",
   "execution_count": null,
   "id": "2ca5ba68-871c-4333-9d5e-494baa1168ed",
   "metadata": {
    "deletable": false,
    "nbgrader": {
     "cell_type": "code",
     "checksum": "2f503a181a2884a4066972715edd0619",
     "grade": true,
     "grade_id": "cell-2e99aee0b7d91717",
     "locked": false,
     "points": 4,
     "schema_version": 3,
     "solution": true,
     "task": false
    }
   },
   "outputs": [],
   "source": [
    "# WRITE YOUR CODE HERE:\n",
    "print(f\"x3(t) magnitude: {x3_mag:.2f}\")\n",
    "print(f\"x3(t) phase: {x3_phase:.2f} degrees\")"
   ]
  },
  {
   "cell_type": "markdown",
   "id": "7dce659d-fdad-44d6-bda4-0b2ca79b419c",
   "metadata": {},
   "source": [
    "## c)\n",
    "Use python to create a plot containing the curves for $x_3(t)=x_1(t) + x_2(t)$ as calculated in problem **a)**, in addition to the curve for the sinusoid $x_3(t) = A_3 \\cdot \\cos(2\\pi \\cdot t +\\phi_3)$ as calculated in problem **b)**. Can you verify that the two curves are identical?\n",
    "\n",
    "PS: Make sure to use different [linestyles](https://matplotlib.org/stable/gallery/lines_bars_and_markers/linestyles.html) for the two curves, so both curves are visible even when overlapping (eg. `plt.plot(t, x3, ':')`)."
   ]
  },
  {
   "cell_type": "code",
   "execution_count": null,
   "id": "8692ff9d-674f-45b8-ba92-c0711444354f",
   "metadata": {
    "deletable": false,
    "nbgrader": {
     "cell_type": "code",
     "checksum": "2ed8ea1b582344b7f51eff56f57eca3f",
     "grade": true,
     "grade_id": "cell-3a46b9f77281d183",
     "locked": false,
     "points": 4,
     "schema_version": 3,
     "solution": true,
     "task": false
    }
   },
   "outputs": [],
   "source": [
    "# WRITE YOUR CODE HERE:"
   ]
  },
  {
   "cell_type": "markdown",
   "id": "7ffcb3ec-7e4c-4b5e-ad04-2ce286d96c86",
   "metadata": {},
   "source": [
    "*If you have answered the question correctly, the plot will look something like [this](Figurer/task1c_sol.png).*"
   ]
  },
  {
   "cell_type": "markdown",
   "id": "2b6d1c7b-88fd-4f45-a25d-bf3f70a67fc8",
   "metadata": {
    "deletable": false,
    "nbgrader": {
     "cell_type": "markdown",
     "checksum": "94086e46012ebe276682f6d291e786c4",
     "grade": true,
     "grade_id": "cell-6946f96ac42476fd",
     "locked": false,
     "points": 4,
     "schema_version": 3,
     "solution": true,
     "task": false
    }
   },
   "source": [
    "ANSWER THEORY QUESTIONS HERE:"
   ]
  }
 ],
 "metadata": {
  "kernelspec": {
   "display_name": "Python 3 (ipykernel)",
   "language": "python",
   "name": "python3"
  },
  "language_info": {
   "codemirror_mode": {
    "name": "ipython",
    "version": 3
   },
   "file_extension": ".py",
   "mimetype": "text/x-python",
   "name": "python",
   "nbconvert_exporter": "python",
   "pygments_lexer": "ipython3",
   "version": "3.12.2"
  }
 },
 "nbformat": 4,
 "nbformat_minor": 5
}
