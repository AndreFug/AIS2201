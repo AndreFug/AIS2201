{
 "cells": [
  {
   "cell_type": "markdown",
   "id": "f13f3afb-f348-4073-bc58-b9123f688c31",
   "metadata": {},
   "source": [
    "# Problem 3: complex down-conversion\n",
    "<!--\n",
    "In problem 2 we observed that a sinusoid $x(t) = A \\cdot \\cos(\\omega \\cdot t + \\phi )$ with unknown phase and magnitude can be decomposed into pure sine and cosine terms by calculating the inner product between $x(t)$ and a sine and cosine function respectively. Based on the sine and cosine terms it is then possible to calculate the magnitude and phase $x(t)$. \n",
    "\n",
    "\n",
    "This can be summarized with the following equation\n",
    "\n",
    "$$\n",
    "\\begin{align}\n",
    "x(t) &= A \\cdot \\cos\\left(\\omega \\cdot t + \\phi\\right)\\\\\n",
    "&= A_x \\cdot \\cos(\\omega \\cdot t) + A_y \\cdot \\sin(\\omega \\cdot t) \\\\ &\\vdots \\\\\n",
    "A_x &= 2\\cdot \\frac{1}{T} \\int_{0}^{T} x(t) \\cdot \\cos(\\omega \\cdot t) dt, \\ \\ \\ \\ T = \\frac{2\\pi}{\\omega} \\\\\n",
    "A_y &= 2\\cdot \\frac{1}{T} \\int_{0}^{T} x(t) \\cdot \\sin(\\omega \\cdot t) dt, \\ \\ \\ \\ T = \\frac{2\\pi}{\\omega} \\\\ \\vdots \\\\\n",
    "A &= \\sqrt{A_x^2 + A_y^2} \\\\\n",
    "\\phi &= \\tan^{-1} \\left(\\frac{A_y}{A_x}\\right)\n",
    "\\end{align}\n",
    "$$\n",
    "\n",
    "where $T$ is one wave period of the sinusoid.-->\n",
    "\n",
    "<!--\n",
    "$$\n",
    "\\begin{align}\n",
    "\\boldsymbol{A} &= A \\cdot e^{j \\cdot \\phi} \\\\\n",
    "&= A_x - j\\cdot A_y \\\\\n",
    "&= 2 \\cdot \\frac{1}{T} \\int_{0}^{T} x(t) \\cdot \\cos(\\omega \\cdot t) dt - 2j \\cdot \\frac{1}{T} \\int_{0}^{T} x(t) \\cdot \\cos(\\omega \\cdot t) dt \\\\\n",
    "&= 2 \\cdot \\frac{1}{T} \\int_{0}^{T} x(t) \\cdot \\left( \\cos(\\omega \\cdot t) - 2j \\cdot \\sin(\\omega \\cdot t)\\right) dt\\\\\n",
    "&= 2 \\cdot \\frac{1}{T} \\int_{0}^{T}  x(t) \\cdot e^{-j \\omega \\cdot t} dt\n",
    "\\end{align}\n",
    "$$\n",
    "-->"
   ]
  },
  {
   "cell_type": "markdown",
   "id": "6eeb34aa-b287-4fc6-a5a7-bbfde192c870",
   "metadata": {},
   "source": [
    "### An introduction to two-sided frequency spectrums\n",
    "\n",
    "In problem 2 we observed that a sinusoid $x(t) = A \\cdot \\cos(\\omega \\cdot t + \\phi )$ with unknown phase and magnitude can be decomposed into pure sine and cosine terms by multiplying $x(t)$ by a sine and cosine function respectively. This process is called **frequency mixing**, which has an interesting effect on the frequency spectrum of $x(t)$. However, to gain a full picture of the effects of frequency mixing, we need to study *both sides* of the spectrum. Somtheing which may not be readily apparent when first encountering the fourier transform (as described in eq. $1$ below, is that there is no mathematical reason the function $X(f)$ representing the signal in the frequency domain, should only be valid for $f \\geq 0$.\n",
    "\n",
    "$$X(f) = \\int_{-\\infty}^{\\infty} x(t)\\cdot e^{j2\\pi \\cdot f \\cdot t} dt \\tag{1}$$\n",
    "\n",
    "The idea of *negative frequencies* and a *two-sided frequency spectrum* often seems a bit strange when first introduced. However, for real-valued signals the frequency spectrum will always be complex conjugate symmetric ($X(-f) = X^*(f)$). The key here is that the frequency spectrum $X(f)$ of a signal, being based on the fourier transform, in fact decomposes a signal into *rotating phasors* $\\boldsymbol{a} \\cdot e^{j\\omega \\cdot t}$, where $\\boldsymbol{a}$ is a complex magnitude. Seeing as the sum of a pair of phasors with opposite directions of rotation add together to form a sinusoid as equation $2$ descirbes, the true magnitude of a sinusoid is found by combining the magnitude of both peaks at frequency $\\pm \\omega$ in the two-sided frequency spectrum.\n",
    "\n",
    "$$\\cos(\\omega \\cdot t) = \\frac{e^{j\\omega \\cdot t} + e^{-j \\omega \\cdot t}}{2} \\tag{2}$$\n",
    "\n",
    "<img src=\"Figurer/Fig5-4_Euler3D.png\" style=\"width: 40%; margin-left: 25%\" />\n",
    "\n",
    "\n",
    "### Frequency mixing portrayed in the frequency domain\n",
    "If we use the equation $2$ to calculate the product of a sinusoid with frequency $f_1$, and a sinusoid with frequency $f_2$, we wil end up with 4 rotating phasors: two with frequency $\\pm (f_1 + f_2)$ and the other two with angular frequency $\\pm(f_1 - f_2)$. The code cell below generates a interactive demonstration of how frequency mixing affects a signal in both the time and frequency domain. Run the cell, and try adjusting the various parameters to see the effects. Take special note of how the product signal has 4 frequency spikes, except when $f_1$ and $f_2$ are the same."
   ]
  },
  {
   "cell_type": "code",
   "execution_count": null,
   "id": "18e873ee-793c-44d9-a5bc-69cba6341e6c",
   "metadata": {},
   "outputs": [],
   "source": [
    "from demos import FrequencyMixingSpectrumDemo\n",
    "%matplotlib ipympl\n",
    "FrequencyMixingSpectrumDemo(fig_num = 1)"
   ]
  },
  {
   "cell_type": "markdown",
   "id": "777bf9ce-74c3-4500-9ed1-1143e54b19fd",
   "metadata": {},
   "source": [
    "Below is a short python script which loads the sinusoid $x(t)$ from the data file `unkown_sinusoid.mat`, and plots it's magnitude spectrum."
   ]
  },
  {
   "cell_type": "code",
   "execution_count": null,
   "id": "ddf19720-5f08-4375-b8fd-53a29fc435fd",
   "metadata": {},
   "outputs": [],
   "source": [
    "# We begin by loading the signal x(t) once more\n",
    "from scipy.io import loadmat\n",
    "import matplotlib.pyplot as plt\n",
    "file_contents = loadmat(\"unknown_sinusoid.mat\", squeeze_me=True)\n",
    "fs = file_contents[\"fs\"]\n",
    "x = file_contents[\"x\"]\n",
    "t = file_contents[\"t\"]\n",
    "plt.close(2); plt.figure(2)\n",
    "plt.magnitude_spectrum(x, Fs=fs, sides=\"twosided\");"
   ]
  },
  {
   "cell_type": "markdown",
   "id": "1a0856b2-40e0-4740-8a0e-c9eb251cc6a2",
   "metadata": {},
   "source": [
    "## a)\n",
    "Write a python program which shows the frequency spectrum of $x(t)\\cdot \\cos(2\\pi \\cdot t)$, and $x(t) \\cdot \\sin(2\\pi \\cdot t)$. Can you determine the connection between the center spike (at $f = 0\\text{ Hz}$) and the calculated amplitudes $A_x$ and $A_y$ from problem 2?"
   ]
  },
  {
   "cell_type": "code",
   "execution_count": null,
   "id": "b942c623-6d2b-4896-9d90-b7200e2fa996",
   "metadata": {
    "deletable": false,
    "nbgrader": {
     "cell_type": "code",
     "checksum": "669b46f11ca6928b82c46a185f7d34a3",
     "grade": true,
     "grade_id": "cell-e8216035c5cff0ca",
     "locked": false,
     "points": 5,
     "schema_version": 3,
     "solution": true,
     "task": false
    }
   },
   "outputs": [],
   "source": [
    "# WRITE YOUR CODE HERE:"
   ]
  },
  {
   "cell_type": "markdown",
   "id": "423b42a6-13ce-43ed-99b1-d46bf2a38b5d",
   "metadata": {},
   "source": [
    "*If done correctly, the plots should look something like [this](Figurer/task3a_sol.png).*"
   ]
  },
  {
   "cell_type": "markdown",
   "id": "1ad5f838-681e-4a72-b242-76a10c9a0ed0",
   "metadata": {
    "deletable": false,
    "nbgrader": {
     "cell_type": "markdown",
     "checksum": "7120a6bb3bab7963f8607f687fa65719",
     "grade": true,
     "grade_id": "cell-0a3d274d9439c9cb",
     "locked": false,
     "points": 5,
     "schema_version": 3,
     "solution": true,
     "task": false
    }
   },
   "source": [
    "ANSWER THEORY QUESTIONS HERE:"
   ]
  },
  {
   "cell_type": "markdown",
   "id": "a559c172-2d18-4a02-99cf-49e6a4de6625",
   "metadata": {},
   "source": [
    "<!--The sine and cosine components of $x(t)$ with amplitudes $A_x$ and $A_y$ can be combined in the complex plane to create a phasor $\\boldsymbol{A} = A \\cdot e^{j\\phi} = A_x + j\\cdot A_y$.-->\n",
    "\n",
    "\n",
    "We have now explored the effects of multiplying a signal $x(t)$ with another sinusoid, but what happens when we multipy $x(t)$ with a complex complex signals? Two-sided frequency spectrums are especially relevant when studying complex signals as the frequency spectrum of a complex signal is typically not symmetrical around $f=0\\text{ Hz}$, conrary to real-valued signals. \n",
    "\n",
    "Complex values can be created in Python by using the imaginary unit vector `j`:\n",
    "```Python\n",
    "z1 = x + 1j *y  # Cartesian coordinates\n",
    "z2 = r*np.exp(1j*phi)  # Polar coordinates\n",
    "```\n",
    "\n",
    "## b) \n",
    "\n",
    "Use Python to combine a sine and cosine function the complex plane to create a new complex signal $z_1(t) = \\cos(-2\\pi \\cdot f \\cdot t) + j \\cdot \\sin(-2\\pi \\cdot f \\cdot t)$ for $f=5\\text{ Hz}$. Then, create a plot which shows the magnitude spectrum of both $z_1(t)$ and $x(t)\\cdot z_1(t)$.\n",
    "\n"
   ]
  },
  {
   "cell_type": "code",
   "execution_count": null,
   "id": "7e6ab969-d35e-4811-9e04-7389e364eac2",
   "metadata": {
    "deletable": false,
    "nbgrader": {
     "cell_type": "code",
     "checksum": "1661a42cfe5c5e378d26dc34c32a26f5",
     "grade": true,
     "grade_id": "cell-275aec2d7d0ea3a9",
     "locked": false,
     "points": 5,
     "schema_version": 3,
     "solution": true,
     "task": false
    }
   },
   "outputs": [],
   "source": [
    "# WRITE YOUR CODE HERE:"
   ]
  },
  {
   "cell_type": "markdown",
   "id": "7a8ba4fd-9aba-4593-97db-2a032fac1c53",
   "metadata": {},
   "source": [
    "*If done correctly, the plots should look something like [this](Figurer/task3b_sol.png).*"
   ]
  },
  {
   "cell_type": "markdown",
   "id": "27d6d379-2d64-43e1-afb1-e5920c56b249",
   "metadata": {},
   "source": [
    "## c) \n",
    "Use Python to combine a sine and cosine function the complex plane to create a new complex signal $z_2(t) = \\cos(2\\pi \\cdot t) + j \\cdot \\sin(2\\pi \\cdot t)$. Then, create a plot which shows the magnitude spectrum of both $z_2(t)$ and $x(t)\\cdot z_2(t)$.\n"
   ]
  },
  {
   "cell_type": "code",
   "execution_count": null,
   "id": "06bf6c43-d59b-4018-8a9c-8dbbd6a7e271",
   "metadata": {
    "deletable": false,
    "nbgrader": {
     "cell_type": "code",
     "checksum": "641bcbe4c709ec2800bda8dc0e993743",
     "grade": true,
     "grade_id": "cell-315636f556637a9b",
     "locked": false,
     "points": 5,
     "schema_version": 3,
     "solution": true,
     "task": false
    }
   },
   "outputs": [],
   "source": [
    "# WRITE YOUR CODE HERE:"
   ]
  },
  {
   "cell_type": "markdown",
   "id": "c2fb9cce-35f0-43d7-88c3-db0f7bf5189d",
   "metadata": {},
   "source": [
    "*If done correctly, the plots should look something like [this](Figurer/task3c_sol.png).*"
   ]
  },
  {
   "cell_type": "markdown",
   "id": "36489e55-eb22-47c7-bd38-3b9da57eca63",
   "metadata": {},
   "source": [
    "As we se seen in the plots from problem **b)** and **c)**, mixing a signal $x(t)$ with a complex rotating vector rotating at a speed of $f$ cycles per second, will shift the entire frequency spectrum of $x(t)$ by $f$ Hz. If $f$ is a negative number, the frequency shift is towards the negative side of the spectrum. \n",
    "\n",
    "Calculating the mean of any signal can be viewed as extracting only the $0 \\text{ Hz}$ frequency component (i.e. the constant term) while cancelling all other frequency components. Calculating the mean of a signal which has had it's frequency content shifted by $-f\\text{ Hz}$ will therefore produce a complex phasor $\\boldsymbol{a_k}$ which tells us the manitude and phase of the complex exponential $\\boldsymbol{a_f} \\cdot e^{j2\\pi \\cdot f \\cdot t}$ embedded within the signal $x(t)$. Further, assuming we already know that $x(t)$ is a real-valued signal, the magnitude $A$ and phase $\\phi$ of the sinusoid with freqeuncy $f \\text{ Hz}$ can be inferred:\n",
    "\n",
    "$$\\begin{align}\n",
    "A &= 2\\cdot |\\boldsymbol{a_f}| \\\\\n",
    "\\phi &= \\angle \\  \\boldsymbol{a_f} \n",
    "\\end{align}\n",
    "$$\n",
    "\n",
    "\n",
    "## d)\n",
    "Complete the python-function `extract_sinusoid` which takes two arrays `x` and `t` representing a signal $x(t)$, in addition to the frequency `f` to extract. The function should use downconversion together with averaging to find the magnitude and phase of the component sinusoid with frequency `f` $\\text{Hz}$ contained within $x(t)$."
   ]
  },
  {
   "cell_type": "code",
   "execution_count": null,
   "id": "2d8cfea0-50c2-475f-8c44-c639c2508ffb",
   "metadata": {
    "deletable": false,
    "nbgrader": {
     "cell_type": "code",
     "checksum": "2930d761207b0b160faf80c8d215b395",
     "grade": true,
     "grade_id": "cell-67bf21de8e7c86a8",
     "locked": false,
     "points": 5,
     "schema_version": 3,
     "solution": true,
     "task": false
    }
   },
   "outputs": [],
   "source": [
    "def extract_sinusoid(x, t, f):\n",
    "    # WRITE YOUR CODE HERE:\n",
    "    return mag_f, phase_f"
   ]
  },
  {
   "cell_type": "markdown",
   "id": "41b04cf2-281a-47b5-93e1-a689d0c80d87",
   "metadata": {},
   "source": [
    "The calculations we have performed in task **d)** are the essence of fourier transformation / fourier series decomposition. Performing a fourier series decomposition of a signal $x(t)$ involves repeating such a sinusoid extraction for *all* possible frequency components. Described mathematically: \n",
    "\n",
    "###  $$ \\boldsymbol{A}_f = \\frac{1}{T}\\int_0^T x(t)\\cdot \\left( \\cos(2\\pi \\cdot f \\cdot t ) + j \\sin(2\\pi \\cdot f \\cdot t) \\right) dt,\\ \\ \\ f = \\frac{k}{T} $$\n",
    "\n",
    "for ***all*** integers $k \\in \\mathbb{Z}$.\n",
    "\n",
    "## e)\n",
    "\n",
    "Use the function in **d)** to calculate the magnitude and phase of the 5 first sine wave components in a sawtooth wave. One period of a sawtooth wave can be created using [`linspace`](https://numpy.org/doc/stable/reference/generated/numpy.linspace.html). "
   ]
  },
  {
   "cell_type": "code",
   "execution_count": null,
   "id": "506effbc-8b50-4ae9-9dcb-3fb803feaa4a",
   "metadata": {
    "deletable": false,
    "nbgrader": {
     "cell_type": "code",
     "checksum": "d9af13d26f61a6f07743be40309e3d73",
     "grade": true,
     "grade_id": "cell-168d5526b0de6c8a",
     "locked": false,
     "points": 5,
     "schema_version": 3,
     "solution": true,
     "task": false
    }
   },
   "outputs": [],
   "source": [
    "import numpy as np\n",
    "from scipy.signal import sawtooth\n",
    "t = np.linspace(0, 1, 1000, endpoint=False) # 200 timestamps in 1 second (fs=200)\n",
    "xt = np.linspace(-1, 1, 1000, endpoint=False) # One period of sawtooth wave\n",
    "# WRITE YOUR CODE HERE:"
   ]
  }
 ],
 "metadata": {
  "kernelspec": {
   "display_name": "Python 3 (ipykernel)",
   "language": "python",
   "name": "python3"
  },
  "language_info": {
   "codemirror_mode": {
    "name": "ipython",
    "version": 3
   },
   "file_extension": ".py",
   "mimetype": "text/x-python",
   "name": "python",
   "nbconvert_exporter": "python",
   "pygments_lexer": "ipython3",
   "version": "3.12.2"
  }
 },
 "nbformat": 4,
 "nbformat_minor": 5
}
