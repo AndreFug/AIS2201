{
 "cells": [
  {
   "cell_type": "markdown",
   "metadata": {
    "deletable": false,
    "editable": false,
    "nbgrader": {
     "cell_type": "markdown",
     "checksum": "024ab0af4c269c44579c46cfbea4efb1",
     "grade": false,
     "grade_id": "cell-29b0aa29981ff87c",
     "locked": true,
     "schema_version": 3,
     "solution": false,
     "task": false
    }
   },
   "source": [
    "# Signal synthesis using IDFT\n",
    "\n",
    "__Desired Learning Outcomes__:\n",
    "* Experiencing the connection between the DFT sequence and the composition of a signal.\n",
    "* How to add, subtract and adjust individual constituent sinusoids in a signal using IDFT.\n",
    "\n",
    "__Libraries and notebook-config:__"
   ]
  },
  {
   "cell_type": "code",
   "execution_count": null,
   "metadata": {},
   "outputs": [],
   "source": [
    "from numpy import sin, cos, pi, exp, mean, absolute, angle, conj # Sentrale matematiske funksjoner\n",
    "from numpy.fft import fft, ifft             # DFT og IDFT\n",
    "import numpy as np                          # Importer funksjonalitet fra numpy biblioteket med prefiks \"np\"\n",
    "import matplotlib.pyplot as plt             # Importer pyplot modulen i matplotlib med prefiks \"plt\"\n",
    "\n",
    "%matplotlib ipympl"
   ]
  },
  {
   "cell_type": "markdown",
   "metadata": {},
   "source": [
    "**Introduction:**\n",
    "\n",
    "Fourier transformation can be used for more than just identifying frequency components in a signal. A DFT is a *complete* decomposition of a signal, meaning that it contains all the information necessary to reconstruct a signal from its frequency components.\n",
    "\n",
    "In this task, we will construct a signal by adding and modifying the components in the frequency domain, and then calculate a signal in the time domain using the IDFT. Below is an example that shows the mathematics behind signal generation using IDFT. The signal generated is 64 samples of a sinusoidal sequence given by the formula $ x[n] = 2\\cdot \\cos\\left(2\\pi \\frac{4}{64}\\cdot n - \\frac{\\pi}{3} \\right), \\ \\ \\ 0 \\leq n < 64 $.\n",
    "\n",
    "* Determine which indices in the DFT sequence correspond to a sinusoidal signal with normalized angular frequency $ \\hat{\\omega} = 2\\pi \\frac{4}{64} $:\n",
    "$$\\pm \\hat{\\omega}_k = \\pm 2\\pi \\cdot \\frac{4}{64} = \\pm 2\\pi \\cdot \\frac{k}{N}, \\ \\ \\ N = 64$$\n",
    "$$k = \\pm 4 $$\n",
    "$$ \\downarrow$$\n",
    "$$\\text{(negative numbers 'roll over' and count down from the highest index.) }$$\n",
    "$$ \\downarrow$$\n",
    "$$ k = \\pm 4 \\% 64$$\n",
    " \n",
    "$$\n",
    "k =\n",
    "\\begin{cases}\n",
    "\\begin{align}\n",
    "4\\ \\ \\ & \\text{(positive frequency component)} \\\\\n",
    "-4 \\% 64 = 64 - 4 = 60\\ \\ \\ & \\text{(negative frequency component)}\n",
    "\\end{align}\n",
    "\\end{cases}\n",
    "$$\n",
    " \n",
    "\n",
    "* Find the complex amplitude $ a_k $ so that the signal can be written as $ x[n] = a_k \\cdot e^{j\\hat{\\omega}_k\\cdot n} + a_k^{*} \\cdot e^{-j\\hat{\\omega}_k\\cdot n} $:\n",
    "$$2\\cdot \\cos \\left(2\\pi \\frac{4}{64}\\cdot n - \\frac{\\pi}{3} \\right) = e^{-j\\frac{\\pi}{3}}\\cdot e^{j2\\pi \\frac{4}{64}\\cdot n} + e^{j\\frac{\\pi}{3}}\\cdot e^{-j2\\pi \\frac{4}{64}\\cdot n}$$\n",
    "$$a_4 = e^{-j\\frac{\\pi}{3}}$$\n",
    " \n",
    " \n",
    "* Set the relevant elements in \\( X[k] \\) to the correct value *(here we need to multiply by the number of samples in the DFT sequence)*\n",
    "$$\n",
    "X[k] = \n",
    "\\begin{cases}\n",
    "\\begin{align}\n",
    "N \\cdot a_4= 64 \\cdot e^{-j\\frac{\\pi}{3}},\\ \\ \\  & k = 4 \\\\\n",
    "N \\cdot a_4^{*} = 64\\cdot e^{j\\frac{\\pi}{3}},\\ \\ \\  & k = 60 \\\\\n",
    "0 \\ \\ \\ & otherwise\n",
    "\\end{align}\n",
    "\\end{cases}\n",
    "$$\n",
    " \n",
    " \n",
    "* The inverse DFT gives the desired signal:\n",
    "$$x[n] = IDFT(X[k])$$\n",
    "\n",
    "\n",
    "The code cell below performs the last two steps in this process. The parameters `k`, `A`, and `phi` are arrays, allowing us to build a signal with one or more sinusoidal sequences. For now, the code will only generate the signal from the above calculation.\n",
    "\n",
    "*Note: Take note that we only need to specify the positive frequency components. Code to compute the complex conjugate \"mirror image\" that contains the negative frequency components is already included.*\n",
    "\n",
    "<!--\n",
    "Original norsk tekst:\n",
    "\n",
    "**Introduction**\n",
    "The fourier transfomr can be used for more than\n",
    "\n",
    "\n",
    "Fouriertransformasjon kan brukes til mer enn å identifisere frekvenskomponenter i et signal. En DFT er en *fullstendig* dekomposisjon av et signal, som betyr at den inneholder all informasjon som er nødvendig for å rekonstruere et signal fra frekvenskomponentene. \n",
    "\n",
    "I denne oppgaven skal vi konstruere signal ved å legge til og modifisere komponentene i frekvensplanet, for så å regne oss frem til et signal i tidsdomenet med bruk av IDFT. Nedenfor føgler et eksempel som viser matematikken rundt signalgenerasjon med IDFT. Signalet som genereres er 64 sampler av en sinussekvens gitt ved formelen $x[n] = 2\\cdot \\cos\\left(2\\pi \\frac{4}{64}\\cdot n - \\frac{\\pi}{3} \\right), \\ \\ \\ 0 \\leq n < 64$.\n",
    "* Finn ut hvilkde indekser i DFT-sekvensen som vil korrespondere med et sinussignal med normalisert vinkelfrekvens $\\hat{\\omega} = 2\\pi \\frac{4}{64}$:\n",
    "$$\\pm \\hat{\\omega}_k = \\pm 2\\pi \\cdot \\frac{4}{64} = \\pm 2\\pi \\cdot \\frac{k}{N}, \\ \\ \\ N = 64$$\n",
    "$$k = \\pm 4 $$ \n",
    "$$ \\downarrow$$\n",
    "$$\\text{(negative tall 'ruller over' og teller ned fra høyeste indeks.) }$$\n",
    "$$ \\downarrow$$\n",
    "$$ k = \\pm 4 \\% 64$$\n",
    " \n",
    "$$\n",
    "k =\n",
    "\\begin{cases}\n",
    "\\begin{align}\n",
    "4\\ \\ \\ & \\text{(positiv frekvenskomponent)} \\\\\n",
    "-4 \\% 64 = 64 - 4 = 60\\ \\ \\ & \\text{(negativ frekvenskomponent)}\n",
    "\\end{align}\n",
    "\\end{cases}\n",
    "$$\n",
    " \n",
    "\n",
    "* Finn den komplekse amplituden $a_k$ slik at signalet kan skrives som $x[n] = a_k \\cdot e^{j\\hat{\\omega}_k\\cdot n} + a_k^{*} \\cdot e^{-j\\hat{\\omega}_k\\cdot n}$:\n",
    "$$2\\cdot \\cos \\left(2\\pi \\frac{4}{64}\\cdot n - \\frac{\\pi}{3} \\right) = e^{-j\\frac{\\pi}{3}}\\cdot e^{j2\\pi \\frac{4}{64}\\cdot n} + e^{j\\frac{\\pi}{3}}\\cdot e^{-j2\\pi \\frac{4}{64}\\cdot n}$$\n",
    "$$a_4 = e^{-j\\frac{\\pi}{3}}$$\n",
    " \n",
    " \n",
    "* Sett de aktuelle elementene i $X[k]$ til riktig verdi *(her må vi multiplisere med antall sampler i DFT-sekvensen)*\n",
    "$$\n",
    "X[k] = \n",
    "\\begin{cases}\n",
    "\\begin{align}\n",
    "N \\cdot a_4= 64 \\cdot e^{-j\\frac{\\pi}{3}},\\ \\ \\  & k = 4 \\\\\n",
    "N \\cdot a_4^{*} = 64\\cdot e^{j\\frac{\\pi}{3}},\\ \\ \\  & k = 60 \\\\\n",
    "0 \\ \\ \\ & ellers\n",
    "\\end{align}\n",
    "\\end{cases}\n",
    "$$\n",
    " \n",
    " \n",
    "* Invers DFT gir det ønskede signalet:\n",
    "$$x[n] = IDFT(X[k])$$\n",
    "\n",
    "\n",
    "Kodecellen nedenfor utfører de to siste stegene i denne prosessen. Parmaetrene `k`, `A` og `phi` er arrays, noe som lar oss bygge et signal med én eller flere sinussekvenser. Foreløpig vil koden kun generere signalet fra utregningen ovenfor. \n",
    "\n",
    "*NB! legg merke til at vi kun trenger å angi de positive frekvenskomponentene. Kode for å regne ut det komplekskonjugerte \"speilbildet\" som inneholder de negative frekvenskomponentene er allerede inkludert.*\n",
    "-->"
   ]
  },
  {
   "cell_type": "code",
   "execution_count": null,
   "metadata": {},
   "outputs": [],
   "source": [
    "# Parametre for sinusledd(ene)\n",
    "N = 64                         # Number of signal samples represented in the frequency domain\n",
    "Xm = 1j*np.zeros(N)            # \"Blank page\" DFT with room for N=64 frequency components\n",
    "\n",
    "# Add frequency component with A=2, phi=-pi/3 and frequency index m=4.\n",
    "# Match it with a complex conjugate \"twin\" in index m=N-4.\n",
    "Xm[4], Xm[N-4] = 2/2*N*exp(-1j*pi/3), 2/2*N*exp(1j*pi/3)\n",
    "\n",
    "# Perform Inverse Discrete Fourier Transformation\n",
    "xn = np.fft.ifft(Xm)\n",
    "\n",
    "# If the array 'xn' is a purely real signal, create a stem plot of the signal\n",
    "if(np.sum(np.absolute(np.imag(xn)))>1e-10):\n",
    "    print(\"DFT conjugate symmetry not maintained. IDFT produced complex signal.\")\n",
    "else:\n",
    "    plt.close(1); plt.figure(1, figsize=(9,3))\n",
    "    plt.stem(np.real(xn), # Real signal values (x[n])\n",
    "             linefmt='-', # Line style for stem lines\n",
    "             markerfmt='.', # Marker style set to '.'. Default is 'o' (big dot)\n",
    "             basefmt='grey', # Adjust color of baseline at x-axis\n",
    "            )\n",
    "    plt.xlabel(\"Samplenummer 'n'\")\n",
    "    plt.ylabel(\"x[n]\")\n",
    "    plt.xlim([0, N])\n",
    "    plt.grid(True)\n",
    "    plt.tight_layout()"
   ]
  },
  {
   "cell_type": "markdown",
   "metadata": {
    "deletable": false,
    "editable": false,
    "nbgrader": {
     "cell_type": "markdown",
     "checksum": "07d35441dea19b5fab7a03b881e0baaa",
     "grade": false,
     "grade_id": "cell-766c728aabc8e8c8",
     "locked": true,
     "points": 2,
     "schema_version": 3,
     "solution": false,
     "task": true
    }
   },
   "source": [
    "Run the code above and study the figures that are generated. It might also be beneficial to do some experimentation by adjusting some of the parameters and observing what happens.\n",
    "\n",
    "\n",
    "## a) \n",
    "* Add a new sinusoidal component with normalized angular frequency $ \\hat{\\omega} = \\frac{3\\pi}{16} $, amplitude $ A = 2.3 $, and phase $ \\phi = \\frac{3\\pi}{5} $ by adding a new element to the arrays `k`, `A`, and `phi`.<!--Legg til en ny sinuskomponent med normalisert vinkelfrekvens $\\hat{\\omega} = \\frac{3\\pi}{16}$, amplitude $A = 2.3$ og fase $\\phi = \\frac{3\\pi}{5}$ ved å legge til et nytt element arrayene `k`, `A` og `phi`.-->\n",
    "\n",
    "\n"
   ]
  },
  {
   "cell_type": "markdown",
   "metadata": {
    "deletable": false,
    "editable": false,
    "nbgrader": {
     "cell_type": "markdown",
     "checksum": "b05975db33d3fd6ec1e23a739b589036",
     "grade": false,
     "grade_id": "cell-aad7949ec57617cd",
     "locked": true,
     "points": 2,
     "schema_version": 3,
     "solution": false,
     "task": true
    }
   },
   "source": [
    "## b) \n",
    "* We want to generate more samples of the same signal. Make additional changes to the variables `k`, `A`, and `phi` as well as `N` to produce 96 samples instead of 64. Ensure that the angular frequencies of the sinusoidal components remain unchanged."
   ]
  },
  {
   "cell_type": "markdown",
   "metadata": {
    "deletable": false,
    "editable": false,
    "nbgrader": {
     "cell_type": "markdown",
     "checksum": "9e5b4b94b0dd5544cbfbc1a899adb831",
     "grade": false,
     "grade_id": "cell-31c72b25e32582ac",
     "locked": true,
     "points": 2,
     "schema_version": 3,
     "solution": false,
     "task": true
    }
   },
   "source": [
    "## c)\n",
    "* Subject the entire signal to time-referseal (e.g. $y[n] = x[-n]$). The connection bewteen time-domain reversal, and it's frequency-domain equivalent is described below:\n",
    "$$\\begin{align}\n",
    "y[n] &= x[-n] \\\\\n",
    "&\\Downarrow \\\\\n",
    "Y(f) &= X^{*}(f)\n",
    "\\end{align}\n",
    "$$\n",
    "  \n",
    "<!--\n",
    "* Differentiate the signal in the frequency domain by multiplying $X[m]$ by $j\\omega[m]$.\n",
    "* Subject the entire signal to  $M=-17$ samples of time delay by adjusting the phase of the frequency components. Remember, shifting in the time domain equals complex rotation in frequency domain:\n",
    "\n",
    "$$\\begin{align}\n",
    "y[n] &= x[n-M]\\\\\n",
    "&\\Downarrow \\\\\n",
    "Y(f) &= X(f) \\cdot e^{-j2\\pi f\\cdot M} \n",
    "\\end{align}$$-->"
   ]
  },
  {
   "cell_type": "markdown",
   "metadata": {},
   "source": [
    "*PS: [Here](Figures/task2_sol.png) is what the graph shuld look like after completion of tasks **a)** through **c)***."
   ]
  }
 ],
 "metadata": {
  "kernelspec": {
   "display_name": "Python 3 (ipykernel)",
   "language": "python",
   "name": "python3"
  },
  "language_info": {
   "codemirror_mode": {
    "name": "ipython",
    "version": 3
   },
   "file_extension": ".py",
   "mimetype": "text/x-python",
   "name": "python",
   "nbconvert_exporter": "python",
   "pygments_lexer": "ipython3",
   "version": "3.12.2"
  }
 },
 "nbformat": 4,
 "nbformat_minor": 4
}
