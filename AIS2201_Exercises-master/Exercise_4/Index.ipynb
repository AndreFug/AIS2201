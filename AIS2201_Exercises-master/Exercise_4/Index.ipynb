{
 "cells": [
  {
   "cell_type": "markdown",
   "metadata": {},
   "source": [
    "# Exercise 2 - Discrete Fourier Transformation\n",
    "\n",
    "This exercise is concerned with the Discrete Fourier Transform (DFT), and it's use in both analysis and manipulation of discrete-time signals. \n",
    "\n",
    "### Relevant reading materials: \n",
    "- Chapter 3 in Understanding Digital Signal Processing\n",
    "- Lecture notes on Discrete Fourier Transforms\n",
    "\n",
    "### Preparatory work:\n",
    "- Bring headphones. Some of the tasks involve audio signals.\n",
    "\n",
    "### Introduction:\n",
    "In this exercise we will be working with the Discrete Fourier Transform (DFT) and the Inverse Discrete Fourier Transform (IDFT). The aformentioned are mathematical tools we use to \"translate\" signal information between the time domain and the frequency domain. The Mathematical expressions for DFT and IDFT of a discrete-time signals of duration $N$ samples is:\n",
    "\n",
    "**DFT:**\n",
    "$$X[m] = \\sum_{n=0}^{N-1}x[n]\\cdot e^{-j2\\pi \\frac{m\\cdot n}{N}} \\tag{1}$$\n",
    "\n",
    "**IDFT:**\n",
    "$$x[n] = \\frac{1}{N}\\sum_{k=0}^{N-1}X[k]\\cdot e^{j2\\pi \\frac{k\\cdot n}{N}} \\tag{2}$$\n",
    "\n",
    "Equations $1$ and $2$ are strikingly similar to the equations for Fourier Series Decomposition/Reconstruction. The main difference being the use of summation $\\left(\\sum_{n=0}^{N-1}\\right)$ instead of integration $\\left(\\int_0^T\\right)$ due to the discrete nature of our input. Furthermore, since discrete-time signals have a definitive maximum possible frequency they can represent as defined by the Nyquist Sampling Theorem, a complete frequency domain representation will no longer potentially involve infinitely many samples. Instead, the DFT limits itself to identifying the frequency components within the nyquist range: $0 \\leq f < f_s$, where the latter half of this range is simply an alias of the negative half of the frequency spectrum.\n",
    "\n",
    "Run the cell below to launch a demo showing the relation between a discrete sinusoid, and it's fourier transform:\n"
   ]
  },
  {
   "cell_type": "code",
   "execution_count": null,
   "metadata": {},
   "outputs": [],
   "source": [
    "from demos import DFT_Demo\n",
    "%matplotlib ipympl\n",
    "DFT_Demo()"
   ]
  },
  {
   "cell_type": "markdown",
   "metadata": {},
   "source": [
    "\n",
    "Happily, we don't need to actually implement the discrete fourier transform ourselves. The functions `numpy.fft.fft()` (Fast Fourier Transform), and `numpy.fft.ifft()` (Inverse Fast Fourier Transform) are built-into the numpy module, and use clever mathematics to calculate the DFT/IDFT as efficiently as possible. The important thing for us to learn is how to properly make use of  these functions.\n"
   ]
  },
  {
   "cell_type": "markdown",
   "metadata": {},
   "source": [
    "### Problems:\n",
    "Oppgave | Tema \n",
    "--- | --- \n",
    "[Problem 1](Problem1.ipynb) | Signal analysis using DFT/FFT and FFT theory\n",
    "[Problem 2](Problem2.ipynb) | Signal modification using IDFT/IFFT\n",
    "[Problem 3](Problem3.ipynb) | Audio filtering in the frequency domain"
   ]
  }
 ],
 "metadata": {
  "kernelspec": {
   "display_name": "Python 3 (ipykernel)",
   "language": "python",
   "name": "python3"
  },
  "language_info": {
   "codemirror_mode": {
    "name": "ipython",
    "version": 3
   },
   "file_extension": ".py",
   "mimetype": "text/x-python",
   "name": "python",
   "nbconvert_exporter": "python",
   "pygments_lexer": "ipython3",
   "version": "3.12.2"
  }
 },
 "nbformat": 4,
 "nbformat_minor": 4
}
