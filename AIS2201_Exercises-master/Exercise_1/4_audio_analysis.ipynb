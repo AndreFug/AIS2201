{
 "cells": [
  {
   "cell_type": "markdown",
   "id": "abf33a13-e53b-41ab-9afc-ba403b4661e5",
   "metadata": {},
   "source": [
    "<nav class=\"navbar navbar-default\">\n",
    "  <div class=\"container-fluid\">\n",
    "    <div class=\"navbar-header\" style=\"float: left\">\n",
    "        <a class=\"navbar-brand\" href=\"0_Index.ipynb\" target=\"_self\"> <h2> &uarr; Back to front page</h2></a>\n",
    "    </div>\n",
    "  </div>\n",
    "</nav>"
   ]
  },
  {
   "cell_type": "markdown",
   "id": "d18ed6f5-38e0-46e3-9114-0af915d51af3",
   "metadata": {},
   "source": [
    "# Graphical analysis of an audio signal\n",
    "\n",
    "It is time to use Python to conduct some more in-depth graphical analysis of our audio signal `sample_audio.wav`. Start by  running the code cell below which loads the contents of the audio file, and creates a scaled array `x` with sample values as floating-point numbers."
   ]
  },
  {
   "cell_type": "code",
   "execution_count": null,
   "id": "50f5b4e8-edbc-414a-b190-696e763a3c1f",
   "metadata": {},
   "outputs": [],
   "source": [
    "import scipy.io.wavfile as wavfile # Import module for handling of .wav audio files\n",
    "from IPython.display import Audio  # Import the Audio object for use in audio playback\n",
    "import numpy as np\n",
    "\n",
    "fs, sampleData = wavfile.read(\"sample_audio.wav\") # \"fs\" is sampling frequency, \"sampleData\" is the sequence of measurements\n",
    "x = sampleData/max(abs(sampleData))               # Scale sample values to the range -1 < x[n] < 1"
   ]
  },
  {
   "cell_type": "markdown",
   "id": "9231d453-3631-4c45-94b2-0819c5078d86",
   "metadata": {},
   "source": [
    "We now wish to analyze a short extract of the audio file to see if we can identif the fundamental frequency $f_0$ at around $t=12.3$ seconds.\n",
    "\n",
    "## a)\n",
    "\n",
    "Create a figure showing the signal $x(t)$ during the time interval $12.27s \\leq t \\leq 12.33s$. Use the same method as in task 3 to measure the fundamental period from the time plot. The plot should look something like [this](Figures/Task4_timeplot.png).\n",
    "\n",
    "*Tip 1: In order to assure higher precision, measure the time over a larger number of repetitions (e.g. 5), and use this to calculate the average period* \n",
    "\n",
    "*Tip 2: The cell command `%matplotlib ipympl` enables interactive plots. You can now zoom in, or use the mouse cursor to get a relatively accurate reading of a point in the figure.<br>The downside to this is figues remaining \"active\" across code cells. Use the function `figure()` to create a new blank figure whenever you want to make a new plot.*"
   ]
  },
  {
   "cell_type": "code",
   "execution_count": null,
   "id": "7d758573-9cfa-4240-a06b-ae7944054eea",
   "metadata": {
    "deletable": false,
    "nbgrader": {
     "cell_type": "code",
     "checksum": "48fb576b7f9e711e204f24274bcb8d46",
     "grade": true,
     "grade_id": "cell-778509bf2649e749",
     "locked": false,
     "points": 5,
     "schema_version": 3,
     "solution": true,
     "task": false
    },
    "tags": []
   },
   "outputs": [],
   "source": [
    "import matplotlib.pyplot as plt\n",
    "%matplotlib ipympl\n",
    "# WRITE YOUR CODE HERE:"
   ]
  },
  {
   "cell_type": "markdown",
   "id": "d617e4bf-7e9a-44be-9ffd-2677b8619a3b",
   "metadata": {
    "deletable": false,
    "nbgrader": {
     "cell_type": "markdown",
     "checksum": "36df56993fd578fb0fd8241ecd4db613",
     "grade": true,
     "grade_id": "cell-539588ae07a445a4",
     "locked": false,
     "points": 5,
     "schema_version": 3,
     "solution": true,
     "task": false
    },
    "tags": []
   },
   "source": [
    "ANSWER THEORY QUESTIONS HERE:"
   ]
  },
  {
   "cell_type": "markdown",
   "id": "1722d3cf-ac0c-444f-a57e-c4614ac79389",
   "metadata": {},
   "source": [
    "Measuring the fundamental frequency based on the signal curve $x(t)$ can often be quite difficult, as it depends on us correctly identifying a repeating pattern. It is usually preferred to analyze the magnitude spectrum $|X(f)|$ instead, where a periodic signal manifests as a series of uniformly spaced \"spikes\".\n",
    "\n",
    "## b)\n",
    "\n",
    "Use the function [`matplotlib.pyplot.magnitude_spectrum()`](https://matplotlib.org/stable/api/_as_gen/matplotlib.pyplot.magnitude_spectrum.html) as introduced in task 3 to show the magnitude spectrum $|X(f)|$ of $x(t)$ for the same time interval $12.27s \\leq t \\leq 12.33s$. Measure the space between spikes to find the fundamental frequency. <br> *P.S. If we zoom in on the lower end of the frequency axis ($0Hz \\leq f \\leq 2000Hz$), the magnitude spectrum $|X(f)|$ should look something like [this](Figures/Task4_mag1.png).*\n"
   ]
  },
  {
   "cell_type": "code",
   "execution_count": null,
   "id": "a49987c3-2052-4622-81bf-5cc439c6ad24",
   "metadata": {
    "deletable": false,
    "nbgrader": {
     "cell_type": "code",
     "checksum": "67657c4e636fb7a725a786c4fd044a6d",
     "grade": true,
     "grade_id": "cell-2ac0d1e0307631cf",
     "locked": false,
     "points": 5,
     "schema_version": 3,
     "solution": true,
     "task": false
    },
    "tags": []
   },
   "outputs": [],
   "source": [
    "import matplotlib.pyplot as plt\n",
    "%matplotlib ipympl\n",
    "# WRITE YOUR CODE HERE:"
   ]
  },
  {
   "cell_type": "markdown",
   "id": "b522a2c4-36c1-4a18-bbc6-538ba4205189",
   "metadata": {
    "deletable": false,
    "nbgrader": {
     "cell_type": "markdown",
     "checksum": "95ff8015f221d3c509c5721e8b4a035b",
     "grade": true,
     "grade_id": "cell-ca4afc93dc0dbb97",
     "locked": false,
     "points": 5,
     "schema_version": 3,
     "solution": true,
     "task": false
    },
    "tags": []
   },
   "source": [
    "ANSWER THEORY QUESTIONS HERE:"
   ]
  },
  {
   "cell_type": "markdown",
   "id": "b1a93cb9-5a4c-4e0d-b4d3-b77aac3da267",
   "metadata": {},
   "source": [
    "Our magnitude spectrum plot in task **b)**, while providing some good information appears to be quite jagged. This is because our *resolution* along the frequency axis depends on the lenght of the signal interval subject to frequency analysis. To get a more detailed magnitude spectrum, we can increase the analysis interval.\n",
    "\n",
    "## c)\n",
    "\n",
    "Create another plot of the magnitude spectrum $|X(f)|$, this time based on the values of $x(t)$ for $12.0\\text{s} \\leq t < 12.6\\text{s}$. How does the increased resoution affect the magnitude spectrum plot?"
   ]
  },
  {
   "cell_type": "code",
   "execution_count": null,
   "id": "9fa1c9e8-8c22-4f1a-b4f7-6ca70593ce30",
   "metadata": {
    "deletable": false,
    "nbgrader": {
     "cell_type": "code",
     "checksum": "1e8b26c7f6adee14bcb1576f906d2a45",
     "grade": true,
     "grade_id": "cell-068def8dd39295e8",
     "locked": false,
     "points": 5,
     "schema_version": 3,
     "solution": true,
     "task": false
    },
    "tags": []
   },
   "outputs": [],
   "source": [
    "import matplotlib.pyplot as plt\n",
    "%matplotlib ipympl\n",
    "# WRITE YOUR CODE HERE:"
   ]
  },
  {
   "cell_type": "markdown",
   "id": "ac104de6-1661-4545-b2c2-dd9b7a5d043a",
   "metadata": {
    "deletable": false,
    "nbgrader": {
     "cell_type": "markdown",
     "checksum": "998ae1323fe49678c229bc1dd64c8e68",
     "grade": true,
     "grade_id": "cell-f3f1715937dc6205",
     "locked": false,
     "points": 5,
     "schema_version": 3,
     "solution": true,
     "task": false
    },
    "tags": []
   },
   "source": [
    "ANSWER THEORY QUESTIONS HERE:"
   ]
  },
  {
   "cell_type": "markdown",
   "id": "5c5aa217-f538-4314-8eb6-f5fea875695e",
   "metadata": {},
   "source": [
    "Generally, higher frequency resolution is helpful when conducting frequency analysis. However, we also run the risk of \"smearing\" the frequency plot *if* the tone subject to analysis were to change during our analysis window. We also have no way of knowing whether the tone lasted the entire 0.6 seconds we analyzed, or only parts of it. In other words, there is always a tradeoff between frequency resolution and accuracy in the time domain. This is one manifestation of what is referred to as the uncertainty principle, which is explained beautifully in this [youtube-video](https://www.youtube.com/watch?v=MBnnXbOM5S4)."
   ]
  },
  {
   "cell_type": "markdown",
   "id": "b23b5cf3-026c-46a7-9cbc-151199e3f4f7",
   "metadata": {},
   "source": [
    "<br>\n",
    "<nav class=\"navbar navbar-default\">\n",
    "  <div class=\"container-fluid\">\n",
    "    <div class=\"navbar-header\" style=\"float: left\">\n",
    "      <a class=\"navbar-brand\" href=\"3_sinusoids.ipynb\" target=\"_self\">&lt; Previous page: <i>Sinusoids and their frequency representation</i></a>\n",
    "      </div>\n",
    "            <div class=\"navbar-header\" style=\"float: right\">\n",
    "      <a class=\"navbar-brand\" href=\"5_audio_filtering.ipynb\" target=\"_self\">Next page: <i>Filtering of Audio Signals</i> &gt;</a>\n",
    "  </div>\n",
    "</nav>"
   ]
  }
 ],
 "metadata": {
  "kernelspec": {
   "display_name": "Python 3 (ipykernel)",
   "language": "python",
   "name": "python3"
  },
  "language_info": {
   "codemirror_mode": {
    "name": "ipython",
    "version": 3
   },
   "file_extension": ".py",
   "mimetype": "text/x-python",
   "name": "python",
   "nbconvert_exporter": "python",
   "pygments_lexer": "ipython3",
   "version": "3.11.5"
  },
  "varInspector": {
   "cols": {
    "lenName": 16,
    "lenType": 16,
    "lenVar": 40
   },
   "kernels_config": {
    "python": {
     "delete_cmd_postfix": "",
     "delete_cmd_prefix": "del ",
     "library": "var_list.py",
     "varRefreshCmd": "print(var_dic_list())"
    },
    "r": {
     "delete_cmd_postfix": ") ",
     "delete_cmd_prefix": "rm(",
     "library": "var_list.r",
     "varRefreshCmd": "cat(var_dic_list()) "
    }
   },
   "types_to_exclude": [
    "module",
    "function",
    "builtin_function_or_method",
    "instance",
    "_Feature"
   ],
   "window_display": false
  }
 },
 "nbformat": 4,
 "nbformat_minor": 5
}
