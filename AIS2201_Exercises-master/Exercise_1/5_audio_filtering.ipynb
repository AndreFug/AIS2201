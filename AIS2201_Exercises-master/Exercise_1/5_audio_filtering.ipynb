{
 "cells": [
  {
   "cell_type": "markdown",
   "id": "1304044e-e2f3-4701-80eb-191f1c1ec854",
   "metadata": {},
   "source": [
    "<nav class=\"navbar navbar-default\">\n",
    "  <div class=\"container-fluid\">\n",
    "    <div class=\"navbar-header\" style=\"float: left\">\n",
    "        <a class=\"navbar-brand\" href=\"0_Index.ipynb\" target=\"_self\"> <h2> &uarr; Back to front page</h2></a>\n",
    "    </div>\n",
    "  </div>\n",
    "</nav>"
   ]
  },
  {
   "cell_type": "markdown",
   "id": "a52ca188-615c-4aa7-9f30-75f992da5ebe",
   "metadata": {},
   "source": [
    "# Simple lowpass filtering of Audio\n",
    "\n",
    "Digital filters are a major part of many digital signal processing systems. While there are a lot of advancet topics in regards to digital filters which we will explore later in the course, making use of a simple lowpass filter can be done quite easily.\n",
    "\n",
    "All linear and time-invariant (LTI) digital systems will be comprised of three main operations:\n",
    "- Multiplication of a signal sample $x[n]$ by some constant term.\n",
    "- Adding together two signal samples $x_1[n]$ and $x_2[n]$.\n",
    "- Delaying a sample by $N$ sample periods\n",
    "\n",
    "We can combine these three operations to create an exponential averagin filter as shown in the figure below.\n",
    "\n",
    "$$y[n] = (1-\\alpha)\\cdot x[n] + \\alpha \\cdot y[n] \\tag{1}$$\n",
    "Translated into python code, each output value `current_y` will be calculated by combining the current input value `current_x`, and the previous output value `previous_y` with individual weights determined by a filter coefficient `alpha`.\n",
    "\n",
    "```Python\n",
    "current_y = (1-alpha)*current_x + alpha*previous_y\n",
    "previous_y = current_y\n",
    "```\n",
    "\n",
    "The line of code above can process *one sample*, and store the current output in the variable `previous_y`, so it can be used when filtering the next input sample. To filter an entire audio signal, we must iterate through the entire audio signal array, doing this operation with each sample in turn."
   ]
  },
  {
   "cell_type": "code",
   "execution_count": null,
   "id": "b5fe0400-432c-49d8-9e38-73e43bb48a41",
   "metadata": {},
   "outputs": [],
   "source": [
    "import scipy.io.wavfile as wavfile # Import module for handling of .wav audio files\n",
    "from IPython.display import Audio  # Import the Audio object for use in audio playback\n",
    "import numpy as np\n",
    "\n",
    "fs, sampleData = wavfile.read(\"sample_audio.wav\") # \"fs\" is sampling frequency, \"sampleData\" is the sequence of measurements\n",
    "xn = sampleData/max(abs(sampleData))               # Scale sample values to the range -1 < x[n] < 1"
   ]
  },
  {
   "cell_type": "markdown",
   "id": "de1da839-71d1-4c28-95a6-66213f774b69",
   "metadata": {},
   "source": [
    "## a)\n",
    "\n",
    "Use the filter in equation $1$ with $\\alpha = 0.95$ to filter the audio signal from `sample_audio.wav`, and play the sound using your computer. What do you hear?"
   ]
  },
  {
   "cell_type": "code",
   "execution_count": null,
   "id": "11ae1720-2e2c-400f-861f-18f1c3f28335",
   "metadata": {
    "deletable": false,
    "nbgrader": {
     "cell_type": "code",
     "checksum": "e7745430edcf67c061c1b74086ec81b3",
     "grade": true,
     "grade_id": "cell-6a0a5a7dd7b00106",
     "locked": false,
     "points": 3,
     "schema_version": 3,
     "solution": true,
     "task": false
    }
   },
   "outputs": [],
   "source": [
    "# WRITE YOUR CODE HERE:"
   ]
  },
  {
   "cell_type": "markdown",
   "id": "605d91b1-93e9-41c6-8266-e3ec6cfbfba9",
   "metadata": {
    "deletable": false,
    "nbgrader": {
     "cell_type": "markdown",
     "checksum": "bfa25bd1498b9acbb94bc86543645d44",
     "grade": true,
     "grade_id": "cell-c3c1fb95513040a7",
     "locked": false,
     "points": 2,
     "schema_version": 3,
     "solution": true,
     "task": false
    }
   },
   "source": [
    "ANSWER THEORY QUESTIONS HERE:"
   ]
  },
  {
   "cell_type": "markdown",
   "id": "91117e27-67da-4bf4-a843-87e181dc3699",
   "metadata": {},
   "source": [
    "## b)\n",
    "Create a plot showing the frequency content of the audio signal around $t= 12.3\\text{ s}$ before and after filtering. What is the difference between the two plots, and what does the filter appear to be doing?"
   ]
  },
  {
   "cell_type": "code",
   "execution_count": null,
   "id": "c94eea7d-843b-4fa2-83f9-cc94e9222531",
   "metadata": {
    "deletable": false,
    "nbgrader": {
     "cell_type": "code",
     "checksum": "f7bbaaf9f547899dca03b2902d4fdc50",
     "grade": true,
     "grade_id": "cell-e8d49b57da014bf7",
     "locked": false,
     "points": 3,
     "schema_version": 3,
     "solution": true,
     "task": false
    }
   },
   "outputs": [],
   "source": [
    "import matplotlib.pyplot as plt\n",
    "%matplotlib ipympl\n",
    "# WRITE YOUR CODE HERE:"
   ]
  },
  {
   "cell_type": "markdown",
   "id": "c17b844e-a3c9-4d28-8671-07afd7d2b1c1",
   "metadata": {
    "deletable": false,
    "nbgrader": {
     "cell_type": "markdown",
     "checksum": "7674662b71ed1c4d53e8ba7b4635129a",
     "grade": true,
     "grade_id": "cell-0c202780c419be2e",
     "locked": false,
     "points": 2,
     "schema_version": 3,
     "solution": true,
     "task": false
    }
   },
   "source": [
    "ANSWER THEORY QUESTIONS HERE:"
   ]
  },
  {
   "cell_type": "markdown",
   "id": "5d01a2b8-5461-47dc-86ae-bc81b68f5ee1",
   "metadata": {},
   "source": [
    "<br>\n",
    "<nav class=\"navbar navbar-default\">\n",
    "  <div class=\"container-fluid\">\n",
    "    <div class=\"navbar-header\" style=\"float: left\">\n",
    "      <a class=\"navbar-brand\" href=\"4_audio_analysis.ipynb\" target=\"_self\">&lt; Previous page: <i>Audio Analysis</i></a>\n",
    "      </div>\n",
    "  </div>\n",
    "</nav>"
   ]
  }
 ],
 "metadata": {
  "kernelspec": {
   "display_name": "Python 3 (ipykernel)",
   "language": "python",
   "name": "python3"
  },
  "language_info": {
   "codemirror_mode": {
    "name": "ipython",
    "version": 3
   },
   "file_extension": ".py",
   "mimetype": "text/x-python",
   "name": "python",
   "nbconvert_exporter": "python",
   "pygments_lexer": "ipython3",
   "version": "3.11.5"
  }
 },
 "nbformat": 4,
 "nbformat_minor": 5
}
