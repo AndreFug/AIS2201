{
 "cells": [
  {
   "cell_type": "markdown",
   "id": "075e555e-e9fe-46e1-96cd-e12b6c118288",
   "metadata": {},
   "source": [
    "<nav class=\"navbar navbar-default\">\n",
    "  <div class=\"container-fluid\">\n",
    "    <div class=\"navbar-header\" style=\"float: left\">\n",
    "        <a class=\"navbar-brand\" href=\"0_Index.ipynb\" target=\"_self\"> <h2> &uarr; Back to front page</h2></a>\n",
    "    </div>\n",
    "  </div>\n",
    "</nav>"
   ]
  },
  {
   "cell_type": "markdown",
   "id": "bd31b8de",
   "metadata": {},
   "source": [
    "# Exploring an audio file\n",
    "\n",
    "When audio signals are recorded to a digital medium, this is done by sampling the amplitude of an analog signal (aka. voltage output from a microphone) at regular intervals known as the *sampling period* $T_s$, resulting in a sequence of measured values. An illustration of this process is shown below.\n",
    "\n",
    "<img src=\"Figures/Task1_Ts.png\" style=\"width: 600px; margin-left: 100px\" />\n",
    "\n",
    "Closely related to the sampling period $T_s$ is the *sampling rate* or *sampling frequency* $f_s$, defined as the *number of samples per second*. The sampling frequency $f_s$ is calculated simpy by inverting the samping period $T_s$.\n",
    "\n",
    "$$f_s =\\frac{1}{T_s}$$\n",
    "\n",
    "In order to reconstruct an analog voltage signal which can be sent to speakers or headphones, both knowledge of the sampling frequency used during recording *and* the measured sample values are required. Happily, all this information is contained within any audio file format.\n",
    "\n",
    "The codecell below uses a function available through the `scipy` module to read the audio file `example_music.wav` containing some relaxing classical music. The sequence of audio amplitude measurements which contain the actual audio signal is assigned to the variable `sampleData` in the form of a very long `array`, while the sampling frequency is an integer value which is assigned to the variable `fs`. \n",
    "\n",
    "After loading the audio file, the data is passed along to an embedded Auduio playback widget accessible through the IPython module. "
   ]
  },
  {
   "cell_type": "code",
   "execution_count": null,
   "id": "e395078f",
   "metadata": {},
   "outputs": [],
   "source": [
    "import scipy.io.wavfile as wavfile # Import module for handling of .wav audio files\n",
    "from IPython.display import Audio   # For loading embedded audio player\n",
    "\n",
    "fs, sampleData = wavfile.read(\"sample_audio.wav\") # \"fs\" is sampling frequency, \"sampleData\" is the sequence of measurements\n",
    "\n",
    "# Use the following lines to listen to the audio signal\n",
    "Audio(sampleData, rate=fs)"
   ]
  },
  {
   "cell_type": "markdown",
   "id": "2e08e864",
   "metadata": {},
   "source": [
    "## a)\n",
    "\n",
    "Run the codecell and listen to the audio clip. We can now begin our analysis of the audio signal. \n",
    "\n",
    "Using the data gathered in the codecell above, write a script which prints the sampling frequency $f_s$, sampling period $T_s$ and the total duration of the audio file. <br>*extra: what is the size of the file in number of bits?*<br> *hint: the function `len()` should be useful here*. \n"
   ]
  },
  {
   "cell_type": "code",
   "execution_count": null,
   "id": "41d37666",
   "metadata": {
    "deletable": false,
    "nbgrader": {
     "cell_type": "code",
     "checksum": "45830c564f94aa32f24e7ba7398deb9e",
     "grade": true,
     "grade_id": "cell-3be1130d2ae8705f",
     "locked": false,
     "points": 5,
     "schema_version": 3,
     "solution": true,
     "task": false
    },
    "tags": []
   },
   "outputs": [],
   "source": [
    "# WRITE YOUR CODE HERE:"
   ]
  },
  {
   "cell_type": "markdown",
   "id": "41ee6c76",
   "metadata": {},
   "source": [
    "## b)\n",
    "\n",
    "Use the Audio object to play back the audio clip once with double the sample rate $f_s$, and once with half the sample rate. What effects can you hear? Explain the cause of these effects.\n"
   ]
  },
  {
   "cell_type": "code",
   "execution_count": null,
   "id": "16bbc18d",
   "metadata": {
    "deletable": false,
    "nbgrader": {
     "cell_type": "code",
     "checksum": "21329d2954e6714b164d21e1eeb158ab",
     "grade": true,
     "grade_id": "cell-7938e705a223d241",
     "locked": false,
     "points": 5,
     "schema_version": 3,
     "solution": true,
     "task": false
    },
    "tags": []
   },
   "outputs": [],
   "source": [
    "# WRITE YOUR CODE HERE:"
   ]
  },
  {
   "cell_type": "markdown",
   "id": "30aa0678",
   "metadata": {
    "deletable": false,
    "nbgrader": {
     "cell_type": "markdown",
     "checksum": "b1f8d7e46507cdabece9e29c7587475b",
     "grade": true,
     "grade_id": "cell-6965f45985179140",
     "locked": false,
     "points": 5,
     "schema_version": 3,
     "solution": true,
     "task": false
    },
    "tags": []
   },
   "source": [
    "ANSWER THEORY QUESTIONS HERE:"
   ]
  },
  {
   "cell_type": "markdown",
   "id": "d5244714",
   "metadata": {},
   "source": [
    "A crucial parameter to be aware of when working with audio is the bit rate of the digital audio signal measured in bps (bits per second).\n",
    "\n",
    "## c) \n",
    "\n",
    "Given each sample having 16 bit resolution, what is the bit rate for the audio recording and what is the total size of the file (assuming no compression)?\n"
   ]
  },
  {
   "cell_type": "code",
   "execution_count": null,
   "id": "b87d8b9d",
   "metadata": {
    "deletable": false,
    "nbgrader": {
     "cell_type": "code",
     "checksum": "f66a7955f2890d876d847d837b39462a",
     "grade": true,
     "grade_id": "cell-508f57c803ebff8d",
     "locked": false,
     "points": 5,
     "schema_version": 3,
     "solution": true,
     "task": false
    },
    "tags": []
   },
   "outputs": [],
   "source": [
    "# WRITE YOUR CODE HERE:"
   ]
  },
  {
   "cell_type": "markdown",
   "id": "e6585e6d",
   "metadata": {},
   "source": [
    "It is often desirable to provide a graphical plot of the audio signal. Simply passing the `sampleData` to the `plot()` function should acheive this, but the x-axis will show sample index `n` instead of the time `t` in seconds, which may be rather unhelpful. Based on the total number of samples in the audio clip and the sampling rate, we can adjust the plot to show signal amplitude as a function of time $t$ in seconds by creating a new array (e.g. `t`) of equal length to our audio signal which spans the duration of our audio signal.\n",
    "\n",
    "For example, given an audio file with $N$ samples and sampling rate $f_s$, what we want is an array `t` with `N` elements linearly spaced in the time span $0 \\leq t < \\frac{N}{f_s}$.\n",
    "\n",
    "## d)\n",
    "\n",
    "Write the code to generate this plot in the codecell below. `numpy.array`, `numpy.arange` and `numpy.linspace` can all be used here. If done correctly, the resulting figure should look something like [this](Figures/audio_plot.png).\n"
   ]
  },
  {
   "cell_type": "code",
   "execution_count": null,
   "id": "91b96368",
   "metadata": {
    "deletable": false,
    "nbgrader": {
     "cell_type": "code",
     "checksum": "7f60f7a6bcb531271d7b4f7c8f06dba0",
     "grade": true,
     "grade_id": "cell-779cad4651c44182",
     "locked": false,
     "points": 5,
     "schema_version": 3,
     "solution": true,
     "task": false
    },
    "tags": []
   },
   "outputs": [],
   "source": [
    "# WRITE YOUR CODE HERE:"
   ]
  },
  {
   "cell_type": "markdown",
   "id": "7fb4afe9-8796-485f-9fe1-9d9e5854f7eb",
   "metadata": {},
   "source": [
    "<br>\n",
    "<nav class=\"navbar navbar-default\">\n",
    "  <div class=\"container-fluid\">\n",
    "    <div class=\"navbar-header\" style=\"float: right\">\n",
    "        <a class=\"navbar-brand\" href=\"2_processing_audio.ipynb\" target=\"_self\">Next page: <i>Processing audio signals</i> &gt;</a>\n",
    "    </div>\n",
    "  </div>\n",
    "</nav>"
   ]
  }
 ],
 "metadata": {
  "kernelspec": {
   "display_name": "Python 3 (ipykernel)",
   "language": "python",
   "name": "python3"
  },
  "language_info": {
   "codemirror_mode": {
    "name": "ipython",
    "version": 3
   },
   "file_extension": ".py",
   "mimetype": "text/x-python",
   "name": "python",
   "nbconvert_exporter": "python",
   "pygments_lexer": "ipython3",
   "version": "3.11.5"
  },
  "varInspector": {
   "cols": {
    "lenName": 16,
    "lenType": 16,
    "lenVar": 40
   },
   "kernels_config": {
    "python": {
     "delete_cmd_postfix": "",
     "delete_cmd_prefix": "del ",
     "library": "var_list.py",
     "varRefreshCmd": "print(var_dic_list())"
    },
    "r": {
     "delete_cmd_postfix": ") ",
     "delete_cmd_prefix": "rm(",
     "library": "var_list.r",
     "varRefreshCmd": "cat(var_dic_list()) "
    }
   },
   "types_to_exclude": [
    "module",
    "function",
    "builtin_function_or_method",
    "instance",
    "_Feature"
   ],
   "window_display": false
  }
 },
 "nbformat": 4,
 "nbformat_minor": 5
}
