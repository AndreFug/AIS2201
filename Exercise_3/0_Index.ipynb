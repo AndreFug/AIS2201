{
 "cells": [
  {
   "cell_type": "markdown",
   "id": "3f5ec9ba-2030-4ff5-b86d-fecbf7480973",
   "metadata": {},
   "source": [
    "# Exercise 3: Sampling, aliasing and A/D conversion\n",
    "\n",
    "This exercise is a lab exercise consisting of preparatory theory questions, and practical lab assignments where we will set up and observe the behavior of A/D and D/A conversion. This is also the first exercise where we will make use of our STM32 F446re Nucleo board, which we will make use of throughout this semester. As such, a secondary goal of this exercise is to familiarize yourself with the STM32 CubeIDE programming environment which it is highly recommended you make use of when programming the microcontroller (at least to start with).\n",
    "\n",
    "## Relevant reading materials\n",
    "* Chapter 2 - Periodic Sampling\n",
    "* Chapter 12.3- Effects of Finite Fixed-Point Binary Word Length\n",
    "* [Supplement on Successive Approximation ADCs](Documents/SAR_supplement.pdf)\n",
    "\n",
    "\n",
    "| |Task | Topics|\n",
    "|--:|:--|:--|\n",
    "|1| [Sampling and Aliasing theory quiz](1_Aliasing_Theory_Quiz.ipynb) | Sampling, aliasing, quantization, SNR|\n",
    "|2| [ADC Theory](2_ADC_Theory.ipynb)| How an ADC works, and how to give it specific instructions|\n",
    "|3| [Programming the STM32](3_STM32_Setup.ipynb)|A step-by-step guide to setting up the STM32 as a feedthrough system|\n",
    "|4| [Lab measurements](4_Lab_Measurements.ipynb)|Input/Output comparison for various frequencies using an Oscilloscope|\n",
    "\n",
    "### Approval of exercise\n",
    "\n",
    "The exercise must be approved by teacher or teaching assistant during a lab session after lab measurements have been conducted."
   ]
  }
 ],
 "metadata": {
  "kernelspec": {
   "display_name": "Python 3 (ipykernel)",
   "language": "python",
   "name": "python3"
  },
  "language_info": {
   "codemirror_mode": {
    "name": "ipython",
    "version": 3
   },
   "file_extension": ".py",
   "mimetype": "text/x-python",
   "name": "python",
   "nbconvert_exporter": "python",
   "pygments_lexer": "ipython3",
   "version": "3.12.2"
  }
 },
 "nbformat": 4,
 "nbformat_minor": 5
}
