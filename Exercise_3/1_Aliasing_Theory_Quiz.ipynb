{
 "cells": [
  {
   "cell_type": "markdown",
   "id": "78ad081d-6b16-4307-b135-054c8a640c6a",
   "metadata": {},
   "source": [
    "# Part 1: Aliasing Theory Quiz\n",
    "\n",
    "This is a quick quiz to test your understanding of Sampling and Aliasing fundamentals. Each question is to be answered with a numerical value (`float` or `int`), and you can check your answer by running the test cell directly below the cell where you write your answer.\n",
    "\n",
    "Relevant reading materials:\n",
    "* Chapter 2 in Understanding Digital Signal Processing\n",
    "* Chapter 12.2 & 12.3.1-2 in Understanding Digital Signal Processing\n",
    "* Lecture notes on Sampling and Aliasing"
   ]
  },
  {
   "cell_type": "markdown",
   "id": "9d4e2afb-0084-4dad-9925-8048ede858b9",
   "metadata": {},
   "source": [
    "## a) \n",
    "A signal $x_1(t)=\\sin⁡(2\\pi \\cdot f \\cdot t)$ with frequency $f = 40 \\text{ Hz}$ is sampled with a sampling frequency $f_s = 200 \\text{ Hz}$. What is the normalized angular frequency $\\hat{\\omega}$ for the sampled signal $x_1[n]$?"
   ]
  },
  {
   "cell_type": "code",
   "execution_count": 14,
   "id": "b46aaaa3-1b2a-4313-91b6-acbb8e681a20",
   "metadata": {
    "deletable": false,
    "nbgrader": {
     "cell_type": "code",
     "checksum": "2c0630fea540fe3b02b3dbdd54c6fb97",
     "grade": false,
     "grade_id": "cell-7866267f359241f7",
     "locked": false,
     "schema_version": 3,
     "solution": true,
     "task": false
    }
   },
   "outputs": [
    {
     "name": "stdout",
     "output_type": "stream",
     "text": [
      "1.2566370614359172\n"
     ]
    }
   ],
   "source": [
    "import numpy as np\n",
    "f_s = 200 #hz\n",
    "f = 40 #hz\n",
    "\n",
    "w_norm = 2*np.pi*f /f_s  # Replace with correct value\n",
    "print(w_norm)"
   ]
  },
  {
   "cell_type": "code",
   "execution_count": 15,
   "id": "7f163473-6163-4811-aec4-465d07f50147",
   "metadata": {
    "deletable": false,
    "editable": false,
    "nbgrader": {
     "cell_type": "code",
     "checksum": "01e8557e711cb484c01c5d96ff0281a5",
     "grade": true,
     "grade_id": "cell-457f0b8a3ada5a61",
     "locked": true,
     "points": 4,
     "schema_version": 3,
     "solution": false,
     "task": false
    }
   },
   "outputs": [
    {
     "name": "stdout",
     "output_type": "stream",
     "text": [
      "Correct answer :)\n"
     ]
    }
   ],
   "source": [
    "from hashlib import sha1\n",
    "assert sha1(str(round(float(w_norm), 3)).encode('utf-8')+b'e585b').hexdigest() == '99dde87491837c22915c02f47bc4cd71367274da', 'Wrong answer :('\n",
    "print('Correct answer :)')"
   ]
  },
  {
   "cell_type": "markdown",
   "id": "59d956e6-64e5-4a86-8af1-f49879b260fe",
   "metadata": {},
   "source": [
    "## b)\n",
    "A digital signal $x_2[n] =\\sin(\\hat{\\omega}_2 \\cdot n)$ with angular frequency $\\hat{\\omega}_2 = \\frac{\\pi}{5}$ is converted to an analog signal $x_2(t)$ usiong a sampling frequency $f_s = 200 \\text{ Hz}$, where we assume ideal reconstruction. What is the apparent frequency $f_2$ of the reconstructed signal $x_2(t)$?"
   ]
  },
  {
   "cell_type": "code",
   "execution_count": 16,
   "id": "42671a22-d65e-44ea-b48f-68fe53faed13",
   "metadata": {
    "deletable": false,
    "nbgrader": {
     "cell_type": "code",
     "checksum": "55cbb0d184b4ab9970bbf5d79da91dac",
     "grade": false,
     "grade_id": "cell-2f03a8f12caebb02",
     "locked": false,
     "schema_version": 3,
     "solution": true,
     "task": false
    }
   },
   "outputs": [
    {
     "name": "stdout",
     "output_type": "stream",
     "text": [
      "20.0\n"
     ]
    }
   ],
   "source": [
    "w_2 = np.pi/5\n",
    "f_s = 200 #hz\n",
    "\n",
    "\n",
    "\n",
    "f_2 = (w_2 * f_s) / (2* np.pi) # Replace with correct value\n",
    "\n",
    "print(f_2)"
   ]
  },
  {
   "cell_type": "code",
   "execution_count": 17,
   "id": "6e1e9555-35d6-4fe6-9c75-579847bc0931",
   "metadata": {
    "deletable": false,
    "editable": false,
    "nbgrader": {
     "cell_type": "code",
     "checksum": "c3ce86ca782248943365bf8aaea36d86",
     "grade": true,
     "grade_id": "cell-eebc2ed015c7ddeb",
     "locked": true,
     "points": 4,
     "schema_version": 3,
     "solution": false,
     "task": false
    }
   },
   "outputs": [
    {
     "name": "stdout",
     "output_type": "stream",
     "text": [
      "Correct answer :)\n"
     ]
    }
   ],
   "source": [
    "from hashlib import sha1\n",
    "assert sha1(str(round(float(f_2), 0)).encode('utf-8')+b'7031e').hexdigest() == 'd5e0590fd3b888c1f826570f90ce72fc7e085669', 'Wrong answer :('\n",
    "print('Correct answer :)')"
   ]
  },
  {
   "cell_type": "markdown",
   "id": "80a31837-15e3-448e-9c4e-182d68a5f47f",
   "metadata": {},
   "source": [
    "## c) \n",
    "What is the maximum frequency which can be represented with a digital signal when the sampling frequency is $f_s = 200Hz$?"
   ]
  },
  {
   "cell_type": "code",
   "execution_count": 18,
   "id": "c423b43f-2180-4482-b33e-51fef2bf016a",
   "metadata": {
    "deletable": false,
    "nbgrader": {
     "cell_type": "code",
     "checksum": "816e1f584d458eea5c90629ac31456b9",
     "grade": false,
     "grade_id": "cell-ad8f77a7dbedd360",
     "locked": false,
     "schema_version": 3,
     "solution": true,
     "task": false
    }
   },
   "outputs": [],
   "source": [
    "f_max = f_s / 2  # Replace with correct value"
   ]
  },
  {
   "cell_type": "code",
   "execution_count": 19,
   "id": "aeaf0a5c-f8f8-4789-a34f-36215f50cf36",
   "metadata": {
    "deletable": false,
    "editable": false,
    "nbgrader": {
     "cell_type": "code",
     "checksum": "1e875a0529c3e53ce25c39748b31a03d",
     "grade": true,
     "grade_id": "cell-fca70d1e16a617c2",
     "locked": true,
     "points": 4,
     "schema_version": 3,
     "solution": false,
     "task": false
    }
   },
   "outputs": [
    {
     "name": "stdout",
     "output_type": "stream",
     "text": [
      "Correct answer :)\n"
     ]
    }
   ],
   "source": [
    "from hashlib import sha1\n",
    "assert sha1(str(round(float(f_max), 0)).encode('utf-8')+b'78f94').hexdigest() == '210058739458b370a60612ec245f8a1ec460a7f6', 'Wrong answer :('\n",
    "print('Correct answer :)')"
   ]
  },
  {
   "cell_type": "markdown",
   "id": "15bd11b9-901f-45a2-bf37-410f8adfb7c3",
   "metadata": {},
   "source": [
    "## d)\n",
    "What is the absolute minimum sampling frequency of a signal which permits successfull representation of a sinusoid with frequency $f = 150 Hz$?\n"
   ]
  },
  {
   "cell_type": "code",
   "execution_count": 20,
   "id": "01d3b4b1-942e-4c77-9306-09644088f56c",
   "metadata": {
    "deletable": false,
    "nbgrader": {
     "cell_type": "code",
     "checksum": "e6c6183c780e4bb3b8129e15ac90690f",
     "grade": false,
     "grade_id": "cell-1e8745081b4f5d11",
     "locked": false,
     "schema_version": 3,
     "solution": true,
     "task": false
    }
   },
   "outputs": [
    {
     "name": "stdout",
     "output_type": "stream",
     "text": [
      "300\n"
     ]
    }
   ],
   "source": [
    "f = 150 #hz\n",
    "f_s = f * 2  # Replace with correct value\n",
    "print(f_s)"
   ]
  },
  {
   "cell_type": "code",
   "execution_count": 21,
   "id": "1d1d1e1e-d3b2-4f62-a0c5-daee6717a9ec",
   "metadata": {
    "deletable": false,
    "editable": false,
    "nbgrader": {
     "cell_type": "code",
     "checksum": "655c2fc79e6ffa5c77d170c7929c3387",
     "grade": true,
     "grade_id": "cell-7de42bf2facd0b4e",
     "locked": true,
     "points": 4,
     "schema_version": 3,
     "solution": false,
     "task": false
    }
   },
   "outputs": [
    {
     "name": "stdout",
     "output_type": "stream",
     "text": [
      "Correct answer :)\n"
     ]
    }
   ],
   "source": [
    "from hashlib import sha1\n",
    "assert sha1(str(round(f_s, 0)).encode('utf-8')+b'97470').hexdigest() == '97941af8305597dd6055cef1f73fcc41b58d4327', 'Wrong answer :('\n",
    "print('Correct answer :)')"
   ]
  },
  {
   "cell_type": "markdown",
   "id": "a1cf9894-b095-42fb-a681-d93ed6c2c689",
   "metadata": {},
   "source": [
    "## e)\n",
    "A analog signal $x_3(t) = \\sin(2\\pi \\cdot f_3 \\cdot t)$ with frequency $f_3 = 120 \\text{ Hz}$ is sampled with a sampling frequency $f_s = 200 \\text{ Hz}$ to create a digital signal $x_3[n]$. If we use the samples in $x_3[n]$ to attempt reconstruction of $x_3(t)$, what will the apparent frequency $\\hat{f}_3$ be?"
   ]
  },
  {
   "cell_type": "code",
   "execution_count": 22,
   "id": "eb6c10d7-e274-4b18-b720-0cae2db0b4ba",
   "metadata": {
    "deletable": false,
    "nbgrader": {
     "cell_type": "code",
     "checksum": "63d1253f5315be5524742da7a0ecaaf1",
     "grade": false,
     "grade_id": "cell-eb7a92c045bebdc6",
     "locked": false,
     "schema_version": 3,
     "solution": true,
     "task": false
    }
   },
   "outputs": [
    {
     "name": "stdout",
     "output_type": "stream",
     "text": [
      "80\n"
     ]
    }
   ],
   "source": [
    "f_3 = 120 #hz\n",
    "f_s = 200 #hz\n",
    "\n",
    "\n",
    "f_3_est = f_s - f_3  # Replace with correct value\n",
    "print(f_3_est)"
   ]
  },
  {
   "cell_type": "code",
   "execution_count": 23,
   "id": "187e36fa-3781-492d-96a4-35dc06d8de8b",
   "metadata": {
    "deletable": false,
    "editable": false,
    "nbgrader": {
     "cell_type": "code",
     "checksum": "c879c031454cca87260c9c2a1fff3634",
     "grade": true,
     "grade_id": "cell-145b4d280d9b5fbb",
     "locked": true,
     "points": 5,
     "schema_version": 3,
     "solution": false,
     "task": false
    }
   },
   "outputs": [
    {
     "name": "stdout",
     "output_type": "stream",
     "text": [
      "Correct answer :)\n"
     ]
    }
   ],
   "source": [
    "from hashlib import sha1\n",
    "assert sha1(str(round(float(f_3_est), 0)).encode('utf-8')+b'e0b5a').hexdigest() == 'af4de889487697bb865df296f3d75c9de93e1c35', 'Wrong answer :('\n",
    "print('Correct answer :)')"
   ]
  },
  {
   "cell_type": "markdown",
   "id": "e9be9759-df4c-4508-975a-b9e6e434f8d7",
   "metadata": {},
   "source": [
    "## f) \n",
    "Given an ADC operating between $0.0\\text{ V}$ and $3.3 \\text{ V}$ and sampling with 12 bit resolution, what is the quantization step size $Q$ (aka. $\\text{lsb value}$)?\n",
    "\n",
    "*Use Volts as unit of measurement, even though the number is very small*"
   ]
  },
  {
   "cell_type": "code",
   "execution_count": 24,
   "id": "cd8bd13b-27a1-40dd-8457-cf12330747f0",
   "metadata": {
    "deletable": false,
    "nbgrader": {
     "cell_type": "code",
     "checksum": "b31399913fc6d223344094e8efa79d3e",
     "grade": false,
     "grade_id": "cell-58aeaf630f3317a3",
     "locked": false,
     "schema_version": 3,
     "solution": true,
     "task": false
    }
   },
   "outputs": [
    {
     "name": "stdout",
     "output_type": "stream",
     "text": [
      "0.0008056640625\n"
     ]
    }
   ],
   "source": [
    "v_min, v_max = 0, 3.3 #volts\n",
    "bits = 12 #bits\n",
    "\n",
    "\n",
    "lsb_value =  (v_max - v_min) / 2**bits # Replace with correct value\n",
    "print(lsb_value)"
   ]
  },
  {
   "cell_type": "code",
   "execution_count": 25,
   "id": "4dc9d10e-8125-46f4-a212-bf53fac4c879",
   "metadata": {
    "deletable": false,
    "editable": false,
    "nbgrader": {
     "cell_type": "code",
     "checksum": "c26b22f1aafb565c089ea8d8fbe46450",
     "grade": true,
     "grade_id": "cell-c5a37d709348f434",
     "locked": true,
     "points": 4,
     "schema_version": 3,
     "solution": false,
     "task": false
    }
   },
   "outputs": [
    {
     "name": "stdout",
     "output_type": "stream",
     "text": [
      "Correct answer :)\n"
     ]
    }
   ],
   "source": [
    "from hashlib import sha1\n",
    "assert sha1(str(round(float(lsb_value), 6)).encode('utf-8')+b'652c3').hexdigest() == '6f603ebe37040d239cd9bb14e1c400afcf4d877e', 'Wrong answer :('\n",
    "print('Correct answer :)')"
   ]
  },
  {
   "cell_type": "markdown",
   "id": "c0091b48-5414-417b-b627-64fa20b8e78f",
   "metadata": {},
   "source": [
    "## g)\n",
    "Given an ADC operating between $0.0\\text{ V}$ and $3.3 \\text{ V}$ and sampling with 12 bit resolution, and an input signal $x(t) = 1 + 0.7\\cdot \\cos(2\\pi \\cdot 50 \\cdot t) \\text{ V}$.\n",
    "\n",
    "What is the Signal-to-Noise ratio (SNR) in decibels for the sampled signal? <br>\n",
    "*PS. We will disregard the DC component, and only focus on the signal power for the AC component (there is no information to be extracted from a DC value).*"
   ]
  },
  {
   "cell_type": "code",
   "execution_count": 26,
   "id": "c4849570-b8ae-4217-8562-60c7a5f4a7ca",
   "metadata": {
    "deletable": false,
    "nbgrader": {
     "cell_type": "code",
     "checksum": "ea1852a4cd0b4985926f1d2182d93cff",
     "grade": false,
     "grade_id": "cell-f6ab6e8109b08461",
     "locked": false,
     "schema_version": 3,
     "solution": true,
     "task": false
    }
   },
   "outputs": [
    {
     "name": "stdout",
     "output_type": "stream",
     "text": [
      "66.5603934659193\n"
     ]
    }
   ],
   "source": [
    "# V_min, V_max and bits are the same from the prior task\n",
    "import numpy as np\n",
    "\n",
    "signalPower = (0.7**2) / 2\n",
    "a = (lsb_value**2) / 12\n",
    "\n",
    "SNR = 10 * np.log10(signalPower / a) \n",
    "print(SNR)  # Replace with correct value"
   ]
  },
  {
   "cell_type": "code",
   "execution_count": 27,
   "id": "dcf31b7a-0c2f-4dc3-bfee-0f77fd132450",
   "metadata": {
    "deletable": false,
    "editable": false,
    "nbgrader": {
     "cell_type": "code",
     "checksum": "7250f682a4a89f5ae054cb1ee2476a9c",
     "grade": true,
     "grade_id": "cell-7ceaf16dbc4d77d8",
     "locked": true,
     "points": 5,
     "schema_version": 3,
     "solution": false,
     "task": false
    }
   },
   "outputs": [
    {
     "name": "stdout",
     "output_type": "stream",
     "text": [
      "Correct answer :)\n"
     ]
    }
   ],
   "source": [
    "from hashlib import sha1\n",
    "assert sha1(str(round(float(SNR), 1)).encode('utf-8')+b'2b2b9').hexdigest() == '5a7d359a53821d630e73caff2e5ee908c974dd8a', 'Wrong answer :('\n",
    "print('Correct answer :)')"
   ]
  }
 ],
 "metadata": {
  "kernelspec": {
   "display_name": "Python 3 (ipykernel)",
   "language": "python",
   "name": "python3"
  },
  "language_info": {
   "codemirror_mode": {
    "name": "ipython",
    "version": 3
   },
   "file_extension": ".py",
   "mimetype": "text/x-python",
   "name": "python",
   "nbconvert_exporter": "python",
   "pygments_lexer": "ipython3",
   "version": "3.12.5"
  }
 },
 "nbformat": 4,
 "nbformat_minor": 5
}
