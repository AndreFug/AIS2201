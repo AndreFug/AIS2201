{
 "cells": [
  {
   "cell_type": "markdown",
   "id": "e9ff1da2-07f8-46a4-8dac-a3fb48e2b934",
   "metadata": {},
   "source": [
    "# Part 4: Lab measurements\n",
    "\n",
    "We will now conduct measurements of the apparent frequency in the DAC output, and compare this to the actual frequency in the sine wave from the signal generator.\n",
    "\n",
    "A few useful tools:\n",
    "* The run/stop button on the oscilloscope can make the waveform easier to read, as it lets you focus on one snapshot instead of a continuously updated image.\n",
    "* Setting the oscilloscope channel input to AC will cancel out the voltage offset, making it easier to zoom in/out on the signal.\n",
    "* Measuring a signal period can be done using \"cursor measure\", and e.g. measuring the time difference between positive zero crossings. It may be advantageous to mesure the time difference over a large number of oscillations in order to calculate an \"average period\"."
   ]
  },
  {
   "cell_type": "markdown",
   "id": "3f889674-eec0-4537-90bc-633ee648a83a",
   "metadata": {
    "deletable": false,
    "editable": false,
    "nbgrader": {
     "checksum": "c8bde454fe939a0f574f990c75a7846c",
     "grade": false,
     "grade_id": "cell-663ff45a248d513f",
     "locked": true,
     "points": 15,
     "schema_version": 3,
     "solution": false,
     "task": true
    }
   },
   "source": [
    "## a) Set up and run the DSP system\n",
    "\n",
    "To test our feedthrough DSP system we will connect it to a signal generator and an oscilloscope. \n",
    "1. Configure the signal grenerator to produce a $f=500Hz$ sine wave oscillating between $0.0\\text{ V}$ and $3.3 \\text{ V}$\n",
    "2. Connect the signal generator output to the pin corresponding to ADC channel IN0. The information you need can be found in the [user manual](https://www.st.com/content/ccc/resource/technical/document/user_manual/98/2e/fa/4b/e0/82/43/b7/DM00105823.pdf/files/DM00105823.pdf/jcr:content/translations/en.DM00105823.pdf)\n",
    "3. Connect both the signal generator output and the MCU DAC channel 1 output to the oscilloscope.\n",
    "4. Adjust the settings on the oscilloscope untul you have a clear view of the waveform of both the original analog signal, and the reconstructed DAC output. The image should look something like [this]\n"
   ]
  },
  {
   "cell_type": "markdown",
   "id": "9aecde12-09dd-4b28-859a-e604996ae59c",
   "metadata": {
    "deletable": false,
    "nbgrader": {
     "checksum": "9e5a489a125973f2cf20554481619cf0",
     "grade": false,
     "grade_id": "cell-b15a847bba3216c0",
     "locked": true,
     "points": 15,
     "schema_version": 3,
     "solution": false,
     "task": true
    }
   },
   "source": [
    "## b) Take measurements\n",
    "\n",
    "Set the signal generator frequency to each of the following frequencies in turn, and determine whether aliasing is present, and if so what the apparanent frequency in the reconstructed signal is. You can either write the measurements into the markdown table, or take handwritten notes.\n"
   ]
  },
  {
   "cell_type": "markdown",
   "id": "b46cc8ff-70ad-479e-a396-c73beb1c5514",
   "metadata": {},
   "source": [
    "|Input Frequency| Aliasing (Yes/No) | Apparent Frequency |\n",
    "|---|---|---|\n",
    "|500 Hz | No | 503Hz|\n",
    "|1000 Hz | No | 1.05kHz|\n",
    "|2000 Hz | No | 1.92kHz |\n",
    "|3000 Hz | Maybe | 2.4kHz |\n",
    "|4000 Hz | Yes | 1.27kHz |\n",
    "|5000 Hz | Yes | 293.Hz |\n"
   ]
  },
  {
   "cell_type": "markdown",
   "id": "b15e3ec7-f509-40c5-b29f-cfcbf9d8400f",
   "metadata": {
    "deletable": false,
    "editable": false
   },
   "source": [
    "## c) Filtering (optional)\n",
    "\n",
    "Implement a simple exponential averaging filter with $\\alpha = 0.9$, and tade new measurements. Observe what happens to the frequency response when we approach wave frequency equal to the sampling frequency.\n",
    "\n",
    "$$y[n] = 0.9\\cdot y[n-1] + 0.1\\cdot x[n]$$"
   ]
  },
  {
   "cell_type": "markdown",
   "id": "0e0cf86b-5026-44c0-b168-e1f9ba350ade",
   "metadata": {
    "deletable": false,
    "editable": false
   },
   "source": [
    "\n",
    "## Approval\n",
    "\n",
    "Show your work in parts 1 through 4 to a lecturer or teaching assistant during one of the lab sessions to get the lab assignment approved. DO NOT disconnect the lab setup before getting your work approved!"
   ]
  }
 ],
 "metadata": {
  "kernelspec": {
   "display_name": "Python 3 (ipykernel)",
   "language": "python",
   "name": "python3"
  },
  "language_info": {
   "codemirror_mode": {
    "name": "ipython",
    "version": 3
   },
   "file_extension": ".py",
   "mimetype": "text/x-python",
   "name": "python",
   "nbconvert_exporter": "python",
   "pygments_lexer": "ipython3",
   "version": "3.11.5"
  }
 },
 "nbformat": 4,
 "nbformat_minor": 5
}
