{
 "cells": [
  {
   "cell_type": "markdown",
   "id": "6a97b487-ebae-46ca-990a-c3a28c3db017",
   "metadata": {},
   "source": [
    "# Programming the STM32 Nucleo board\n",
    "\n"
   ]
  },
  {
   "cell_type": "markdown",
   "id": "ad05088d-fa6f-41aa-8b61-8f593f478083",
   "metadata": {},
   "source": [
    "#### Learning goals\n",
    "\n",
    "* Get to know the CubeIDE programming environment\n",
    "* Software Interrupt Basics\n",
    "\n",
    "#### Introduction\n",
    "\n",
    "This task provides a step-by-step guide to configure an STM32-F446RE nucleo board to feed through voltage levels sampled with an ADC to the MCU's the built-in DAC. While there are numerous ways this may be accomplished, the suggested solution in this guide makes use of an ADC in continuous mode and uses interrupt requests to process voltagelevels once they've been converted to a digital representation. Happily, the CubeIDE provieds a graphical tool for generating all the various configuration settings for ADCs and similar, so there is no need to modify the registers manually.\n",
    "\n",
    "#### Support Litterature\n",
    "\n",
    "* [User manual STM32 Nucleo-64 boards](https://www.st.com/content/ccc/resource/technical/document/user_manual/98/2e/fa/4b/e0/82/43/b7/DM00105823.pdf/files/DM00105823.pdf/jcr:content/translations/en.DM00105823.pdf)\n",
    "* [HAL documentation](Documents/um1725-description-of-stm32f4-hal-and-lowlayer-drivers-stmicroelectronics.pdf)\n",
    "* [Reference Manual stm32f446xx](Documents/dm00135183-stm32f446xx-advanced-arm-based-32-bit-mcus-stmicroelectronics.pdf)"
   ]
  },
  {
   "cell_type": "markdown",
   "id": "46449383-608a-4225-ad18-b725bd22f06a",
   "metadata": {
    "deletable": false,
    "editable": false,
    "nbgrader": {
     "cell_type": "markdown",
     "checksum": "71334411fb8c8cc969b479489baff1d4",
     "grade": false,
     "grade_id": "cell-5d9b80f9ec562d8d",
     "locked": true,
     "points": 5,
     "schema_version": 3,
     "solution": false,
     "task": true
    }
   },
   "source": [
    "## a) Tools installation\n",
    "\n",
    "Follow the installation [instructions on the ST.com website](https://wiki.st.com/stm32mcu/wiki/STM32StepByStep:Step1_Tools_installation) to set up the IDE. <br>\n",
    "Take note: our nucleo board is an F446RE, which means we need to install the **STM32F4** MCU software package with embedded examples.\n",
    "\n",
    "When you're done, try setting up the [blinking LED example in the \"Getting started with GPIO\" page](https://wiki.st.com/stm32mcu/wiki/Getting_started_with_GPIO) to check that you can now program the STM32 MCU."
   ]
  },
  {
   "cell_type": "markdown",
   "id": "6a8c7652-d8cc-4286-b1f7-595fa5d186f6",
   "metadata": {
    "deletable": false,
    "editable": false,
    "nbgrader": {
     "cell_type": "markdown",
     "checksum": "60aeaa25f2a4384bfb58727984588a3d",
     "grade": false,
     "grade_id": "cell-fdbe14ca0132e282",
     "locked": true,
     "points": 5,
     "schema_version": 3,
     "solution": false,
     "task": true
    }
   },
   "source": [
    "Using the blinking LED example as a starting point, we will now add som functionality to make use of one ADC and one DAC.\n",
    "\n",
    "## b) Configuring the DAC\n",
    "1. Go to \"Pinout & Configuration\", select **DAC** and enable **OUT1**. Make sure \"Output Buffer\" is set to \"Enable\". The configuration menu should look like [this](Figures/DAC_config.PNG)."
   ]
  },
  {
   "cell_type": "markdown",
   "id": "4af53b1f-cd20-4a4a-a38c-7ea1bf913a90",
   "metadata": {
    "deletable": false,
    "editable": false,
    "nbgrader": {
     "cell_type": "markdown",
     "checksum": "a6ebc0f30fde5927bc8aa1b505ea15c8",
     "grade": false,
     "grade_id": "cell-cdd7620cdc20d762",
     "locked": true,
     "points": 5,
     "schema_version": 3,
     "solution": false,
     "task": true
    }
   },
   "source": [
    "## c) Setting up the ADC in interrupt mode\n",
    "\n",
    "1. Got to \"Clock Configuration\" and set the **APB2** Prescaler to **16**. This will set the peripheral clock PCLK2 which controls ADC clock speed to 5.25 MHz.\n",
    "2. Go to \"Pinout & Configuration\", select **ADC1** and enable **IN0**. Once this is done we can configure the ADC. Below is a list of which parameters we want to adjust:\n",
    "    - Clock Prescaler: **PCLK2 divided by 8**\n",
    "    - Resolution: **12 bits (15 ADC Clock Cycles)**\n",
    "    - Data Alignment: **Right Alignment**\n",
    "    - Continuous Conversion Mode: **Enabled**\n",
    "    - Sampling Time: **112 Cycles**\n",
    "    \n",
    "   The \"Parameter Settings\" tab in the \"Configuration\" window should now look like [this](Figures/ADC_config.png).\n",
    "3. Go to \"NVIC Settings\" and click to enable \"ADC1, ADC2 and ADC3 interrupts\", [like this](Figures/ADC_interrupt.png).\n",
    "\n",
    "The ADC will now continuosly update it's output register every time a new ADC conversion is completed, as well as send an interrupt request. This interrupt request will trigger the execution of a specific function which we will make use of later."
   ]
  },
  {
   "cell_type": "markdown",
   "id": "d7c96c97-85c4-4b8d-b449-74a976f6ae17",
   "metadata": {
    "deletable": false,
    "editable": false,
    "nbgrader": {
     "cell_type": "markdown",
     "checksum": "ee78eadfac4cfca38e88928394b41859",
     "grade": false,
     "grade_id": "cell-5128123c68798ea8",
     "locked": true,
     "points": 5,
     "schema_version": 3,
     "solution": false,
     "task": true
    }
   },
   "source": [
    "## d) Adding user code to `main.c`\n",
    "Click \"build\" (or save the project) to genrate a code template. Then, open the `main.c` file in the `Core/Src` directory. In this file you will see certain fields marked with comments such as `/* USER CODE BEGIN <category> */` and `/* USER CODE END <category> */`. To add your own code to the template, the code must be added somewhere between these comments, otherwise it will be erased if the code template is rebuilt from a modified device configuration at a later time.\n",
    "\n",
    "We wish to make the following changes:\n",
    "1. Add a global unsigned int variable to store current ADC value. Mark as `__IO` (aka. volatile) to safeguard against race conditions. \n",
    "```c\n",
    "/* USER CODE BEGIN PV */\n",
    "__IO uint32_t adc_value; \n",
    "/* USER CODE END PV */\n",
    "```\n",
    "2. Define a function which is executed upon an ADC interrupt request. <br>In layman's terms: *Whenever the ADC reports the completion of another A/D conversion, execute this code immediately.*\n",
    "```c\n",
    "/* USER CODE BEGIN PFP */\n",
    "void HAL_ADC_ConvCpltCallback(ADC_HandleTypeDef* hadc){\n",
    "\tadc_value = HAL_ADC_GetValue(&hadc1); // Read converted sample value from the ADC and store in adc_value.\n",
    "\tHAL_DAC_SetValue(&hdac, DAC_CHANNEL_1, DAC_ALIGN_12B_R, adc_value); // Write the value in adc_value to DAC channel 1 using 12 bit resolution.\n",
    "}\n",
    "/* USER CODE END PFP */\n",
    "```\n",
    "    - Important note: interrupt procedures should generally be kept as short as possible, with very few operations.\n",
    "\n",
    "3. Add code to start up the ADC conversion process, as well as the DAC before the loop in the `main()` function .\n",
    "```c\n",
    "  /* USER CODE BEGIN 2 */\n",
    "  HAL_Delay(100);  // Insert a short delay between ADC/DAC initialisation and startup.\n",
    "  HAL_ADC_Start_IT (&hadc1); // Start up the ADC conversion process with interrupts.\n",
    "  HAL_DAC_Start(&hdac, DAC_CHANNEL_1); // Start up the DAC with channel 1 as output.\n",
    "  /* USER CODE END 2 */\n",
    "```"
   ]
  },
  {
   "cell_type": "markdown",
   "id": "273fb1e8-041b-4eff-830c-b7b8bca91573",
   "metadata": {
    "deletable": false,
    "editable": false,
    "nbgrader": {
     "cell_type": "markdown",
     "checksum": "15d81245d4c260929a56beef2a116f19",
     "grade": false,
     "grade_id": "cell-1c0302abd0543053",
     "locked": true,
     "points": 5,
     "schema_version": 3,
     "solution": false,
     "task": true
    }
   },
   "source": [
    "## e) Verify the program is working \n",
    "\n",
    "A simple test to check that the program is working properly, can be to run the program in the debugger tool with break points in the ADC interrupt. Then, connect the ADC input to either $0 \\text{ V}$ or $3.3 \\text{ V}$, and use the debugger to verify that the ADC value in the program is updated to the correct value. You can consult the [user manual](https://www.st.com/content/ccc/resource/technical/document/user_manual/98/2e/fa/4b/e0/82/43/b7/DM00105823.pdf/files/DM00105823.pdf/jcr:content/translations/en.DM00105823.pdf) to find out which pin is ADC channel IN0."
   ]
  }
 ],
 "metadata": {
  "kernelspec": {
   "display_name": "Python 3 (ipykernel)",
   "language": "python",
   "name": "python3"
  },
  "language_info": {
   "codemirror_mode": {
    "name": "ipython",
    "version": 3
   },
   "file_extension": ".py",
   "mimetype": "text/x-python",
   "name": "python",
   "nbconvert_exporter": "python",
   "pygments_lexer": "ipython3",
   "version": "3.12.2"
  }
 },
 "nbformat": 4,
 "nbformat_minor": 5
}
