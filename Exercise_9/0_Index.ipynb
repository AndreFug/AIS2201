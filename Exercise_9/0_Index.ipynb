{
 "cells": [
  {
   "cell_type": "markdown",
   "id": "50cb3a1f-73be-41cd-b210-9610e63da997",
   "metadata": {},
   "source": [
    "# Exercise 9 - Analysis and design of FIR filters\n",
    "\n",
    "In exercise 8 we learned about convolution and correlation, and how the shape of a filter's impulse response $h[n]$ deterimines what type of signals are allowed to pass through the filter. In this exercies we will focus on the frequency response $H(\\hat{\\omega})$ of FIR filters, which is calculated by taking the discrete-time fourier transform (DTFT) of the impulse respones $h[n]$. \n",
    "\n",
    "The frequency response $H(\\hat{\\omega})$ of a filter gives insight into how a sinusoidal input $x[n]$ is affected by the filter. The most common way to visualize the frequency response of a filter is with a pair of plots: a magnitude response plot $|H(\\hat{\\omega})|$ and a phase response plot $\\angle H(\\hat{\\omega})$. The code cell below will load a demo showing the magnitude/phase response of a customizable filter `hn` as well as a time plot showing input/output waveforms for an adjustable frequency.\n"
   ]
  },
  {
   "cell_type": "code",
   "execution_count": null,
   "id": "901f949d-f3c2-4f01-b931-d4bad5a7ead2",
   "metadata": {},
   "outputs": [],
   "source": [
    "from demos import FreqRespDemo\n",
    "%matplotlib ipympl\n",
    "\n",
    "hn = [0.25, 0.5, 0.25]  # Create impulse Response\n",
    "FreqRespDemo(hn); # Run Demo"
   ]
  },
  {
   "cell_type": "markdown",
   "id": "2da036c0-19c0-4b4f-8a5e-bcdf2a72c305",
   "metadata": {},
   "source": [
    "Throughout this assignment we will explore both how to analyze and interpret filter properties, as well as how to design filters so they exhibit desired frequency-domain properites. \n",
    "\n",
    "## Problems \n",
    "\n",
    "Problem | Topic\n",
    "--- | --- \n",
    "[FIR filter analysis](1_FIR_analysis.ipynb) | Analyzing a FIR filter using the DTFT/DFT\n",
    "[Lowpass FIR filter design](2_Lowpass_design.ipynb) | Using the window design method to create lowpass filters\n",
    "[Other filters](3_More_filter_types.ipynb) | Transfoming lowpass filters to highpass, bandpass & bandstop filters\n",
    "[Speech filtering](4_Speech_filtering.ipynb) | Using Wiener filtering to suppress white noise in a speech signal"
   ]
  }
 ],
 "metadata": {
  "kernelspec": {
   "display_name": "Python 3 (ipykernel)",
   "language": "python",
   "name": "python3"
  },
  "language_info": {
   "codemirror_mode": {
    "name": "ipython",
    "version": 3
   },
   "file_extension": ".py",
   "mimetype": "text/x-python",
   "name": "python",
   "nbconvert_exporter": "python",
   "pygments_lexer": "ipython3",
   "version": "3.11.5"
  }
 },
 "nbformat": 4,
 "nbformat_minor": 5
}
