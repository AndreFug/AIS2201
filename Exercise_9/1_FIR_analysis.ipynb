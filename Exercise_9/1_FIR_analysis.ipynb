{
 "cells": [
  {
   "cell_type": "markdown",
   "id": "c4f6d48e-d4a1-49a0-bdc2-dd83bfa60a6e",
   "metadata": {},
   "source": [
    "# Analysis of FIR filters\n",
    "\n",
    "**Topics:**\n",
    "- Calculating and interpreting the frequency response of a FIR filter\n",
    "\n",
    "**Learning goals:**\n",
    "- Being able to calculate the frequency response of a FIR filter\n",
    "- Understanding what the Mangitude and Phase response of a FIR filter represents\n",
    "- Being able to calculate the output of a FIR filter by hand for sinusoidal input\n",
    "\n",
    "**Libraries and notebook config:**"
   ]
  },
  {
   "cell_type": "code",
   "execution_count": null,
   "id": "ccc04241-dfdd-4c62-8134-cb5220eee5b1",
   "metadata": {},
   "outputs": [],
   "source": [
    "from numpy import sin, cos, pi, exp, empty, mean, abs, angle # Sentrale matematiske funksjoner\n",
    "import numpy as np                          # Importer funksjonalitet fra numpy biblioteket med prefiks \"np\"\n",
    "import scipy.signal as sig                  # Importerer signalbehandlingsmodulen til scipy\n",
    "import matplotlib.pyplot as plt             # Importer pyplot modulen i matplotlib med prefiks \"plt\"\n",
    "\n",
    "plt.rcParams[\"figure.figsize\"] = [8.00, 4.5]\n",
    "plt.rcParams[\"figure.autolayout\"] = True\n",
    "plt.rcParams[\"axes.grid\"] = True\n",
    "plt.rcParams[\"axes.xmargin\"] = 0.0\n",
    "\n",
    "%matplotlib inline"
   ]
  },
  {
   "cell_type": "markdown",
   "id": "c90d75e6-4c85-4471-9d55-02bd99456e5f",
   "metadata": {},
   "source": [
    "\n",
    "#### Convolution and the Fourier Transform\n",
    "\n",
    "One of the most central properties of convolution as a mathematical operation is what happens when we apply a Fourier transform to an expression involving the convolution of two signals (e.g., $x[n]$ and $h[n]$). Specifically, convolving two signals in the time domain corresponds to multiplying them in the frequency domain.\n",
    "\n",
    "$$ x[n]*h[n] \\stackrel{\\mathrm{DTFT}}{\\longleftrightarrow} X\\left(\\hat{\\omega}\\right)\\cdot H \\left(\\hat{\\omega}\\right) $$ \n",
    "\n",
    "This means that all frequency components $X\\left(\\hat{\\omega}\\right)$ in a signal $x[n]$ will be subject to *scaling* and *rotation*, which translates to an adjustment in amplitude and phase shift, depending on the frequency content $H\\left(\\hat{\\omega}\\right)$ of the filter's impulse response $h[n]$. If the input signal $x[n]$ is a pure sinusoidal sequence, we obtain the following expression for the output signal:\n",
    "\n",
    "\\begin{align}\n",
    "x[n] &= \\cos (\\hat{\\omega}\\cdot n)\\\\\n",
    "y[n] &= \\left|H\\left(\\hat{\\omega}\\right)\\right| \\cdot \\cos \\left(\\hat{\\omega}\\cdot n + \\angle H\\left(\\hat{\\omega}\\right)\\right)\n",
    "\\end{align}\n",
    "\n",
    "\n",
    "#### Frequency Response\n",
    "\n",
    "The expression $H\\left(\\hat{\\omega}\\right) = \\mathrm{DTFT}(h[n])$ is known as the ***frequency response*** of a digital filter, as it describes exactly how all possible frequencies will be affected by the filter. The frequency response of a filter is central to the analysis of digital filters and is often represented graphically in two parts: the Magnitude Response $\\left|H\\left(\\hat{\\omega}\\right)\\right|$, showing amplification or attenuation of frequencies, and the Phase Response $\\angle H\\left(\\hat{\\omega}\\right)$, showing phase shifts added by the filter.\n",
    "\n",
    "It is worth emphasizing that mathematically, frequency-domain analysis of a FIR filter is no different than spectral analysis of a digital signal. As such, the frequency response of a FIR  filter can be calculated numerically in python using the [fft](https://numpy.org/doc/stable/reference/routines.fft.html) or [rfft](https://numpy.org/doc/stable/reference/generated/numpy.fft.rfft.html#numpy.fft.rfft) functions. By padding the FFT generously, we can achieve a high-resolution spectral representation of $H(\\hat{\\omega})$ which is suitable for the purposes of filter analysis. The code cell below is an example of how the frequency response of a moving average filter can be calculated.\n"
   ]
  },
  {
   "cell_type": "code",
   "execution_count": null,
   "id": "edde100e-ff3c-445a-a41b-4a0e5b96c21c",
   "metadata": {},
   "outputs": [],
   "source": [
    "import numpy as np\n",
    "import matplotlib.pyplot as plt\n",
    "from numpy import pi\n",
    "\n",
    "hn = np.ones(5)/5 # Impulse response for 5-point moving average filter\n",
    "\n",
    "N = 512 # \"DTFT\" resolution\n",
    " \n",
    "Hw = np.fft.rfft(hn, N)  # Calculate the frequency response of the filter\n",
    "w = np.fft.rfftfreq(N)*2*np.pi  # An array of frequency values matching the frequency response\n",
    "\n",
    "# Extract magnitude response \n",
    "Hw_mag = np.abs(Hw)  \n",
    "# Extract phase response (use \"unwrap\" to allow for phase angles >= 180 degrees)\n",
    "Hw_phase = np.unwrap(np.angle(Hw, deg=True), period=360.0)  \n",
    "\n",
    "# Present the frequency response graphically.\n",
    "plt.close(1); plt.figure(1)\n",
    "plt.subplot(2,1,1)\n",
    "plt.title(f'Frequency response for {len(hn)}-point moving average filter')\n",
    "plt.plot(w/pi, Hw_mag)\n",
    "plt.grid(True)\n",
    "plt.xlim([0, 1])\n",
    "plt.ylabel(r'Magnitude')\n",
    "plt.subplot(2,1,2)\n",
    "plt.plot(w/pi, Hw_phase)\n",
    "plt.grid(True)\n",
    "plt.xlim([0, 1])\n",
    "plt.xlabel(r'Digital Frekvens $\\hat{\\omega} \\ (\\times \\pi)$')\n",
    "plt.ylabel(r'Phase (degrees)')"
   ]
  },
  {
   "cell_type": "markdown",
   "id": "a1e06ad7-75b1-41b6-b9ed-b46346564e8c",
   "metadata": {},
   "source": [
    "PS: There is naturally a specialized function [`scipy.signal.freqz`](https://docs.scipy.org/doc/scipy/reference/generated/scipy.signal.freqz.html) that calculates the frequency response of a any discrete LTI-system based on filter coefficients which may be used instead. The end result though, will be exactly the same and can be accomplished with one line:\n",
    "```Python\n",
    "f, Hf = sig.freqz(b=hn, a=1, worN=512, fs=fs)\n",
    "```"
   ]
  },
  {
   "cell_type": "markdown",
   "id": "c917d7d8-ea24-4adb-bf7e-380f1bdc68d5",
   "metadata": {},
   "source": [
    "## a)\n",
    "Given the following impulse response $h[n]$ for a FIR filter:\n",
    "$$h[n] = \\frac{1}{16} \\left( \\delta[n] + 4\\delta[n-1] + 6\\delta[n-2] + 4\\delta[n-3] + \\delta[n-4] \\right)$$\n",
    "\n",
    "Represent the impulse response using an array `hn` in Python, and calculate/present the frequency response graphically below:\n"
   ]
  },
  {
   "cell_type": "code",
   "execution_count": null,
   "id": "d8bc5f0b-0bd3-41a8-99c3-f4d89ab6de50",
   "metadata": {
    "deletable": false,
    "nbgrader": {
     "cell_type": "code",
     "checksum": "181d320257a03b09747d710d6d5240e2",
     "grade": false,
     "grade_id": "cell-63aff7c4fad58b73",
     "locked": false,
     "schema_version": 3,
     "solution": true,
     "task": false
    }
   },
   "outputs": [],
   "source": [
    "hn = \"???\"\n",
    "# WRITE YOUR CODE IN THIS CELL:"
   ]
  },
  {
   "cell_type": "markdown",
   "id": "43ed61e9-f7a5-4a52-8ee5-a3a0c0659aaf",
   "metadata": {},
   "source": [
    "[Here](figures/task1a_lf.png) is a suggestion for what the frequency response may look like.\n"
   ]
  },
  {
   "cell_type": "code",
   "execution_count": null,
   "id": "c6c69c7a-5476-4132-842a-aa0387156085",
   "metadata": {
    "deletable": false,
    "editable": false,
    "nbgrader": {
     "cell_type": "code",
     "checksum": "b1b7b2aaff429d2f8541a7a79dc17c59",
     "grade": true,
     "grade_id": "cell-7ca4de942c483f8f",
     "locked": true,
     "points": 1,
     "schema_version": 3,
     "solution": false,
     "task": false
    }
   },
   "outputs": [],
   "source": [
    "from hashlib import sha1\n",
    "assert sha1(','.join([str(round(x, 4)) for x in hn]).encode('utf-8')+b'e585b').hexdigest() == '6e8c3cc9a0848699392e531a850d7229e8b59ed8', 'Wrong answer for hn :('\n",
    "print('Correct answer for hn :)')"
   ]
  },
  {
   "cell_type": "markdown",
   "id": "2a13393e-fc3b-4bec-a115-5e164906a665",
   "metadata": {},
   "source": [
    "\n",
    "## b) \n",
    "\n",
    "Using the definition of the DTFT: $H(w) = h[0]\\cdot e^{-j\\omega\\cdot 0} + h[1]\\cdot e^-{j\\omega\\cdot 1} + \\ldots + h[M-1]\\cdot e^{-j\\omega\\cdot (M-1)}$, use Python/numpy to calculate the frequency response of the filter for the frequency $\\omega_1=\\frac{\\pi}{3}$ specifically."
   ]
  },
  {
   "cell_type": "code",
   "execution_count": null,
   "id": "09a9f1e4-7f70-407c-b1c7-4288b2c16a6d",
   "metadata": {
    "deletable": false,
    "nbgrader": {
     "cell_type": "code",
     "checksum": "0d1d8fd8e6356f4e04ad708f6c872a47",
     "grade": false,
     "grade_id": "cell-7c76c32f2ebc535d",
     "locked": false,
     "schema_version": 3,
     "solution": true,
     "task": false
    }
   },
   "outputs": [],
   "source": [
    "Hw_1 = \"???\"\n",
    "# WRITE YOUR CODE IN THIS CELL:"
   ]
  },
  {
   "cell_type": "code",
   "execution_count": null,
   "id": "57287cea-ed4e-41b7-b9ce-0bae2c13ce1a",
   "metadata": {
    "deletable": false,
    "editable": false,
    "nbgrader": {
     "cell_type": "code",
     "checksum": "5053a05abc66bcae1711873488166942",
     "grade": true,
     "grade_id": "cell-bec7c97bded7553c",
     "locked": true,
     "points": 1,
     "schema_version": 3,
     "solution": false,
     "task": false
    }
   },
   "outputs": [],
   "source": [
    "from hashlib import sha1\n",
    "import numpy as np\n",
    "Hw_real = np.real(Hw_1)\n",
    "Hw_imag = np.imag(Hw_1)\n",
    "assert sha1(str(round(Hw_real, 4)).encode('utf-8')+b'7031e').hexdigest() == '79c1400b1329e9d37985053c664b874d628a1fd6', 'Wrong answer for Hw_real :('\n",
    "print('Correct answer for Hw_real :)')\n",
    "assert sha1(str(round(Hw_imag, 4)).encode('utf-8')+b'de0f5').hexdigest() == '2278447b3e4e32c9cda9b19f95e8ae4d0fcaf5f6', 'Wrong answer for Hw_imag :('\n",
    "print('Correct answer for Hw_imag :)')"
   ]
  },
  {
   "cell_type": "markdown",
   "id": "0585798f-b906-4411-976b-f61dab006aec",
   "metadata": {},
   "source": [
    "## c)\n",
    "Given an input signal $x[n] = 8 \\cdot \\cos\\left(\\omega_1 \\cdot n - \\frac{\\pi}{3}\\right), \\ \\ \\omega_1 = \\frac{\\pi}{3}$, the output $y[n]$ can be written as:\n",
    "$$y[n] = A_y \\cdot \\cos\\left(\\omega_1 \\cdot n + \\phi_y\\right)$$\n",
    "Use the answer from taks **b)** to claculate the values of $A_y$ and $\\phi_y$ (use radians as unit for phase angle $\\phi_y$)"
   ]
  },
  {
   "cell_type": "code",
   "execution_count": null,
   "id": "6902d268-40f4-43ab-bd54-d03166ea17ec",
   "metadata": {
    "deletable": false,
    "nbgrader": {
     "cell_type": "code",
     "checksum": "09ab19e5dcd99e2d000494e675445342",
     "grade": false,
     "grade_id": "cell-2acb70292b3ae042",
     "locked": false,
     "schema_version": 3,
     "solution": true,
     "task": false
    }
   },
   "outputs": [],
   "source": [
    "A_y = \"???\"\n",
    "phi_y = \"???\"\n",
    "# WRITE YOUR CODE IN THIS CELL:"
   ]
  },
  {
   "cell_type": "code",
   "execution_count": null,
   "id": "0953fa93-7637-4577-ba1e-532834e50601",
   "metadata": {
    "deletable": false,
    "editable": false,
    "nbgrader": {
     "cell_type": "code",
     "checksum": "2308157a8a1b54abf0c06da64427d43b",
     "grade": true,
     "grade_id": "cell-3ed48a188375f8c5",
     "locked": true,
     "points": 1,
     "schema_version": 3,
     "solution": false,
     "task": false
    }
   },
   "outputs": [],
   "source": [
    "from hashlib import sha1\n",
    "assert sha1(str(round(A_y, 1)).encode('utf-8')+b'78f94').hexdigest() == '03a8d75eaf9cdff7e5177c66e3772e081c148b98', 'Wrong answer for A_y :('\n",
    "print('Correct answer for A_y :)')\n",
    "assert sha1(str(round(phi_y, 4)).encode('utf-8')+b'b6a22').hexdigest() == 'c2341e8e0956c513e50f1ffa1701fb7a62abec1f', 'Wrong answer for phi_y :('\n",
    "print('Correct answer for phi_y :)')"
   ]
  },
  {
   "cell_type": "markdown",
   "id": "ae4b28bb-721d-44d6-bbe8-f7217789ea67",
   "metadata": {},
   "source": [
    "## d)\n",
    "Use the numpy-function `convolve` to filter the signal $x[n], 0 \\leq n < 60$, and create a stem plot of both the input $x[n]$ and output $y[n]$. For which range of samples $n_1 \\leq n \\leq n_2$ can the output signal $y[n]$ be considered **valid** (i.e. the output is in a \"steady state\", where there is full overlap between $h[n]$ and $x[n]$)?\n",
    "\n",
    "Also, answer the following question i the text field: \"Can you verify the magnitude and phase of the output $y[n]$ by inspecting the plotted signals? If so, how?\""
   ]
  },
  {
   "cell_type": "code",
   "execution_count": null,
   "id": "ab410803-4e2b-4e3c-811b-c3b3c8c53202",
   "metadata": {
    "deletable": false,
    "nbgrader": {
     "cell_type": "code",
     "checksum": "7684f621c85bcf63913c3fe094aebac5",
     "grade": false,
     "grade_id": "cell-b6f112390183ea73",
     "locked": false,
     "schema_version": 3,
     "solution": true,
     "task": false
    }
   },
   "outputs": [],
   "source": [
    "n_1 = \"???\"\n",
    "n_2 = \"???\"\n",
    "# WRITE YOUR CODE IN THIS CELL:"
   ]
  },
  {
   "cell_type": "markdown",
   "id": "7e351a0b-b26b-4359-b14b-04d4e440e547",
   "metadata": {},
   "source": [
    "[Here](figures/task1d_lf.png) is a figure showing what $x[n]$ and $y[n]$ should look like."
   ]
  },
  {
   "cell_type": "code",
   "execution_count": null,
   "id": "9b6ef7a5-d5d4-43ec-8a17-268e416f515d",
   "metadata": {
    "deletable": false,
    "editable": false,
    "nbgrader": {
     "cell_type": "code",
     "checksum": "ddaa40e83041ccb6f9d473ee51cc8849",
     "grade": true,
     "grade_id": "cell-4abcb0a468a69e2a",
     "locked": true,
     "points": 1,
     "schema_version": 3,
     "solution": false,
     "task": false
    }
   },
   "outputs": [],
   "source": [
    "from hashlib import sha1\n",
    "assert sha1(str(round(n_1)).encode('utf-8')+b'97470').hexdigest() == '2f94f42860c6b2234f92eef450a90fcfb2fb7b64', 'Wrong answer for n_1 :('\n",
    "print('Correct answer for n_1 :)')\n",
    "assert sha1(str(round(n_2)).encode('utf-8')+b'2b376').hexdigest() == '59788c57d9a55275fb665647b37b2a96b99cd47e', 'Wrong answer for n_2 :('\n",
    "print('Correct answer for n_2 :)')"
   ]
  },
  {
   "cell_type": "markdown",
   "id": "2694de05-1c52-4305-8b6b-fb7947df443f",
   "metadata": {
    "deletable": false,
    "nbgrader": {
     "cell_type": "markdown",
     "checksum": "9acd2f7b73a0617c35b65b77c7e09e98",
     "grade": true,
     "grade_id": "cell-24205baaddd0552d",
     "locked": false,
     "points": 1,
     "schema_version": 3,
     "solution": true,
     "task": false
    }
   },
   "source": [
    "ANSWER THEORY QUESTIONS HERE:"
   ]
  },
  {
   "cell_type": "markdown",
   "id": "b65a6f79-be9c-4233-b3ad-c457b9b64fd2",
   "metadata": {},
   "source": [
    "### Fast convolution\n",
    "\n",
    "As discussed in the beginning of this problem, convolution in the time domain equals multiplication in the frequency domain. An implication of this, is that we can use the FFT and IFFT as a \"computational shortcut\" to convolving signals which will require fewer processor cycles than computing convolution directly once the filter length becomes sufficiently large (roughly $M > 80$). However, both inputs to the convolution operation needs to be padded to the correct output length *before* calculating the FFT, otherwise we risk performing [circular convolution](https://en.wikipedia.org/wiki/Circular_convolution), which is a somewhat different mathematical process. \n",
    "\n",
    "## e)\n",
    "\n",
    "Write a python script which uses FFT and IFFT to perform the convolution between $x[n]$ and $h[n]$, and use for instance the numpy-function [allclose](https://numpy.org/doc/stable/reference/generated/numpy.allclose.html) to verify that the result is the same as in problem **d)**"
   ]
  },
  {
   "cell_type": "code",
   "execution_count": null,
   "id": "fbdb8a87-4584-454f-bfbe-fdeb61c8802b",
   "metadata": {
    "deletable": false,
    "nbgrader": {
     "cell_type": "code",
     "checksum": "e519b239de8551d1c0f66b229c246b38",
     "grade": true,
     "grade_id": "cell-b613d15e6cd523c6",
     "locked": false,
     "points": 1,
     "schema_version": 3,
     "solution": true,
     "task": false
    }
   },
   "outputs": [],
   "source": [
    "# WRITE YOUR CODE IN THIS CELL:"
   ]
  }
 ],
 "metadata": {
  "kernelspec": {
   "display_name": "Python 3 (ipykernel)",
   "language": "python",
   "name": "python3"
  },
  "language_info": {
   "codemirror_mode": {
    "name": "ipython",
    "version": 3
   },
   "file_extension": ".py",
   "mimetype": "text/x-python",
   "name": "python",
   "nbconvert_exporter": "python",
   "pygments_lexer": "ipython3",
   "version": "3.11.5"
  }
 },
 "nbformat": 4,
 "nbformat_minor": 5
}
