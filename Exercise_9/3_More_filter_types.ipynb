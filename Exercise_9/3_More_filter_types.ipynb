{
 "cells": [
  {
   "cell_type": "markdown",
   "id": "282451ba-9231-4748-80d0-69e366eb0e7a",
   "metadata": {},
   "source": [
    "# Manipulating the frequency response of a FIR filter\n",
    "\n",
    "**Topics**\n",
    "* Manipulation of filter properties\n",
    "\n",
    "**Learning goals**\n",
    "* How to shift the passband of a filter\n",
    "* How to calculate a complementary filter\n",
    "\n",
    "**Libraries and notebook config:**"
   ]
  },
  {
   "cell_type": "code",
   "execution_count": null,
   "id": "45425b3d-bc61-4965-9755-c41641777826",
   "metadata": {},
   "outputs": [],
   "source": [
    "import scipy.signal as sig\n",
    "import numpy as np\n",
    "import matplotlib.pyplot as plt\n",
    "\n",
    "plt.rcParams[\"figure.figsize\"] = [8.00, 4.5]\n",
    "plt.rcParams[\"figure.autolayout\"] = True\n",
    "plt.rcParams[\"axes.grid\"] = True\n",
    "plt.rcParams[\"axes.xmargin\"] = 0.0\n",
    "\n",
    "%matplotlib inline"
   ]
  },
  {
   "cell_type": "markdown",
   "id": "df4c7e8f-656a-4439-8b7b-6a54e42cafd2",
   "metadata": {},
   "source": [
    "## Shifting the passband of a filter\n",
    "\n",
    "In Exercise 2 we introduced the concept of amplitude modulation and frequency shifting. The process of modulating a signal to displace it's frequency content in the frequency domain may also be used in filter design, where the signal we might modulate is the impulse response of the filter. The modulation property applied to a filter with impulse response $h[n]$ is summarized in equation $1$.\n",
    "\n",
    "$$\\begin{align}\n",
    "h_2[n] &= h[n] \\cdot \\cos(\\hat{\\omega_0}\\cdot n) \\\\ \\\\\n",
    "H_2(\\hat{\\omega}) &= \\frac{1}{2}H(\\hat{\\omega}- \\hat{\\omega_0}) + \\frac{1}{2}H(\\hat{\\omega}- \\hat{\\omega_0})\n",
    "\\end{align} \\tag{1}$$\n",
    "\n",
    "If the original filter $h[n]$ was a lowpass filter, the modulated filter $h_2[n]$ will, as the equation shows, have a passband which is shifted towards the higher frequencies. This would result in either a bandpass filter or a highpass filter, depending on the value of the shifting frequency $\\omega_0$.\n",
    "\n",
    "Below is a code cell which uses the remez exchange algorithm to design an optimal lowpass filter with edge frequency $\\hat{\\omega}_c = 0.2\\pi$. In the following tasks, we will use this filter as a basis for creating different types of filters."
   ]
  },
  {
   "cell_type": "code",
   "execution_count": null,
   "id": "10a21c3c-380e-49f5-9de0-06103902c6cf",
   "metadata": {},
   "outputs": [],
   "source": [
    "M = 41\n",
    "f_BP = 0.1\n",
    "TW = 0.05\n",
    "hn = sig.remez(M,  # Number of taps\n",
    "               [0, f_BP, f_BP+TW, 0.5],  # Filter bands (first band: 0<f<f_BP)\n",
    "               [1, 0],  # Desired magnitude response in respective bands\n",
    "               weight=[1, 10])  # Relative emphasis on passband ripple vs. stopband attenuation\n",
    "\n",
    "N = 1024\n",
    "Hw = np.fft.rfft(hn, N)  # Calculate the frequency response of the filter\n",
    "w = np.fft.rfftfreq(N)*2*np.pi  # An array of frequency values matching the frequency response\n",
    "\n",
    "# Extract magnitude response\n",
    "Hw_mag = np.abs(Hw)\n",
    "# Extract phase response (use \"unwrap\" to allow for phase angles >= 180 degrees)\n",
    "Hw_phase = np.unwrap(np.angle(Hw, deg=True), period=360.0)\n",
    "\n",
    "plt.close(2); plt.figure(2)\n",
    "plt.subplot(2,1,1)\n",
    "plt.title(f'Frequency response for {len(hn)}-tap lowpass filter')\n",
    "plt.plot(w/np.pi, 20*np.log10(Hw_mag))\n",
    "plt.grid(True)\n",
    "plt.xlim([0, 1])\n",
    "plt.ylabel(r'Magnitude (dB)')\n",
    "plt.subplot(2,1,2)\n",
    "plt.plot(w/np.pi, Hw_phase)\n",
    "plt.grid(True)\n",
    "plt.xlim([0, 1])\n",
    "plt.xlabel(r'Digital Frekvens $\\hat{\\omega} \\ (\\times \\pi)$')\n",
    "plt.ylabel(r'Phase (degrees)')\n",
    "plt.tight_layout()"
   ]
  },
  {
   "cell_type": "markdown",
   "id": "bbf62bbb-dbca-4aeb-bc54-cf6cdf42aece",
   "metadata": {},
   "source": [
    "## a) Highpass filter\n",
    "We wish to transform the above $41$-tap filter $h_{LP}[n]$ represented in the array `hn` to a highpass filter. This may be accomplished using frequency mixing:\n",
    "\n",
    "$$h_{HP}[n] = h_{LP}[n] \\cdot A \\cdot \\cos(\\hat{\\omega}_{\\text{shift}} \\cdot (n-D))$$\n",
    "\n",
    "Determine the appropriate values for $A$, $\\hat{\\omega}_{\\text{shift}}$ and $D$ which ensures passband gain $\\approx 1$ and symmetry of the impulse response $h[n]$. Then, assuming the lowpass filter 's passband has a cutoff frequency $\\hat{\\omega}_{c}=\\frac{\\pi}{5}$, what is the cutoff frequency `w_c` for the highpass filter?\n",
    "\n",
    "Use Python to calculte the new impulse response $h_{HP}[n]$, and plot the filter's frequency response."
   ]
  },
  {
   "cell_type": "code",
   "execution_count": null,
   "id": "2c3770bd-2de3-4542-82db-d41a8a9da2f2",
   "metadata": {
    "deletable": false,
    "nbgrader": {
     "cell_type": "code",
     "checksum": "b5440f523493df326a33cc2e324d9627",
     "grade": false,
     "grade_id": "cell-b9c5055871833d47",
     "locked": false,
     "schema_version": 3,
     "solution": true,
     "task": false
    }
   },
   "outputs": [],
   "source": [
    "A = \"???\"  # \n",
    "w_shift = \"???\"  # Submit in radians\n",
    "D = \"???\"  # \n",
    "w_c = \"???\"  #\n",
    "# WRITE YOUR CODE IN THIS CELL:"
   ]
  },
  {
   "cell_type": "markdown",
   "id": "11cd4a1f-fbc9-47d8-8b87-5425293ad9a3",
   "metadata": {},
   "source": [
    "[Here](figures/task3a_lf.png) is a figure showing what the frequency response might look like."
   ]
  },
  {
   "cell_type": "code",
   "execution_count": null,
   "id": "08a8db6c-2d8c-4587-98c3-5c52daf3706d",
   "metadata": {
    "deletable": false,
    "editable": false,
    "nbgrader": {
     "cell_type": "code",
     "checksum": "f693d36f9957afb466c616ca82b3c16b",
     "grade": true,
     "grade_id": "cell-a21741c6becd9b58",
     "locked": true,
     "points": 1,
     "schema_version": 3,
     "solution": false,
     "task": false
    }
   },
   "outputs": [],
   "source": [
    "from hashlib import sha1\n",
    "assert sha1(str(round(A)).encode('utf-8')+b'c76c6').hexdigest() == '288ef1c526eeb538c4d34d778dcdfc9bf1edee1d', 'Wrong answer for A :('\n",
    "print('Correct answer for A :)')\n",
    "assert sha1(str(round(D)).encode('utf-8')+b'35160').hexdigest() == 'f9d74920378324a4a0d962bc984b7adf2e055636', 'Wrong answer for D :('\n",
    "print('Correct answer for D :)')\n",
    "assert sha1(str(round(w_shift, 3)).encode('utf-8')+b'959e1').hexdigest() == 'f4bfd94be16105fabcd536d436c1bde95b2ab4ec', 'Wrong answer for w_shift :('\n",
    "print('Correct answer for w_shift :)')\n",
    "assert sha1(str(round(w_c, 3)).encode('utf-8')+b'62883').hexdigest() == 'd272966465cf39cdc0e2739986788ca5a00d994b', 'Wrong answer for w_c :('\n",
    "print('Correct answer for w_c :)')"
   ]
  },
  {
   "cell_type": "markdown",
   "id": "ef473b52-2049-433d-b135-a07f86c4f637",
   "metadata": {},
   "source": [
    "## b) Bandpass filter\n",
    "We wish to transform the above $41$-tap lowpass filter $h_{LP}[n]$ to a bandpass filter. Once again, this may be accomplished using frequency mixing:\n",
    "\n",
    "$$h_{BP}[n] = h_{LP}[n] \\cdot A \\cdot \\cos(\\hat{\\omega}_{\\text{shift}} \\cdot (n-D))$$\n",
    "\n",
    "Determine the appropriate values for $A$, $\\hat{\\omega}_{\\text{shift}}$ and $D$ which ensures the following filter properties:\n",
    "- Passband gain $\\approx 1$\n",
    "- Impulse response symmetry ($h[n] = h[M-1-n])$\n",
    "- Lower passband cutoff frequency $\\omega_1 = \\frac{4\\pi}{10}$\n",
    "- Upper passband cutoff frequency $\\omega_2 = \\frac{8\\pi}{10}$\n",
    "\n",
    "Use Python to calculte the new impulse response $h_{BP}[n]$, and plot the filter's frequency response."
   ]
  },
  {
   "cell_type": "code",
   "execution_count": null,
   "id": "a4b41e65-04e5-4dc0-8716-3cd94eda76b8",
   "metadata": {
    "deletable": false,
    "nbgrader": {
     "cell_type": "code",
     "checksum": "2d4ef7c4cf2110cce1191c3227f4e06e",
     "grade": false,
     "grade_id": "cell-f0b78f35a691f525",
     "locked": false,
     "schema_version": 3,
     "solution": true,
     "task": false
    }
   },
   "outputs": [],
   "source": [
    "A = \"???\"  # \n",
    "w_shift = \"???\"  # Submit in radians\n",
    "D = \"???\"\n",
    "# WRITE YOUR CODE IN THIS CELL:"
   ]
  },
  {
   "cell_type": "markdown",
   "id": "630503fd-e53a-46ca-a412-2a98b567f460",
   "metadata": {},
   "source": [
    "[Here](figures/task3b_lf.png) is a figure showing what the frequency response might look like."
   ]
  },
  {
   "cell_type": "code",
   "execution_count": null,
   "id": "4657f60d-e7b6-45d9-b4c9-020aa6a5935c",
   "metadata": {
    "deletable": false,
    "editable": false,
    "nbgrader": {
     "cell_type": "code",
     "checksum": "886114ff31c1d951eedea53975f48985",
     "grade": true,
     "grade_id": "cell-788d34d1b86dda64",
     "locked": true,
     "points": 1,
     "schema_version": 3,
     "solution": false,
     "task": false
    }
   },
   "outputs": [],
   "source": [
    "from hashlib import sha1\n",
    "assert sha1(str(round(A)).encode('utf-8')+b'cc656').hexdigest() == '737cedee1f08ce7d559cf6be91ccdefe4dcbc591', 'Wrong answer for A :('\n",
    "print('Correct answer for A :)')\n",
    "assert sha1(str(round(D)).encode('utf-8')+b'208ba').hexdigest() == '19ba97eb60c5a5d9648043902f0f9769cd3d4a96', 'Wrong answer for D :('\n",
    "print('Correct answer for D :)')\n",
    "assert sha1(str(round(w_shift, 3)).encode('utf-8')+b'8738d').hexdigest() == 'e244250d7c8a38f20f71248c009d5a2fdd509360', 'Wrong answer for w_shift :('\n",
    "print('Correct answer for w_shift :)')"
   ]
  },
  {
   "cell_type": "markdown",
   "id": "0043f564-1105-4351-bafb-83bef1790e9d",
   "metadata": {},
   "source": [
    "\n",
    "\n",
    "### On complementary FIR filters\n",
    "A complementary filter is a filter whose frequency response $H_{comp}(\\hat{\\omega})$ complements the frequency response of a different filter $H(\\hat{\\omega})$ in such a way that:\n",
    "$$|H_{comp}(\\hat{\\omega})|  = 1 - |H(\\hat{\\omega})|$$\n",
    "\n",
    "\n",
    "When working with *linear phase* FIR filters, finding the complimentary filter is luckily quite simple. All we need to do is create an allpass filter with the same group delay as the filter $h[n]$ we wish to complement, and subtract the impulse response $h[n]$. The equation for the complementary impulse response becomes:\n",
    "\n",
    "$$h_{\\text{comp}}[n] = \\delta[n-D] - h[n]$$\n",
    "\n",
    "assuming:\n",
    "- $h[n]$ is symmetric\n",
    "- The number of filter taps $M$ is an odd number\n",
    "- the delay $D$ ensures that $h_{\\text{comp}}[n]$ will also be symmetric\n",
    "\n",
    "## c) Complementary filter\n",
    "\n",
    "Use the bandpass filter from problem **b)** as a basis and create it's *complementary* filter `h_comp`. What category of filter is `h_comp`? (lowpass, highpass, bandpass, bandstop)\n"
   ]
  },
  {
   "cell_type": "code",
   "execution_count": null,
   "id": "f467c94a-1d14-4987-8e00-10d59dcd6d69",
   "metadata": {
    "deletable": false,
    "nbgrader": {
     "cell_type": "code",
     "checksum": "9f13514df794980892221f70575935af",
     "grade": true,
     "grade_id": "cell-5791f339c319fdc0",
     "locked": false,
     "points": 1,
     "schema_version": 3,
     "solution": true,
     "task": false
    }
   },
   "outputs": [],
   "source": [
    "# WRITE YOUR CODE IN THIS CELL:"
   ]
  },
  {
   "cell_type": "markdown",
   "id": "0500a708-210e-461b-a363-eace83f9e553",
   "metadata": {},
   "source": [
    "[Here](figures/task3c_lf.png) is a figure showing what the frequency response might look like."
   ]
  }
 ],
 "metadata": {
  "kernelspec": {
   "display_name": "Python 3 (ipykernel)",
   "language": "python",
   "name": "python3"
  },
  "language_info": {
   "codemirror_mode": {
    "name": "ipython",
    "version": 3
   },
   "file_extension": ".py",
   "mimetype": "text/x-python",
   "name": "python",
   "nbconvert_exporter": "python",
   "pygments_lexer": "ipython3",
   "version": "3.11.5"
  }
 },
 "nbformat": 4,
 "nbformat_minor": 5
}
