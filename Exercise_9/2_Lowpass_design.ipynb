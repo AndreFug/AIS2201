{
 "cells": [
  {
   "cell_type": "markdown",
   "id": "4e64cfcc-2244-4ca2-b86f-e5444d2322f9",
   "metadata": {},
   "source": [
    "# Design of Lowpass FIR filters using the Window method\n",
    "\n",
    "**Topics:**\n",
    "* The window filer design method\n",
    "\n",
    "**Learning goals:**\n",
    "* Understanding how the IDTFT can be used to design FIR filters\n",
    "* Understanding how window functions can improve stopband attenuation\n",
    "* Experiencing how stopband attenuation, transition width and filter order are connected\n",
    "\n",
    "**Libraries and notebook-config:**"
   ]
  },
  {
   "cell_type": "code",
   "execution_count": null,
   "id": "df7fd49f-b964-4017-b01b-ed294921cd3e",
   "metadata": {},
   "outputs": [],
   "source": [
    "from numpy import sin, cos, pi, exp, empty, mean, abs, angle # Sentrale matematiske funksjoner\n",
    "import numpy as np                          # Importer funksjonalitet fra numpy biblioteket med prefiks \"np\"\n",
    "import scipy.signal as sig                  # Importerer signalbehandlingsmodulen til scipy\n",
    "import matplotlib.pyplot as plt             # Importer pyplot modulen i matplotlib med prefiks \"plt\"\n",
    "\n",
    "plt.rcParams[\"figure.figsize\"] = [8.00, 4.5]\n",
    "plt.rcParams[\"figure.autolayout\"] = True\n",
    "plt.rcParams[\"axes.grid\"] = True\n",
    "plt.rcParams[\"axes.xmargin\"] = 0.0\n",
    "\n",
    "%matplotlib inline"
   ]
  },
  {
   "cell_type": "markdown",
   "id": "f21804a7-67b6-49b7-a7cb-3f6d99e123e0",
   "metadata": {},
   "source": [
    "### Introduction \n",
    "\n",
    "In problem 1 we learned about the frequency response of FIR filters, how it is calculated, and how it can be interpreted. The key property of FIR filters in particular to keep in mind is once again that convolution in the time domain equals multiplication in the frequency domain:\n",
    "$$ x[n]*h[n] \\stackrel{\\mathrm{DTFT}}{\\longleftrightarrow} X\\left(\\hat{\\omega}\\right)\\cdot H \\left(\\hat{\\omega}\\right) $$ \n",
    "In this problem we will have a closer look at how a particular frequency response $H(\\hat{\\omega})$, that of a lowpass filter, can be achieved. In a way, FIR filter design is the inverse of spectral signal analysis: the goal is to design a signal $h[n]$ whose frequency content comes as close as possible to a particular desired frequency response.\n",
    "\n",
    "\n",
    "### Designing a lowpass filter\n",
    "\n",
    "The ideal lowpass filter $H_I(\\hat{\\omega})$ with cutoff frequency $\\hat{\\omega}_c$ has a \"brick wall\" shape and can be expressed mathematically in equation $1$, for discrete frequencies in the range $\\pi \\leq \\hat{\\omega} \\leq \\pi$.\n",
    "$$H_I(\\hat{\\omega}) = \\begin{cases} 1, & |\\hat{\\omega}| <= \\hat{\\omega}_c \\\\ 0, & |\\hat{\\omega}| > \\hat{\\omega}_c \\end{cases} \\tag{1}$$\n",
    "\n",
    "Finding the correct filter impulse response $h[n]$ is *almost* as simple as calculating the Inverse Discrete-Time Fourier Transform (IDTFT) of $H(\\hat{\\omega})$, with some adjustments necessary to make the filter realizable. In this problem we will walk through the process step-by-step, and investigate *why* the various adjustments are necessary.\n"
   ]
  },
  {
   "cell_type": "markdown",
   "id": "bffee6e1-48a7-4af4-8ddd-6985888a4fd9",
   "metadata": {},
   "source": [
    "### Step 1: finding the ideal impulse response\n",
    "\n",
    "The IDFT of $H_I(\\hat{\\omega})$ in equation $1$ can be calculated analytically, and can be expressed as follows:\n",
    "\n",
    "$$\n",
    "\\begin{align}\n",
    "h_I[n] &= \\frac{\\sin(\\omega_c \\cdot n) }{\\pi \\cdot n} \\\\ \\\\\n",
    "&= \\frac{\\omega_c}{\\pi} \\cdot \\text{sinc}\\left(\\frac{\\hat{\\omega}_c}{\\hat{\\omega}}n \\right), \\ \\ \\ \\ \\  \\text{sinc}(x) = \\frac{\\sin(\\pi x)}{\\pi x}\n",
    "\\end{align} \\tag{2}\n",
    "$$\n",
    "\n",
    "In other words, if the signal $h_I[n]$ decribed above is the impulse response of a filter, the said filter will have the desired frequency response. There are a few problems however, the first of which being that the impulse response needs to be finite-length, while the $h_I[n]$ has infinite length.\n",
    "\n",
    "## a)\n",
    "\n",
    "Use equation $2$ to calculate the impulse response of a causal $M=21$-tap FIR lowpass filter with edge frequency $\\omega_c = \\frac{\\pi}{4}$ for samples $0\\leq n < M$. Then, use python to calculate the *magnitude response* $|H(\\hat{\\omega})|$ of said filter, and plot both the impulse response and magnitude response in a figure.<br>PS: The function [`sinc`](https://numpy.org/doc/stable/reference/generated/numpy.sinc.html) is useful when calcuating the impulse response, as it \"knows\" how to evaluate $0/0$."
   ]
  },
  {
   "cell_type": "code",
   "execution_count": null,
   "id": "85a5664d-85d9-434d-8c5f-1bc1defdcb0a",
   "metadata": {
    "deletable": false,
    "nbgrader": {
     "cell_type": "code",
     "checksum": "c56ef927fae93ffb90b3fd39bac35d3f",
     "grade": false,
     "grade_id": "cell-dc53d148d746cce2",
     "locked": false,
     "schema_version": 3,
     "solution": true,
     "task": false
    }
   },
   "outputs": [],
   "source": [
    "# WRITE YOUR CODE IN THIS CELL:"
   ]
  },
  {
   "cell_type": "markdown",
   "id": "bd9b0908-05f7-4776-9bcf-d6ba3d55a3ac",
   "metadata": {},
   "source": [
    "[Here](figures/task2a_lf.png) is a suggestion of what the output of problem 1 may look like. As we can see, our filter has the general (ish) shape of a lowpass filter, but is otherwise very dissimilar to the ideal filter we want.\n",
    "\n",
    "### Step 2: making adjustments for causal filters\n",
    "\n",
    "The reason our filter performs so poorly is that we have not accounted for the delay a FIR filter typically imposes on the output $y[n]$. The frequency response $H_I(\\hat{\\omega})$ as defined in equation $1$ has a phase response $\\angle H_I(\\hat{\\omega}) = 0$, something which is not possible to achieve with a causal filter.\n",
    "\n",
    "To fix this, we need to add a certain delay to the impulse response $h_I[n]$. The best result is achieved when the impulse response is *symmetric* around a center point, which has the added bonus of ensuring a [linear phase response](https://en.wikipedia.org/wiki/Linear_phase) (all frequency components have the same delay)."
   ]
  },
  {
   "cell_type": "markdown",
   "id": "ca8602de-5acb-448c-a881-2815ffcdfff1",
   "metadata": {},
   "source": [
    "## b)\n",
    "Calculate the number of samples delay $D$ which need to be applied to $h_I[n]$ so that the $M=21$-tap FIR filter has a *symmetric* impulse response ($h[n] = h[M-1-n]$), and create a new delayed impulse response $h_D[n]$ as described below:\n",
    "\n",
    "$$h_D[n] = \\begin{cases} h_I[n-D], & 0 \\leq n < M \\\\ 0, & \\text{otherwise} \\end{cases} $$"
   ]
  },
  {
   "cell_type": "code",
   "execution_count": null,
   "id": "981f53f5-1bcd-4ff3-a3ea-712872a3289a",
   "metadata": {
    "deletable": false,
    "nbgrader": {
     "cell_type": "code",
     "checksum": "a034daba85d30d43cabc1cf8fc8097c5",
     "grade": false,
     "grade_id": "cell-47f08d0994a64206",
     "locked": false,
     "schema_version": 3,
     "solution": true,
     "task": false
    }
   },
   "outputs": [],
   "source": [
    "D = \"???\"\n",
    "h_D = \"???\"\n",
    "\n",
    "# WRITE YOUR CODE IN THIS CELL:"
   ]
  },
  {
   "cell_type": "code",
   "execution_count": null,
   "id": "0d0e39cf-c8ec-41a2-8755-e35edcbefd49",
   "metadata": {
    "deletable": false,
    "editable": false,
    "nbgrader": {
     "cell_type": "code",
     "checksum": "5632ab19492e5e152dc444d72194a513",
     "grade": true,
     "grade_id": "cell-a9d497bcdf60737b",
     "locked": true,
     "points": 1,
     "schema_version": 3,
     "solution": false,
     "task": false
    }
   },
   "outputs": [],
   "source": [
    "from hashlib import sha1\n",
    "assert np.allclose(h_D, h_D[::-1]), \"Impulse response 'h_D' is not symmetric :(\"\n",
    "print(\"Impulse response 'h_D' is symmetric =)\")\n",
    "assert sha1(str(round(D)).encode('utf-8')+b'269e7').hexdigest() == '3ee10e6b93e8b0115aeba7eb42690eba16ba1265', 'Wrong answer for D :('\n",
    "print('Correct answer for D :)')"
   ]
  },
  {
   "cell_type": "markdown",
   "id": "befbb478-776f-477c-8e40-29d1cd07af80",
   "metadata": {},
   "source": [
    "[Here](figures/task2b_lf.png) is a figure indicating what the impulse response should look like."
   ]
  },
  {
   "cell_type": "markdown",
   "id": "096b1e85-86bf-4e39-ac2f-c23cb47c81b2",
   "metadata": {},
   "source": [
    "## c) \n",
    "\n",
    "Use python to produce a plot of the Magnitude and Phase response of $h_D[n]$. The magnitude plot should be logarithmic scale in decibels (dB). Analyze the figure to determine the *stopband attenuation* `stop_att` of the filter."
   ]
  },
  {
   "cell_type": "code",
   "execution_count": null,
   "id": "75fb7a8c-cc00-4473-b764-6089a1dded19",
   "metadata": {
    "deletable": false,
    "nbgrader": {
     "cell_type": "code",
     "checksum": "e4213fc3bd53d2e52c3b67228e3f93de",
     "grade": false,
     "grade_id": "cell-e0040a2970aa0945",
     "locked": false,
     "schema_version": 3,
     "solution": true,
     "task": false
    }
   },
   "outputs": [],
   "source": [
    "stop_att = \"???\"\n",
    "# WRITE YOUR CODE IN THIS CELL:"
   ]
  },
  {
   "cell_type": "code",
   "execution_count": null,
   "id": "a495da6d-494b-40a0-a47a-171a806b2a6e",
   "metadata": {
    "deletable": false,
    "editable": false,
    "nbgrader": {
     "cell_type": "code",
     "checksum": "279dac49425290c6798cf3c147008371",
     "grade": true,
     "grade_id": "cell-7b07be2e6bf435dd",
     "locked": true,
     "points": 1,
     "schema_version": 3,
     "solution": false,
     "task": false
    }
   },
   "outputs": [],
   "source": [
    "from hashlib import sha1\n",
    "assert sha1(str(round(stop_att+0.5)).encode('utf-8')+b'38b4').hexdigest() == 'bb707f46b016f5cbf406bd7f81c216862321ab74', 'Wrong answer for stop_att :('\n",
    "print('Correct answer for stop_att :)')"
   ]
  },
  {
   "cell_type": "markdown",
   "id": "dd04bc41-bd57-4b93-af5b-3192d411a89a",
   "metadata": {},
   "source": [
    "### Step 3: determining the window function\n",
    "\n",
    "As the name suggests, the \"Window Design Method\" involves using window functions. The filter in problem **c)** uses a *rectangular window* to truncate the impulse response $h_I[n]$, and can be described as\n",
    "\n",
    "$$h_D[n] = h_I[n-D] \\cdot w[n]$$\n",
    "\n",
    "where $w[n] = u[n] - u[M]$. Just as in signal analysis, applying a window function to a signal causes spectral leakage, with frequency components \"leaking\" into the filter's stopband. By using a different window function $w[n]$ with better side lobe attenuation, we can improve the filter's stopband attenuation.\n",
    "\n",
    "## d)\n",
    "\n",
    "Add two new windowed filters to the frequency response plot from **c)** (you can choose which ones you want to try out), and use labels to differentiate the various window functions. How do different window functions impact filter properties, and what is the apparent tradeoff when increasing stopband attenuation?"
   ]
  },
  {
   "cell_type": "code",
   "execution_count": null,
   "id": "c8473be7-4d4a-4bfe-a2d2-b98db02cdd11",
   "metadata": {
    "deletable": false,
    "nbgrader": {
     "cell_type": "code",
     "checksum": "ebc5280ef4eb228341578066d7e4b078",
     "grade": true,
     "grade_id": "cell-35b4e1fead871ac6",
     "locked": false,
     "points": 1,
     "schema_version": 3,
     "solution": true,
     "task": false
    }
   },
   "outputs": [],
   "source": [
    "# WRITE YOUR CODE IN THIS CELL:"
   ]
  },
  {
   "cell_type": "markdown",
   "id": "0b150a60-a3b3-4a42-8b83-97e0be57d651",
   "metadata": {},
   "source": [
    "[Here](figures/task2d_lf.png) you can see what the frequency response will look like for e.g. rectangular, hamming and blackman windows."
   ]
  },
  {
   "cell_type": "markdown",
   "id": "c8e1d6aa-956f-4d98-ab1b-d34edca470f4",
   "metadata": {
    "deletable": false,
    "nbgrader": {
     "cell_type": "markdown",
     "checksum": "89fcb9cb9f737c3868851881c0418de3",
     "grade": true,
     "grade_id": "cell-1cff721d29c628af",
     "locked": false,
     "points": 1,
     "schema_version": 3,
     "solution": true,
     "task": false
    }
   },
   "source": [
    "ANSWER THEORY QUESTIONS HERE:"
   ]
  },
  {
   "cell_type": "markdown",
   "id": "a85cd33a-f0a2-474b-a101-8e42378ce007",
   "metadata": {},
   "source": [
    "### Step 4: determining number of filter taps $M$\n",
    "\n",
    "One important filter parameter to consider when designing a filter is the *transition width*, i.e. how wide is the frequency band between the point where the passband stops $\\hat{\\omega}_{pass}$ and the point where the stopband begins $\\hat{\\omega}_{stop}$. One filter parameter which directly impacts transition width is the number of filter taps $M$, with the transition width being inversely proportional to number of filter taps. For any given window function there is a formula for minimum number of taps required as a function of transition width (TW), although we will not go into much further detail here and use a more \"brute force\" approach instead.\n",
    "\n",
    "## e)\n",
    "\n",
    "Assume the following:\n",
    "- A **hamming** window is used in designing a lowpass filter with $-6dB$ cutoff frequency $\\omega_c = \\frac{\\pi}{4}$\n",
    "- We define $50\\text{dB}$ attenuation as the criteria for the filter's stopband\n",
    "     - In other words, the stopband starts precisely where $|H(\\hat{\\omega})| < -50\\text{dB}$\n",
    "\n",
    "Use either trial and error, or an automated iterative approach to determine the smallest number of filter taps `M_min` required to achieve a transition width $\\text{TW} \\leq \\frac{\\pi}{10}$. Create a figure showing the frequency response of the final filter. <br>PS: the cutoff frequency $\\omega_c$ is located in the middle of the transition band."
   ]
  },
  {
   "cell_type": "code",
   "execution_count": null,
   "id": "16051913-1e57-4159-b065-9df3ea9e8cd2",
   "metadata": {
    "deletable": false,
    "nbgrader": {
     "cell_type": "code",
     "checksum": "5664103e374e246b3852a2dde4f19be4",
     "grade": false,
     "grade_id": "cell-a2f46c1130beaf95",
     "locked": false,
     "schema_version": 3,
     "solution": true,
     "task": false
    }
   },
   "outputs": [],
   "source": [
    "M_min = \"???\"\n",
    "# WRITE YOUR CODE IN THIS CELL:"
   ]
  },
  {
   "cell_type": "markdown",
   "id": "0447c3ba-738e-47a3-a77b-5ffb6512ef45",
   "metadata": {},
   "source": [
    "[Here](figures/task2e_lf.png) you can see what the final frequency response should look like."
   ]
  },
  {
   "cell_type": "code",
   "execution_count": null,
   "id": "9d2f810f-248e-431d-bb12-8180df24b465",
   "metadata": {
    "deletable": false,
    "editable": false,
    "nbgrader": {
     "cell_type": "code",
     "checksum": "cfac68f2c9be290e766a196a9a1907e1",
     "grade": true,
     "grade_id": "cell-581335e6696e04a9",
     "locked": true,
     "points": 1,
     "schema_version": 3,
     "solution": false,
     "task": false
    }
   },
   "outputs": [],
   "source": [
    "from hashlib import sha1\n",
    "assert sha1(str(round(M_min+0.5)).encode('utf-8')+b'2b2b9').hexdigest() == '8d67049db49694faddf3a4297ef24b0eafc4132c', 'Wrong answer for M_min :('\n",
    "print('Correct answer for M_min :)')"
   ]
  },
  {
   "cell_type": "markdown",
   "id": "ed0a973c-912d-4dcd-8afa-a5f9d5d7b067",
   "metadata": {},
   "source": [
    "### Quick note on design algorithms\n",
    "In this taks we have decided to explore the window design method, as it is a good way to gain insight into the main principles of designing FIR filters. It is not the most optimal filter design method in terms of \"best properties per filter tap\" however, that distinction would likely go to the [remez exchange algorithm](https://docs.scipy.org/doc/scipy/reference/generated/scipy.signal.remez.html) which uses an iterative approach to \"tuning\" each filter coefficient. "
   ]
  }
 ],
 "metadata": {
  "kernelspec": {
   "display_name": "Python 3 (ipykernel)",
   "language": "python",
   "name": "python3"
  },
  "language_info": {
   "codemirror_mode": {
    "name": "ipython",
    "version": 3
   },
   "file_extension": ".py",
   "mimetype": "text/x-python",
   "name": "python",
   "nbconvert_exporter": "python",
   "pygments_lexer": "ipython3",
   "version": "3.11.5"
  }
 },
 "nbformat": 4,
 "nbformat_minor": 5
}
