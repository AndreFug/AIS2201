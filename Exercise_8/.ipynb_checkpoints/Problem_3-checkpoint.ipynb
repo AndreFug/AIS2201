{
 "cells": [
  {
   "cell_type": "markdown",
   "id": "3aad5bfa-bd78-4dd5-a037-8799e3b95c29",
   "metadata": {},
   "source": [
    "# Autocorrelation\n",
    "\n",
    "**Topics:**\n",
    "- Signal analysis using autocorrelation\n",
    "\n",
    "**Learning goals:**\n",
    "- Become familiar with how autocorrelatino works on random signals\n",
    "- Be able to calculate an autocorrelation sequence and analyze the result\n",
    "\n",
    "**Python modules and notebook config:**"
   ]
  },
  {
   "cell_type": "code",
   "execution_count": null,
   "id": "699ce519-7247-45bf-9558-73507fecdd9d",
   "metadata": {},
   "outputs": [],
   "source": [
    "from numpy import sin, cos, pi, exp, empty, mean, abs, angle # Sentrale matematiske funksjoner\n",
    "import numpy as np                          # Importer funksjonalitet fra numpy biblioteket med prefiks \"np\"\n",
    "import scipy.signal as sig                  # Importerer signalbehandlingsmodulen til scipy\n",
    "import matplotlib.pyplot as plt             # Importer pyplot modulen i matplotlib med prefiks \"plt\"\n",
    "\n",
    "%matplotlib inline"
   ]
  },
  {
   "cell_type": "markdown",
   "id": "3cccb949-c019-4414-a173-4fa258933fa1",
   "metadata": {},
   "source": [
    "\n",
    "\n",
    "\n",
    "### Introduction\n",
    "[Correlation](https://en.wikipedia.org/wiki/Correlation_and_dependence) or cross-correlation is a statistical measure for the dependencies between two different signals $x[n]$ and $y[n]$, expressed as a function of *relative shift*. The cross-correlation function $r_{xy}[l]$ defined below can thus be seen as an answer to the question \"*how similar is $y[n]$ to $x[n]$ if the entire waveform of $y[n]$ is displaced by $l$ samples?*\". \n",
    "\n",
    "$$r_{xy}[l] = E\\left(x[n]\\cdot y[n-l]\\right)$$\n",
    "\n",
    "[Auto-correlation](https://en.wikipedia.org/wiki/Autocorrelation) on the other hand, characterizes the temporal dependencies within one random signal $x[k]$. Autocorrelation is, in principle, what you get if you calculate the cross-correlation between a signal $x[n]$ and itself, and is defined as.\n",
    "\n",
    "$$r_{xx}[l] = E\\left(x[n]\\cdot x[n-l]\\right)$$\n",
    "\n",
    "While the possible uses of cross-correlation (such as radar and sonar systems) are quite easy to spot, it may not be quite as apparent why \"comparing\" a signal to itself should be useful. However, once we begin to consider [random signals](https://en.wikipedia.org/wiki/Stochastic_process), it becomes clear that it is possible to make certain assumptions about the shape of the autocorrelation function even if each individual sample is $100\\%$ random.\n",
    "\n",
    "### Autocorrelation and noise signals\n",
    "\n",
    "Take for instance white gaussian noise, where each sample $v[n]$ is a random value taken from a gaussian probability distribution with zero mean and $\\sigma_v^2$ variance (noise power):  $v[n] \\sim \\mathcal{N} \\left(0, \\sigma_v^2\\right)$. Since each sample value is entirely random there should be no dependence between a sample $x[n]$ and any preceding or succeding samples $x[n-k], k \\neq 0$. Therefore, the autocorrelation function for $v[n]$ is:\n",
    "\n",
    "$$r_{vv}[l] = \\sigma_v^2 \\cdot \\delta[l]$$\n",
    "\n",
    "Becuase of this property, white noise is often referred to as *uncorrelated noise*. The code cell below demonstrates this by generating a random signal `v` using `numpy.random`, and calculating the auto-correlation using the function [`correlate`](https://numpy.org/doc/stable/reference/generated/numpy.correlate.html)."
   ]
  },
  {
   "cell_type": "code",
   "execution_count": null,
   "id": "13cb075d-f84e-468b-ab88-bbac8045c56f",
   "metadata": {},
   "outputs": [],
   "source": [
    "N = 10_000  # Length of signal\n",
    "noise_pow = 1\n",
    "v = np.random.normal(loc=0.0, scale=np.sqrt(noise_pow), size=N)\n",
    "\n",
    "r_vv = np.correlate(v, v, mode=\"full\")/N\n",
    "l = np.arange(-N+1, N)\n",
    "plt.plot(l, r_vv, label=\"$\\\\hat{r}_{vv}[l]$\")\n",
    "plt.plot([l[0], l[-1]], noise_pow*np.ones(2), \":\", label=\"$\\\\sigma_v^2$\")\n",
    "plt.legend()\n",
    "plt.title(\"Autocorrelation estimate $\\\\hat{r}_{vv}[l]$ for white noise\")"
   ]
  },
  {
   "cell_type": "markdown",
   "id": "351a004a-5136-4bac-b640-b2b2ef279ac4",
   "metadata": {},
   "source": [
    "It is important to note however, that what we have calculated above is an autocorrelation *estimate* $\\hat{r}_{xx}[l]$, which should approach the true autocorrelation *function* $r_{xx}[l]$ as $N$ approaches infinity. The mathematical operation which resulted in the figure above is given in equation $1$, and is typically referred to as a *biased* autocorrelation estimate (due to how it \"tapers off\" towards the edges).\n",
    "\n",
    "$$\\hat{r}_{xx}[l] = \\frac{1}{N} \\sum_{n=-N+1}^{N-1} x[n]\\cdot x[n-l] \\tag{1}$$\n",
    "\n",
    "### Autocorrelation and periodic signals\n",
    "\n",
    "A you may remember from exercise 1, the definition of a periodic signal $x(t)$ is a signal which equals itself if it is displaced by an integer multiple of it's fundamental period $T_0$, which gave rise to the equation $x(t) = x\\left(t - k \\cdot T_0 \\right)$. In other words, if a discrete-time signal $x[n]$ has a fundamental period of $M$ samples, the auto-correlation funciton $r_{xx}[l]$ should peak at samples $l = k \\cdot M, \\ \\ k \\in \\mathbb{Z}$. [Here](Figurer/autocorr.png) is an overview of some typical periodic functions/waveforms and their autocorrelation function, notice how the autocorrelation function will *always* have a \"phase-shift\" of $0$ regardless of what the phase compnent of the periodic signal $x[n]$ happens to be. Auto-correlation can therefore be a very useful tool when attempting to determine the fundamental period of a signal $x[n]$, since periodic elements will typically be highlighted."
   ]
  },
  {
   "cell_type": "markdown",
   "id": "582f88fb-17fa-4bbd-bde5-9d70d49fb434",
   "metadata": {},
   "source": [
    "## Task\n",
    "\n",
    "### a)\n",
    "\n",
    "Given a signal $x[n]$ descirbed as follows:\n",
    "$$\\begin{align}\n",
    "x[n] &= s[n] + v[n] \\\\ \n",
    "&\\text{where} \\\\\n",
    "s[n] &=4 \\cdot \\sin(2\\pi \\cdot 5 \\cdot n) \\\\\n",
    "v[n] &\\sim \\mathcal{N}\\left(\\mu_v = 0, \\sigma_v^2 = 4\\right)\n",
    "\\end{align}$$\n",
    "Since the noise is not correlated with the sine wave, the auto-correlation function $r_{xx}[l]$ can be written as:\n",
    "$$\n",
    "\\begin{align}\n",
    "r_{xx}[l] &= r_{ss}[l] + r_{vv}[k] \\\\ \n",
    "&= A \\cdot \\cos(2\\pi \\cdot 5 \\cdot n) + B \\cdot \\delta[n]\n",
    "\\end{align}$$\n",
    "\n",
    "What are the values of $A$ and $B$ in the above equation?\n",
    "\n"
   ]
  },
  {
   "cell_type": "code",
   "execution_count": null,
   "id": "6ce0b7a0-05f7-4da0-8ebf-b15d104d221e",
   "metadata": {
    "deletable": false,
    "nbgrader": {
     "cell_type": "code",
     "checksum": "c5f09ba83f388fc79be21c195cbe988a",
     "grade": false,
     "grade_id": "cell-8c7f0fd4c9990729",
     "locked": false,
     "schema_version": 3,
     "solution": true,
     "task": false
    }
   },
   "outputs": [],
   "source": [
    "A = \"?\"\n",
    "B = \"?\"\n",
    "# WRITE YOUR CODE IN THIS CELL:"
   ]
  },
  {
   "cell_type": "code",
   "execution_count": null,
   "id": "6e693e1a-09ef-4fd9-8bdf-b44ec2ab0251",
   "metadata": {
    "deletable": false,
    "editable": false,
    "nbgrader": {
     "cell_type": "code",
     "checksum": "12d815a640f82aeb80a2bebd57109200",
     "grade": true,
     "grade_id": "cell-84fac8451306fafd",
     "locked": true,
     "points": 1,
     "schema_version": 3,
     "solution": false,
     "task": false
    }
   },
   "outputs": [],
   "source": [
    "from hashlib import sha1\n",
    "assert sha1(str(round(float(A), 0)).encode('utf-8')+b'c76c6').hexdigest() == 'c1fde03a848ca891c025f098b80cc5c8f07d3188', 'Wrong answer for A :('\n",
    "print('Correct answer for A :)')\n",
    "assert sha1(str(round(float(B), 0)).encode('utf-8')+b'c76c6').hexdigest() == '42b6189a63d34922949a0f53290e646b94951618', 'Wrong answer for B :('\n",
    "print('Correct answer for B :)')"
   ]
  },
  {
   "cell_type": "markdown",
   "id": "3b7f7185-e18e-4432-b0e8-3bc24043b848",
   "metadata": {},
   "source": [
    "<br>\n",
    "Attached to this assignment is a data file containing a different signal $x[n] = s[n] + v[n]$ where $s[n]$ is some periodic signal, and $v[n]$ is noise. The code cell below will load this data into an array `x`, and display a plot of the signal.\n"
   ]
  },
  {
   "cell_type": "code",
   "execution_count": null,
   "id": "419f3109-268e-4281-8083-7b8ecfc0044c",
   "metadata": {},
   "outputs": [],
   "source": [
    "from scipy.io import loadmat\n",
    "data = loadmat(\"data/autocorr.mat\", squeeze_me=True)\n",
    "x = data['x']\n",
    "plt.plot(x)\n",
    "plt.xlabel(\"Sample number $n$ \")"
   ]
  },
  {
   "cell_type": "markdown",
   "id": "ca003744-4537-4ea9-b1af-44e5275f3f57",
   "metadata": {},
   "source": [
    "As we can see from the plot above, the periodic nature of the signal $x[n]$ is not at all evident.\n",
    "\n",
    "### b) \n",
    "\n",
    "Use Python to produce an estimated autocorrelation sequence $\\hat{r}_{xx}[l]$, and display the it in a new plot. "
   ]
  },
  {
   "cell_type": "code",
   "execution_count": null,
   "id": "78541d8a-3189-4600-a194-e93470e10e9e",
   "metadata": {
    "editable": true,
    "slideshow": {
     "slide_type": ""
    },
    "tags": []
   },
   "outputs": [],
   "source": [
    "\n",
    "plt.plot(np.arange(-len(x)+1, len(x)), np.correlate(x, x, mode=\"full\"))\n",
    "plt.xlabel(\"Displacement $l$ in samples\")\n",
    "plt.ylabel(\"Autocorrelation $\\\\hat{r}_{xx}[l]$\")\n",
    "plt.savefig(\"Figurer/task3b_lf.png\")"
   ]
  },
  {
   "cell_type": "markdown",
   "id": "5982301f-9131-43ba-bbb7-601136ceb738",
   "metadata": {},
   "source": [
    "[Here](Figurer/task3b_lf.png) is a plot showing what the plot of $\\hat{r}_{xx}[l]$ may look like.\n",
    "\n",
    "\n",
    "### c)\n",
    "\n",
    "Use either visual inspection of the figure from task **b)**, or automated analysis of the autocorrelation sequence $\\hat{r}_{xx}[l]$ to calculate the fundamental period $M$ of the periodic element $s[n]$ contained within the signal $x[n]$."
   ]
  },
  {
   "cell_type": "code",
   "execution_count": null,
   "id": "f34a8043-b12c-48f5-b22d-af6b43028ede",
   "metadata": {
    "deletable": false,
    "nbgrader": {
     "cell_type": "code",
     "checksum": "ff7cd7cb06a9a151dd99ec7b2c352433",
     "grade": false,
     "grade_id": "cell-d745d75d8e7259af",
     "locked": false,
     "schema_version": 3,
     "solution": true,
     "task": false
    }
   },
   "outputs": [],
   "source": [
    "M = \"???\"\n",
    "# WRITE YOUR CODE IN THIS CELL:"
   ]
  },
  {
   "cell_type": "code",
   "execution_count": null,
   "id": "a2302544-e9de-4d2d-9415-65ed3eb770dd",
   "metadata": {
    "deletable": false,
    "editable": false,
    "nbgrader": {
     "cell_type": "code",
     "checksum": "5e4d40524e75384f1118cff06af7c923",
     "grade": true,
     "grade_id": "cell-834ec50a43c96f5c",
     "locked": true,
     "points": 1,
     "schema_version": 3,
     "solution": false,
     "task": false
    }
   },
   "outputs": [],
   "source": [
    "from hashlib import sha1\n",
    "assert sha1(str(round(float(M), 0)).encode('utf-8')+b'38b4').hexdigest() == '649cefdd91cec1457248b609312be7a512d9b500', 'Wrong answer for M :('\n",
    "print('Correct answer for M :)')"
   ]
  },
  {
   "cell_type": "code",
   "execution_count": null,
   "id": "2f9ca6fb-a9a0-45ae-8e94-5c1fd6b529e3",
   "metadata": {
    "deletable": false,
    "nbgrader": {
     "cell_type": "code",
     "checksum": "060745d0164a48a43a52da6491aab6da",
     "grade": true,
     "grade_id": "cell-f7c5d58e39afd3eb",
     "locked": true,
     "points": 0,
     "schema_version": 3,
     "solution": false,
     "task": false
    },
    "slideshow": {
     "slide_type": ""
    },
    "tags": []
   },
   "outputs": [],
   "source": []
  },
  {
   "cell_type": "code",
   "execution_count": null,
   "id": "abfe61d8-4fd7-485d-8288-21aff74438c4",
   "metadata": {
    "deletable": false,
    "editable": false,
    "nbgrader": {
     "cell_type": "code",
     "checksum": "1c2561037c52419d0435dc92667d42f8",
     "grade": true,
     "grade_id": "cell-f9706c9bee01d5a2",
     "locked": true,
     "points": 0,
     "schema_version": 3,
     "solution": false,
     "task": false
    },
    "slideshow": {
     "slide_type": ""
    },
    "tags": []
   },
   "outputs": [],
   "source": []
  }
 ],
 "metadata": {
  "kernelspec": {
   "display_name": "Python 3 (ipykernel)",
   "language": "python",
   "name": "python3"
  },
  "language_info": {
   "codemirror_mode": {
    "name": "ipython",
    "version": 3
   },
   "file_extension": ".py",
   "mimetype": "text/x-python",
   "name": "python",
   "nbconvert_exporter": "python",
   "pygments_lexer": "ipython3",
   "version": "3.11.5"
  }
 },
 "nbformat": 4,
 "nbformat_minor": 5
}
