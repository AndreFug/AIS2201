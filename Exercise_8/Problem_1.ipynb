{
 "cells": [
  {
   "cell_type": "markdown",
   "id": "45b6de8e-3809-4cf3-9cc9-7cbfed24df08",
   "metadata": {
    "editable": true,
    "slideshow": {
     "slide_type": "slide"
    },
    "tags": []
   },
   "source": [
    "# Convolution in image processing\n",
    "\n",
    "#### Topics:\n",
    "* Convolution with simple FIR filters\n",
    "* Image filtering basics\n",
    "\n",
    "#### Learning goals:\n",
    "* Gain a better understanding of what convolution is\n",
    "* Be able to interpret convolution results, and handle the change in signal length appropriately\n",
    "\n",
    "#### Python modules and notebook config:\n",
    "\n"
   ]
  },
  {
   "cell_type": "code",
   "execution_count": null,
   "id": "2722b3dc-ac99-4d3b-b629-ed26c3684593",
   "metadata": {},
   "outputs": [],
   "source": [
    "from numpy import sin, cos, pi, exp, empty, mean, abs, angle # Sentrale matematiske funksjoner\n",
    "import numpy as np                          # Importer funksjonalitet fra numpy biblioteket med prefiks \"np\"\n",
    "import scipy.signal as sig                  # Importerer signalbehandlingsmodulen til scipy\n",
    "import matplotlib.pyplot as plt             # Importer pyplot modulen i matplotlib med prefiks \"plt\"\n",
    "\n",
    "%matplotlib inline"
   ]
  },
  {
   "cell_type": "markdown",
   "id": "78c15578-bd56-4bcb-ac95-43f77fd7cbfd",
   "metadata": {},
   "source": [
    "### Introduction\n",
    "\n",
    "One area where convolution is widely used is in image processing. Applications could be edge detection, de-blurring, noise removal etc. While the image processing terminology is [*kernel*](https://en.wikipedia.org/wiki/Kernel_(image_processing)) and not FIR filter, the underlying principle is largely the same. \n",
    "\n",
    "One obvious area where images differ from the types of signals we have worked with thus far, is in being 2-dimensional. Since the main goal of this exercise is to familiarize ourselves with convolution in 1 dimention, we will simplify things by exploring filtering techniques which process only individual rows/columns of pixels independently as if they were separate finite-length 1-dimensional signals. \n",
    "\n",
    "Below is a code cell which loads a grayscale image, extracts the pixel values for the 100th pixel row, and plots this as a 1D signal. Such a plot is often referred to as an [intensity profile](https://se.mathworks.com/help/images/intensity-profile-of-images.html)."
   ]
  },
  {
   "cell_type": "code",
   "execution_count": null,
   "id": "3fee7abd-e110-4847-b3a4-db7af119ea30",
   "metadata": {
    "editable": true,
    "slideshow": {
     "slide_type": "slide"
    },
    "tags": []
   },
   "outputs": [],
   "source": [
    "import matplotlib.pyplot as plt\n",
    "import numpy as np\n",
    "\n",
    "Im = plt.imread(\"data/coins.png\")\n",
    "intensity_profile = Im[140,:]\n",
    "\n",
    "plt.figure()\n",
    "plt.subplot(3,1,(1,2))\n",
    "plt.imshow(Im, cmap=\"gray\")\n",
    "rows, cols = Im.shape\n",
    "plt.plot([0, cols-1], [140, 140], 'r')\n",
    "\n",
    "plt.subplot(3,1,3)\n",
    "plt.plot(intensity_profile, 'r')\n",
    "plt.title(\"Intensity profile along 100th pixel row\")\n",
    "plt.xlabel('Pixels')\n",
    "plt.ylabel('Pixel value')\n",
    "plt.tight_layout()"
   ]
  },
  {
   "cell_type": "markdown",
   "id": "0d5a05fd-f4f4-43f0-9d6b-18209eb02bf2",
   "metadata": {},
   "source": [
    "For the most part of this task we will work with the intensity profile shown in the figure above, and once we have familiarized ourselves with how filtering works on this 1-dimensional signal, we can combine multiple filtered profiles into a filtered image. For now, let's treat the intensity profile as a generic discrete-time signal $x[n]$ where the sample number $n$ now refers to horisontal position in the image rather than sampling instant.\n",
    "\n",
    "### First order difference filter\n",
    "\n",
    "When detecting edges in images, we wish to highlight the areas of a image where the pixel value is subject to sudden change (feature enhancement). The simplest way to do this is to apply a first-order difference FIR filter:\n",
    "\n",
    "$$y[n] = x[n] -x[n-1] \\tag{1}$$\n",
    "\n",
    "## a)\n",
    "Determine the filter coefficients $b_0$ and $b_1$ of the filter in equation $1$, as well as the impulse response $h[n]$"
   ]
  },
  {
   "cell_type": "code",
   "execution_count": null,
   "id": "c9e244b1-03ea-4299-8922-61f967b856ef",
   "metadata": {
    "deletable": false,
    "nbgrader": {
     "cell_type": "code",
     "checksum": "b73da26634a919ceeaa714d14f5ac6bd",
     "grade": false,
     "grade_id": "cell-cd9bf2d75c28f3a7",
     "locked": false,
     "schema_version": 3,
     "solution": true,
     "task": false
    }
   },
   "outputs": [],
   "source": [
    "b_0 = \"???\"  # Replace string with numerical value\n",
    "b_1 = \"???\"  # Replace string with numerical value\n",
    "h = [\"???\", \"???\"] # Replace strings in list with numerical values\n",
    "# WRITE YOUR CODE IN THIS CELL:"
   ]
  },
  {
   "cell_type": "code",
   "execution_count": null,
   "id": "69e1ec84-577c-46a6-94d5-81e943f2341a",
   "metadata": {
    "deletable": false,
    "editable": false,
    "nbgrader": {
     "cell_type": "code",
     "checksum": "f7657d9494fa30dfd52ec1307df5bd13",
     "grade": true,
     "grade_id": "cell-6c39011559b8abf0",
     "locked": true,
     "points": 1,
     "schema_version": 3,
     "solution": false,
     "task": false
    }
   },
   "outputs": [],
   "source": [
    "from hashlib import sha1\n",
    "assert sha1(str(round(float(b_0), 0)).encode('utf-8')+b'e585b').hexdigest() == '072154719495af975efcaa04059edad3b40ee014', 'Wrong answer for b_0 :('\n",
    "print('Correct answer for b_0 :)')\n",
    "assert sha1(str(round(float(b_1), 0)).encode('utf-8')+b'35160').hexdigest() == '6667f8864f438cab50f87068b9f50c9d8e1a647c', 'Wrong answer for b_1 :('\n",
    "print('Correct answer for b_1 :)')\n",
    "assert sha1(','.join([str(round(float(x), 0)) for x in h]).encode('utf-8')+b'87e72').hexdigest() == '8eb57fe1616647aa38692ced9f7a2a20153826f5', 'Wrong answer for h :('\n",
    "print('Correct answer for h :)')"
   ]
  },
  {
   "cell_type": "markdown",
   "id": "05a84433-982e-4f14-a71a-8ff8302eaa10",
   "metadata": {},
   "source": [
    "## b)\n",
    "Use the function [`convolve`](https://numpy.org/doc/2.0/reference/generated/numpy.convolve.html) in the `numpy`-module to filter the intensity profile ($x[n]$) with the filter described in equation $1$ by using the impulse response from **a)**. Create a plot showing the filtere output (let's clal it $y_d[n]$)."
   ]
  },
  {
   "cell_type": "code",
   "execution_count": null,
   "id": "5c1b893f-5e67-42a2-ba04-f551c0b4acc3",
   "metadata": {
    "deletable": false,
    "nbgrader": {
     "cell_type": "code",
     "checksum": "56af19aa7b8a43ed181bb43457a69802",
     "grade": true,
     "grade_id": "cell-e741196f3764a780",
     "locked": false,
     "points": 1,
     "schema_version": 3,
     "solution": true,
     "task": false
    }
   },
   "outputs": [],
   "source": [
    "# WRITE YOUR CODE IN THIS CELL:"
   ]
  },
  {
   "cell_type": "markdown",
   "id": "db9ddd5b-438d-4016-9d10-5fa7e58eb48a",
   "metadata": {},
   "source": [
    "*[here](Figurer/task1b_lf.png)* is an image showing what the filtered profile should look like. As we can see, the most prominent spikes (in both positive and negative direction) line up quite well with the transitions between background and coin.\n",
    "\n",
    "## c) \n",
    "\n",
    "Why do you think there is a large positive spike in the start of the filtered intensity profile, and a large negative spike at the end?"
   ]
  },
  {
   "cell_type": "markdown",
   "id": "a4ebcbf4-7849-4155-ba34-d13268580ef8",
   "metadata": {
    "deletable": false,
    "nbgrader": {
     "cell_type": "markdown",
     "checksum": "609b48066faf27d47e463bb15a192eeb",
     "grade": true,
     "grade_id": "cell-2aa8731769be4459",
     "locked": false,
     "points": 1,
     "schema_version": 3,
     "solution": true,
     "task": false
    }
   },
   "source": [
    "ANSWER THEORY QUESTIONS HERE:"
   ]
  },
  {
   "cell_type": "markdown",
   "id": "f6be028b-8ca1-408d-8054-f389172a82fd",
   "metadata": {},
   "source": [
    "### Signal smoothing and Moving Average Filters\n",
    "\n",
    "While difference filtering intensity profiles may highlight edges of objects, it may also highlight small localized image details or simple noise. To avoid this, it may be advantageous to combine the difference filter with a smoothing filter (a.k.a. lowpass filter). One of the simplest lowpass FIR filters is the Moving Average filter which calculates the average value of the $M$ most recent signal samples:\n",
    "\n",
    "$$y[n] = \\frac{1}{M} \\sum_{k=0}^{M-1} x[n-k] \\tag{2}$$\n",
    "\n",
    "## d)\n",
    "\n",
    "Use a 4-point moving average filter to conduct smoothing of the intensity profile $x[n]$, and plot the smoothed profile (let's call it $y_s[n]$) alongside the original."
   ]
  },
  {
   "cell_type": "code",
   "execution_count": null,
   "id": "831b81df-83e0-4ac3-baa8-c32a87917133",
   "metadata": {
    "deletable": false,
    "nbgrader": {
     "cell_type": "code",
     "checksum": "0590af6c1bf563ef8c7dbb3d551aa2b4",
     "grade": true,
     "grade_id": "cell-19a6ab4c82cecff4",
     "locked": false,
     "points": 1,
     "schema_version": 3,
     "solution": true,
     "task": false
    }
   },
   "outputs": [],
   "source": [
    "# WRITE YOUR CODE IN THIS CELL:"
   ]
  },
  {
   "cell_type": "markdown",
   "id": "de454d6c-c35d-4147-b3b3-8c081b0bcbb9",
   "metadata": {
    "editable": true,
    "slideshow": {
     "slide_type": "slide"
    },
    "tags": []
   },
   "source": [
    "*[here](Figurer/task1d_lf.png)* is an image showing what the two plots should look like.\n",
    "## e) \n",
    "\n",
    "Explain why the smoothed profile appears to \"lag behind\" the original."
   ]
  },
  {
   "cell_type": "markdown",
   "id": "ac6e134e-786b-4caf-be40-85aed7407bec",
   "metadata": {
    "deletable": false,
    "nbgrader": {
     "cell_type": "markdown",
     "checksum": "f1b6d934e151407ae4b0b9abed2f6bd3",
     "grade": true,
     "grade_id": "cell-3f94bf46d78b8124",
     "locked": false,
     "points": 1,
     "schema_version": 3,
     "solution": true,
     "task": false
    }
   },
   "source": [
    "ANSWER THEORY QUESTIONS HERE:"
   ]
  },
  {
   "cell_type": "markdown",
   "id": "e1ee0227-64b0-4128-96da-438ffa062b42",
   "metadata": {
    "editable": true,
    "slideshow": {
     "slide_type": "slide"
    },
    "tags": []
   },
   "source": [
    "### Cascade FIR filters\n",
    "\n",
    "The process of smoothing the intensity profile $x[n]$ using a moving average filter $h_{s}[n]$ before highlighting edges with a difference filter $h_d[n]$ can be described mathematically as follows:\n",
    "$$y[n] = (x[n]*h_s[n])*h_d[n]$$\n",
    "\n",
    "Since convolution is associative this can be simplified into one filtering operation $y[n] = x[n]*h[n]$ where $h[n] = h_s[n]*h_d[n]$.\n",
    "\n",
    "## f)\n",
    "\n",
    "Using the filters from problems **a)** and **d)**, what is the impulse response of the combined smoothing & difference filter $h[n]$?"
   ]
  },
  {
   "cell_type": "code",
   "execution_count": null,
   "id": "a29d1fed-b75b-4690-abf2-f3cad71e1214",
   "metadata": {
    "deletable": false,
    "nbgrader": {
     "cell_type": "code",
     "checksum": "29563de3a3d4d2e49f95ddb68029a93c",
     "grade": false,
     "grade_id": "cell-b4df11d2a94b94ce",
     "locked": false,
     "schema_version": 3,
     "solution": true,
     "task": false
    }
   },
   "outputs": [],
   "source": [
    "h = [\"???\"]  # Replace string with appropriate collection of numerical values\n",
    "# WRITE YOUR CODE IN THIS CELL:"
   ]
  },
  {
   "cell_type": "code",
   "execution_count": null,
   "id": "a8269ee9-1f0b-4846-8332-02f6f4d336d9",
   "metadata": {
    "deletable": false,
    "editable": false,
    "nbgrader": {
     "cell_type": "code",
     "checksum": "f7202a596a3fed9c2419142db7978ee6",
     "grade": true,
     "grade_id": "cell-8fafad8c5f4eee06",
     "locked": true,
     "points": 1,
     "schema_version": 3,
     "solution": false,
     "task": false
    }
   },
   "outputs": [],
   "source": [
    "from hashlib import sha1\n",
    "assert sha1(','.join([str(round(float(x), 0)) for x in h]).encode('utf-8')+b'652c3').hexdigest() == 'a96eaae5cfb11450eda1c177f62eb3b1c58dd4df', 'Wrong answer for h :('\n",
    "print('Correct answer for h :)')"
   ]
  },
  {
   "cell_type": "markdown",
   "id": "164b3719-a25b-47c1-9e9a-a598ee4452dc",
   "metadata": {},
   "source": [
    "It is now time to put our edge highlighting filter to the test, and filter the actual image. To do this, we need to convert the impulse response to a 2D array, and use the `scipy.signal`-function `convolve2d`. The code cell below will effectively filter each line of pixels individually, and combine all the filtered lines to a new image. Assuming we don't wish to differentiate between rising edge and falling edge, plotting the absolute values of the filtered image $\\boldsymbol{Y}_h$ should highlight edges in the *horizontal direction*.\n"
   ]
  },
  {
   "cell_type": "code",
   "execution_count": null,
   "id": "162bb0e1-bf52-4424-b3c3-2c0a4f26bdc1",
   "metadata": {},
   "outputs": [],
   "source": [
    "import scipy.signal as sig\n",
    "h_2D = h.reshape(1, -1) # 2D array with 1 row, and as many columns as necessary\n",
    "Im_filt_h = sig.convolve2d(Im, h_2D, mode=\"same\")  # Truncate the output so output size = input size\n",
    "plt.imshow(np.abs(Im_filt_h), cmap=\"gray\")  # Plot the magnitude of filter output"
   ]
  },
  {
   "cell_type": "markdown",
   "id": "60acd811-4e6c-42a5-a349-738f720da420",
   "metadata": {},
   "source": [
    "## g) edge detection *optional*\n",
    "\n",
    "1. Modify the code snippet above to produce *another* filtered image $\\boldsymbol{Y}_v$ which highlights *vertical* edges.\n",
    "2. Combine the verticaly filtered image $\\boldsymbol{Y}_v$ and the horizontally filtered image $\\boldsymbol{Y}_h$ to produce the output $\\boldsymbol{Y}[i,j] = \\sqrt{\\boldsymbol{Y}_h[i,j]^2 + \\boldsymbol{Y}_v[i,j]^2}$, and display this image using `imshow`.\n",
    "3. Finally, create a [binary image](https://en.wikipedia.org/wiki/Binary_image) by [thresholding](https://en.wikipedia.org/wiki/Thresholding_(image_processing)) the image from step 2. You are free to choose a sutable threshold value yourself. [here](\"Figurer/task1g_lf.png\") is an example of what the final binarized result may look like."
   ]
  },
  {
   "cell_type": "code",
   "execution_count": null,
   "id": "691935b1-7473-4c2b-9e91-1e7643b8b535",
   "metadata": {
    "deletable": false,
    "nbgrader": {
     "cell_type": "code",
     "checksum": "3356fab450de6477b025fd5d05a7e8a2",
     "grade": true,
     "grade_id": "cell-c8c576c2d638ec3e",
     "locked": false,
     "points": 1,
     "schema_version": 3,
     "solution": true,
     "task": false
    }
   },
   "outputs": [],
   "source": [
    "# WRITE YOUR CODE IN THIS CELL:"
   ]
  },
  {
   "cell_type": "markdown",
   "id": "d08c2ba6-dada-4d87-a941-f568d23b2db6",
   "metadata": {},
   "source": [
    "### *Disclaimer*\n",
    "\n",
    "The edge detection method discussed in this task is a *simplified* variant of more commonly used edge detection techniques. In practice, edge highlighting filters (aka. kernels) will utilize information along both dimensions in an image, and take the form of a matrix rather than an array. However, the concept of combining smoothing with edge highlighting is familiar in feature enhancement filters such as [DoG](https://en.wikipedia.org/wiki/Difference_of_Gaussians)."
   ]
  }
 ],
 "metadata": {
  "kernelspec": {
   "display_name": "Python 3 (ipykernel)",
   "language": "python",
   "name": "python3"
  },
  "language_info": {
   "codemirror_mode": {
    "name": "ipython",
    "version": 3
   },
   "file_extension": ".py",
   "mimetype": "text/x-python",
   "name": "python",
   "nbconvert_exporter": "python",
   "pygments_lexer": "ipython3",
   "version": "3.11.5"
  },
  "toc": {
   "base_numbering": 1
  }
 },
 "nbformat": 4,
 "nbformat_minor": 5
}
