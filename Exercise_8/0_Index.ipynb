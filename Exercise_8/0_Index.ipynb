{
 "cells": [
  {
   "cell_type": "markdown",
   "metadata": {
    "editable": true,
    "slideshow": {
     "slide_type": "slide"
    },
    "tags": []
   },
   "source": [
    "# Assignment 8 - FIR filters, convolution and correlation\n",
    "\n",
    "### Relevant reading materials: \n",
    "- Kapittel 5.1, 5.2 & 7.3 in  Understanding Digital Signal Processing\n",
    "- Introductory text on correlation from [The Scientist and Engineer's Guide to Digital Signal Processing](http://www.dspguide.com/ch7/3.htm)\n",
    "- A [Jupyter Notebook learning resource](https://github.com/spatialaudio/digital-signal-processing-lecture/blob/f4829a118144c66d1bf61d6dbc630cdb5019ee36//random_signals/correlation_functions.ipynb) with a more rigorous mathematical overview and python examples\n",
    "\n",
    "### Introduction:\n",
    "FIR filters are one of the two main categories of digital filters. The abbreviation **FIR** stands for **F**inite **I**mpulse **R**esponse, which means that if the filter is applied to a delta pulse as the input signal ($x[n] = \\delta[n] $), the output signal (the impulse response) ($ y[n] = h[n] $) will always return to zero after a given number of samples $ N $.\n",
    "\n",
    "The relationship between the input signal $x[n] $ and the output signal $ y[n] $ for an FIR filter is given by the general difference equation for FIR filters:\n",
    "$$ \\begin{align}\n",
    "y[n] &= \\sum_{k=0}^{N} b_k \\cdot x[n-k] \\\\\n",
    "&= b_0 \\cdot x[n]+b_1 \\cdot x[n-1] + b_2 \\cdot x[n-2] + \\ldots + b_N \\cdot x[n-N]\\\\\n",
    "\\end{align}$$\n",
    "where $ N $ is the filter's order, and the sequence of numbers $b_k$ are the filter's *filter coefficients*. \n",
    "\n",
    "The relationship between the input signal $x[n]$ and the output signal $y[n]$ can be described as the result of a *convolution operation* between $x[n]$ and the filter's impulse response $h[n]$. \n",
    "\n",
    "$$\\begin{align}\n",
    "y[n] &= \\sum_{n=0}^{N} h[k]\\cdot x[n-k] \\\\\n",
    "&= h[n]*x[n]\n",
    "\\end{align}$$\n",
    "\n",
    "The code cell below will run a convolution demo illustrating how convolution between a moving average filter ($h[n] = \\frac{1}{M}(u[n] - u[n-M]$) and a square wave works.\n"
   ]
  },
  {
   "cell_type": "code",
   "execution_count": null,
   "metadata": {},
   "outputs": [],
   "source": [
    "import numpy as np\n",
    "import scipy.signal as sig\n",
    "from demos import ConvolutionDemo\n",
    "%matplotlib ipympl\n",
    "L = 64 # Length of x[n], and signal delay K\n",
    "M = 8\n",
    "n = np.arange(L)\n",
    "x_n = sig.square(2*np.pi*4*n/L)\n",
    "h_n = np.ones(8)/8\n",
    "ConvolutionDemo(x_n, h_n, fig_num=2);"
   ]
  },
  {
   "cell_type": "markdown",
   "metadata": {},
   "source": [
    "In this lab exercise, we will learn about the impulse response of a digital filter and how it relates to the frequency characteristics of the filter.\n",
    "\n",
    "\n",
    "### Problems:\n",
    "Problem | Topic\n",
    "--- | --- \n",
    "[Problem 1](Problem_1.ipynb) | Simplified edge detection in images using convolution\n",
    "[Problem 2](Problem_2.ipynb) | Matched filters and radar\n",
    "[Problem 3](Problem_3.ipynb) | Autocorrelation and fundamental period estimation"
   ]
  }
 ],
 "metadata": {
  "hide_input": false,
  "kernelspec": {
   "display_name": "Python 3 (ipykernel)",
   "language": "python",
   "name": "python3"
  },
  "language_info": {
   "codemirror_mode": {
    "name": "ipython",
    "version": 3
   },
   "file_extension": ".py",
   "mimetype": "text/x-python",
   "name": "python",
   "nbconvert_exporter": "python",
   "pygments_lexer": "ipython3",
   "version": "3.11.5"
  },
  "toc": {
   "base_numbering": 1,
   "nav_menu": {},
   "number_sections": false,
   "sideBar": true,
   "skip_h1_title": false,
   "title_cell": "Innholdstabell",
   "title_sidebar": "Innhold",
   "toc_cell": false,
   "toc_position": {},
   "toc_section_display": true,
   "toc_window_display": false
  },
  "varInspector": {
   "cols": {
    "lenName": 16,
    "lenType": 16,
    "lenVar": 40
   },
   "kernels_config": {
    "python": {
     "delete_cmd_postfix": "",
     "delete_cmd_prefix": "del ",
     "library": "var_list.py",
     "varRefreshCmd": "print(var_dic_list())"
    },
    "r": {
     "delete_cmd_postfix": ") ",
     "delete_cmd_prefix": "rm(",
     "library": "var_list.r",
     "varRefreshCmd": "cat(var_dic_list()) "
    }
   },
   "types_to_exclude": [
    "module",
    "function",
    "builtin_function_or_method",
    "instance",
    "_Feature"
   ],
   "window_display": false
  }
 },
 "nbformat": 4,
 "nbformat_minor": 4
}
