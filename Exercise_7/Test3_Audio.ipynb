{
 "cells": [
  {
   "cell_type": "markdown",
   "id": "c0e2eb1b-d291-4ddf-8375-fe35d87aa772",
   "metadata": {
    "editable": true,
    "slideshow": {
     "slide_type": "slide"
    },
    "tags": []
   },
   "source": [
    "# Test 3: \"Real-world\" waveform with noise\n",
    "\n",
    "Just like with the sinusoid test, we can use audio recordings of real-world sounds as a basis for testing the system performance on more complex waveforms, and add progressive levels of white noise for each iteration. \n",
    "\n",
    "In the \"Data\" folder you can find a number of audio files you can use as test input. Most of these files contain a short recording of a continuous musical note. If you wish to adjust the samping frequency of the sound files, take a look at the function [`resample`](https://docs.scipy.org/doc/scipy/reference/generated/scipy.signal.resample.html) in the `scipy.signal` module.\n",
    "\n",
    "Create a python program which lads a specific audio file and adds progressively increasing levels of white gaussian noise before feeding it into the attached function `freq_detection`. Subsequently, your program should provide an analysis of the outuput from the function `freq_detection` for the various noise levels, which can take the form of a plot showing the frequency detection system's error as a function of SNR. This will be useful when evaluating the frequency detection system's performance in the presence of noise. Measuring the frequency estimate error in such a way will allow us to evaluate two things:\n",
    "\n",
    "1. How well the frequency detection system can estimate the fundamental frequency of a \"real-world\" periodic waveform\n",
    "2. The effect of white noise interference on the frequency detection system when applied to a \"real-world\" periodic waveform\n",
    "\n",
    "P.S. You can determine appropriate noise power(s) by calculating the average power in the audio clip as a basis for and scaling by desired SNR"
   ]
  },
  {
   "cell_type": "code",
   "execution_count": null,
   "id": "e671fb92-7f65-4809-8f6a-fdfa4804c5b2",
   "metadata": {
    "deletable": false,
    "nbgrader": {
     "cell_type": "code",
     "checksum": "df9930e5cdbf99c112c0a214e29e5fe2",
     "grade": true,
     "grade_id": "cell-fd39b65774629931",
     "locked": false,
     "points": 1,
     "schema_version": 3,
     "solution": true,
     "task": false
    }
   },
   "outputs": [],
   "source": [
    "from baseline_algorithm import freq_detection\n",
    "# WRITE YOUR CODE IN THIS CELL:\n",
    "\n"
   ]
  },
  {
   "cell_type": "markdown",
   "id": "fc29fec0-416a-423c-b8ec-d5a2725e69cf",
   "metadata": {
    "editable": true,
    "slideshow": {
     "slide_type": "slide"
    },
    "tags": []
   },
   "source": [
    "[Here](Figures/wavfileTest_LF.png) is an image showing a *suggestion* for what or test output may look like when using the audio in `A4_oboe.wav` as a signal. As we can see, the frequency detection system produces a stable but erroneous output when there is little noise, suggesting it has \"locked on\" to a harmonic rather than the fundamental frequency. It is also interesting to note that the noise will begin to cause the estimated frequency to fluctuate a lot earlier than in the case with the pure sinusoid, so while the average error remains more or less unchanged, the estimated frequency will vary significantly."
   ]
  }
 ],
 "metadata": {
  "kernelspec": {
   "display_name": "Python 3 (ipykernel)",
   "language": "python",
   "name": "python3"
  },
  "language_info": {
   "codemirror_mode": {
    "name": "ipython",
    "version": 3
   },
   "file_extension": ".py",
   "mimetype": "text/x-python",
   "name": "python",
   "nbconvert_exporter": "python",
   "pygments_lexer": "ipython3",
   "version": "3.12.2"
  },
  "toc": {
   "base_numbering": 1
  }
 },
 "nbformat": 4,
 "nbformat_minor": 5
}
