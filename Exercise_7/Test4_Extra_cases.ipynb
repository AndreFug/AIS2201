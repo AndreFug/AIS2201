{
 "cells": [
  {
   "cell_type": "markdown",
   "id": "f8268f2e-961c-4f0a-b67d-f9d0ab5d3e6a",
   "metadata": {},
   "source": [
    "# Test 4: Extra cases\n",
    "\n",
    "If you can think of alternative ways of measuring the performance of your improved frequency detection system, feel free to write them here, and use them in your project. For instance, the audio file `Zauberflöte_vocal.wav` may serve as a nice little stresstest for your system."
   ]
  },
  {
   "cell_type": "code",
   "execution_count": null,
   "id": "af64ddc9-dd71-4577-9cb9-8a956f641c18",
   "metadata": {
    "deletable": false,
    "nbgrader": {
     "cell_type": "code",
     "checksum": "06f83ca9ef1672b33c9f2b7c6123e5f7",
     "grade": true,
     "grade_id": "cell-7026b92a9a0708d8",
     "locked": false,
     "points": 1,
     "schema_version": 3,
     "solution": true,
     "task": false
    }
   },
   "outputs": [],
   "source": [
    "# WRITE YOUR CODE IN THIS CELL:"
   ]
  }
 ],
 "metadata": {
  "kernelspec": {
   "display_name": "Python 3 (ipykernel)",
   "language": "python",
   "name": "python3"
  },
  "language_info": {
   "codemirror_mode": {
    "name": "ipython",
    "version": 3
   },
   "file_extension": ".py",
   "mimetype": "text/x-python",
   "name": "python",
   "nbconvert_exporter": "python",
   "pygments_lexer": "ipython3",
   "version": "3.11.5"
  }
 },
 "nbformat": 4,
 "nbformat_minor": 5
}
