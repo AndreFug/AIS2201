{
 "cells": [
  {
   "cell_type": "markdown",
   "id": "97330bf2-6c8d-4b80-bb51-259c183d0118",
   "metadata": {},
   "source": [
    "# Test 1: Pure sine with noise\n",
    "\n",
    "One possible approach to evaluating the frequency detection system's performance in the presence of noise, is to subject it to a set of simulated input signals, where the noise power increses with each iteration. This way, we can present a plot showing e.g. average frequency estimate, and estimate error expressed as a function of Signal-to-Noise Ratio (SNR).\n",
    "\n",
    "PS. for a pure sine buried with added noise, the Signal-to-Noise Ratio can be calculated with the following formula:<br>\n",
    "$$SNR = \\frac{P_{sin}}{P_{noise}} = \\frac{A^2/2}{\\sigma_{noise}^2}$$"
   ]
  },
  {
   "cell_type": "code",
   "execution_count": null,
   "id": "6913ba71-70dc-49e5-a778-5c7843d8fdbc",
   "metadata": {
    "deletable": false,
    "nbgrader": {
     "cell_type": "code",
     "checksum": "45713522f17e33e88a7e2359aa04f55c",
     "grade": true,
     "grade_id": "cell-2d0d1c4a2b8ec114",
     "locked": false,
     "points": 1,
     "schema_version": 3,
     "solution": true,
     "task": false
    }
   },
   "outputs": [],
   "source": [
    "from baseline_algorithm import freq_detection\n",
    "# WRITE YOUR CODE IN THIS CELL:"
   ]
  },
  {
   "cell_type": "markdown",
   "id": "a17830bf-f4d0-4f40-9dc3-00a2098ad57c",
   "metadata": {},
   "source": [
    "[Here](Figures/sineTest_LF.png) is an image showing a *suggestion* for what or test output may look like for a tone of $885 Hz$. As we can see, the frequency detection system produces a stable output in the presence of noise, up to a point where the noise power is $\\approx 20$ times greater than the sinusoid power. However, there is always some estimation error due to the limited resolution bandwidth offered by the FFT, resulting in the average error never going below $\\approx 3.6 \\text{ Hz}$."
   ]
  }
 ],
 "metadata": {
  "kernelspec": {
   "display_name": "Python 3 (ipykernel)",
   "language": "python",
   "name": "python3"
  },
  "language_info": {
   "codemirror_mode": {
    "name": "ipython",
    "version": 3
   },
   "file_extension": ".py",
   "mimetype": "text/x-python",
   "name": "python",
   "nbconvert_exporter": "python",
   "pygments_lexer": "ipython3",
   "version": "3.11.5"
  }
 },
 "nbformat": 4,
 "nbformat_minor": 5
}
