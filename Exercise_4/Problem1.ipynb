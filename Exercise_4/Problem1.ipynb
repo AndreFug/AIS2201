{
 "cells": [
  {
   "cell_type": "markdown",
   "metadata": {
    "deletable": false,
    "editable": false,
    "nbgrader": {
     "cell_type": "markdown",
     "checksum": "071ca897956c5e57c104ec31c072cae0",
     "grade": false,
     "grade_id": "cell-483c68ab31aafe98",
     "locked": true,
     "schema_version": 3,
     "solution": false,
     "task": false
    }
   },
   "source": [
    "# Signal Analysis using DFT\n",
    "\n",
    "__Desired Learning Outcomes__:\n",
    "* Understanding the relation between DFT index and wave frequency.\n",
    "* Interpreting the Magnitude of component sinusoids from a N-point DFT.\n",
    "* Interpreting the Phase of component sinusoids from a N-point DFT.\n",
    "\n",
    "__Libraries and notebook-config:__"
   ]
  },
  {
   "cell_type": "code",
   "execution_count": 2,
   "metadata": {},
   "outputs": [],
   "source": [
    "from numpy import sin, cos, pi, exp, append, mean, absolute, angle # Sentrale matematiske funksjoner\n",
    "from numpy.fft import fft, ifft             # DFT og IDFT\n",
    "import numpy as np                          # Importer funksjonalitet fra numpy biblioteket med prefiks \"np\"\n",
    "import matplotlib.pyplot as plt             # Importer pyplot modulen i matplotlib med prefiks \"plt\"\n",
    "from scipy.io import loadmat\n",
    "\n",
    "#%matplotlib inline"
   ]
  },
  {
   "cell_type": "markdown",
   "metadata": {
    "deletable": false,
    "editable": false,
    "nbgrader": {
     "cell_type": "markdown",
     "checksum": "926ee333f89c8ddcc3ce1b116da24e0d",
     "grade": false,
     "grade_id": "cell-b5a40af0636e3ee7",
     "locked": true,
     "schema_version": 3,
     "solution": false,
     "task": false
    }
   },
   "source": [
    "#### Introduction\n",
    "The focus of this task will be to use the Fast Fourier Transform (FFT) to perform frequency-domain analysis of a sample signal $x[n]$ stored in a data file `lab3.mat`. The signal $x[n]$ has a duration of $N=128$ samples, and consists of two sinusoid components added together: $x[n] = A_1\\cdot \\cos\\left(\\hat{\\omega}_1\\cdot n + \\phi_1 \\right) + A_2\\cdot \\cos\\left(\\hat{\\omega}_2\\cdot n + \\phi_2 \\right)$. \n",
    "\n",
    "The code cell below shows how both the sample values $x[n]$ and the sample numbers $n$ are loaded into suitable arrays.\n",
    "\n",
    "\n"
   ]
  },
  {
   "cell_type": "code",
   "execution_count": 3,
   "metadata": {},
   "outputs": [],
   "source": [
    "fileData = loadmat('lab4.mat', squeeze_me=True)\n",
    "\n",
    "n = fileData['n']\n",
    "N = len(n)\n",
    "x_1 = fileData['x1[n]']\n"
   ]
  },
  {
   "cell_type": "markdown",
   "metadata": {},
   "source": [
    "#### Analysis of discrete-time signals in Python\n",
    "\n",
    "As we can see in the above codecell, $x[n]$ is represented purely as a digital, or discrete-time signal. Sampling frequency is not included in the file, and as such the only meaningful unit of time to form the basis of signal analysis is *sample number* $n$, and frequencies need to be measured in *cycles per sample* $\\hat{f}$ or *radians per sample* $\\hat{\\omega}$. \n",
    "\n",
    "When working with a digital signal, it is often desirable to use a [stem plot](https://matplotlib.org/stable/api/_as_gen/matplotlib.pyplot.stem.html) to represent the data in a way makes it's discrete nature evident. Below is an example of how the sample signal $x[n]$ from the data file `lab3.mat` can be visualized using a stem plot.\n",
    "\n",
    "<!--\n",
    "The primary focus for this course will be digital signals, \n",
    "Hoveddelen av dette emnet vil vi arbeide med digitale signal, som er en såkalt tidsdiskrét utgave av et reelt analogt signal. Dette er en serie med målinger for tidspunktene $t = n\\cdot T_s, \\ \\ n \\in \\mathbb{Z}$ der $T_s$ er samplingsfrekvensen. Forholdet mellom et digitalt signal $x[n]$ og et analogt signal $x(t)$ er altså:\n",
    "$$ x[n] = x(n\\cdot T_s)$$\n",
    "\n",
    "Dersom vi ønsker å generere en digital sinus-sekvens $x[n]$ for en sinusbølge med frekvens $f = 100Hz$, og samplingsfrekvens $f_s = 2400Hz$, så blir uttrykket slik vist nedenfor, der den _digitale perioden_ $M$ er 24 sampler, noe som betyr at sinus-sekvensen gjentar seg selv etter 24 sampler.\n",
    "$$x[n] = \\cos\\left(2\\pi \\cdot 100 \\cdot n \\cdot T_s \\right) = \\cos \\left(2\\pi\\frac{100}{2400}\\cdot n \\right) = \\cos \\left(\\frac{\\pi}{12}\\cdot n \\right)$$\n",
    "De første 96 samplene i et slikt signal kan vi generere med koden nedenfor. For å plotte et slikt signal bruker vi ofte funksjonen [`stem`](https://matplotlib.org/stable/api/_as_gen/matplotlib.pyplot.stem.html) for å lage et *stolpediagram* der hver stolpe representerer én sample. Dette er ofte hensiktsmessig når vi har relativt små sekvenser å analysere (for signaler med lengde noe særlig mere enn $100$ sampler begynner stolpediagram å være en lite gunstig måte å visualisere signalet på, og et linjeplot vil være å foretrekke).\n",
    "\n",
    "\n",
    "I denne oppgaven skal vi se på et testsignal $x[n]$ med 128 sampler, bestående av to sinussekvenser som er lagt sammen $x[n] = A_1\\cdot \\cos\\left(\\hat{\\omega}_1\\cdot n + \\phi_1 \\right) + A_2\\cdot \\cos\\left(\\hat{\\omega}_2\\cdot n + \\phi_2 \\right)$. Signalet lastes inn fra datafila `lab3.mat`, og er signalet gitt i kolonnen merket `x1[n]`. Ved å regne DFT (fft) av dette signalet kan vi analysere frekvensinnholdet i signalet. Koden nedenfor vil laste inn signalet `x1[n]` fra datafila, regne ut signalets DFT, og visualisere resultatet ved bruk av funksjonen `timeSpectrumStem()` som er laget for denne dataøvingen. Denne funksjonen tar in digitalt signal som tidsserie (`xn1`), signalets DFT (`Xk1`), og antall sampler (`N`) som parametre.-->"
   ]
  },
  {
   "cell_type": "code",
   "execution_count": 4,
   "metadata": {},
   "outputs": [
    {
     "data": {
      "image/png": "[encoded data removed]",
      "text/plain": [
       "<Figure size 640x480 with 1 Axes>"
      ]
     },
     "metadata": {},
     "output_type": "display_data"
    }
   ],
   "source": [
    "plt.stem(n, # Sample number\n",
    "         x_1, # Signal values\n",
    "         linefmt='-', # Line style for stem lines\n",
    "         markerfmt='.', # Stem marker style\n",
    "         basefmt='grey', # Base line style (horizontal line at 0.0)\n",
    "        )\n",
    "plt.xlabel(\"Sample number $n$\")\n",
    "plt.ylabel(\"Amplitude\")\n",
    "plt.title(\"$x[n]$\")\n",
    "plt.xlim([0, N])\n",
    "plt.grid(True)"
   ]
  },
  {
   "cell_type": "markdown",
   "metadata": {},
   "source": [
    "#### The FFT function\n",
    "\n",
    "The FFT function in numpy produces an array of complex number values that we mathematically refer to as $X[m]$. This function transforms $N$ samples of a digital signal $x[n]$ into a frequency domain representation. Each element in $X[m]$ contains information about the magnitude $A_m = \\left| X[m] \\right|$ and phase $\\phi_m = \\angle X[m]$ of a frequency component that completes $m$ full rotations in $N$ samples. So far, this is almost identical to the Fourier Series we learned about in exercise 2, exept we are observing the signal over a sample interval $N$ rather than a time interval $T$ measured in seconds. \n",
    "\n",
    "One significant consequence of the signal being discrete rather than continuous is that there are not infinitely many possible frequency components in a DFT due to the sampling theorem, and as such the Nyquist Frequency component can be found at index $m = \\frac{N}{2}$. Beyond index $m = \\frac{N}{2}$ we find an *alias* of the negative frequency spectrum, meaning the FFT of a real-valued signal will be complex conjugate symmetric around $m=\\frac{N}{2}$. If you would like to know more, the book provides a thorough explanation of how the DFT process works in chapters 3.1 and 3.2."
   ]
  },
  {
   "cell_type": "markdown",
   "metadata": {},
   "source": [
    "## a)\n",
    "Use the numpy-function `fft` to calculate the DFT of $x[n]$, and use the function `abs` to create a **stem plot** of the *magnitude spectrum*  $|X[m]|$:"
   ]
  },
  {
   "cell_type": "code",
   "execution_count": 5,
   "metadata": {
    "deletable": false,
    "nbgrader": {
     "cell_type": "code",
     "checksum": "83ba02f84539ee772b5981eb128d000d",
     "grade": true,
     "grade_id": "cell-3386120eb110014f",
     "locked": false,
     "points": 1,
     "schema_version": 3,
     "solution": true,
     "task": false
    }
   },
   "outputs": [
    {
     "data": {
      "image/png": "[encoded data removed]",
      "text/plain": [
       "<Figure size 640x480 with 1 Axes>"
      ]
     },
     "metadata": {},
     "output_type": "display_data"
    }
   ],
   "source": [
    "# WRITE YOUR CODE IN THIS CELL:\n",
    "\n",
    "Xm = np.fft.fft(x_1)\n",
    "\n",
    "mAbs = np.abs(Xm)\n",
    "\n",
    "plt.figure()\n",
    "plt.stem(n, mAbs, linefmt='-', markerfmt='.', basefmt='grey')\n",
    "plt.grid(True)\n",
    "\n"
   ]
  },
  {
   "cell_type": "markdown",
   "metadata": {},
   "source": [
    "*PS: The stem magnitude figue of $X[M]$ should look something like [this.](Figures/task1a_sol.png)*\n",
    "\n",
    "## b) \n",
    "Calculate the phase spectrum $\\phi[m] = \\angle X[m]$ using the numpy-function `angle`. <br>\n",
    "*Beware, there are always rounding errors when working with floating-point numbers (which the FFT does), and the elements of $X[m]$ which *should* equal zero will be very small numbers (e.g. `5.124e-16`). The `angle`-function will calculate the angle for all these numbers as well. To avoid the phase spectrum looking like white noise, use `np.where`.*<br>\n",
    "*Example:*\n",
    "```python\n",
    "phase = np.where(magnitude > 1e-8, np.angle(Xm), 0)\n",
    "```\n",
    "\n",
    "Create a stem plot showing the phase spectrum $\\angle X[m]$. Bonus points if the y axis units are fractions of $\\pi$."
   ]
  },
  {
   "cell_type": "code",
   "execution_count": 6,
   "metadata": {
    "deletable": false,
    "nbgrader": {
     "cell_type": "code",
     "checksum": "0e01544603a75d0122d5aa2d1abbd624",
     "grade": true,
     "grade_id": "cell-a56d2ea10350ae30",
     "locked": false,
     "points": 1,
     "schema_version": 3,
     "solution": true,
     "task": false
    }
   },
   "outputs": [
    {
     "data": {
      "image/png": "[encoded data removed]",
      "text/plain": [
       "<Figure size 640x480 with 1 Axes>"
      ]
     },
     "metadata": {},
     "output_type": "display_data"
    }
   ],
   "source": [
    "# WRITE YOUR CODE IN THIS CELL:\n",
    "angle = np.angle(Xm)\n",
    "phase = np.where(mAbs > 1e-8, angle, 0)\n",
    "\n",
    "plt.figure()\n",
    "plt.stem(n, phase, linefmt='-', markerfmt='.', basefmt='grey')\n",
    "plt.grid(True)\n"
   ]
  },
  {
   "cell_type": "markdown",
   "metadata": {
    "deletable": false,
    "editable": false,
    "nbgrader": {
     "cell_type": "markdown",
     "checksum": "428188299a8d26453c8510e218825b83",
     "grade": false,
     "grade_id": "cell-11369ac03231a6b9",
     "locked": true,
     "schema_version": 3,
     "solution": false,
     "task": false
    }
   },
   "source": [
    "*PS: The stem phase figue of $X[m]$ should look something like [this.](Figures/task1b_sol.png)*\n",
    "\n",
    "\n",
    "\n",
    "As we see in the plots from **a)** and **b)**, there are four elements in the calculated DFT sequence $X[m]$ where the frequency components of $x[n]$ are represented. The indices of these elements can be identified by identifying the nonzero  elements and taking note of their position (approximating very small numbers to zero).\n",
    "<!--Study the plots from **a)** and **b)**. For which index values $m$ do we find the elements in the $DFT$ sequence $X[m]$ which correspond with the two sinusoids with frequency $\\hat{\\omega}_1$ and $\\hat{\\omega}_2$?\n",
    "Studer figurene. For hvilke indeksverdier $k$ finner vi elementene i DFT-sekvensen $X[k]$ som hører til de to sinuskomponentene med frekvens $\\hat{\\omega}_1$ og $\\hat{\\omega}_2$? -->"
   ]
  },
  {
   "cell_type": "code",
   "execution_count": 7,
   "metadata": {},
   "outputs": [
    {
     "name": "stdout",
     "output_type": "stream",
     "text": [
      "[2, 33, 95, 126]\n",
      "[  2  33  95 126]\n"
     ]
    }
   ],
   "source": [
    "indices = []\n",
    "for m, X in enumerate(Xm):\n",
    "    if np.abs(X) > 1e-6:\n",
    "        indices.append(m)\n",
    "print(indices)\n",
    "print(np.flatnonzero(np.abs(Xm)> 1e-6))"
   ]
  },
  {
   "cell_type": "markdown",
   "metadata": {},
   "source": [
    "*PS. The above can also be achieved with a simple one-liner.* `indices = np.flatnonzero(np.abs(Xm)> 1e-6)`\n",
    "\n",
    "## c)\n",
    "\n",
    "Together, the four component nonzero elements represent two sinusoidal components with normalized angular frequencies $w_1$ and $w_2$. Based on their index values, identify the normalized angular frequencies $w_1$ and $w_2$ and provide the answers in radians per sample\n",
    "\n",
    "_Hint: just as the series index $k$ in a fourier series denotes **number of cycles in the space of one fundamental period $T$**, the DFT index $m$ denotes **number of cycles in the space of $N$ samples**._\n",
    "<!--\n",
    "Determine the normalized angular frequencies $\\hat{\\omega}$ which corresponds to each of the element indices. Also, determine which of the elements are part of the same sinusoid.-->"
   ]
  },
  {
   "cell_type": "code",
   "execution_count": 10,
   "metadata": {
    "deletable": false,
    "nbgrader": {
     "cell_type": "code",
     "checksum": "fd48f483676c061574a0b7056f61934a",
     "grade": false,
     "grade_id": "cell-96af607647850bdd",
     "locked": false,
     "schema_version": 3,
     "solution": true,
     "task": false
    }
   },
   "outputs": [
    {
     "name": "stdout",
     "output_type": "stream",
     "text": [
      "0.09817477042468103\n",
      "1.6198837120072371\n"
     ]
    }
   ],
   "source": [
    "# Replace the strings \"???\" below with answers as a numerical value\n",
    "w_1 = \"???\"  # Lowest frequency component\n",
    "w_2 = \"???\"  # Highest frequency component\n",
    "# WRITE YOUR CODE IN THIS CELL:\n",
    "\n",
    "freq = (2* np.pi * np.flatnonzero(np.abs(Xm)> 1e-6)) / N\n",
    "\n",
    "w_1 = np.min(freq[0])\n",
    "w_2 = np.max(freq[1])\n",
    "print(w_1)\n",
    "print(w_2)\n",
    "\n"
   ]
  },
  {
   "cell_type": "code",
   "execution_count": 11,
   "metadata": {
    "deletable": false,
    "editable": false,
    "nbgrader": {
     "cell_type": "code",
     "checksum": "ba60cc282327d8ca4b336351601baba8",
     "grade": true,
     "grade_id": "cell-fb478cbc8be39608",
     "locked": true,
     "points": 1,
     "schema_version": 3,
     "solution": false,
     "task": false
    }
   },
   "outputs": [
    {
     "name": "stdout",
     "output_type": "stream",
     "text": [
      "Correct answer for \"w_1\" :)\n",
      "Correct answer for \"w_2\" :)\n"
     ]
    }
   ],
   "source": [
    "from hashlib import sha1\n",
    "assert sha1(str(round(float(w_1), 5)).encode('utf-8')+b'78f94').hexdigest() == '5e33eec4df4694b7114d486651a68c3c46f0ea42', 'Wrong answer for \"w_1\" :('\n",
    "print('Correct answer for \"w_1\" :)')\n",
    "assert sha1(str(round(float(w_2), 5)).encode('utf-8')+b'78f94').hexdigest() == '0f0eb067818e8060ac4d59e4d1166e9fa6a2dd44', 'Wrong answer for w_2:('\n",
    "print('Correct answer for \"w_2\" :)')"
   ]
  },
  {
   "cell_type": "markdown",
   "metadata": {},
   "source": [
    "## d)\n",
    "Formulate an explanation for the \"remaining\" indices not \"used\" in question **c)**."
   ]
  },
  {
   "cell_type": "markdown",
   "metadata": {
    "deletable": false,
    "nbgrader": {
     "cell_type": "markdown",
     "checksum": "3957022c574968520677033fab19a8c5",
     "grade": true,
     "grade_id": "cell-87a18d2b47d8b13b",
     "locked": false,
     "points": 2,
     "schema_version": 3,
     "solution": true,
     "task": false
    }
   },
   "source": [
    "ANSWER THEORY QUESTIONS HERE:\n",
    "\n",
    "given code works, gege"
   ]
  },
  {
   "cell_type": "markdown",
   "metadata": {},
   "source": [
    "The complex numerical values for the nonzero elements in $X[m]$ can be extracted using the array `indices`, as seen in the code cell below:"
   ]
  },
  {
   "cell_type": "code",
   "execution_count": null,
   "metadata": {},
   "outputs": [
    {
     "name": "stdout",
     "output_type": "stream",
     "text": [
      "m = 2, X[m] = (-1.942890293094024e-14-64j)\n",
      "m = 33, X[m] = (-18.10193359837556-18.10193359837568j)\n",
      "m = 95, X[m] = (-18.10193359837556+18.10193359837568j)\n",
      "m = 126, X[m] = (-2.0761170560490427e-14+64j)\n"
     ]
    }
   ],
   "source": [
    "for m, X_val in zip(indices, Xm[indices]):\n",
    "    print(f\"{m = }, X[m] = {X_val}\")"
   ]
  },
  {
   "cell_type": "markdown",
   "metadata": {
    "deletable": false,
    "editable": false,
    "nbgrader": {
     "cell_type": "markdown",
     "checksum": "d69d82ddd571097d586cf54d52969b4e",
     "grade": false,
     "grade_id": "cell-2b26f31ab234270d",
     "locked": true,
     "schema_version": 3,
     "solution": false,
     "task": false
    }
   },
   "source": [
    "## e)\n",
    "Use the complex values in the nonzero elements of $X[m]$ to calculate a corresponding magnitude component for the two sinusoids in the signal $x[n]$. \n",
    "<!--\n",
    "We can print the numerical values for selected elements in $X_1[m]$ by means of indexing, and use the `np.abs` and `np.angle` functions to convert the complex numbers to magnitude and angle. Example:\n",
    "```python\n",
    "m = 81\n",
    "print(f\"X[{k}] has magnitude {np.abs(X[m]):.1f} and angle {np.angle(X[m]):.2f} Pi\")\n",
    "```\n",
    "- Print the elements in `X[m]` which represent the two separate sinusoids in the signal $x[n]$. Find magnitude $A$, phase $\\phi$ and normalized angular frequency $\\hat{\\omega}$.\n",
    "- If the sampling frequency for the signal is $f_s = 4096\\text{ Hz}$, what is the frequenc of the two sinusoids $f_1$ and $f_2$ in $\\text{Hz}$?-->\n",
    "\n",
    "<!--Vi kan skrive ut numeriske verdier til utvalgte element i $X_1[k]$, og ett \"par\" med symmetrisk plasserte element representerer én sinusbølge. Ett eksempel på hvordan man kan finne verdien til eksempelvis $X_1[81]$ i polarkoordinater er vist nedenfor:\n",
    "```python\n",
    "k = 81\n",
    "print(\"X[%d] har absoluttverdi %.1f og vinkel %.2f Pi\"% (k, absolute(Xk1[k]), angle(Xk1[k])/pi))\n",
    "```\n",
    "- Studer de ulike sinuskomponentene til $x_1[n]$ i frekvensplanet ved å skrive ut verdien(e) til alle DFT-elementene som tilhører de to sinusbølgene som utgjør signalet. Finn så amplitude $A$, normalisert vinkelfrekvens $\\hat{\\omega}$ og fase $\\phi$ for hver sinuskomponent.\n",
    "- Hvis signalet har en samplingsfrekvens $f_s = 4096Hz$, hva er frekvensen til de to sinuskomponentene $f_1$ og $f_2$ i Hz?-->"
   ]
  },
  {
   "cell_type": "code",
   "execution_count": null,
   "metadata": {
    "deletable": false,
    "nbgrader": {
     "cell_type": "code",
     "checksum": "81d996eb3eb0699ad37b7e6186c6c71b",
     "grade": false,
     "grade_id": "cell-2fc8f5c07db4253f",
     "locked": false,
     "schema_version": 3,
     "solution": true,
     "task": false
    }
   },
   "outputs": [
    {
     "name": "stdout",
     "output_type": "stream",
     "text": [
      "1.0\n",
      "0.4000000000000001\n"
     ]
    }
   ],
   "source": [
    "# Replace the strings \"???\" below with answers as a numerical value\n",
    "A_1 = \"???\"  # Lowest frequency component\n",
    "A_2 = \"???\"  # Highest frequency component\n",
    "# WRITE YOUR CODE IN THIS CELL:\n",
    "mag1 = np.abs(Xm[2])\n",
    "mag2 = np.abs(Xm[33])\n",
    "\n",
    "A_1 = 2* mag1/N\n",
    "A_2 = 2* mag2/N\n",
    "print(A_1)\n",
    "print(A_2)\n",
    "\n",
    "\n",
    "\n"
   ]
  },
  {
   "cell_type": "code",
   "execution_count": null,
   "metadata": {
    "deletable": false,
    "editable": false,
    "nbgrader": {
     "cell_type": "code",
     "checksum": "1455d012b842a99003826ba56f31fc97",
     "grade": true,
     "grade_id": "cell-5fb338638d6e4004",
     "locked": true,
     "points": 1,
     "schema_version": 3,
     "solution": false,
     "task": false
    }
   },
   "outputs": [
    {
     "name": "stdout",
     "output_type": "stream",
     "text": [
      "Correct answer for A_1 :)\n",
      "Correct answer for A_2 :)\n"
     ]
    }
   ],
   "source": [
    "from hashlib import sha1\n",
    "assert sha1(str(round(float(A_1), 2)).encode('utf-8')+b'e0b5a').hexdigest() == 'bdcdf5e13c4755bd7b589b4ad5ed8199aca7d4bc', 'Wrong answer for A_1 :('\n",
    "print('Correct answer for A_1 :)')\n",
    "assert sha1(str(round(float(A_2), 2)).encode('utf-8')+b'e0b5a').hexdigest() == '52349966e709e8539efa2a5be7bf302d1b9d1fef', 'Wrong answer for A_2 :('\n",
    "print('Correct answer for A_2 :)')"
   ]
  },
  {
   "cell_type": "markdown",
   "metadata": {},
   "source": [
    "## f)\n",
    "Use the complex values in the nonzero elements of $X[m]$ to calculate a corresponding phase component for the two sinusoids in the signal $x[n]$. Provide the answer in radians.\n"
   ]
  },
  {
   "cell_type": "code",
   "execution_count": null,
   "metadata": {
    "deletable": false,
    "nbgrader": {
     "cell_type": "code",
     "checksum": "bf52da441dace96ed9001b2100b2b9ea",
     "grade": false,
     "grade_id": "cell-2cc193e877c112c9",
     "locked": false,
     "schema_version": 3,
     "solution": true,
     "task": false
    }
   },
   "outputs": [
    {
     "name": "stdout",
     "output_type": "stream",
     "text": [
      "-1.570796326794897\n",
      "-2.3561944901923417\n"
     ]
    }
   ],
   "source": [
    "# Replace the strings \"???\" below with answers as a numerical value\n",
    "phi_1 = \"???\"  # Lowest frequency component\n",
    "phi_2 = \"???\"  # Highest frequency component\n",
    "# WRITE YOUR CODE IN THIS CELL:\n",
    "\n",
    "phase1 = np.angle(Xm[2])\n",
    "phase2 = np.angle(Xm[33])\n",
    "\n",
    "phi_1 = phase1\n",
    "phi_2 = phase2\n",
    "\n",
    "print(phi_1)\n",
    "print(phi_2)\n"
   ]
  },
  {
   "cell_type": "code",
   "execution_count": null,
   "metadata": {
    "deletable": false,
    "editable": false,
    "nbgrader": {
     "cell_type": "code",
     "checksum": "59dcc4515e7e27b65f39d18a6df94c40",
     "grade": true,
     "grade_id": "cell-01778d6bb3c5b8d8",
     "locked": true,
     "points": 1,
     "schema_version": 3,
     "solution": false,
     "task": false
    }
   },
   "outputs": [
    {
     "name": "stdout",
     "output_type": "stream",
     "text": [
      "Correct answer for phi_1 :)\n",
      "Correct answer for phi_2 :)\n"
     ]
    }
   ],
   "source": [
    "from hashlib import sha1\n",
    "assert sha1(str(round(float(phi_1), 2)).encode('utf-8')+b'652c3').hexdigest() == 'df90f31ac958dbd115ac2777b5df0f6f26ac4211', 'Wrong answer for phi_1 :('\n",
    "print('Correct answer for phi_1 :)')\n",
    "assert sha1(str(round(float(phi_2), 2)).encode('utf-8')+b'652c3').hexdigest() == '062056d69fc83c05569353f2fce79f986d5bb0d1', 'Wrong answer for phi_2 :('\n",
    "print('Correct answer for phi_2 :)')"
   ]
  },
  {
   "cell_type": "markdown",
   "metadata": {},
   "source": [
    "## g)\n",
    "If the signal has a sampling frequency $f_s = 4096Hz$, what is the wave frequency of the two sinusoids $f_1$ and $f_2$ in Hz?"
   ]
  },
  {
   "cell_type": "code",
   "execution_count": null,
   "metadata": {
    "deletable": false,
    "nbgrader": {
     "cell_type": "code",
     "checksum": "95c910be833384a4758d5b1c523be0e7",
     "grade": false,
     "grade_id": "cell-b9cccda24d76d07f",
     "locked": false,
     "schema_version": 3,
     "solution": true,
     "task": false
    }
   },
   "outputs": [
    {
     "name": "stdout",
     "output_type": "stream",
     "text": [
      "64.0\n",
      "1056.0\n"
     ]
    }
   ],
   "source": [
    "# Replace the strings \"???\" below with answers as a numerical value\n",
    "f_1 = \"???\"  # Lowest frequency component\n",
    "f_2 = \"???\"  # Highest frequency component\n",
    "# WRITE YOUR CODE IN THIS CELL:\n",
    "f_s = 4096 #hz\n",
    "\n",
    "f_1 = w_1 * f_s / (2 * np.pi)\n",
    "f_2 = w_2 * f_s / (2 * np.pi)\n",
    "print(f_1)\n",
    "print(f_2)"
   ]
  },
  {
   "cell_type": "code",
   "execution_count": null,
   "metadata": {
    "deletable": false,
    "editable": false,
    "nbgrader": {
     "cell_type": "code",
     "checksum": "3d03004e3a5fadb29ec5985e02837417",
     "grade": true,
     "grade_id": "cell-6eb81076d0900e4d",
     "locked": true,
     "points": 1,
     "schema_version": 3,
     "solution": false,
     "task": false
    }
   },
   "outputs": [
    {
     "name": "stdout",
     "output_type": "stream",
     "text": [
      "Correct answer for f_1 :)\n",
      "Correct answer for f_2 :)\n"
     ]
    }
   ],
   "source": [
    "from hashlib import sha1\n",
    "assert sha1(str(round(float(f_1), 2)).encode('utf-8')+b'2b2b9').hexdigest() == '7014ec855b6155618b9cce927839352e38f1889d', 'Wrong answer for f_1 :('\n",
    "print('Correct answer for f_1 :)')\n",
    "assert sha1(str(round(float(f_2), 2)).encode('utf-8')+b'2b2b9').hexdigest() == '42663e5e49ce7f8cb0e4c7ec31f8c0454769bddd', 'Wrong answer for f_2 :('\n",
    "print('Correct answer for f_2 :)')"
   ]
  },
  {
   "cell_type": "markdown",
   "metadata": {},
   "source": [
    "## h) \n",
    "If the signal has a sampling frequency $f_s = 4096 \\text{Hz}$, what is the *resolution bandwidth* of the DFT sequence $X[m]$ in Hertz (Hz)?\n",
    "\n",
    "*PS. The resolution bandwidth is a measure of how detailed the resolution of the signal's frequency content is in the frequency domain. Sometimes referred to as DFT bin width, it corresponds to the spacing in $Hz$ between two neighboring elements in $X[m]$*"
   ]
  },
  {
   "cell_type": "code",
   "execution_count": null,
   "metadata": {
    "deletable": false,
    "nbgrader": {
     "cell_type": "code",
     "checksum": "67dbf5720508c2b16f3e44f412b037e6",
     "grade": false,
     "grade_id": "cell-80d0a981d355d188",
     "locked": false,
     "schema_version": 3,
     "solution": true,
     "task": false
    }
   },
   "outputs": [
    {
     "name": "stdout",
     "output_type": "stream",
     "text": [
      "32.0\n"
     ]
    }
   ],
   "source": [
    "# Replace the string \"???\" below with answers as a numerical value\n",
    "RBW = \"???\"\n",
    "# WRITE YOUR CODE IN THIS CELL:\n",
    "RBW = f_s / N\n",
    "print(RBW)"
   ]
  },
  {
   "cell_type": "code",
   "execution_count": null,
   "metadata": {
    "deletable": false,
    "editable": false,
    "nbgrader": {
     "cell_type": "code",
     "checksum": "74e41d9085291326afbee0ee98737bef",
     "grade": true,
     "grade_id": "cell-5c20c3f37b917945",
     "locked": true,
     "points": 1,
     "schema_version": 3,
     "solution": false,
     "task": false
    }
   },
   "outputs": [
    {
     "name": "stdout",
     "output_type": "stream",
     "text": [
      "Correct answer for RBW :)\n"
     ]
    }
   ],
   "source": [
    "from hashlib import sha1\n",
    "assert sha1(str(round(float(RBW), 2)).encode('utf-8')+b'c530c').hexdigest() == '8adfd91e704e2b76aa8e815f22e4c963e0a84be7', 'Wrong answer for RBW :('\n",
    "print('Correct answer for RBW :)')"
   ]
  }
 ],
 "metadata": {
  "kernelspec": {
   "display_name": "Python 3 (ipykernel)",
   "language": "python",
   "name": "python3"
  },
  "language_info": {
   "codemirror_mode": {
    "name": "ipython",
    "version": 3
   },
   "file_extension": ".py",
   "mimetype": "text/x-python",
   "name": "python",
   "nbconvert_exporter": "python",
   "pygments_lexer": "ipython3",
   "version": "3.12.6"
  }
 },
 "nbformat": 4,
 "nbformat_minor": 4
}
