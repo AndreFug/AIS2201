{
 "cells": [
  {
   "cell_type": "markdown",
   "id": "f2199e03-6b31-468a-9694-883f41a12553",
   "metadata": {},
   "source": [
    "# Exercise 1: An introduction to Digital Signal Processing using Python\n",
    "\n",
    "Welcome to the first programming exercise for the signal processing course AIS2201. Throughout this exercise we will explore some of the more fundamental concepts in digital signal processing such as sampling rate and the magnitude spectrum. In addition, we will also become more familiar with using the python libraries which are essential to doing signal processing, namely [`numpy`](https://numpy.org/doc/stable/user/quickstart.html) and [`pyplot`](https://matplotlib.org/stable/tutorials/introductory/pyplot.html).\n",
    "\n",
    "But first, let us briefly discuss what digital signal processing is and why it is useful. To give a broad definition, digital signal processing (DSP) is the art of extracting certain desirable information or properties from a digital signal, where a digital signal may be any measurable quantity represented by a sequence of numbers. Typical examples of digital signals include audio and image data, but could also be a sequence of measurements from any kind of sensor. For our part as automation engineers, any autonomous system which relies on sensor measurements to accomplish its task is a compelling use case for digital signal processing principles. \n",
    "\n",
    "In this exercise, the focus will be on audio signals. Audio is a useful place to start exploring DSP because any changes we make to the signal can both be experienced (through playing the audio) in addition to being analyzed graphically. The table below provides links to the various tasks, and a brief overview of topics covered by each task. \n",
    "\n",
    "| |Task|Topics|\n",
    "|--:|:--|:--|\n",
    "|1|[Exploring a Wave audio file](1_the_audio_file.ipynb) | *sampling frequency and sampling period, plotting signals in the time domain* |\n",
    "|2|[Processing audio signals](2_processing_audio.ipynb)| *Array operations, list slicing, element-wise operations, multichannel signals*| \n",
    "|3|[Sinusoids and their frequency representation](3_sinusoids.ipynb)| *list slicing, frequency plots using matplotlib.* |\n",
    "|4|[Graphical analysis of an audio signal](4_audio_analysis.ipynb)| *Array operations, signal magnitude* | \n",
    "|5|[Simple DSP system](5_audio_filtering.ipynb)|*Filtering an audio signal by frequency content*| \n",
    "\n",
    "### Approval of exercise\n",
    "\n",
    "The exercise must be approved by teacher or teaching assistant during a lab session. Minimum 4 of 5 tasks should be answered by that time."
   ]
  }
 ],
 "metadata": {
  "kernelspec": {
   "display_name": "Python 3 (ipykernel)",
   "language": "python",
   "name": "python3"
  },
  "language_info": {
   "codemirror_mode": {
    "name": "ipython",
    "version": 3
   },
   "file_extension": ".py",
   "mimetype": "text/x-python",
   "name": "python",
   "nbconvert_exporter": "python",
   "pygments_lexer": "ipython3",
   "version": "3.12.2"
  },
  "varInspector": {
   "cols": {
    "lenName": 16,
    "lenType": 16,
    "lenVar": 40
   },
   "kernels_config": {
    "python": {
     "delete_cmd_postfix": "",
     "delete_cmd_prefix": "del ",
     "library": "var_list.py",
     "varRefreshCmd": "print(var_dic_list())"
    },
    "r": {
     "delete_cmd_postfix": ") ",
     "delete_cmd_prefix": "rm(",
     "library": "var_list.r",
     "varRefreshCmd": "cat(var_dic_list()) "
    }
   },
   "types_to_exclude": [
    "module",
    "function",
    "builtin_function_or_method",
    "instance",
    "_Feature"
   ],
   "window_display": false
  }
 },
 "nbformat": 4,
 "nbformat_minor": 5
}
