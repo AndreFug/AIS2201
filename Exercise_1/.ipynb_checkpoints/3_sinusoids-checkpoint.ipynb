{
 "cells": [
  {
   "cell_type": "markdown",
   "id": "399a588c-2964-4eac-bd75-fe324665ab55",
   "metadata": {},
   "source": [
    "<nav class=\"navbar navbar-default\">\n",
    "  <div class=\"container-fluid\">\n",
    "    <div class=\"navbar-header\" style=\"float: left\">\n",
    "        <a class=\"navbar-brand\" href=\"0_Index.ipynb\" target=\"_self\"> <h2> &uarr; Back to front page</h2></a>\n",
    "    </div>\n",
    "  </div>\n",
    "</nav>"
   ]
  },
  {
   "cell_type": "markdown",
   "id": "7300b14a-8830-4246-83be-929178016eef",
   "metadata": {},
   "source": [
    "# Sinusoids and their frequency representation\n",
    "\n",
    "Probably the most fundamental concept in the discipline of Signal Processing is the sinusoid (term for sine-shaped wave). We will define a siusoid mathematically with the formula\n",
    "## $$x(t) = A \\cdot \\cos \\left(2\\pi \\cdot f \\cdot t + \\phi\\right) $$\n",
    "where $A$ is the wave amplitude, $f$ is the frequency and $\\phi$ is the phase component. \n",
    "\n",
    "The reason for the emphasis on sinusoids in signal processing is most (if not all) frequency analysis is founded on decomposing any signal into a sum of component sinusoids. When viewing the magnitude spectrum of any signal $s(t)$, the level shown in the frequency curve for a given point $f$ along the x-axis (frequency) tells us how much of the signal can be attributed to a sinusoid with the exact frequency $f$.\n",
    "\n",
    "Below is an example of python code to generate a signal $x(t)$ (`xt`) consisting solely of one sinusoid with frequency $f_1=1$Hz, amplitude $A_1 = 1$, and phase $\\phi_1 = -\\frac{\\pi}{3}$. Once the signal `xt` is created, we use `matplotlib.pyplot` to present both a view of the shape of $x(t)$ in the time domain, and it's corresponding magnitude spectrum $|X(f)|$ in the frequency domain. What is important to note, is that the magnitude spectrum of $x(t)$ is equal to zero for all frequencies *except* for $f = 1$Hz, as represented by the sudden spike. "
   ]
  },
  {
   "cell_type": "code",
   "execution_count": null,
   "id": "9faa72a0-6c9c-481b-b5cd-6650c7b1dbb1",
   "metadata": {},
   "outputs": [],
   "source": [
    "import numpy as np\n",
    "import matplotlib.pyplot as plt\n",
    "\n",
    "# Generate Signal!\n",
    "fs = 100  # Sampling Frequency\n",
    "T = 20   # Signal Duratino'\n",
    "A1 = 1   # Amplitude\n",
    "F1 = 1   # Wave frequency\n",
    "phi1 = -np.pi/3  # Phase\n",
    "t = np.linspace(0, T, T*fs, endpoint=False) # Create array of time values\n",
    "xt = A1*np.cos(2*np.pi*F1*t+phi1) # Create sinusoid signal\n",
    "\n",
    "plt.figure(figsize=(12,6)) # Create \"blank\" figue of specified size\n",
    "\n",
    "# PLot sinusoid in time domain\n",
    "plt.subplot(1,2,1)\n",
    "plt.plot(t, xt)\n",
    "plt.xlim([0, T/10]) # Zoom in on x-axis\n",
    "plt.xlabel(\"Time t (seconds)\")\n",
    "plt.ylabel(\"Signal value x(t)\")\n",
    "plt.title(\"Time domain\")\n",
    "plt.grid(True)\n",
    "plt.subplot(1,2,2)\n",
    "\n",
    "# Plot sinusoid in frequency domain\n",
    "plt.magnitude_spectrum(xt, fs) # argument 'fs' required for x-axis to represent Hertz(Hz)\n",
    "plt.xlim([0, fs/10]) # Zoom in on x-axis\n",
    "plt.title(\"Frequency domain\")\n",
    "plt.grid(True)\n",
    "plt.tight_layout() # Make room for axis labels"
   ]
  },
  {
   "cell_type": "markdown",
   "id": "5c39198f-63fb-4115-95b1-99e258c0f232",
   "metadata": {
    "deletable": false,
    "editable": false,
    "nbgrader": {
     "cell_type": "markdown",
     "checksum": "2d3add9537290dec22e4777f0ec13a20",
     "grade": false,
     "grade_id": "cell-104530644f476497",
     "locked": true,
     "points": 5,
     "schema_version": 3,
     "solution": false,
     "task": true
    },
    "tags": []
   },
   "source": [
    "## a)\n",
    "\n",
    "Using the above example as a template, add two new frequency components to the signal $x(t)$. Their properties are as follows:\n",
    "\n",
    "|Frequency $f$ (Hz)|Amplitude $A$|Phase $\\phi$ (radians)|\n",
    "|---|---|---|\n",
    "|$3$|$\\frac{1}{3}$|$0$|\n",
    "|$5$|$\\frac{1}{5}$|$\\frac{\\pi}{3}$|"
   ]
  },
  {
   "cell_type": "markdown",
   "id": "f5229e86-5d60-4b62-ad2a-eb430b7a38c3",
   "metadata": {},
   "source": [
    "## b)\n",
    "\n",
    "Study the height of the spikes in the magnitude spectrum. Do they match the amplitudes used when generating the signal? If not, can you find any consistency in the relation between spike height and sinusoid component amplitudes?"
   ]
  },
  {
   "cell_type": "markdown",
   "id": "d899703b-1831-4997-a54a-15560d3a8a36",
   "metadata": {
    "deletable": false,
    "nbgrader": {
     "cell_type": "markdown",
     "checksum": "bdc450932d8960512fe440dcd7d14ca3",
     "grade": true,
     "grade_id": "cell-84c1b4cc0618fe82",
     "locked": false,
     "points": 5,
     "schema_version": 3,
     "solution": true,
     "task": false
    },
    "tags": []
   },
   "source": [
    "ANSWER THEORY QUESTIONS HERE:"
   ]
  },
  {
   "cell_type": "markdown",
   "id": "51997ce1-53b8-417d-926e-d20a05fc23be",
   "metadata": {},
   "source": [
    "For any periodic signal, the ***fundamental frequency*** $f_0 = \\frac{1}{T_0}$ is defined as the number of times a given signal pattern repeats itself *exactly* during the ocurse of one second. An intuitive approach to measuring the fundamental frequency is measuring the *fundamental period* $T_0$ (i.e. the distance along the time axis until a wave pattern repeats) as shown in the figure below. \n",
    "\n",
    "<img src=\"Figures/Task2_WaveformPeriod.png\" style=\"width: 600px; margin-left: 100px\" />\n",
    "\n",
    "The mathematical definition of the fundamental period / fundamental frequncy can be given as:\n",
    "\n",
    "$$ x(t) = x\\left( t-\\frac{k}{f_0} \\right) = x\\left( t-k\\cdot T_0 \\right), \\ \\ \\ k \\in \\mathbb{Z}$$\n",
    "where $k$ is any given integer value. \n",
    "\n",
    "While signals in encountered in the real world seldom are $100\\%$ periodic, audio signals especially tend to have a very significant periodic component which usually determines the [pitch](https://en.wikipedia.org/wiki/Pitch_(music)) of the tone heard.\n",
    "\n",
    "## c)\n",
    "\n",
    "Study the time series plot of the signalfrom task **a)**. What is the fundamental period $T_0$?\n",
    "\n",
    "\n"
   ]
  },
  {
   "cell_type": "markdown",
   "id": "53ad0d01-d863-4813-a307-c61cac8b1b6f",
   "metadata": {
    "deletable": false,
    "nbgrader": {
     "cell_type": "markdown",
     "checksum": "546db2dbe60e60fd916efcf78febc710",
     "grade": true,
     "grade_id": "cell-452dae404ec402c0",
     "locked": false,
     "points": 5,
     "schema_version": 3,
     "solution": true,
     "task": false
    },
    "tags": []
   },
   "source": [
    "ANSWER THEORY QUESTIONS HERE:"
   ]
  },
  {
   "cell_type": "markdown",
   "id": "bb79e16e-9c0e-4395-a322-270f69055083",
   "metadata": {},
   "source": [
    "The fundamental frequency $f_0$ of a signal can also be determined by studying the magnitude spectrum. Here, the task is to find the largest possible value for $f_0$ where *all* the significant spikes along the frequency axis occur at frequencies which are a multiple of $f_0$. That is, $f \\in k \\cdot f_0, \\ \\ \\ k = \\{0, 1, 2, \\ldots \\}$. In other words, if a frequency spectrum has a collection of \"spikes\" placed at frequencies $f_a$, $f_b$, $f_c$ and so on, the fundamental frequency will be the highest common divisor. Usually this is simply the frequency of the frist spike encountered along the frequency axis, but there are some \"special case\" signals which can deviate from this pattern.\n",
    "\n",
    "## d)\n",
    "\n",
    "By use of the method explaied above, what fundamental frequency can we determine from the frequency plot? Does it match our answer from task **c)**?"
   ]
  },
  {
   "cell_type": "markdown",
   "id": "b0f54f49-ade0-48d9-b984-5c6ec37271d8",
   "metadata": {
    "deletable": false,
    "nbgrader": {
     "cell_type": "markdown",
     "checksum": "8d9ad575c944d9f58fdae10b7e58998f",
     "grade": true,
     "grade_id": "cell-5ebcf694cd957162",
     "locked": false,
     "points": 5,
     "schema_version": 3,
     "solution": true,
     "task": false
    },
    "tags": []
   },
   "source": [
    "ANSWER THEORY QUESTIONS HERE:"
   ]
  },
  {
   "cell_type": "markdown",
   "id": "3aaaa7fe-2b14-4776-a0da-21c4ab57d525",
   "metadata": {},
   "source": [
    "<br>\n",
    "<nav class=\"navbar navbar-default\">\n",
    "  <div class=\"container-fluid\">\n",
    "    <div class=\"navbar-header\" style=\"float: left\">\n",
    "      <a class=\"navbar-brand\" href=\"2_processing_audio.ipynb\" target=\"_self\">&lt; Previous page: <i>Processing audio signals</i></a>\n",
    "      </div>\n",
    "    <div class=\"navbar-header\" style=\"float: right\">\n",
    "      <a class=\"navbar-brand\" href=\"4_audio_analysis.ipynb\" target=\"_self\">Next page: <i>Graphical analysis of an audio signal</i> &gt;</a>\n",
    "    </div>\n",
    "  </div>\n",
    "</nav>"
   ]
  }
 ],
 "metadata": {
  "kernelspec": {
   "display_name": "Python 3 (ipykernel)",
   "language": "python",
   "name": "python3"
  },
  "language_info": {
   "codemirror_mode": {
    "name": "ipython",
    "version": 3
   },
   "file_extension": ".py",
   "mimetype": "text/x-python",
   "name": "python",
   "nbconvert_exporter": "python",
   "pygments_lexer": "ipython3",
   "version": "3.11.5"
  },
  "varInspector": {
   "cols": {
    "lenName": 16,
    "lenType": 16,
    "lenVar": 40
   },
   "kernels_config": {
    "python": {
     "delete_cmd_postfix": "",
     "delete_cmd_prefix": "del ",
     "library": "var_list.py",
     "varRefreshCmd": "print(var_dic_list())"
    },
    "r": {
     "delete_cmd_postfix": ") ",
     "delete_cmd_prefix": "rm(",
     "library": "var_list.r",
     "varRefreshCmd": "cat(var_dic_list()) "
    }
   },
   "types_to_exclude": [
    "module",
    "function",
    "builtin_function_or_method",
    "instance",
    "_Feature"
   ],
   "window_display": false
  }
 },
 "nbformat": 4,
 "nbformat_minor": 5
}
