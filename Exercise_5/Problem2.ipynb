{
 "cells": [
  {
   "cell_type": "markdown",
   "metadata": {
    "deletable": false,
    "editable": false,
    "nbgrader": {
     "cell_type": "markdown",
     "checksum": "ccb90038f227b661d300fc5d325ee08e",
     "grade": false,
     "grade_id": "cell-6556411a91bfca4b",
     "locked": true,
     "schema_version": 3,
     "solution": false,
     "task": false
    }
   },
   "source": [
    "## Zero Padding\n",
    "\n",
    "#### Topic:\n",
    "* Resolution Bandwidth\n",
    "* Zero Padding\n",
    "* Frequency Detection\n",
    "\n",
    "#### Learning Objectives:\n",
    "* Use zero padding to produce the desired level of detail in frequency analysis.\n",
    "\n",
    "#### Libraries and Notebook Configuration:\n",
    "\n"
   ]
  },
  {
   "cell_type": "code",
   "execution_count": 1,
   "metadata": {},
   "outputs": [],
   "source": [
    "from numpy import sin, cos, pi, exp, empty, mean, absolute, angle # Sentrale matematiske funksjoner\n",
    "from numpy.fft import fft, ifft             # DFT og IDFT\n",
    "import numpy as np                          # Importer funksjonalitet fra numpy biblioteket med prefiks \"np\"\n",
    "import matplotlib.pyplot as plt             # Importer pyplot modulen i matplotlib med prefiks \"plt\"\n",
    "from scipy.io import loadmat                # Lesing av data fra '.mat' fil\n"
   ]
  },
  {
   "cell_type": "markdown",
   "metadata": {
    "deletable": false,
    "editable": false,
    "nbgrader": {
     "cell_type": "markdown",
     "checksum": "b80d552712882b038c85910bdbae0f8b",
     "grade": false,
     "grade_id": "cell-7919aafd3d36120e",
     "locked": true,
     "schema_version": 3,
     "solution": false,
     "task": false
    }
   },
   "source": [
    "## Introduction:\n",
    "\n",
    "Two concepts that often come up in frequency analysis are *window length* and *resolution bandwidth*. These are closely related and can be summarized as follows:\n",
    "\n",
    "#### Window Length:\n",
    "* The number of samples used to compute the Discrete Fourier Transform.\n",
    "* The letter $ N $ is often used in this context and can loosely be interpreted as \"an integer.\"\n",
    "\n",
    "#### Resolution Bandwidth $ \\Delta f\\ / \\ \\Delta \\hat{\\omega} $:\n",
    "* The bandwidth of the frequency range in the signal (in Hz or rad/sample), which is represented by a single element in the DFT sequence $ X[m] $.\n",
    "$$ \\Delta f = \\frac{f_s}{N} $$\n",
    "$$ \\Delta \\hat{\\omega} = \\frac{2\\pi}{N} $$\n",
    "* The calculated value $X[m] $ for a given integer $ m $ \"covers\" the frequency range $ k \\cdot \\Delta f \\pm \\frac{\\Delta f}{2} $.\n",
    "\n",
    "If a high level of detail is desired for the frequency analysis of a signal, this requires using a large window length $ N $. The problem with using a large window length $ N $ is that it involves observing the signal over a longer time interval, which can result in a less informative estimate of the frequency content if the frequency content of the signal changes significantly during this time interval.\n",
    "\n",
    "One method to increase the level of detail without using a larger number of signal samples is ***Zero Padding***. The principle is quite simple: extend the signal segment with a chosen number of samples with a value of zero, and then perform the DFT on the extended signal.\n",
    "\n",
    "![](Figurer/zero_padding_1.png)\n",
    "\n",
    "It is important to note that this does not give the same result as increasing the window length  $N $. A larger window length $ N$ means that more information is gathered, while zero padding resembles [interpolation](https://en.wikipedia.org/wiki/Interpolation) in the frequency domain. The result is more samples of the frequency content, but these will sample values along the original signal segment's Discrete-Time Fourier Transform (DTFT), which is a *continuous* function. This is illustrated in the two figures below, where it is clear that the signal's DTFT (the red curve) remains unchanged, while zero padding provides more samples *along* the red curve.\n",
    "\n",
    "![](Figurer/zero_padding_2.png)\n",
    "\n",
    "The `fft()` function in `numpy` has an option to use zero padding when computing a DFT sequence. The function has an optional parameter `n` that specifies the length of the extended signal segment after zero padding.\n",
    "\n",
    "```python\n",
    "# Example:\n",
    "np.fft.fft(xn, n=128)\n",
    "```\n",
    "\n",
    "<!--\n",
    "# Original Norwegian:\n",
    "### Introduksjon:\n",
    "\n",
    "To begrep som dukker opp mye i frekvensanalyse er *vinduslengde* og *oppløsningsbåndbredde*. Disse er nært knyttet til hverandre og kan oppsummeres som følger:\n",
    "\n",
    "#### Vinduslengde:\n",
    "* Antallet sampler som brukes til å utregne Diskret Fouriertransformasjon.\n",
    "* Bokstaven $N$ brukes ofte i denne sammenheng, og kan løst tolkes som \"et heltall\".\n",
    "\n",
    "#### Oppløsningsbåndbredde $\\Delta f\\ / \\ \\Delta \\hat{\\omega}$:\n",
    "* Båndbredden til frekvensområdet i signalet (i $Hz$ eller $rad/sample$), som representeres med ett enkelt element i DFT-sekvensen $X[m]$.\n",
    "$$ \\Delta f = \\frac{f_s}{N}$$\n",
    "$$ \\Delta \\hat{\\omega} = \\frac{2\\pi}{N}$$\n",
    "* Den utregnede verdien $X[m]$ for et gitt heltall $m$ \"dekker\" altså frekvensområdet $k\\cdot \\Delta f \\pm \\frac{\\Delta f}{2}$.\n",
    "\n",
    "Dersom det er ønskelig med et høyt detaljnivå for frekvensanalysen av et signal, krever dette altså å ta i bruk en stor vinduslengde $N$. Problemet med å bruke en stor vinduslengde $N$ er at det innebærer å observere signalet over et lengre tidsintervall, og kan føre til en lite informativ estimasjon av frekvensinnnhold dersom dersom frekvensinnholdet til signalet endrer seg mye i løpet av dette tidsintervallet.\n",
    "\n",
    "Én metode for å øke detaljnivå uten bruke et større antall signalsampler er med ***Zero Padding***. Prinsippet er ganske enkelt å forlenge signalutklippet med et valgfritt antall sampler med verdi lik null, og så utføre DFT av det forlengede signalet. \n",
    "\n",
    "![](Figurer/zero_padding_1.png) \n",
    "\n",
    "Det er viktig å bemerke at dette ikke gir samme resultat som å øke vinduslengden $N$. Større vinduslengde $N$ betyr at man innhenter mer informasjon imens zero padding heller \"fyller ut\" med informasjonen som allerede er tilgjengelig. Resultatet blir flere sampler av frekvensinnholdet, men disse vil sample verdier langs det opprinnelige signalutdragets Diskret-Tids Fourier Transformasjon (DTFT) som er et *kontinuerlig* funksjonsuttrykk. Dette er illustrert i de to figurene nedenfor, hvor det er tydelig at signalets DTFT (den røde kurven) forblir uendret, samtidig som zero padding gir flere sampler *langs* den røde kurven.\n",
    "\n",
    "![](Figurer/zero_padding_2.png) \n",
    "\n",
    "`fft()`-funksjonen til `numpy` har en mulighet for å ta i bruk zero padding ved utregning av en DFT-sekvens. Funksonen har en valgfri parameter `n` som angir lengden til det utvidede signalutklippet etter zero padding. \n",
    "\n",
    "```python\n",
    "# Eksempel:\n",
    "np.fft.fft(xn, n=128)\n",
    "```-->"
   ]
  },
  {
   "cell_type": "markdown",
   "metadata": {
    "deletable": false,
    "editable": false,
    "nbgrader": {
     "cell_type": "markdown",
     "checksum": "69813e0de79c6b1e4529d124eec3f59f",
     "grade": false,
     "grade_id": "cell-f1f9debf00ada4a1",
     "locked": true,
     "schema_version": 3,
     "solution": false,
     "task": false
    }
   },
   "source": [
    "## Task:\n",
    "\n",
    "The file `Data/Oppgave2.mat` contains 25 samples of a sinusoidal sequence $ x[n] $ labeled with the keyword `'x[n]'`, where the signal is sampled with a sampling frequency indicated by the value labeled with the keyword `'fs'`. The code cell below reads the data from the `.mat` file and stores it in the variables `x_n` and `fs`. The end goal of this task is to get a precise estimate of the wave frequency of the sinusoid $x[n]$.\n",
    "\n",
    "<!--\n",
    "# Original norwegian:\n",
    "\n",
    "## Oppgave:\n",
    "\n",
    "Filen `Datafiler/Oppgave2.mat` inneholder 25 sampler av en sinussekvens $x[n]$ merket med nøkkelordet `'x[n]'`, der signalet er samplet med samplingsfrekvensen angitt av verdien merket med nøkkelordet `'fs'`. Kodecellen leser dataene fra `.mat`-filen, og lagrer de i variablene `x_n` og `fs`.\n",
    "-->"
   ]
  },
  {
   "cell_type": "code",
   "execution_count": 2,
   "metadata": {},
   "outputs": [],
   "source": [
    "data = loadmat('Data/Oppgave2.mat', squeeze_me=True)\n",
    "x_n = data['x[n]']\n",
    "fs = data['fs']"
   ]
  },
  {
   "cell_type": "markdown",
   "metadata": {
    "deletable": false,
    "editable": false,
    "nbgrader": {
     "cell_type": "markdown",
     "checksum": "c7e238edb93318993d6bb67e2d6999a0",
     "grade": false,
     "grade_id": "cell-08b968c64ce1b216",
     "locked": true,
     "schema_version": 3,
     "solution": false,
     "task": false
    }
   },
   "source": [
    "### a)\n",
    "Use zero padding to compute the magnitude spectrum of $ x[n] $ for 50 points in the frequency domain. Display the result in a figure and scale the x-axis to show the physical frequency in Hz. Use either graphical analysis or `numpy.argmax` to make a \"best guess\" of the wave frequency $f$ of the sinusoid $x[n]$ based on the peak location of the magnitude spectrum, and store it in the variable `f_a` .\n",
    "<!--\n",
    "# Original norwegian:\n",
    "### a)\n",
    "Bruk zero padding til å regne ut frekvensinnholdet til $x_2[n]$ for 50 punkter i frekvensplanet. Vis resultatet i en figur, og skalér x-aksen slik at den viser fysisk frekvens in Hz.\n",
    "-->"
   ]
  },
  {
   "cell_type": "code",
   "execution_count": 20,
   "metadata": {
    "deletable": false,
    "nbgrader": {
     "cell_type": "code",
     "checksum": "50e540cbd9b5d2b059bd6a474ccde314",
     "grade": true,
     "grade_id": "cell-3befe78bd3ed2f25",
     "locked": false,
     "points": 10,
     "schema_version": 3,
     "solution": true,
     "task": false
    }
   },
   "outputs": [],
   "source": [
    "# WRITE YOUR CODE IN THIS CELL:\n",
    "N = 50\n",
    "n = np.arange(N)\n",
    "\n",
    "\n",
    "xPadded = np.pad(x_n, (0, 50 - len(x_n)), 'constant')\n",
    "Xm = np.fft.fft(xPadded)\n",
    "xMag = np.abs(Xm)\n",
    "\n",
    "freqAxis = np.linspace(0, fs / 2, len(xMag) // 2)\n",
    "\n",
    "f_a = freqAxis[np.argmax(xMag[:len(xMag) // 2])] # Estimated wave frequency based on 50-point magnitude spectrum\n"
   ]
  },
  {
   "cell_type": "code",
   "execution_count": 21,
   "metadata": {
    "deletable": false,
    "editable": false,
    "nbgrader": {
     "cell_type": "code",
     "checksum": "a86aeb57411da3ef6ce5cc10d7be3ba3",
     "grade": true,
     "grade_id": "cell-f827d568c5ed615c",
     "locked": true,
     "points": 1,
     "schema_version": 3,
     "solution": false,
     "task": false
    }
   },
   "outputs": [
    {
     "name": "stdout",
     "output_type": "stream",
     "text": [
      "Correct answer :)\n"
     ]
    }
   ],
   "source": [
    "from hashlib import sha1\n",
    "assert sha1(str(int(f_a)).encode('utf-8')+b'78f94').hexdigest() == '069b3a936508d54303c329e1f066417ccc1045c8', 'Wrong answer :('\n",
    "print('Correct answer :)')"
   ]
  },
  {
   "cell_type": "markdown",
   "metadata": {},
   "source": [
    "*PS. [Here](Figurer/task2a_sol.png) is an example of what the magnitude spectrum stem plot may look like.*\n"
   ]
  },
  {
   "cell_type": "markdown",
   "metadata": {
    "deletable": false,
    "editable": false,
    "nbgrader": {
     "cell_type": "markdown",
     "checksum": "135c8be210ff75e01d29df2ff6e6fb2b",
     "grade": false,
     "grade_id": "cell-fec0669bc00c06c8",
     "locked": true,
     "schema_version": 3,
     "solution": false,
     "task": false
    }
   },
   "source": [
    "### b)\n",
    "The level of precision for the answer in task **a)** is not sufficient. You need to determine the frequency of the sinusoidal sequence $x[n] $ (in Hz), with one decimal precision. In other words, calculation needs to be based on a DFT where the resolution bandwidth $ \\Delta f = 0.1 $ Hz. Create a plot of the magnitude spectrum where a degree of zero padding suitable to this task is used. Also, provide answers for both the size of your DFT (`nfft`) and the wave frequency (`f_b`) you have found.\n",
    "\n",
    "*P.S. For large data sets, it is more appropriate to create a continuous graph with `plot()` instead of creating a bar chart with `stem()`.*\n",
    "<!--\n",
    "# Norwegian:\n",
    "### b)\n",
    "Du skal nå finne hva frekvensen til sinssekvensen $x[n]$ er (i Hz). Dette kan gjøres ved å øke oppløsningen, og identifisere hvor toppunktet til Diskret-Tids Fouriertransformen er. Svaret skal oppgis med én desimal presisjon, noe som tilsvarer en oppløsningsbåndbredde $\\Delta f = 0.1Hz$. Jobb videre med kodecellen fra oppgave **a** for å løse oppgaven.\n",
    "\n",
    "*P.S. For store datamengder er det mer hensiktsmessig å lage en kontinuerlig graf med `plot()` istedenfor å lage et spolpediagram med `stem()`.*\n",
    "-->"
   ]
  },
  {
   "cell_type": "code",
   "execution_count": 53,
   "metadata": {
    "deletable": false,
    "nbgrader": {
     "cell_type": "code",
     "checksum": "854dbd966244969d4972e270cfb5ae19",
     "grade": true,
     "grade_id": "cell-7caed75f3373a73a",
     "locked": false,
     "points": 1,
     "schema_version": 3,
     "solution": true,
     "task": false
    }
   },
   "outputs": [
    {
     "name": "stdout",
     "output_type": "stream",
     "text": [
      "0.30000000000000004\n"
     ]
    }
   ],
   "source": [
    "nfft = int(fs/0.1) # number of points in the DFT after zero padding which achieves RBW=0.1Hz\n",
    "\n",
    "\n",
    "# WRITE YOUR CODE IN THIS CELL:\n",
    "deltaF = 0.1 #Hz\n",
    "\n",
    "freqs = np.fft.fftfreq(int(nfft), 1/fs)\n",
    "b = freqs[np.argmax(xMag[:nfft//2])]\n",
    "print(b)\n",
    "f_b = b # Wave frequency for the sinusoid x[n] in Hz with 1 decimal precision"
   ]
  },
  {
   "cell_type": "code",
   "execution_count": 52,
   "metadata": {
    "deletable": false,
    "editable": false,
    "nbgrader": {
     "cell_type": "code",
     "checksum": "29912804ce7d5d5803aa16386fa30eef",
     "grade": true,
     "grade_id": "cell-6d7c5d0881c2741c",
     "locked": true,
     "points": 1,
     "schema_version": 3,
     "solution": false,
     "task": false
    }
   },
   "outputs": [
    {
     "name": "stdout",
     "output_type": "stream",
     "text": [
      "Correct answer for nfft :)\n"
     ]
    },
    {
     "ename": "AssertionError",
     "evalue": "Wrong answer for f_b :(",
     "output_type": "error",
     "traceback": [
      "\u001b[1;31m---------------------------------------------------------------------------\u001b[0m",
      "\u001b[1;31mAssertionError\u001b[0m                            Traceback (most recent call last)",
      "Cell \u001b[1;32mIn[52], line 4\u001b[0m\n\u001b[0;32m      2\u001b[0m \u001b[38;5;28;01massert\u001b[39;00m sha1(\u001b[38;5;28mstr\u001b[39m(\u001b[38;5;28mround\u001b[39m(\u001b[38;5;28mfloat\u001b[39m(nfft), \u001b[38;5;241m0\u001b[39m))\u001b[38;5;241m.\u001b[39mencode(\u001b[38;5;124m'\u001b[39m\u001b[38;5;124mutf-8\u001b[39m\u001b[38;5;124m'\u001b[39m)\u001b[38;5;241m+\u001b[39m\u001b[38;5;124mb\u001b[39m\u001b[38;5;124m'\u001b[39m\u001b[38;5;124m269e7\u001b[39m\u001b[38;5;124m'\u001b[39m)\u001b[38;5;241m.\u001b[39mhexdigest() \u001b[38;5;241m==\u001b[39m \u001b[38;5;124m'\u001b[39m\u001b[38;5;124m04d685b8ec149408f138944e10487cb394762abe\u001b[39m\u001b[38;5;124m'\u001b[39m, \u001b[38;5;124m'\u001b[39m\u001b[38;5;124mWrong answer for nfft :(\u001b[39m\u001b[38;5;124m'\u001b[39m\n\u001b[0;32m      3\u001b[0m \u001b[38;5;28mprint\u001b[39m(\u001b[38;5;124m'\u001b[39m\u001b[38;5;124mCorrect answer for nfft :)\u001b[39m\u001b[38;5;124m'\u001b[39m)\n\u001b[1;32m----> 4\u001b[0m \u001b[38;5;28;01massert\u001b[39;00m sha1(\u001b[38;5;28mstr\u001b[39m(\u001b[38;5;28mround\u001b[39m(\u001b[38;5;28mfloat\u001b[39m(f_b), \u001b[38;5;241m1\u001b[39m))\u001b[38;5;241m.\u001b[39mencode(\u001b[38;5;124m'\u001b[39m\u001b[38;5;124mutf-8\u001b[39m\u001b[38;5;124m'\u001b[39m)\u001b[38;5;241m+\u001b[39m\u001b[38;5;124mb\u001b[39m\u001b[38;5;124m'\u001b[39m\u001b[38;5;124m269e7\u001b[39m\u001b[38;5;124m'\u001b[39m)\u001b[38;5;241m.\u001b[39mhexdigest() \u001b[38;5;241m==\u001b[39m \u001b[38;5;124m'\u001b[39m\u001b[38;5;124m93daa0e22758a9e6fb5fa67477d73ffd0b989556\u001b[39m\u001b[38;5;124m'\u001b[39m, \u001b[38;5;124m'\u001b[39m\u001b[38;5;124mWrong answer for f_b :(\u001b[39m\u001b[38;5;124m'\u001b[39m\n\u001b[0;32m      5\u001b[0m \u001b[38;5;28mprint\u001b[39m(\u001b[38;5;124m'\u001b[39m\u001b[38;5;124mCorrect answer for f_b :)\u001b[39m\u001b[38;5;124m'\u001b[39m)\n",
      "\u001b[1;31mAssertionError\u001b[0m: Wrong answer for f_b :("
     ]
    }
   ],
   "source": [
    "from hashlib import sha1\n",
    "assert sha1(str(round(float(nfft), 0)).encode('utf-8')+b'269e7').hexdigest() == '04d685b8ec149408f138944e10487cb394762abe', 'Wrong answer for nfft :('\n",
    "print('Correct answer for nfft :)')\n",
    "assert sha1(str(round(float(f_b), 1)).encode('utf-8')+b'269e7').hexdigest() == '93daa0e22758a9e6fb5fa67477d73ffd0b989556', 'Wrong answer for f_b :('\n",
    "print('Correct answer for f_b :)')"
   ]
  }
 ],
 "metadata": {
  "kernelspec": {
   "display_name": "Python 3 (ipykernel)",
   "language": "python",
   "name": "python3"
  },
  "language_info": {
   "codemirror_mode": {
    "name": "ipython",
    "version": 3
   },
   "file_extension": ".py",
   "mimetype": "text/x-python",
   "name": "python",
   "nbconvert_exporter": "python",
   "pygments_lexer": "ipython3",
   "version": "3.12.6"
  },
  "toc": {
   "base_numbering": 1,
   "nav_menu": {},
   "number_sections": false,
   "sideBar": true,
   "skip_h1_title": false,
   "title_cell": "Table of Contents",
   "title_sidebar": "Contents",
   "toc_cell": false,
   "toc_position": {},
   "toc_section_display": true,
   "toc_window_display": false
  },
  "varInspector": {
   "cols": {
    "lenName": 16,
    "lenType": 16,
    "lenVar": 40
   },
   "kernels_config": {
    "python": {
     "delete_cmd_postfix": "",
     "delete_cmd_prefix": "del ",
     "library": "var_list.py",
     "varRefreshCmd": "print(var_dic_list())"
    },
    "r": {
     "delete_cmd_postfix": ") ",
     "delete_cmd_prefix": "rm(",
     "library": "var_list.r",
     "varRefreshCmd": "cat(var_dic_list()) "
    }
   },
   "position": {
    "height": "338.85px",
    "left": "1856.7px",
    "right": "20px",
    "top": "120px",
    "width": "300.3px"
   },
   "types_to_exclude": [
    "module",
    "function",
    "builtin_function_or_method",
    "instance",
    "_Feature"
   ],
   "window_display": false
  }
 },
 "nbformat": 4,
 "nbformat_minor": 4
}
