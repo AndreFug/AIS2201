{
 "cells": [
  {
   "cell_type": "markdown",
   "metadata": {
    "deletable": false,
    "editable": false,
    "nbgrader": {
     "cell_type": "markdown",
     "checksum": "3135015bf9f467ad531181148da69b1f",
     "grade": false,
     "grade_id": "cell-bae1558488f8082e",
     "locked": true,
     "schema_version": 3,
     "solution": false,
     "task": false
    }
   },
   "source": [
    "# Spectrograms\n",
    "\n",
    "**Topic:**\n",
    "* Spectrograms\n",
    "\n",
    "**Learning Objectives:**\n",
    "* Understand how window length $N$ time- and frequency resolution for spectrograms/real-time frequency analysis\n",
    "* Understand how window functions affect spectrograms/real-time frequency analysis\n",
    "* Gain practical experience with tweaking various parameters for spectrograms/real-time frequency analysis\n",
    "\n",
    "**Libraries and Notebook config:**"
   ]
  },
  {
   "cell_type": "code",
   "execution_count": null,
   "metadata": {},
   "outputs": [],
   "source": [
    "from numpy import sin, cos, pi, exp, empty, mean, absolute, angle # Sentrale matematiske funksjoner\n",
    "from numpy.fft import fft, ifft             # DFT og IDFT\n",
    "import numpy as np                          # Importer funksjonalitet fra numpy biblioteket med prefiks \"np\"\n",
    "import matplotlib.pyplot as plt             # Importer pyplot modulen i matplotlib med prefiks \"plt\"\n",
    "import scipy.signal.windows as win          # Importerer funksjonalitet for å generere en rekke vindusfunksjoner\n",
    "from scipy.io import loadmat, savemat, wavfile               # Lesing av data fra '.mat' fil\n",
    "from scipy.signal import spectrogram        # Lar oss generere et spektrogram som analyserer et signal i tid og frekvens\n",
    "\n",
    "%matplotlib ipympl"
   ]
  },
  {
   "cell_type": "markdown",
   "metadata": {
    "deletable": false,
    "editable": false,
    "nbgrader": {
     "cell_type": "markdown",
     "checksum": "9cbb9aac7fad74a34cec94e1ebcb5fe7",
     "grade": false,
     "grade_id": "cell-47b215abf9f22154",
     "locked": true,
     "schema_version": 3,
     "solution": false,
     "task": false
    }
   },
   "source": [
    "\n",
    "# Problem Description: Condition Monitoring in Machinery\n",
    "\n",
    "A wind turbine manufacturer is experiencing challenges with worn bearings at the contact point of one of the shafts in the wind turbines. Specifically, damage to the balls due to wear has been a recurring issue during troubleshooting of the turbines. \n",
    "\n",
    "The manufacturer wishes to monitor the condition of the relevant bearing in the wind turbine using a vibration sensor. This sensor will be placed on the outside of the bearing, and a small computer will analyze the signal from the sensor to detect signs of wear as early as possible.\n",
    "\n",
    "<!--\n",
    "In lab exercise 2, we utilized the frequency-shifting properties of signal mixing to determine the presence of a specific frequency component in a signal. The signal was obtained from a vibration sensor that measured vibrations in a bearing at a contact point in a wind turbine, where strong vibrations at a specific frequency would indicate that a ball in the bearing was damaged.\n",
    "\n",
    "We will now look at a similar scenario where a drive shaft transmits power from an electric motor to the propeller on a boat. A vibration sensor is used to detect vibrations in a bearing connected to the shaft, where the shaft's radius is 3.1 times larger than the radius of the balls.-->\n",
    "\n",
    "![Illustration of a damaged bearing](Figurer/Kulelager.png)\n",
    "\n",
    "In such a system, under normal circumstances, we expect the vibrations to be composed of harmonics of the rotational speed. This means that if the shaft has a rotational speed $ \\rho $ revolutions per second, a frequency analysis of the signal from the vibration sensor will show distinct peaks at integer multiples of the rotational speed $ f \\in \\{ 1\\cdot \\rho,\\ 2\\cdot \\rho,\\ 3\\cdot \\rho,\\ \\ldots\\} $.\n",
    "\n",
    "If damage occurs on one of the balls in the bearing, the produced vibrations will *additionally* contain frequency components that are harmonics of the ball's rotational speed, which is $ 3.1\\cdot \\rho $. Therefore, a frequency analysis of the signal from the vibration sensor should show distinct peaks at frequencies $ f \\in \\{ 3.1\\cdot \\rho,\\ 6.2 \\cdot \\rho,\\ 9.3\\cdot \\rho,\\ \\ldots \\} $ if there is damage to one of the balls. The figure below shows how the frequency content of a signal from a damaged bearing might look if the rotational speed $\\rho = 10 $ revolutions per second.\n",
    "\n",
    "<img src=\"Figurer/Oppg4_skadeeksempel.png\" style=\"width: 80%\" />\n",
    "\n",
    "From the figure, we can see that the areas in the frequency spectrum of interest for detecting damage in the bearing are close to the areas where normal vibrations would show up. In other words, it is important that the frequency analysis uses window length $ N $ large enough to distinguish between frequency content expected during normal operation, and frequency components that indicate damage.\n",
    "\n",
    "Unfortunately, there is another detail in this system that can create problems when analyzing the vibration signal. The shaft does not have a constant rotational speed but varies over time. This introduces a new challenge in the frequency analysis since analyzing $ N $ signal samples shows **all** the frequency content within a time period lasting $ \\Delta t = N\\cdot T_s $, and if the signal's frequency content changes over time, it means we will capture more frequencies the longer the window length $ N $ we use. In other words, to accurately determine the frequency of a pure sinusoidal signal, the signal must be observed for a long time. This is a good example of the [uncertainty principle](https://en.wikipedia.org/wiki/Uncertainty_principle#Harmonic_analysis), which is often associated with quantum mechanics. [Here](https://www.youtube.com/watch?v=MBnnXbOM5S4) is an interesting video that explains the relevance of the uncertainty principle in signal processing.\n",
    "\n",
    "The audio file `Oppgave4.wav` contains a log of the vibration signal from a simulated bearing that broke down. You can load the signal samples and sampling frequency by running the code cell below. We will now try to calibrate various parameters for the frequency analysis so that we can identify the presence of a bearing defect as early as possible. To analyze the frequency content of a signal over time, we will use a new analysis tool; ***the spectrogram***.\n",
    "\n",
    "\n",
    "<!--\n",
    "# Problemstilling: Tilstandsovervåking i maskineri\n",
    "\n",
    "I dataøving 2 utnyttet vi frekvensforskyvningsegenskapene ved frekvensmiksing av signal til å avgjøre tilstedeværelsen av en spesiell frekvenskomponent i et signal. Signalet var hentet fra en vibrasjonssensor som målte vibrasjoner i kulelageret på et kontaktpunkt i en vindmølle, der kraftige vibrasjoner med én spesifikk frekvens ville indikere at en kule i kulelageret var skadet.\n",
    "\n",
    "Vi skal nå se på et lignende scenario der en drivaksling overfører kraften fra en elektrisk motor til propellen på en båt. En vibrasjonssensor brukes til å plukke opp vibrasjoner i et kulelager koblet til akslingen, der akslingens radius er 3.1 ganger så stor som kulenes radius. \n",
    "\n",
    "![Illustrasjon av kulelager med skade](Figurer/Kulelager.png)\n",
    "\n",
    "Et slikt system vil under normale omstendigheter produsere vibrasjoner der frekvensinnholdet er komponert av overtoner til rotasjonshastigneten. Dette betyr at dersom akslingen har rotasjonshastighet $\\rho$ omdreininger per sekund, vil frekvensanalyse av signalet fra vibrasjonssensoren ha tydelige toppunkt der er et heltalls multiplum av rotasjonshastigheten $f \\in \\{ 1\\cdot \\rho,\\ 2\\cdot \\rho,\\ 3\\cdot \\rho,\\ \\ldots\\}$.\n",
    "\n",
    "Dersom det skulle oppstå skade på en av kulene i kulelageret, vil de produserte vibrasjonene *i tillegg* inneholde frekvenskomponenter som er overtoner av kulens rotasjonshastighet, altså $3.1\\cdot \\rho$. Frekvensanalyse av signalet fra vibrasjonssensoren burde dermed ha tydelige toppunkt i frekvensene $f \\in \\{ 3.1\\cdot \\rho,\\ 6.2 \\cdot \\rho,\\ 9.3\\cdot \\rho,\\ \\ldots \\}$ dersom det er en skade på en av kulene. Figuren nedenfor viser hvordan frekvensinnholdet for et slikt signal fra et skadet kulelager kan se ut dersom rotasjonshastigheten $\\rho = 10$ omdreininger per sekund.\n",
    "\n",
    "\n",
    "<img src=\"Figurer/Oppg4_skadeeksempel.png\" style=\"width: 80%\" />\n",
    "\n",
    "\n",
    "Vi ser ut ifra figuren at de områdene i frekvensspekteret som er av interesse for å detektere en skade i kulelageret ligger tett inntil de områdene der vi forventer at de normale vibrasjonene vil gi utslag. Her er det med andre ord viktig at frekvensanalysen er basert på stor nok vinduslengde $N$ til at vi klarer å skille de normale frekvenskomponentene fra de som vil indikere en skade. \n",
    "\n",
    "Dessverre er det enda en detalj i dette systemet som kan skape problemer når vibrasjonssignalet skal analyseres. Akslingen har nemlig ikke konstant rotasjonshastighet, men vil variere hastigheten over tid. Dette gir oss noe nytt å ta hensyn til under frekvensanalyse ettersom frekvensanalyse av $N$ signalsampler viser **alt** frekvenssinnhold i en tidsperiode med varighet $\\Delta t = N\\cdot T_s$, og frekvensinnholdet til signalet varierer over tid, betyr dette at vi vil plukke opp flere frekvenser desto lengre vinduslengde $N$ vi bruker. Sagt på en annen måte: for å kunne fastsette frekvensen til et rent sinussignal med høy presisjon, må det aktuelle sinussignalet observeres over lang tid. Dette er godt et eksempel på [uskarphetsrelasjon](https://en.wikipedia.org/wiki/Uncertainty_principle#Harmonic_analysis), som ellers ofte forbindes med kvantemekanikk. [Her](https://www.youtube.com/watch?v=MBnnXbOM5S4) er en interresant video som forklarer relevansen for uskarphetsprinsippet i signalbehandling på en god måte. \n",
    "\n",
    "Audiofilen `Oppgave4.wav` inneholder en logg av vibrasjonssignalet fra et kulelager som gikk i stykker. Du kan laste inn signalsamplene og samplingsfrekvensen ved å kjøre kodecellen nedenfor. Vi skal nå prøve å kalibrere de ulike parametrene for frekvensanalysen slik at vi klarer å identifisere tilstedeværelsen av en skade på kulelageret så tidlig som mulig. For å kunne analysere frekvensinnholdet til et signal over tid skal vi ta i bruk et nytt analyseverktøy; ***spektrogrammet***.-->"
   ]
  },
  {
   "cell_type": "code",
   "execution_count": null,
   "metadata": {
    "deletable": false,
    "editable": false,
    "nbgrader": {
     "cell_type": "code",
     "checksum": "46022812de0b3d3dce6eef5aa6b7b918",
     "grade": false,
     "grade_id": "cell-5d9ff5159ee387ef",
     "locked": true,
     "schema_version": 3,
     "solution": false,
     "task": false
    }
   },
   "outputs": [],
   "source": [
    "fs, data = wavfile.read(r'Datafiler/Oppgave4.wav') \n",
    "xn = data/0x8000"
   ]
  },
  {
   "cell_type": "markdown",
   "metadata": {
    "deletable": false,
    "editable": false,
    "nbgrader": {
     "cell_type": "markdown",
     "checksum": "913beab7cf1cbabbf53d7f54a1b874e2",
     "grade": false,
     "grade_id": "cell-ea19ac9f14f6c275",
     "locked": true,
     "schema_version": 3,
     "solution": false,
     "task": false
    }
   },
   "source": [
    "### Spectrogram\n",
    "\n",
    "A spectrogram is a visual representation of the frequency content of a signal over time.\n",
    "\n",
    "1. Divide the signal into smaller segments of the same length, $ N $ samples.\n",
    "    * To increase the number of data points on the time axis, it is often useful for these segments to overlap.\n",
    "2. If desired, apply windowing to all signal segments with a *window function* to reduce spectral leakage.\n",
    "3. If desired, use Zero Padding to increase the number of data points on the frequency axis.\n",
    "4. Compute the DFT of each individual signal segment.\n",
    "5. Combine all the calculated DFT sequences to create a terrain-like map of the signal, with frequency along one axis and time along the other.\n",
    "    * The easiest way to present the data is to show the amplitude of the frequency components using color shading.\n",
    "\n",
    "In Python, we can create a spectrogram of a signal `xn` with sampling frequency `fs` using the `spectrogram(xn, fs)` function from the `scipy.signal` module. This function will give us a set of arrays that can be graphically represented using the `pcolormesh()` function from `pyplot`. When creating the spectrogram, there are a number of parameters you can specify in addition to the signal samples `xn` and the sampling frequency `fs` by adding keyword arguments to the function call. These are explained in the tables below:\n",
    "\n",
    "#### Parameters to Adjust for Spectrogram Calculation:\n",
    "\n",
    "|Argument Name | Description|\n",
    "|:--|:--|\n",
    "| `window` | Specifies the window function. The simplest way is to specify the window function name as a string. A list of supported window functions can be found [here](https://docs.scipy.org/doc/scipy/reference/generated/scipy.signal.get_window.html).|\n",
    "|`nperseg` | Specifies the window length in number of samples $ N $.|\n",
    "|`noverlap` | Specifies the number of overlapping samples between consecutive segments. Must be less than the window length $ N $.|\n",
    "|`nfft`| Specifies the number of points to calculate in the DFT. Zero Padding is used to obtain more DFT elements than the window length $ N $. Must be greater than or equal to the window length $ N $.\n",
    "\n",
    "#### Explanation of Return Values:\n",
    "|Return Value | Description|\n",
    "|:--|:--|\n",
    "|`f_axis`| A 1-D `ndarray` containing all the frequency values corresponding to the elements in all DFT sequences.\n",
    "|`t_axis`| A 1-D `ndarray` containing the start time of all signal windows that were used to compute the DFT.\n",
    "|`Sxx`| A 2-D `ndarray` where `Sxx[i][j]` corresponds to the power $ P $ of the signal component with frequency $ f =$ `f_axis[j]` at time $t = $ `t_axis[i]`.\n",
    "\n",
    "#### Parameters to Adjust for Graphical Representation:\n",
    "| Argument Name | Description |\n",
    "|:--|:--|\n",
    "|`v_min`| Minimum value for the color scale. All values lower than `v_min` will be visualized with a dark blue color.\n",
    "|`v_max`| Maximum value for the color scale. All values higher than `v_max` will be visualized with a yellow color.\n",
    "\n",
    "Finally, you may want to use the `ylim()` and `xlim()` functions from `pyplot` to focus on selected areas of the spectrogram.\n",
    "\n",
    "\n",
    "<!-- Norwegian:\n",
    "### Spektrogram\n",
    "\n",
    "Et spektrogram er en visuell framstilling av frekvensinnholdet til et signal over tid. \n",
    "\n",
    "1. Del opp signalet i mindre segment med samme lengde på $N$ sampler.\n",
    "    * For å øke antallet datapunkt på tidsaksen er det ofte hensiktsmessig at disse segmentene overlapper hverandre.\n",
    "2. Dersom ønskelig, ufør vekting av alle signalsegmentene med en *vindusfunksjon* for å motvirke spektral lekkasje.\n",
    "3. Dersom ønskelig, bruk Zero Padding til å øke antallet datapunkt i frekvensaksen.\n",
    "4. Regn ut DFT av hvert individuelle signalsegment.\n",
    "5. Kombiner alle de utregnede DFT-sekvensene til å lage et slags terreng-kart for signalet, med frekvens langs én akse og tid langs den andre. \n",
    "    * Enkleste måte å presentere dataene er å vise frekvenskomponent-amplitude med fargetone.\n",
    "\n",
    "I Python kan vi lage et spektrogram av et signal `xn` med samplingsfrekvens `fs` ved bruk av funksjonen `spectrogram(xn, fs)` fra modulen `scipy.signal`. Denne funksjonen vil gi oss en samling med arrays som vi kan lage en grafisk fremstilling av ved å brukde pyplot-funksjonen `pcolormesh()`. Når vi lager spektrogrammet er det en rekke parametre vi kan angi utover signalsamplene `xn` og samplingsfrekvensen `fs` ved å legge til nøkkelord-argument i funksjonskallet. Disse er forklart i tabellene nedenfor:\n",
    "\n",
    "#### Aktuelle parametre å justere ved utregning av spektrogram:\n",
    "\n",
    "|Argument-navn | Beskrivelse|\n",
    "|:--|:--|\n",
    "| `window` | Spesifiserer vindusfunksjonen, det enkleste er å angi navnet på vindusfunksjonen som tekststreng. En liste med støttede vindusfunksjoner finner du [her](https://docs.scipy.org/doc/scipy/reference/generated/scipy.signal.get_window.html).|\n",
    "|`nperseg` | Spesifiserer vinduslengden i antall sampler $N$.|\n",
    "|`noverlap` | Spesifiserer antall sampler overlapping mellom etterfølgende utklipp. Må være mindre enn vinduslengden $N$|\n",
    "|`nfft`| Spesifiserer antallet punkter som utregnes i DFT. Zero Padding brukes for å oppnå flere DFT-element enn vinduslengden $N$. Må være større enn eller lik vinduslengden $N$.\n",
    "\n",
    "#### Forklaring av returverdier:\n",
    "|Returverdi | Forklaring|\n",
    "|:--|:--|\n",
    "|`f_axis`| En 1-D `ndarray` med alle frekvensverdiene som korresponderer med elementene i samtlige DFT-sekvenser.\n",
    "|`t_axis`| En 1-D `ndarray` med startidspunktet for alle signalvinduene som har blitt utregnet DFT av.\n",
    "|`Sxx`| En 2-D `ndarray` der `Sxx[i][j]` tilsvarer effekten $P$ til signalkomponenten med frekvens $f=$ `f_axis[j]` ved tidspunkt $t=$ `t_axis[i]`.\n",
    " \n",
    "#### Aktuelle parametre å justere for grafisk framstilling:\n",
    "| Argument-navn | Beskrivelse |\n",
    "|:--|:--|\n",
    "|`v_min`| Minimumsverdi i fargeskalaen. Alle verdier mindre enn `v_min` visualiseres med mørkeblå fargetone.\n",
    "|`v_max`| Maksimumsverdi i fargeskalaen. Alle verdier større enn `v_max` visualiseres med gul fargetone.\n",
    "\n",
    "Til slutt kan det være aktuelt å bruke pyplot-funksjonene `ylim()` og `xlim()` til å fokusere på utvalgte områder på spektrogrammet.-->"
   ]
  },
  {
   "cell_type": "markdown",
   "metadata": {
    "deletable": false,
    "editable": false,
    "nbgrader": {
     "cell_type": "markdown",
     "checksum": "08a0ecc4de8637ce826e1f73a64f362f",
     "grade": false,
     "grade_id": "cell-4cabe93a5c3b265e",
     "locked": true,
     "points": 15,
     "schema_version": 3,
     "solution": false,
     "task": true
    }
   },
   "source": [
    "## Practical problem:\n",
    "\n",
    "### a)\n",
    "The code cell below produces a spectrogram that shows the frequency content of the signal recorded (`xn`) and visualizes it with a color map. Unfortunately, it is not easy to identify the frequency components that would indicate the presence of a damaged ball from the other components in the signal.\n",
    "\n",
    "Use what you have learned in tasks 1-3 to adjust the parameters in the spectrogram so that the result is a spectrogram where the individual frequency components are as easy to identify as possible, even if they are close to each other. Once you've made changes you are happy with, provide some commentary on the ease with which the signal elements indicating a damaged ball bearing can be identified after the changes you have made.\n",
    "\n",
    "<!--\n",
    "## Oppgave:\n",
    "\n",
    "### a)\n",
    "Kodecellen nedenfor produserer et spektrogram som viser frekvensinnholdet til signalloggen `xn`, og visualiserer det med et fargekart. Dessverre er det ikke så lett å plukke ut de frekvenskomponentene som ville indikere tilstedeværelsen av en skadet kule fra de andre komponentene i signalet. \n",
    "\n",
    "Bruk det du har lært i oppgave 1-3 til å justere på parametrene i spektrogrammet slik at resultatet blir et spektrogram hvor de individuelle frekvenskomponentene i størst mulig grad enkle å identifisere, selv om de kanskje ligger nære hverandre.\n",
    "-->"
   ]
  },
  {
   "cell_type": "code",
   "execution_count": null,
   "metadata": {},
   "outputs": [],
   "source": [
    "f_axis, t_axis, Sxx = spectrogram(xn,                # Fullt signal\n",
    "                                  fs,                # Samplingsfrekvens\n",
    "                                  window = 'boxcar', # Vindusfunksjon (rektangulær)\n",
    "                                  nperseg = 128,     # Vinduslengde\n",
    "                                  noverlap = 0,      # Antall sampler overlapping\n",
    "                                  nfft = 128,        # Oppløsning på DFT etter zero padding\n",
    "                                  )\n",
    "\n",
    "plt.close(1);plt.figure(1, figsize=(10,6))\n",
    "\n",
    "plt.pcolormesh(t_axis,            # Array med tidsstempel. Produsert av spectrogram()\n",
    "               f_axis,            # Array med frekvenser. Produsert av spectrogram()\n",
    "               10*np.log10(Sxx),  # Konvertering av spektrogrammatrise til logaritmisk skala\n",
    "               vmax =-30,         # Høyeste dB-verdi på fargekartet\n",
    "               vmin = -50,        # Laveste dB-verdi på fargekartet\n",
    "               shading='auto'\n",
    "               );\n",
    "plt.colorbar(aspect=50, label=r'Spectral Density (dB/Hz)')\n",
    "\n",
    "#plt.ylim([0, 240]) # Du kan justere på grensene i y-aksen dersom du vil inspisere en spesiell del av plottet\n",
    "#plt.xlim([0, 15]) # Du kan justere på grensene i x-aksen dersom du vil inspisere en spesiell del av plottet\n",
    "plt.ylabel('Frequency [Hz]')\n",
    "plt.xlabel('Time [sec]')\n",
    "plt.tight_layout(pad=0.1, w_pad=1.0, h_pad=1.0)\n",
    "plt.show()"
   ]
  },
  {
   "cell_type": "markdown",
   "metadata": {},
   "source": [
    "\n",
    "\n",
    "By now, the inherent tradeoff between frequency resolution and time-domain resolution should be pretty apparent. This is not only something to keep in mind when calculating spectrograms, but also any frequency analysis of non-stationary signals as well spectrum analysis being conducted in \"real-time\"\n",
    "\n",
    "## End-of-assignment quiz questions:\n",
    "\n",
    "The following questions assume a common sampling frequency of $f_s = 480 \\text{ samples/sec}$ as in the vibration measurement source file.\n",
    "\n",
    "### b) \n",
    "\n",
    "In the process of creating a spectrogram, you are presented with the following requirement: the time-domain frame width (time duration which corresponds with one single magnitude spectrum \"slice\") should be precisely $1$ second. Assuming no overlapping or zero padding, what is the window size $N$ you must use?"
   ]
  },
  {
   "cell_type": "code",
   "execution_count": null,
   "metadata": {
    "deletable": false,
    "nbgrader": {
     "cell_type": "code",
     "checksum": "770246e5458507fad85da8ceffcf56ad",
     "grade": false,
     "grade_id": "cell-e6ac95a95e1bb5f4",
     "locked": false,
     "schema_version": 3,
     "solution": true,
     "task": false
    }
   },
   "outputs": [],
   "source": [
    "N_b = \"???\"\n",
    "# WRITE YOUR CODE IN THIS CELL:"
   ]
  },
  {
   "cell_type": "code",
   "execution_count": null,
   "metadata": {
    "deletable": false,
    "editable": false,
    "nbgrader": {
     "cell_type": "code",
     "checksum": "c9dbd44da70d74c28120732eeef40afb",
     "grade": true,
     "grade_id": "cell-ad6dd8f1fc160570",
     "locked": true,
     "points": 1,
     "schema_version": 3,
     "solution": false,
     "task": false
    }
   },
   "outputs": [],
   "source": [
    "from hashlib import sha1\n",
    "assert sha1(str(round(float(N_b), 0)).encode('utf-8')+b'c0421').hexdigest() == 'cc13a4fc8b136c250da32fdee39fd202b46c6b83', 'Wrong answer for N_b :('\n",
    "print('Correct answer for N_b :)')"
   ]
  },
  {
   "cell_type": "markdown",
   "metadata": {},
   "source": [
    "### c) \n",
    "Assuming we now allow $50\\%$ overlapping between neighbroing segments. How large might the window size $N$ be now?"
   ]
  },
  {
   "cell_type": "code",
   "execution_count": null,
   "metadata": {
    "deletable": false,
    "nbgrader": {
     "cell_type": "code",
     "checksum": "305d20e4e15cad59c1e916c3f9dc80a7",
     "grade": false,
     "grade_id": "cell-15bd49d4c67bdac9",
     "locked": false,
     "schema_version": 3,
     "solution": true,
     "task": false
    }
   },
   "outputs": [],
   "source": [
    "N_c = \"???\"\n",
    "# WRITE YOUR CODE IN THIS CELL:"
   ]
  },
  {
   "cell_type": "code",
   "execution_count": null,
   "metadata": {
    "deletable": false,
    "editable": false,
    "nbgrader": {
     "cell_type": "code",
     "checksum": "db147990251a91b240a99e856457f9af",
     "grade": true,
     "grade_id": "cell-b4d2d623619ca2d5",
     "locked": true,
     "points": 1,
     "schema_version": 3,
     "solution": false,
     "task": false
    }
   },
   "outputs": [],
   "source": [
    "from hashlib import sha1\n",
    "assert sha1(str(round(float(N_c), 0)).encode('utf-8')+b'74f3').hexdigest() == '8975b5fb7f9869aaeecfa27a9febe18fe6f852e3', 'Wrong answer for N_c :('\n",
    "print('Correct answer for N_c :)')"
   ]
  },
  {
   "cell_type": "markdown",
   "metadata": {},
   "source": [
    "### d) \n",
    "\n",
    "Supposing we decided to pad the `N_c` signal samples you found in task **b)** with $1440$ zeroes. What would the resulting resolution bandwidth $\\Delta f$ for each DFT segment be?"
   ]
  },
  {
   "cell_type": "code",
   "execution_count": null,
   "metadata": {
    "deletable": false,
    "nbgrader": {
     "cell_type": "code",
     "checksum": "236fbdd304d99c5eef5b7b647182c553",
     "grade": false,
     "grade_id": "cell-a8d48be5868db7bd",
     "locked": false,
     "schema_version": 3,
     "solution": true,
     "task": false
    }
   },
   "outputs": [],
   "source": [
    "RBW = \"???\"\n",
    "# WRITE YOUR CODE IN THIS CELL:"
   ]
  },
  {
   "cell_type": "code",
   "execution_count": null,
   "metadata": {
    "deletable": false,
    "editable": false,
    "nbgrader": {
     "cell_type": "code",
     "checksum": "b161fac514357e93eff2a008f2a763f6",
     "grade": true,
     "grade_id": "cell-58911ba823149f12",
     "locked": true,
     "points": 1,
     "schema_version": 3,
     "solution": false,
     "task": false
    }
   },
   "outputs": [],
   "source": [
    "from hashlib import sha1\n",
    "assert sha1(str(round(float(RBW), 2)).encode('utf-8')+b'4999c').hexdigest() == '20351cd3321ee8927cf61727fe4e9d97b98e696c', 'Wrong answer for RBW :('\n",
    "print('Correct answer for RBW :)')"
   ]
  },
  {
   "cell_type": "markdown",
   "metadata": {},
   "source": [
    "### e)\n",
    "\n",
    "Building on the specifications covered in **a)** and **b)**, assume we now also desire a resolution bandwidth $\\Delta f = 0.1 \\text{ Hz}$. How many zeros must we pad each window with before calculating the DFT?"
   ]
  },
  {
   "cell_type": "code",
   "execution_count": null,
   "metadata": {
    "deletable": false,
    "nbgrader": {
     "cell_type": "code",
     "checksum": "9789873c271eeb17664733329cd5741f",
     "grade": false,
     "grade_id": "cell-bb557421fd12597d",
     "locked": false,
     "schema_version": 3,
     "solution": true,
     "task": false
    }
   },
   "outputs": [],
   "source": [
    "N_zeros = \"???\"\n",
    "# WRITE YOUR CODE IN THIS CELL:"
   ]
  },
  {
   "cell_type": "code",
   "execution_count": null,
   "metadata": {
    "deletable": false,
    "editable": false,
    "nbgrader": {
     "cell_type": "code",
     "checksum": "70c9e49c5a355bdda0fee479f504083a",
     "grade": true,
     "grade_id": "cell-45ce9585198f7bc0",
     "locked": true,
     "points": 1,
     "schema_version": 3,
     "solution": false,
     "task": false
    }
   },
   "outputs": [],
   "source": [
    "from hashlib import sha1\n",
    "assert sha1(str(round(float(N_zeros), 0)).encode('utf-8')+b'aa104').hexdigest() == '63f3eb426cc570ec41c2130e372af96b49292801', 'Wrong answer for N_zeros :('\n",
    "print('Correct answer for N_zeros :)')"
   ]
  }
 ],
 "metadata": {
  "hide_input": false,
  "kernelspec": {
   "display_name": "Python 3 (ipykernel)",
   "language": "python",
   "name": "python3"
  },
  "language_info": {
   "codemirror_mode": {
    "name": "ipython",
    "version": 3
   },
   "file_extension": ".py",
   "mimetype": "text/x-python",
   "name": "python",
   "nbconvert_exporter": "python",
   "pygments_lexer": "ipython3",
   "version": "3.11.5"
  },
  "toc": {
   "base_numbering": 1,
   "nav_menu": {},
   "number_sections": false,
   "sideBar": true,
   "skip_h1_title": false,
   "title_cell": "Table of Contents",
   "title_sidebar": "Contents",
   "toc_cell": false,
   "toc_position": {},
   "toc_section_display": true,
   "toc_window_display": false
  },
  "varInspector": {
   "cols": {
    "lenName": 16,
    "lenType": 16,
    "lenVar": 40
   },
   "kernels_config": {
    "python": {
     "delete_cmd_postfix": "",
     "delete_cmd_prefix": "del ",
     "library": "var_list.py",
     "varRefreshCmd": "print(var_dic_list())"
    },
    "r": {
     "delete_cmd_postfix": ") ",
     "delete_cmd_prefix": "rm(",
     "library": "var_list.r",
     "varRefreshCmd": "cat(var_dic_list()) "
    }
   },
   "types_to_exclude": [
    "module",
    "function",
    "builtin_function_or_method",
    "instance",
    "_Feature"
   ],
   "window_display": false
  }
 },
 "nbformat": 4,
 "nbformat_minor": 4
}
