{
 "cells": [
  {
   "cell_type": "markdown",
   "metadata": {
    "deletable": false,
    "editable": false,
    "nbgrader": {
     "cell_type": "markdown",
     "checksum": "113785dff876bb2b74e7f8771e677591",
     "grade": false,
     "grade_id": "cell-650692098df92da8",
     "locked": true,
     "schema_version": 3,
     "solution": false,
     "task": false
    }
   },
   "source": [
    "# What is spectral leakage?\n",
    "\n",
    "**Topic:**\n",
    "- DFT Window length signal waveform periods\n",
    "- Spectral leakage\n",
    "\n",
    "**Learning objectives:**\n",
    "- Understand the cause of spectral leakage\n",
    "- Understand the significance of window length for the calculated Discrete Fourier Transform\n",
    "\n",
    "**Libraries and notebook config:**"
   ]
  },
  {
   "cell_type": "code",
   "execution_count": null,
   "metadata": {},
   "outputs": [],
   "source": [
    "from numpy import sin, cos, pi, exp, empty, mean, absolute, angle # Sentrale matematiske funksjoner\n",
    "from numpy.fft import fft, ifft             # DFT og IDFT\n",
    "import numpy as np                          # Importer funksjonalitet fra numpy biblioteket med prefiks \"np\"\n",
    "import scipy.signal as sig                  # Importerer signalbehandlingsmodulen til scipy\n",
    "import matplotlib.pyplot as plt             # Importer pyplot modulen i matplotlib med prefiks \"plt\"\n",
    "\n",
    "%matplotlib ipympl"
   ]
  },
  {
   "cell_type": "markdown",
   "metadata": {
    "deletable": false,
    "editable": false,
    "nbgrader": {
     "cell_type": "markdown",
     "checksum": "bf2e26846a54ef78e51fc491ca86f0a7",
     "grade": false,
     "grade_id": "cell-fed548d96ced4ec2",
     "locked": true,
     "schema_version": 3,
     "solution": false,
     "task": false
    }
   },
   "source": [
    "## Introduction\n",
    "\n",
    "In exercise 4, we worked with the Discrete Fourier Transform (DFT) from a theoretical standpoint and explored how each element in a DFT (along with its complex conjugate mirror image) represents exactly one sinusoidal sequence in the time domain. Unfortunately, this is true *only* for sinusoidal sequences that are periodic over the same number of samples $N$ as are input into the Fourier transform. The size of the signal input into a DFT is known as the **window length**.\n",
    "\n",
    "In practical contexts where frequency analysis of an unknown signal is performed, it is almost guaranteed that the signal is *not* periodic over the window length, resulting in a phenomenon kown as **spectral leakage**. In this case, the Fourier Transform will produce the component sinusoids of a signal that *is* periodic over $N$ samples, where $N$ is the window length. The effect of this becomes quite apparent if one attempts to reconstruct a continuous-time signal from the information in a DFT (that is, if we treat the DFT as a fourier series).\n",
    "\n",
    ">### Example: Reconstructed Sine Wave\n",
    ">\n",
    ">The signal $ x(t) = \\cos \\left( 2\\pi \\cdot 1.6 \\cdot t \\right) $ is sampled with a sampling frequency $ f_s = 16 $, to produce the digital signal $ x[n] = \\cos \\left( \\frac{\\pi}{5} \\cdot n \\right) $. A window of $N=16$ samples, corresponding to $T = \\frac{N}{f_s} = \\frac{16}{16} = 1 $ second, is used to calculate the DFT of the signal. What one ends up with is the composition of a new signal $ y(t) $, which **is** periodic over the window length (i.e., one second) and only matches the correct values at the 16 sampling points used.\n",
    ">\n",
    ">![](Figurer/SpektralLekkasje.png)\n",
    ">\n",
    ">In other words, computing a 16-point DFT can be viewed as \"finding a way to represent exactly these 16 selected samples using only sinusoidal sequences that are periodic over 16 samples.\" Consequently, the resulting composite signal will also be periodic over 16 samples. More generally, this means that an $ N $-point DFT of a real-valued signal decomposes the signal segment into a series of sinusoidal sequences with normalized angular frequencies $ \\hat{\\omega}_m = 2\\pi \\frac{m}{N}, \\ \\ \\ m \\in \\{0, 1, 2, \\ldots N/2\\} $.\n",
    "\n",
    "The result, when calculating the DFT of a sinusoid with $ \\hat{\\omega} \\notin \\hat{\\omega}_m $, is a representation of the sinusoidal sequence $ x[n] $ in the frequency domain that is spread over a wider range of frequency components since none of the components the DFT is \"allowed\" to use has the same frequency as the sinusoidal sequence $x[n]$. <!--The figure below shows the frequency content as it appears based on $ |X[m]|$, calculated using a 16-point DFT, compared to the *actual* frequency content of $x(t)$.--> Running the code cell below will load an interactive demo which shows the behavior of spectral leakage for adjustable combinations of DFT length and wave frequencies. \n"
   ]
  },
  {
   "cell_type": "code",
   "execution_count": null,
   "metadata": {},
   "outputs": [],
   "source": [
    "from demos import SpectralLeakageDemo\n",
    "%matplotlib ipympl\n",
    "SpectralLeakageDemo(figsize=(9,5));"
   ]
  },
  {
   "cell_type": "markdown",
   "metadata": {},
   "source": [
    "\n",
    "\n",
    "The demo illustrates that the frequency content of the sine wave cannot be represented by any of the specific frequencies that the DFT sequence is composed of. This results in the distribution of the signal across the 16 available frequency components, and this phenomenon is called spectral leakage.\n",
    "\n",
    "The code cell below shows an example of program code that generates $N=16 $ samples of the signal $ x[n] $, calculates the DFT sequence $ X[m] $ based on the 16 samples, and displays the result in a stem plot.\n",
    "<!--Running the code cell below will load an interactive demo which shows the behavior of spectral leakage for various DFT lengths and wave frequencies. -->\n",
    "\n",
    "\n",
    "<!--## Introduksjon\n",
    "\n",
    "I dataøving 3 arbeidet vi med Diskrét Fouriertransformasjon fra et teoretisk ståsted, og utforsket hvordan hvert element i en DFT (sammen med en komplekskonjugert \"tvilling\") representerer nøyaktig én sinussekvens i tidsdomenet. Dessverre gjelder dette *kun* for sinussekvenser med den egenskapen at de er periodisk over samme antall sampler $N$ som går inn i fouriertransformasjonen, noe vi kaller **vinduslengden**. \n",
    "\n",
    "I praktiske sammenhenger der frekvensanalyse av et ukjent signal skal utføres kan man nesten garantere at signalet *ikke* er periodisk over vinduslengden, og det oppstår noe som kalles **spektral lekkasje**. I dette tilfellet vil fouriertransformasjon gi sinusbølge-komponentene til et signal som *er* periodisk med vinduslengden. Effekten av dette gjør seg selv svært synlig dersom man prøver å rekonstruere et tidskontinuerlig signal fra en DFT.\n",
    "\n",
    "### Eksempel: rekonstruert sinusbølge.\n",
    "\n",
    "Signalet $x(t) = \\cos \\left( 2\\pi \\cdot 1.6 \\cdot t \\right)$ samples med en samplingsfrekvens $f_s = 16$, noe som gir signalet $x[n] = \\cos \\left( \\frac{\\pi}{5} \\cdot n \\right)$. Et utsnitt på $N=16$ sampler, tilsvarende $\\frac{N}{f_s} = \\frac{16}{16} = 1$ sekund, benyttes til å fouriertransformere signalet. Det man ender opp med er komposisjonen til et nytt signal $y(t)$ som **er** periodisk over vinduslengden (altså ett sekund), og kun har riktig verdi akkurat i de 16 samplingstidspunktene som er brukt.\n",
    "\n",
    "![](Figurer/SpektralLekkasje.png)\n",
    "\n",
    "Å beregne en 16-punkts DFT kan med andre ord betraktes som å \"finne en måte å gjengi akkurat disse 16 utvalgte samplene, kun med bruk av sinussekvenser som er periodiske over 16 sampler\". Det følger dermed at det resulterende sammensatte signalet også vil være periodisk over 16 sampler. Mer generelt betyr det at en $N$-punkts DFT dekomponerer et signalutklipp i en rekke sinussekvenser med normalisert vinkelfrekvens $\\hat{\\omega}_m = 2\\pi \\frac{m}{N}, \\ \\ \\ m \\in \\{0, 1, 2, \\ldots N/2\\}$.  \n",
    "\n",
    "Resultatet av dette er en representasjon av sinussekvensen $x[n]$ i frekvensplanet som er fordelt utover et større antall frekvenskomponenter, da ingen av komponentene man har \"lov\" til å bruke har samme frekvens som sinussekvensen $x[n]$. Figuren nedenfor viser frekvensinnholdet slik det framstår ut ifra $|X[m]|$ utregnet med 16-punkts DFT, representert sammen med det reelle frekvensinnholdet til $x(t)$. \n",
    "\n",
    "![](Figurer/SpektralLekkasje2.png)\n",
    "\n",
    "Det figuren illustrerer er at frekvensinnholdet til sinusbølgen ikke kan representeres med noen av de spesifikke frekvensene DFT-sekvensen er sammensatt av. Dermed oppstår en fordeling av signalet utover de 16 tilgjengelige frekvenskomponentene, og det er dette som kalles spektral lekkasje.\n",
    "\n",
    "Kodecellen nedenfor viser et eksempel på programkode som genererer $N=16$ sampler av signalet $x[n]$, regner ut DFT-sekvensen $X[m]$ basert på de 16 samplene, og viser resultatet i et stolpediagram.-->"
   ]
  },
  {
   "cell_type": "code",
   "execution_count": null,
   "metadata": {},
   "outputs": [],
   "source": [
    "# Lukk evt. eksisterende figur 1 og lag en ny figur 1.\n",
    "# Dette for å unngå akkumulering av figurer i bakgrunnen som tar opp minne.\n",
    "plt.close(2) \n",
    "plt.figure(2, figsize=(9, 4))\n",
    "\n",
    "# Parametre\n",
    "N = 16      # Antall sampler av sinusbølge i DFT\n",
    "f_0 = 1.6   # Frekvens sinusbølge i Hz\n",
    "f_s = 16    # Samplingsfrekvens\n",
    "\n",
    "# Utregning av sinussekvens og kalkulasjon av DFT\n",
    "n = np.arange(N)\n",
    "x_n = cos(2*pi*f_0/f_s*n)\n",
    "X_m = fft(x_n)\n",
    "\n",
    "# Funksjonen \"stem()\" brukes til å lage et stolpediagram av DFT-sekvensens absoluttverdi |X[m]|\n",
    "# Påfølgende linjer utfører tilpasninger av figuren\n",
    "plt.stem(n, # Samplenummer (heltall fom. 0 tom. 15)\n",
    "         np.absolute(X_m),   # DFT-sekvensens absoluttverdi |X[m]|\n",
    "         linefmt='-',        # Linjestil stolper\n",
    "         markerfmt='.',      # Punktstil for stem-markere. Default er 'o' (stor prikk)\n",
    "         basefmt='grey'      # Farge på y=0 aksen\n",
    "         )\n",
    "plt.xlabel(\"DFT-indeks 'm'\") # Merknad på x-aksen\n",
    "plt.ylabel(r\"$|X[m]|$\")      # Merknad på y-aksen\n",
    "plt.xlim([0, N])             # Grenseverdier i x-retning\n",
    "plt.ylim(ymin=0)             # y-aksen starter i y=0\n",
    "plt.grid(True)               # Aktiver rutenett "
   ]
  },
  {
   "cell_type": "markdown",
   "metadata": {
    "deletable": false,
    "editable": false,
    "nbgrader": {
     "cell_type": "markdown",
     "checksum": "82f9542f5883d48d22aad293fce36352",
     "grade": false,
     "grade_id": "cell-5ed9fb94f1ec655e",
     "locked": true,
     "schema_version": 3,
     "solution": false,
     "task": false
    }
   },
   "source": [
    "## Task:\n",
    "\n",
    "In this task we will focus on analyzing a signal $ x(t) $ consisting of two sinusoidal components:\n",
    "\n",
    "$$ x(t) = 2\\cos\\left(19\\pi\\cdot t + \\frac{\\pi}{3}\\right) + \\cos\\left(23\\pi \\cdot t \\right) $$\n",
    "\n",
    "The signal is sampled with a sampling frequency $ f_s = 80 $ Hz to produce the signal $ x[n] $.\n",
    "\n",
    "## a)\n",
    "* Write code that generates $ N=32 $ samples of the signal $x[n]$, and calculate the $32$-point DFT $X[m]$. Create a stem plot which shows the magnitude spectrum $|X[m]|$ in linear scale.\n",
    "* Assuing no prior knowledge of the signal $x(t)$, what assupmtions would you be tempted to make about the number of component sinusoids in the signal based on the DFT?"
   ]
  },
  {
   "cell_type": "code",
   "execution_count": null,
   "metadata": {
    "deletable": false,
    "nbgrader": {
     "cell_type": "code",
     "checksum": "6be157bc80a314ebb44e388603ee4999",
     "grade": true,
     "grade_id": "cell-9d850da758621a48",
     "locked": false,
     "points": 5,
     "schema_version": 3,
     "solution": true,
     "task": false
    }
   },
   "outputs": [],
   "source": [
    "# WRITE YOUR CODE IN THIS CELL:"
   ]
  },
  {
   "cell_type": "markdown",
   "metadata": {
    "deletable": false,
    "nbgrader": {
     "cell_type": "markdown",
     "checksum": "554acf59d548c036b35ea73709e77576",
     "grade": true,
     "grade_id": "cell-30a99b4e85f48690",
     "locked": false,
     "points": 0,
     "schema_version": 3,
     "solution": true,
     "task": false
    }
   },
   "source": [
    "ANSWER THEORY QUESTIONS HERE:"
   ]
  },
  {
   "cell_type": "markdown",
   "metadata": {
    "deletable": false,
    "editable": false,
    "nbgrader": {
     "cell_type": "markdown",
     "checksum": "d09fa674392318510525a5a30df15729",
     "grade": false,
     "grade_id": "cell-6c8967686ab779b7",
     "locked": true,
     "points": 5,
     "schema_version": 3,
     "solution": false,
     "task": true
    }
   },
   "source": [
    "## b)\n",
    "\n",
    "Copy the code from **a)**, and make changes so the figure now shows a standard two-sided magnitude spectrum, with the units along the x-axis denoting frequency $f$ in Hz (and not frequency index $m$). It is expected that you are able to convert index $m$ to frequency $f$ using simple mathematical operations.\n",
    "\n",
    "*Hint: the function `numpy.fft.fftshift` should come in handy for creating a \"normal\" two-sided spectrum.*"
   ]
  },
  {
   "cell_type": "code",
   "execution_count": null,
   "metadata": {
    "deletable": false,
    "nbgrader": {
     "cell_type": "code",
     "checksum": "9fc5adc1ada2ff4bf73567fb266b6eba",
     "grade": true,
     "grade_id": "cell-9c8cc128baefeef7",
     "locked": false,
     "points": 1,
     "schema_version": 3,
     "solution": true,
     "task": false
    }
   },
   "outputs": [],
   "source": [
    "# WRITE YOUR CODE IN THIS CELL:"
   ]
  },
  {
   "cell_type": "markdown",
   "metadata": {
    "deletable": false,
    "editable": false,
    "nbgrader": {
     "cell_type": "markdown",
     "checksum": "3a54732336dac32637ecd722ebcf1b2d",
     "grade": false,
     "grade_id": "cell-5bd87c8dd66254c3",
     "locked": true,
     "schema_version": 3,
     "solution": false,
     "task": false
    }
   },
   "source": [
    "*PS: [Here](Figurer/task1b_sol.png) is an example of what the plot for task **b)** may look like.*\n",
    "\n",
    "## c) \n",
    "Do some experimentation with different window sizes $N$. Approximately how large does the window have to be before the two component sinusoids are shown unambiguously as two separate \"spikes\"? <br>\n",
    "*PS: You do not need to calculate the answer based some complex theoretical calculation, simple trial and error along with graphical interpretation is sufficient*"
   ]
  },
  {
   "cell_type": "markdown",
   "metadata": {
    "deletable": false,
    "nbgrader": {
     "cell_type": "markdown",
     "checksum": "d2f8da8d95c139fd2c0e43cfccb45da4",
     "grade": true,
     "grade_id": "cell-f8e88bd4d27ee0ff",
     "locked": false,
     "points": 5,
     "schema_version": 3,
     "solution": true,
     "task": false
    }
   },
   "source": [
    "ANSWER THEORY QUESTIONS HERE:"
   ]
  }
 ],
 "metadata": {
  "hide_input": false,
  "kernelspec": {
   "display_name": "Python 3 (ipykernel)",
   "language": "python",
   "name": "python3"
  },
  "language_info": {
   "codemirror_mode": {
    "name": "ipython",
    "version": 3
   },
   "file_extension": ".py",
   "mimetype": "text/x-python",
   "name": "python",
   "nbconvert_exporter": "python",
   "pygments_lexer": "ipython3",
   "version": "3.11.5"
  },
  "toc": {
   "base_numbering": 1,
   "nav_menu": {},
   "number_sections": false,
   "sideBar": true,
   "skip_h1_title": false,
   "title_cell": "Table of Contents",
   "title_sidebar": "Contents",
   "toc_cell": false,
   "toc_position": {},
   "toc_section_display": true,
   "toc_window_display": false
  },
  "varInspector": {
   "cols": {
    "lenName": 16,
    "lenType": 16,
    "lenVar": 40
   },
   "kernels_config": {
    "python": {
     "delete_cmd_postfix": "",
     "delete_cmd_prefix": "del ",
     "library": "var_list.py",
     "varRefreshCmd": "print(var_dic_list())"
    },
    "r": {
     "delete_cmd_postfix": ") ",
     "delete_cmd_prefix": "rm(",
     "library": "var_list.r",
     "varRefreshCmd": "cat(var_dic_list()) "
    }
   },
   "types_to_exclude": [
    "module",
    "function",
    "builtin_function_or_method",
    "instance",
    "_Feature"
   ],
   "window_display": false
  }
 },
 "nbformat": 4,
 "nbformat_minor": 4
}
