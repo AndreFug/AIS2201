{
 "cells": [
  {
   "cell_type": "markdown",
   "metadata": {
    "deletable": false,
    "editable": false,
    "nbgrader": {
     "cell_type": "markdown",
     "checksum": "2545be64f485c0fdc64c065caf53107b",
     "grade": false,
     "grade_id": "cell-ec00fdf7702d5ef3",
     "locked": true,
     "schema_version": 3,
     "solution": false,
     "task": false
    }
   },
   "source": [
    "# Window Functions\n",
    "\n",
    "**Topic:**\n",
    "* How observing a signal segment affects the analysis of the signal.\n",
    "* Properties of rectangular windows.\n",
    "* Properties of Hamming windows, etc.\n",
    "\n",
    "**Learning Objectives:**\n",
    "* How to mitigate spectral leakage using window functions.\n",
    "\n",
    "**Libraries and Notebook config:**"
   ]
  },
  {
   "cell_type": "code",
   "execution_count": 1,
   "metadata": {},
   "outputs": [],
   "source": [
    "from numpy import sin, cos, pi, exp, empty, mean, absolute, angle # Sentrale matematiske funksjoner\n",
    "from numpy.fft import fft, ifft             # DFT og IDFT\n",
    "import numpy as np                          # Importer funksjonalitet fra numpy biblioteket med prefiks \"np\"\n",
    "import matplotlib.pyplot as plt             # Importer pyplot modulen i matplotlib med prefiks \"plt\"\n",
    "import scipy.signal as sig          # Importerer funksjonalitet for å generere en rekke vindusfunksjoner\n",
    "from scipy.io import loadmat                # Lesing av data fra '.mat' fil\n",
    "\n"
   ]
  },
  {
   "cell_type": "markdown",
   "metadata": {
    "deletable": false,
    "editable": false,
    "nbgrader": {
     "cell_type": "markdown",
     "checksum": "19d1d8d11746f5f2bf435c5d0ad042b5",
     "grade": false,
     "grade_id": "cell-e56fb76c63fceb59",
     "locked": true,
     "schema_version": 3,
     "solution": false,
     "task": false
    }
   },
   "source": [
    "### Introduction:\n",
    "\n",
    "In problem 1, we looked at the cause of spectral leakage. In this problem, we will take a closer look at how spectral leakage can be explained mathematically and how it can be mitigated.\n",
    "\n",
    "#### \"Standard\" DFT and Rectangular Windows\n",
    "\n",
    "The basis for calculating the Discrete Fourier Transform (DFT) of a digital signal $ x[n] $ is always to select a segment of the signal with a finite length of $ N $ samples. One way to describe this operation is to say that the signal $ x[n] $ is mixed with a **rectangular window function** $ w_r[n] $ to produce the signal segment $ x_w[n] $.\n",
    "\n",
    "$$ w_r[n] = \n",
    "\\begin{cases}\n",
    "1,\\ \\ 0\\leq n < N \\\\\n",
    "0,\\ \\ \\text{else}\n",
    "\\end{cases}\n",
    "$$\n",
    "\n",
    "$$ x_w[n] = x[n] \\cdot w_r[n]$$\n",
    "\n",
    "An example of this is illustrated in the figure below for the sinusoidal signal $ x[n] = \\cos\\left(\\frac{\\pi}{20} \\cdot n \\right) $.\n",
    "\n",
    "![](Figurer/Oppg3fig1.png)\n",
    "\n",
    "In the example above, a digital signal $ w_r[n] $ is multiplied by a sinusoidal sequence $ x[n] $. This leads to amplitude modulation, and the *window function* $ w_r[n] $ is frequency-shifted. If we know the frequency content of the window function $ w_r[n] $, we can then easily calculate the frequency content of the signal segment $x_w[n] $.\n",
    "\n",
    "#### Rectangular Windows in the Frequency Domain\n",
    "\n",
    "To get a complete overview of the frequency composition of a rectangular window, we take the Discrete-Time Fourier Transform (DTFT) of a rectangular window function $ w_r[n] $ with a length of $ N $ samples:\n",
    "\n",
    "$$\n",
    "\\begin{align}\n",
    "W_r(\\hat{\\omega}) &= DTFT(w_r[n])\\\\\n",
    "&= \\sum_{n=-\\infty}^{\\infty} e^{-j\\hat{\\omega}n} \\cdot w_r[n]\\\\\n",
    "&= \\sum_{n=0}^{N-1} e^{-j\\hat{\\omega}n} \\cdot 1 \\\\\n",
    "\\end{align}\n",
    "$$\n",
    "\n",
    "This sum can be simplified by recognizing it as a geometric series and applying Euler’s formula, which allows us to compactly represent complex exponentials. The result, known as the Dirichlet formula, describes the frequency response of a rectangular window:\n",
    "\n",
    "$$\n",
    "W_r(\\hat{\\omega})= e^{-j\\hat{\\omega}\\frac{N-1}{2}}\\cdot \\frac{\\sin(N \\cdot \\hat{\\omega}\\ /\\ 2)}{\\sin(\\hat{\\omega}\\ /\\ 2)}\n",
    "$$\n",
    "\n",
    "The two-sided frequency spectrum $ \\left|W_r(\\hat{\\omega})\\right| $ of a rectangular window function with length $ N=16 $ is shown in the figure below. It is evident that the frequency spectrum consists of a \"main lobe\" and several \"side lobes,\" and the difference in level between the main lobe and side lobes indicates the amount of spectral leakage.\n",
    "\n",
    "<img src=\"Figurer/Oppg3fig2.png\" style=\"width: 60%\" />\n",
    "\n",
    "The frequency spectrum of a finite-length segment of a sinusoidal wave with length $ N $ samples will therefore be composed of two frequency-shifted copies of the spectrum shown in the figure above. This is illustrated with an animation.\n",
    "\n",
    "![](Figurer/windowing_compressed.gif)\n",
    "\n",
    "To reduce spectral leakage, we apply windowing functions that taper the edges of the signal segment. While the rectangular window cuts off abruptly, causing sharp transitions that introduce spectral leakage, alternative window functions may smooths edges, reducing the contribution of unwanted frequencies (side lobes). This results in a clearer separation of frequency components in the transform. Ideally, the frequency content of such a window function would be a delta pulse at $ \\hat{\\omega} = 0$. However, since this is impossible to achieve unless the window function has infinite length ($w[n] = 1, \\ \\ \\ -\\infty < n < \\infty $), alternative methods must be found to approximate the ideal frequency content. One of the most popular window functions is known as the *Hamming window*.\n",
    "\n",
    "### Hamming Window\n",
    "\n",
    "A Hamming window is a window function that scales down the values of the samples at the beginning and end of the segment, thereby reducing the \"jumps\" at the start and end of the window. The expression for an $ N $-point Hamming window $ w_h[n] $ is given below:\n",
    "\n",
    "$$ w_h[n] = 0.54 - 0.46 \\cdot \\cos \\left(2\\pi \\frac{n}{N} \\right) $$\n",
    "\n",
    "Below, you can see how a Hamming window is used to weight a sinusoidal signal before performing the Fourier transform. Here, the signal $ x_w[n] $ is used as input to a DFT.\n",
    "\n",
    "![](Figurer/Hamming_Windowing.png)\n",
    "\n",
    "The frequency content of this window function is quite different from that of rectangular windows, and it has a level difference between the main lobe and side lobes of 41 dB. The code cell below uses a built-in function in the `scipy.signal` module to generate a Hamming window with length $ N=16 $ and plots the frequency content on a ***logarithmic scale***. You can read more about the various window functions available in `scipy.signal` [here](https://docs.scipy.org/doc/scipy/reference/signal.windows.html?highlight=windows#module-scipy.signal.windows).\n",
    "\n",
    "\n",
    "To summarize, window functions like the Hamming window help reduce spectral leakage by smoothing the signal, which reduces the level of side lobes in the frequency domain, with the tradeoff of widening the main lobe. For most purposes, this results in a cleaner frequency representation.\n",
    "\n",
    "<!--\n",
    "# IN norwegian: \n",
    "### Introduksjon:\n",
    "\n",
    "I oppgave 1 så vi på årsaken til at spektral lekkasje oppstår. I denne oppgaven skal vi se nærmere på hvordan spektral lekkasje kan forklares matematisk, og hvordan det kan motvirkes.\n",
    "\n",
    "#### \"Vanlig\" DFT og rektangulære vindu\n",
    "\n",
    "Basisen for å utregne Diskrét Fouriertransformasjon av et digitalt signal $x[n]$ er alltid å velge et utdrag av signalet med endelig lengde $N$ sampler. Én måte å beskrive denne operasjonen på er å si at signalet $x[n]$ mikses med en **rektangulær vindusfunksjon** $w_r[n]$ for å produsere signalutklippet $x_w[n]$.\n",
    "\n",
    "$$ w_r[n] = \n",
    "\\begin{cases}\n",
    "1,\\ \\ 0\\leq n < N \\\\\n",
    "0,\\ \\ \\text{ellers}\n",
    "\\end{cases}\n",
    "$$\n",
    "\n",
    "$$ x_w[n] = x[n]\\cdot w_r[n]$$\n",
    "\n",
    "Et eksempel på dette er illustrert i figuren nedenfor for sinussignalet $x[n] = \\cos\\left(\\frac{\\pi}{20}\\cdot n \\right)$.\n",
    "\n",
    "![](Figurer/Oppg3fig1.png)\n",
    "\n",
    "I eksempelet ovenfor multipliseres altså et digitalt signal $w_r[n]$ med en sinussekvens $x[n]$. Dette fører til amplitudemodulasjon, og *vindusfunksjonen* $w_r[n]$ blir frekvensforskjøvet. Dersom vi kjenner frekvensinnholdet til vindusfunksjonen $w_r[n]$, kan vi da enkelt regne ut frekvensinnholdet til signalutdraget $x_w[n]$. \n",
    "\n",
    "#### Rektangulære vindu i frekvensdomenet\n",
    "\n",
    "For å få full oversikt over frekvenskomposisjonen til et rektangulært vindu, tar vi Diskret-Tids Fourier Transformasjon (DTFT) av en rektangulær vindusfunksjon $w_r[n]$ med lengde $N$ sampler:\n",
    "\n",
    "$$\n",
    "\\begin{align}\n",
    "W_r(\\hat{\\omega}) &= DTFT(w_r[n])\\\\\n",
    "&= \\sum_{n=-\\infty}^{\\infty} e^{-j\\hat{\\omega}n}\\cdot w_r[n]\\\\\n",
    "&= \\sum_{n=0}^{N-1} e^{-j\\hat{\\omega}n}\\cdot 1 \\\\\n",
    "\\end{align}\n",
    "$$\n",
    "\n",
    "Dette kan forenkles videre ved å benytte formelen for geometrisk rekkeutvikling og Eulers formel. Resultatet er kjent som Dirichlet-formelen:\n",
    "\n",
    "$$\n",
    "W_r(\\hat{\\omega})= e^{-j\\hat{\\omega}\\frac{N-1}{2}}\\cdot \\frac{\\sin(N \\cdot \\hat{\\omega}\\ /\\ 2)}{\\sin(\\hat{\\omega}\\ /\\ 2)}\n",
    "$$\n",
    "\n",
    "Det tosidige frekvensspekteret $\\left|W_r(\\hat{\\omega})\\right|$ til en rektangulær vindusfunksjon med lengde $N=16$, ser du i figuren nedenfor. Det er synlig at frekvensspekteret består av en \"hovedlobe\" og flere \"sidelober\", og differansen i nivå mellom hovedlobe og sidelobe forteller noe om hvor mye spektral lekkasje som oppstår.\n",
    "\n",
    "\n",
    "<img src=\"Figurer/Oppg3fig2.png\" style=\"width: 60%\" />\n",
    "\n",
    "Frekvensspekteret til et endelig langt utklipp av en sinusbølge med lengde $N$ sampler vil dermed være sammensatt av to frekvensforskjøvne kopier av frekvensspekteret i figuren ovenfor. Dette er illustrert med en animasjon.\n",
    "\n",
    "![](Figurer/windowing_compressed.gif)\n",
    "\n",
    "En effektiv metode for å motvirke spektral lekkasje er ved å vekte signalutklippet med en annen vindusfunksjon som ikke har så \"skarpe kanter\" som et rektangulært vindu. Ideelt sett skulle frekvensinnholdet til en slik vindusfunksjon vært en deltapuls i $\\hat{\\omega} = 0$, noe som ville tilsi at den ikke har noe variasjon over tid. Da dette er umulig å få til så lenge vindusfunksjonen ikke kan ha uendelig lengde, må man finne andre metoder å tilnærme seg ideelt frekvensinnhold. Én av de mest populære vindusfunksjonene er kjent som *hammingvindu*.\n",
    "\n",
    "### Hammingvindu\n",
    "\n",
    "Et hammingvindu er en vindusfunksjon som nedskalerer verdien til samplene i starten og slutten av utklippet, og dermed reduserer \"sprang\" i begynnelsen og slutten av vinduet. Uttrykket for et $N$-punkts hammingvindu $w_h[n]$ er gitt nedenfor. \n",
    "\n",
    "$$w_h[n] = 0.54 - 0.46\\cdot\\cos \\left(2\\pi  \\frac{n}{N} \\right)$$\n",
    "\n",
    "Nedenfor ser du hvordan et hammingvindu vil brukes til å vekte et sinussignal i forkant av fouriertransformasjonen. Her vil det være signalet $x_w[n]$ som brukes som input til en DFT.\n",
    "\n",
    "\n",
    "![](Figurer/Hamming_Windowing.png)\n",
    "\n",
    "\n",
    "Frekvensinnholdet til denne vindusfunksjonen er ganske forskjellig fra rektangulære vindu, og har en nivåforskjell mellom hovedlobe og sidelobe på ? dB. Kodecellen nedenfor bruker en innebygd funksjon i modulen `scipy.signal` til å generere et hammingvindu med lengde $N=16$, og plotter frekvensinnholdet i ***logaritmisk skala***. Du kan lese mer om de ulike vindusfunksjonene tilgjengelig i `scipy.signal` [her](https://docs.scipy.org/doc/scipy/reference/signal.windows.html?highlight=windows#module-scipy.signal.windows).\n",
    "-->"
   ]
  },
  {
   "cell_type": "code",
   "execution_count": 2,
   "metadata": {},
   "outputs": [
    {
     "data": {
      "text/plain": [
       "<matplotlib.legend.Legend at 0x1c029ee4530>"
      ]
     },
     "execution_count": 2,
     "metadata": {},
     "output_type": "execute_result"
    },
    {
     "data": {
      "image/png": "[encoded data removed]",
      "text/plain": [
       "<Figure size 640x480 with 1 Axes>"
      ]
     },
     "metadata": {},
     "output_type": "display_data"
    }
   ],
   "source": [
    "# Parametre\n",
    "N = 16           # Lengde på signalvindu\n",
    "DTFT_res = 500   # Oppløsning på \"DTFT\"-kurven\n",
    "\n",
    "# Utregning av frekvensinnhold \"W_f\" og frekvens-akse \"f\"\n",
    "w_n = sig.windows.hamming(N)\n",
    "\n",
    "W_f = np.fft.fft(w_n, n=DTFT_res)\n",
    "W_f = np.fft.fftshift(W_f) # Sentrerer DFT rundt 0.\n",
    "\n",
    "f = np.fft.fftfreq(DTFT_res) # Svingninger per sample\n",
    "f = np.fft.fftshift(f)\n",
    "\n",
    "# Plotting av figur\n",
    "plt.close(1)\n",
    "plt.figure(1)\n",
    "plt.plot(f*2, 20*np.log10(abs(W_f)), label=\"Hamming Window\")\n",
    "plt.xlabel(r'Normalized Angular Frequency $\\hat{\\omega}\\ (\\times \\pi\\ $rad/sample$)$')\n",
    "plt.ylabel('Magnitude $ | W( \\\\hat{\\\\omega} )| \\\\text{ (dB)}$')\n",
    "plt.title(r'Window function spectrum')\n",
    "plt.xlim([-1, 1])\n",
    "plt.ylim(ymin = round(np.log10(np.real(W_f[int(DTFT_res/2)]))-4)*20)\n",
    "plt.grid(True)\n",
    "plt.legend()"
   ]
  },
  {
   "cell_type": "markdown",
   "metadata": {
    "deletable": false,
    "editable": false,
    "nbgrader": {
     "cell_type": "markdown",
     "checksum": "203ba8ae422aa8907dc33352eeea7456",
     "grade": false,
     "grade_id": "cell-46443d188c7de751",
     "locked": true,
     "schema_version": 3,
     "solution": false,
     "task": false
    }
   },
   "source": [
    "## The task:\n",
    "\n",
    "The file `Oppgave3.mat` contains a signal labeled `'x[n]'`. The code cell below loads the relevant data from the `.mat` file, stores it in the variable `x_n`, and creates a bar chart of the signal."
   ]
  },
  {
   "cell_type": "code",
   "execution_count": 3,
   "metadata": {
    "deletable": false,
    "editable": false,
    "nbgrader": {
     "cell_type": "code",
     "checksum": "428dfa5b2d711f9102fa747c5709b6d2",
     "grade": false,
     "grade_id": "cell-c170446f68ae3a83",
     "locked": true,
     "schema_version": 3,
     "solution": false,
     "task": false
    }
   },
   "outputs": [
    {
     "data": {
      "text/plain": [
       "Text(0.5, 1.0, '$x[n]$')"
      ]
     },
     "execution_count": 3,
     "metadata": {},
     "output_type": "execute_result"
    },
    {
     "data": {
      "image/png": "[encoded data removed]",
      "text/plain": [
       "<Figure size 800x400 with 1 Axes>"
      ]
     },
     "metadata": {},
     "output_type": "display_data"
    }
   ],
   "source": [
    "data = loadmat('Data/Oppgave3.mat', squeeze_me=True)\n",
    "xn = data['x[n]']\n",
    "N = len(xn)\n",
    "n = np.arange(N)\n",
    "plt.close(2);plt.figure(2, figsize=(8,4))\n",
    "plt.stem(n, xn, markerfmt='.', basefmt='grey')\n",
    "plt.xlim([0, N])\n",
    "plt.xlabel(r'Sample number $n$')\n",
    "plt.title(r'$x[n]$')"
   ]
  },
  {
   "cell_type": "markdown",
   "metadata": {
    "deletable": false,
    "editable": false,
    "nbgrader": {
     "cell_type": "markdown",
     "checksum": "70e79c2d55e0815f0ddb7895c04c4428",
     "grade": false,
     "grade_id": "cell-368b9d40ae648764",
     "locked": true,
     "schema_version": 3,
     "solution": false,
     "task": false
    }
   },
   "source": [
    "### a)\n",
    "\n",
    "Perform calculations in the code cell below so that a new figure shows a representation of the magnitude of the signal's discrete fourier transform $ X[m] $. Taking spectral leakage into accound, is there anything about the magnitude spectrum which may indicate the presence of more than one sinusoid in the signal? Does this match well with what we see in the time plot?\n"
   ]
  },
  {
   "cell_type": "code",
   "execution_count": 4,
   "metadata": {
    "deletable": false,
    "nbgrader": {
     "cell_type": "code",
     "checksum": "499b8dc982ff42cbb78cd4012c05d755",
     "grade": true,
     "grade_id": "cell-329f94503c833755",
     "locked": false,
     "points": 12,
     "schema_version": 3,
     "solution": true,
     "task": false
    }
   },
   "outputs": [],
   "source": [
    "# WRITE YOUR CODE IN THIS CELL:\n",
    "\n"
   ]
  },
  {
   "cell_type": "markdown",
   "metadata": {
    "deletable": false,
    "nbgrader": {
     "cell_type": "markdown",
     "checksum": "d81e5e9c75e145b558e6477ecbc4cd4a",
     "grade": true,
     "grade_id": "cell-7430e75b1121c680",
     "locked": false,
     "points": 5,
     "schema_version": 3,
     "solution": true,
     "task": false
    }
   },
   "source": [
    "ANSWER THEORY QUESTIONS HERE:"
   ]
  },
  {
   "cell_type": "markdown",
   "metadata": {
    "deletable": false,
    "editable": false,
    "nbgrader": {
     "cell_type": "markdown",
     "checksum": "13d36d9a51489cc7162fb72268c529c2",
     "grade": false,
     "grade_id": "cell-76615b73794e1b0a",
     "locked": true,
     "schema_version": 3,
     "solution": false,
     "task": false
    }
   },
   "source": [
    "*PS: [Here](Figurer/task3a_sol.png) is a suggestion of what the magnitude spectrum plot for problem **a)** might look like.*\n",
    "\n",
    "## b) \n",
    "Choose a window function from [`scipy.signal.windows`](https://docs.scipy.org/doc/scipy/reference/signal.windows.html) (you can decide which window function yourself) and generate a window with the same length as the signal from the data file. Then, use this window to weight the signal, compute a new DFT of the newly weighted signal, and display a plot of the DFT magnitude in a new figure. Are there any new details in the plot which have made an entry since the plot you created in **a)**?\n",
    "\n",
    "<!--\n",
    "# Norwegian below:\n",
    "\n",
    "## b) \n",
    "Velg en vindusfunksjon fra [`scipy.signal.windows`](https://docs.scipy.org/doc/scipy/reference/signal.windows.html) (du velger vindusfunksjon selv), og generer et vindu med samme lengde som signalet fra datafilen. Bruk så dette vinduet til å vekte signalet, regn ut en ny DFT av det vektede signalet, og vis et stolpediagram av DFT-sekvensen i en ny figur. Hvor mange separate sinuskomponenter klarer du å identifisere ut ifra signalets DFT når en vindusfunksjon er tatt i bruk?\n",
    "-->"
   ]
  },
  {
   "cell_type": "code",
   "execution_count": 5,
   "metadata": {
    "deletable": false,
    "nbgrader": {
     "cell_type": "code",
     "checksum": "bbd668c0e5a416c3d29f8159e30fd4a1",
     "grade": true,
     "grade_id": "cell-9f657f9499c23bcd",
     "locked": false,
     "points": 8,
     "schema_version": 3,
     "solution": true,
     "task": false
    }
   },
   "outputs": [],
   "source": [
    "# WRITE YOUR CODE IN THIS CELL:"
   ]
  },
  {
   "cell_type": "markdown",
   "metadata": {
    "deletable": false,
    "nbgrader": {
     "cell_type": "markdown",
     "checksum": "000fd3b9e9726bf792435edbf6dc2d9d",
     "grade": true,
     "grade_id": "cell-b32e9476cea5803d",
     "locked": false,
     "points": 5,
     "schema_version": 3,
     "solution": true,
     "task": false
    }
   },
   "source": [
    "ANSWER THEORY QUESTIONS HERE:"
   ]
  },
  {
   "cell_type": "markdown",
   "metadata": {},
   "source": [
    "*PS: [Here](Figurer/task3b_sol.png) is a suggestion of what the magnitude spectrum plot for problem **b)** might look like.*"
   ]
  }
 ],
 "metadata": {
  "hide_input": false,
  "kernelspec": {
   "display_name": "Python 3 (ipykernel)",
   "language": "python",
   "name": "python3"
  },
  "language_info": {
   "codemirror_mode": {
    "name": "ipython",
    "version": 3
   },
   "file_extension": ".py",
   "mimetype": "text/x-python",
   "name": "python",
   "nbconvert_exporter": "python",
   "pygments_lexer": "ipython3",
   "version": "3.12.6"
  },
  "toc": {
   "base_numbering": 1,
   "nav_menu": {},
   "number_sections": false,
   "sideBar": true,
   "skip_h1_title": false,
   "title_cell": "Table of Contents",
   "title_sidebar": "Contents",
   "toc_cell": false,
   "toc_position": {},
   "toc_section_display": true,
   "toc_window_display": false
  },
  "varInspector": {
   "cols": {
    "lenName": 16,
    "lenType": 16,
    "lenVar": 40
   },
   "kernels_config": {
    "python": {
     "delete_cmd_postfix": "",
     "delete_cmd_prefix": "del ",
     "library": "var_list.py",
     "varRefreshCmd": "print(var_dic_list())"
    },
    "r": {
     "delete_cmd_postfix": ") ",
     "delete_cmd_prefix": "rm(",
     "library": "var_list.r",
     "varRefreshCmd": "cat(var_dic_list()) "
    }
   },
   "types_to_exclude": [
    "module",
    "function",
    "builtin_function_or_method",
    "instance",
    "_Feature"
   ],
   "window_display": false
  }
 },
 "nbformat": 4,
 "nbformat_minor": 4
}
