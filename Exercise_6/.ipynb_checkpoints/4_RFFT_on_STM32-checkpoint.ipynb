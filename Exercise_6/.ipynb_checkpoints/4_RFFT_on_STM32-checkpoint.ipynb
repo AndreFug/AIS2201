{
 "cells": [
  {
   "cell_type": "markdown",
   "id": "a0311778-3fb2-411d-9357-0425c556f943",
   "metadata": {},
   "source": [
    "# Programming the STM32 to do short-time fourier transforms\n",
    "\n",
    "\n",
    "\n",
    "Computing the FFT of an array in Python is a relatively simple operation, but on an STM32 with relatively limited processing power and memory available there are some added considerations we need to be aware of:\n",
    "1. Standard FFT algorithms rely on the data size $N$ being a power of 2 meaning $\\log2(N)$ must be a whole number\n",
    "2. The maximum supported FFT size is $N = 4096$ samples (and the minimum is $N=16$), resulting in a finite set of possible window lengths $N \\in \\{16, 32, 64, 128, 256, 512, 1024, 2048, 4096\\}$.\n",
    "\n",
    "Happily, our chosen window length of $N=1024$ exists in the aforementioned set, so we should not encounter any problems there. If you check the library files, you will find a large number of FFT functions. We will be using `arm_rfft_fast_f32` which calculates the RFFT of a real-valued signal represented with 32-bit floating point values. As discussed in the introduction of the assignment, the output of an RFFT discards the negative half of the frequency spectrum, returning only $\\frac{N}{2} + 1$ complex values (the \"$+1$\" occurs due to including both endpoints $m=0$ and $m = \\frac{N}{2}$. For more information, see the [fencepost problem](https://en.wikipedia.org/wiki/Off-by-one_error#Fencepost_error)). \n",
    "\n",
    "The software enineers at ARM have optimized the RFFT output a little bit however, making things easier in some ways and more complicated in other ways. Since both $X[0]$ and $X\\left[\\frac{N}{2}\\right]$ always purely real-valued numbers, these can be \"packed\" into the space otherwise reserved for one complex number. \n",
    "\n",
    "#### Array representing complex data $X[m] = RFFT(x[n])$:\n",
    "\n",
    "|index: | 0 | 1 | 2 | 3 | 4 | 5 | 6 | 7 | $$\\cdots$$ |\n",
    "|:--|--:|--:|--:|--:|--:|--:|--:|--:|--:|\n",
    "|**data:** | $$X[0]$$| $$X\\left[\\frac{N}{2} \\right]$$| $$\\mathcal{Re}(X[1])$$| $$\\mathcal{Im}(X[1])$$| $$\\mathcal{Re}(X[2])$$| $$\\mathcal{Im}(X[2])$$| $$\\mathcal{Re}(X[3])$$| $$\\mathcal{Im}(X[3])$$| $$\\ \\ \\ \\cdots \\ \\ \\ $$|\n",
    "\n",
    "The upside to this, is that both the input data array and output data array for calculation the RFFT will be a floating-point array with `WINDOW_SIZE` entries. However, correctly interpreting the RFFT output will involve some extra steps."
   ]
  },
  {
   "cell_type": "markdown",
   "id": "d9000f1b-d48a-4c55-b805-55d06d273173",
   "metadata": {},
   "source": [
    "## a) \n",
    "\n",
    "To calculate the fft for each new `WINDOW_SIZE` block of samples, we can add the following two code sections to the `void main` function:\n",
    "\n",
    ">```C\n",
    ">/* USER CODE BEGIN 1 */\n",
    ">/* Arrays for representing RFFT Data at different stages */\n",
    ">float32_t RFFT_Input[WINDOW_SIZE];  // Real-valued time-domain samples stored as array floating-point values\n",
    ">float32_t RFFT_Output[WINDOW_SIZE]; // Complex-valued RFFT output with length WINDOW_SIZE/2 (two floats per complex value)\n",
    ">float32_t RFFT_Out_Mag[WINDOW_SIZE/2 + 1]; // Magnitude calculations for frequency component 0 to WINDOW_SIZE/2\n",
    ">\n",
    ">/* Set up an RFFT instance to handle RFFT calculations for WINDOW_SIZE samples represented with 32-bit floats. */\n",
    ">arm_rfft_fast_instance_f32 varInstRfftF32;    /* ARM RFFT module struct declaration */\n",
    ">arm_rfft_fast_init_f32(&varInstRfftF32, WINDOW_SIZE); /* Initialization with respect to window size */\n",
    ">/* USER CODE END 1 */\n",
    ">```\n",
    "---\n",
    ">```C\n",
    ">/* Infinite loop */\n",
    ">/* USER CODE BEGIN WHILE */\n",
    ">while (1)\n",
    ">{\n",
    ">  if (buffer_full == 1){\n",
    ">      buffer_full = 0; // Reset 'buffer_full' flag\n",
    ">\n",
    ">      // Copy values from ADC_Buffer to RFFT_Input\n",
    ">      for (int i = 0; i<WINDOW_SIZE; i++){\n",
    ">          RFFT_Input[i] = (float32_t)ADC_buffer[read_buffer_start + i];\n",
    ">      }\n",
    ">\n",
    ">      /* Calculate the real-valued FFT */\n",
    ">      arm_rfft_fast_f32(&varInstRfftF32, /* RFFT Instance to use during calculations */\n",
    ">                        RFFT_Input,   /* Array of input values. Will be changed by the RFFT algorithm */\n",
    ">                        RFFT_Output,  /* Packed complex output for the WINDOW_SIZE/2 + 1 compoinents in the one-sided frequency spectrum */\n",
    ">                        0);           /* Do not calculate the Inverse RFFT */\n",
    ">\n",
    ">      /* Extract magnitude information |X[m]| */\n",
    ">      RFFT_Out_Mag[WINDOW_SIZE] = fabs(RFFT_Output[1]); /* Unpack nyquist component from RFFT Output. */\n",
    ">      RFFT_Output[1] = 0.0; /* Imaginary part of X[0] is 0 */\n",
    ">      arm_cmplx_mag_f32(RFFT_Output, RFFT_Out_Mag, WINDOW_SIZE/2); /* RFFT_Output[i], 2 <= i < WINDOW_SIZE contain complex data for samples X[m], 1 <= m < N/2 */\n",
    ">\n",
    ">  }\n",
    ">  /* USER CODE END WHILE */\n",
    ">```\n",
    "\n",
    "For this code to work, the folloing libraries would have to be included:\n",
    "\n",
    ">```C\n",
    ">/* Private includes ----------------------------------------------------------*/\n",
    ">/* USER CODE BEGIN Includes */\n",
    ">#include <math.h>\n",
    ">#include \"arm_math.h\"\n",
    ">#include \"arm_const_structs.h\"\n",
    ">/* USER CODE END Includes */\n",
    ">```\n",
    "\n",
    "* Study the code you have been provided. Which array would it make sense to analyze in order to obtain the frequency of the most prominent frequency component in the input signal?\n",
    "* Make sure the code compiles without errors before proceeding."
   ]
  },
  {
   "cell_type": "markdown",
   "id": "0347f8c0-9c12-4b65-8a8e-b8f9c85e999b",
   "metadata": {},
   "source": [
    "## b)\n",
    "\n",
    "You now have acces to the output of a `WINDOW_SIZE`-point RFFT calculation every $N=1024$ samples. It is now up to you to finish the program. The program output should be an estimate of the input wave frequency presented in Hertz, transmitted to the PC over UART. Connect the STM32 to a function generator, and send a sine wave with varying frequency as input. Use a serial monitor (such as the one integrated with the Arduino IDE) to verify that the estimated wave frequency is correct (withi\n",
    "n error bars of $\\Delta f$)."
   ]
  }
 ],
 "metadata": {
  "kernelspec": {
   "display_name": "Python 3 (ipykernel)",
   "language": "python",
   "name": "python3"
  },
  "language_info": {
   "codemirror_mode": {
    "name": "ipython",
    "version": 3
   },
   "file_extension": ".py",
   "mimetype": "text/x-python",
   "name": "python",
   "nbconvert_exporter": "python",
   "pygments_lexer": "ipython3",
   "version": "3.11.5"
  }
 },
 "nbformat": 4,
 "nbformat_minor": 5
}
