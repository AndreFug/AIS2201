{
 "cells": [
  {
   "cell_type": "code",
   "execution_count": 50,
   "id": "f629efed-0764-48d8-a266-9a9fe94fc96d",
   "metadata": {
    "jp-MarkdownHeadingCollapsed": true
   },
   "outputs": [
    {
     "name": "stdout",
     "output_type": "stream",
     "text": [
      "['913', '708', '452', '212', '48', '3', '87', '280', '532', '779', '958', '1023', '958', '779', '532', '280', '87']\n"
     ]
    },
    {
     "data": {
      "image/png": "[encoded data removed]",
      "text/plain": [
       "<Figure size 400x200 with 1 Axes>"
      ]
     },
     "metadata": {},
     "output_type": "display_data"
    }
   ],
   "source": [
    "##### Sine wave for double buffer illustration\n",
    "import matplotlib.pyplot as plt\n",
    "import numpy as np\n",
    "%matplotlib inline\n",
    "#plt.rcParams[\"figure.figsize\"] = [8.00, 4.5]\n",
    "#plt.rcParams[\"figure.autolayout\"] = True\n",
    "#plt.rcParams[\"axes.grid\"] = False\n",
    "plt.rcParams[\"axes.xmargin\"] = 0.0\n",
    "\n",
    "n = 5\n",
    "\n",
    "t = np.linspace(-1, 0, 160, endpoint=True)\n",
    "t_n = np.linspace(-1, 0, 17, endpoint=True)\n",
    "x_t = np.cos(2*np.pi*1.3*(t+n/16))*511+512\n",
    "x_n = np.cos(2*np.pi*1.3*(t_n+n/16))*511+512\n",
    "\n",
    "plt.figure(figsize=(4,2))\n",
    "plt.yticks([])\n",
    "#plt.twinx()\n",
    "plt.plot(t, x_t)\n",
    "#plt.yticks([x_t[-1]])\n",
    "plt.xticks([])\n",
    "plt.plot(t[-1], x_t[-1], 'o', color=\"tab:orange\", markersize=10)\n",
    "\n",
    "\n",
    "\n",
    "print([f\"{x:.0f}\" for x in x_n])"
   ]
  },
  {
   "cell_type": "code",
   "execution_count": 22,
   "id": "cd5fa977-7d7e-466e-aaf6-805ddaf10aaf",
   "metadata": {},
   "outputs": [
    {
     "data": {
      "text/plain": [
       "4.165"
      ]
     },
     "execution_count": 22,
     "metadata": {},
     "output_type": "execute_result"
    }
   ],
   "source": [
    "(2.83+5.5)/2"
   ]
  },
  {
   "cell_type": "code",
   "execution_count": null,
   "id": "5a723132-19dd-48e5-9d79-b07658e2699b",
   "metadata": {},
   "outputs": [],
   "source": []
  }
 ],
 "metadata": {
  "kernelspec": {
   "display_name": "Python 3 (ipykernel)",
   "language": "python",
   "name": "python3"
  },
  "language_info": {
   "codemirror_mode": {
    "name": "ipython",
    "version": 3
   },
   "file_extension": ".py",
   "mimetype": "text/x-python",
   "name": "python",
   "nbconvert_exporter": "python",
   "pygments_lexer": "ipython3",
   "version": "3.12.2"
  }
 },
 "nbformat": 4,
 "nbformat_minor": 5
}
