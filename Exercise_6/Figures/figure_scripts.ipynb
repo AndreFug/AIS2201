{
 "cells": [
  {
   "cell_type": "code",
   "execution_count": 16,
   "id": "f629efed-0764-48d8-a266-9a9fe94fc96d",
   "metadata": {
    "jp-MarkdownHeadingCollapsed": true
   },
   "outputs": [
    {
     "name": "stdout",
     "output_type": "stream",
     "text": [
      "['1023', '958', '779', '532', '280', '87', '3', '48', '212', '452', '708', '913', '1017', '991', '844', '612', '354']\n"
     ]
    },
    {
     "data": {
      "image/png": "[encoded data removed]",
      "text/plain": [
       "<Figure size 400x200 with 1 Axes>"
      ]
     },
     "metadata": {},
     "output_type": "display_data"
    }
   ],
   "source": [
    "##### Sine wave for double buffer illustration\n",
    "import matplotlib.pyplot as plt\n",
    "import numpy as np\n",
    "%matplotlib inline\n",
    "#plt.rcParams[\"figure.figsize\"] = [8.00, 4.5]\n",
    "#plt.rcParams[\"figure.autolayout\"] = True\n",
    "#plt.rcParams[\"axes.grid\"] = False\n",
    "plt.rcParams[\"axes.xmargin\"] = 0.0\n",
    "\n",
    "n = 16\n",
    "\n",
    "\n",
    "\n",
    "t = np.linspace(-1, 0, 160, endpoint=True)\n",
    "t_n = np.linspace(-1, 0, 17, endpoint=True)\n",
    "x_t = np.cos(2*np.pi*1.3*(t+n/16))*511+512\n",
    "x_n = np.cos(2*np.pi*1.3*(t_n+n/16))*511+512\n",
    "\n",
    "plt.figure(figsize=(4,2))\n",
    "plt.yticks([])\n",
    "#plt.twinx()\n",
    "plt.plot(t, x_t)\n",
    "#plt.yticks([x_t[-1]])\n",
    "plt.xticks([])\n",
    "plt.plot(t[-1], x_t[-1], 'o', color=\"tab:orange\", markersize=10)\n",
    "\n",
    "\n",
    "\n",
    "print([f\"{x:.0f}\" for x in x_n])"
   ]
  },
  {
   "cell_type": "code",
   "execution_count": 8,
   "id": "cd5fa977-7d7e-466e-aaf6-805ddaf10aaf",
   "metadata": {},
   "outputs": [
    {
     "data": {
      "text/plain": [
       "array([2899.           +0.j        , 1371.63160108-1080.79812332j,\n",
       "        465.         -290.j        ,  370.36839892 -112.79812332j,\n",
       "        351.           +0.j        ])"
      ]
     },
     "execution_count": 8,
     "metadata": {},
     "output_type": "execute_result"
    }
   ],
   "source": [
    "val_str = ['958', '779', '532', '280', '87', '3', '48', '212']\n",
    "vals = [float(x) for x in val_str]\n",
    "np.fft.rfft(vals)"
   ]
  },
  {
   "cell_type": "code",
   "execution_count": 15,
   "id": "5a723132-19dd-48e5-9d79-b07658e2699b",
   "metadata": {},
   "outputs": [
    {
     "data": {
      "text/plain": [
       "array([3710.           +0.j        , -507.33452378+1945.09520062j,\n",
       "       -465.         +521.j        , -460.66547622 +203.09520062j,\n",
       "       -460.           +0.j        ])"
      ]
     },
     "execution_count": 15,
     "metadata": {},
     "output_type": "execute_result"
    }
   ],
   "source": [
    "val_str = ['48', '3', '87', '280', '532', '779', '958', '1023']\n",
    "vals = [float(x) for x in val_str]\n",
    "np.fft.rfft(vals)"
   ]
  }
 ],
 "metadata": {
  "kernelspec": {
   "display_name": "Python 3 (ipykernel)",
   "language": "python",
   "name": "python3"
  },
  "language_info": {
   "codemirror_mode": {
    "name": "ipython",
    "version": 3
   },
   "file_extension": ".py",
   "mimetype": "text/x-python",
   "name": "python",
   "nbconvert_exporter": "python",
   "pygments_lexer": "ipython3",
   "version": "3.11.5"
  }
 },
 "nbformat": 4,
 "nbformat_minor": 5
}
