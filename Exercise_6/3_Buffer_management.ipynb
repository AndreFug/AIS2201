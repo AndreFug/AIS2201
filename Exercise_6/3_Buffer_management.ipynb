{
 "cells": [
  {
   "cell_type": "markdown",
   "id": "8fb32a5c-e124-4e32-ae15-115825882b34",
   "metadata": {},
   "source": [
    "# Implementing double buffer handling in  `main.c`\n",
    "\n",
    "In this task section we will write the code to manage the stream of samples from the ADC, as well as the interrupt routines which are triggered by the ADC. The goal is to implement the \"buffer switching\" stage in [this animation](Figures/DualBufferAnim.gif) which leads up to the RFFT calculation.\n",
    "\n",
    "### a)\n",
    "The very first thing we need to do is define a window length for the RFFT. In this assignment we will be using window size $N=1024$, so use this as a basis for answering the theory questions later. You are welcome to experiment with other window sizes later, but there are two details wich will need to be taken into account: the window size must be a power of 2 due to how the FFT algorithm works, and the available clock speed/memory on the microprocesser sets an upper limit to possible window sizes.<br><br>\n",
    "The recommended approach do defining the window length is to create a macro using `#define`:\n",
    "\n",
    "\n",
    ">```C\n",
    ">/* USER CODE BEGIN PD */\n",
    ">#define WINDOW_SIZE 1024  // MUST be power of 2\n",
    ">/* USER CODE END PD */\n",
    ">```\n",
    "\n",
    "We will also need to define an ADC buffer size, wich should be a function of window size $N$. Given our desire to implement a double buffer, how large should the ADC buffer be?\n"
   ]
  },
  {
   "cell_type": "code",
   "execution_count": 9,
   "id": "2ef20492-1322-41d3-83e7-b42e2456f896",
   "metadata": {
    "nbgrader": {
     "grade": false,
     "grade_id": "cell-c214bc9dcd1cb6cd",
     "locked": false,
     "schema_version": 3,
     "solution": true,
     "task": false
    }
   },
   "outputs": [],
   "source": [
    "ADC_BUFFER_SIZE = \"???\"\n",
    "### BEGIN SOLUTION\n",
    "WINDOW_SIZE = 1024\n",
    "ADC_BUFFER_SIZE = 2*WINDOW_SIZE\n",
    "### END SOLUTION"
   ]
  },
  {
   "cell_type": "code",
   "execution_count": 11,
   "id": "14328efc-b5c1-4c64-8e3e-bddd61de18b9",
   "metadata": {
    "nbgrader": {
     "grade": true,
     "grade_id": "cell-93be6b406ab9df5f",
     "locked": true,
     "points": 1,
     "schema_version": 3,
     "solution": false,
     "task": false
    }
   },
   "outputs": [
    {
     "name": "stdout",
     "output_type": "stream",
     "text": [
      "Correct answer for ADC_BUFFER_SIZE :)\n"
     ]
    }
   ],
   "source": [
    "from hashlib import sha1\n",
    "assert sha1(str(round(float(ADC_BUFFER_SIZE), 0)).encode('utf-8')+b'c76c6').hexdigest() == '223290ae0be17cf9ca2239d896059f3e2e20bca2', 'Wrong answer for ADC_BUFFER_SIZE :('\n",
    "print('Correct answer for ADC_BUFFER_SIZE :)')\n",
    "### BEGIN HIDDEN TESTS\n",
    "import numpy as np\n",
    "import hashlib\n",
    "import random\n",
    "\n",
    "variable_name = 'ADC_BUFFER_SIZE'\n",
    "solution = globals()[variable_name]\n",
    "task_ID = 0x3a\n",
    "precision = 0\n",
    "\n",
    "\n",
    "## Coppy out to remove errors\n",
    "\n",
    "#solution = float(solution)\n",
    "#random.seed(task_ID)\n",
    "#salt = hex(int(hashlib.sha256((str(random.randint(0, 0xFF))).encode('utf-8')).hexdigest(), 16) % 10**6)[2:]\n",
    "#test_result = hashlib.sha1(str(round(solution, precision)).encode('utf-8')+bytes(salt, \"utf-8\")).hexdigest()\n",
    "#test_string =f\"from hashlib import sha1\\nassert sha1(str(round(float({variable_name}), {precision})).encode('utf-8')+b'{salt}').hexdigest() == '{test_result}', 'Wrong answer for {variable_name} :('\\nprint('Correct answer for {variable_name} :)')\"\n",
    "#print(test_string)\n",
    "### END HIDDEN TESTS"
   ]
  },
  {
   "cell_type": "markdown",
   "id": "5bfd21be-d89b-4968-8eb1-46d1490df004",
   "metadata": {},
   "source": [
    "## b)\n",
    "Once we have defined the buffer size, we need to create the ADC buffer which takes the form of a regular array with length `ADC_BUFFER_SIZE`. Given our configuration of the ADC in task 2, how many bits should we use for each integer element in the buffer? (In other words, should we use `uint8_t`, `uint16_t`, `uint32_t`, `uint64_t` etc..)\n"
   ]
  },
  {
   "cell_type": "code",
   "execution_count": 3,
   "id": "a61022f5-141a-46e0-a4e7-3c39b3b1dd10",
   "metadata": {
    "nbgrader": {
     "grade": false,
     "grade_id": "cell-8755e8b750a32e20",
     "locked": false,
     "schema_version": 3,
     "solution": true,
     "task": false
    }
   },
   "outputs": [],
   "source": [
    "n_bits = \"???\" # Integer value\n",
    "### BEGIN SOLUTION\n",
    "n_bits = 16\n",
    "### END SOLUTION"
   ]
  },
  {
   "cell_type": "code",
   "execution_count": 4,
   "id": "e42aff3d-e032-4f76-9399-302ba14f7aff",
   "metadata": {
    "nbgrader": {
     "grade": true,
     "grade_id": "cell-187fb9b3e7fcdd2b",
     "locked": true,
     "points": 1,
     "schema_version": 3,
     "solution": false,
     "task": false
    }
   },
   "outputs": [
    {
     "name": "stdout",
     "output_type": "stream",
     "text": [
      "Correct answer for n_bits :)\n",
      "from hashlib import sha1\n",
      "assert sha1(str(round(float(n_bits), 0)).encode('utf-8')+b'cc656').hexdigest() == '2565b1792a2e64d586c5915c6d2a095e5d09636c', 'Wrong answer for n_bits :('\n",
      "print('Correct answer for n_bits :)')\n"
     ]
    }
   ],
   "source": [
    "from hashlib import sha1\n",
    "assert sha1(str(round(float(n_bits), 0)).encode('utf-8')+b'cc656').hexdigest() == '2565b1792a2e64d586c5915c6d2a095e5d09636c', 'Wrong answer for n_bits :('\n",
    "print('Correct answer for n_bits :)')\n",
    "### BEGIN HIDDEN TESTS\n",
    "import numpy as np\n",
    "import hashlib\n",
    "import random\n",
    "\n",
    "variable_name = 'n_bits'\n",
    "solution = globals()[variable_name]\n",
    "task_ID = 0x3b\n",
    "precision = 0\n",
    "\n",
    "solution = float(solution)\n",
    "random.seed(task_ID)\n",
    "salt = hex(int(hashlib.sha256((str(random.randint(0, 0xFF))).encode('utf-8')).hexdigest(), 16) % 10**6)[2:]\n",
    "test_result = hashlib.sha1(str(round(solution, precision)).encode('utf-8')+bytes(salt, \"utf-8\")).hexdigest()\n",
    "test_string =f\"from hashlib import sha1\\nassert sha1(str(round(float({variable_name}), {precision})).encode('utf-8')+b'{salt}').hexdigest() == '{test_result}', 'Wrong answer for {variable_name} :('\\nprint('Correct answer for {variable_name} :)')\"\n",
    "print(test_string)\n",
    "### END HIDDEN TESTS"
   ]
  },
  {
   "cell_type": "markdown",
   "id": "f78cffe2-d77b-494b-8e24-a7de5edcecb8",
   "metadata": {},
   "source": [
    "Once you have landed on a data type, you can declare the buffer in the `USER CODE PV` section of `main.c` using the following template and replacing `/* Your_type_here! */` with a suitable data type:\n",
    "\n",
    ">```C\n",
    ">/* USER CODE BEGIN PV */\n",
    ">// Buffer management\n",
    ">/* Your_type_here! */ ADC_buffer[ADC_BUFFER_SIZE]; // Buffer to fill with values from ADC.\n",
    ">__IO uint8_t buffer_full = 0;       // Flag used by interrupt handlers to signal when buffer is ready.\n",
    ">uint32_t read_buffer_start = 0;     // Index of first sample in RFFT window\n",
    ">/* USER CODE END PV */\n",
    ">```\n",
    "\n",
    "*PS: The `__IO` tag on `buffer_full` marks it as a [volatile](https://en.wikipedia.org/wiki/Volatile_(computer_programming)) variable, which is generally desirable for variables wich run the risk of being accessed by both interrupt routines and the main program \"simultaneously\".*\n",
    "\n",
    "## c)\n",
    "\n",
    "The final piece of the puzzle is to describe our interrupt callback routines. We will ned two separate ones for our frequency detection system:\n",
    "* `HAL_ADC_ConvCpltCallback` is called once the buffer has been filled, and the ADC begins writing to the start of the buffer again.\n",
    "* `HAL_ADC_ConvHalfCpltCallback` is called once the buffer is filled to it's halfway point.\n",
    "\n",
    "Each of these interrupt routines should do 2 things:\n",
    "1. Raise a flag to signal to the main loop that `WINDOW_SIZE` new samples are ready for processing.\n",
    "2. Communicate to the main loop ***which*** $N=$`WINDOW_SIZE` number of values within `ADC_buffer` to read from. This can be done by communicating the index value of the first of our RFFT input segment (i.e. a value of `0` would indicate the first half of `ADC_Buffer`). For clarification, see the [animated illustration](Figures/DualBufferAnim.gif).\n",
    "\n",
    "Below is the suggested code for the interrupt routines, with some crucial information removed:\n",
    "\n",
    ">```C\n",
    ">/* USER CODE BEGIN PFP */\n",
    ">void HAL_ADC_ConvCpltCallback(ADC_HandleTypeDef* hadc)\n",
    ">{\n",
    ">\tread_buffer_start = /* startpoint_a */ ;\n",
    ">\tbuffer_full = 1; // Signals that WINDOW_SIZE new samples are ready for the RFFT\n",
    ">}\n",
    ">\n",
    ">void HAL_ADC_ConvHalfCpltCallback(ADC_HandleTypeDef* hadc)\n",
    ">{\n",
    ">\tread_buffer_start = /* startpoint_b */ ;\n",
    ">\tbuffer_full = 1; // Signals that WINDOW_SIZE new samples are ready for the RFFT\n",
    ">}\n",
    ">/* USER CODE END PFP */\n",
    ">```\n",
    "\n",
    "What values should we add to the program in place of `startpoint_a` and `startpoint_b`?\n",
    "\n",
    "\n"
   ]
  },
  {
   "cell_type": "markdown",
   "id": "0cacc60a",
   "metadata": {},
   "source": [
    "```c++\n",
    "startpoint_a = WINDOW_SIZE\n",
    "startpoint_b = 0\n",
    "```"
   ]
  },
  {
   "cell_type": "code",
   "execution_count": 15,
   "id": "adccae25-e76f-4a0e-bb32-ba1c589b94af",
   "metadata": {
    "nbgrader": {
     "grade": false,
     "grade_id": "cell-0277dd125ea73bbd",
     "locked": false,
     "schema_version": 3,
     "solution": true,
     "task": false
    }
   },
   "outputs": [],
   "source": [
    "startpoint_a = \"???\"\n",
    "startpoint_b = \"???\"\n",
    "### BEGIN SOLUTION\n",
    "startpoint_a = WINDOW_SIZE\n",
    "startpoint_b = 0\n",
    "### END SOLUTION"
   ]
  },
  {
   "cell_type": "code",
   "execution_count": 16,
   "id": "0c2f77ce-b2d2-4f5b-a587-471d07ae1430",
   "metadata": {
    "nbgrader": {
     "grade": true,
     "grade_id": "cell-34a21457a0c35846",
     "locked": true,
     "points": 1,
     "schema_version": 3,
     "solution": false,
     "task": false
    }
   },
   "outputs": [
    {
     "name": "stdout",
     "output_type": "stream",
     "text": [
      "Correct answer for startpoint_a :)\n",
      "Correct answer for startpoint_b :)\n",
      "from hashlib import sha1\n",
      "assert sha1(str(round(float(startpoint_a), 0)).encode('utf-8')+b'cc656').hexdigest() == 'bb42e981bd71e8fbbb5b0186cef7614fc98299cd', 'Wrong answer for startpoint_a :('\n",
      "print('Correct answer for startpoint_a :)')\n",
      "assert sha1(str(round(float(startpoint_b), 0)).encode('utf-8')+b'cc656').hexdigest() == '802b3ac05e13da5af515a08d1dd4a5c8a1d89cbf', 'Wrong answer for startpoint_b :('\n",
      "print('Correct answer for startpoint_b :)')\n"
     ]
    }
   ],
   "source": [
    "from hashlib import sha1\n",
    "assert sha1(str(round(float(startpoint_a), 0)).encode('utf-8')+b'cc656').hexdigest() == 'bb42e981bd71e8fbbb5b0186cef7614fc98299cd', 'Wrong answer for startpoint_a :('\n",
    "print('Correct answer for startpoint_a :)')\n",
    "assert sha1(str(round(float(startpoint_b), 0)).encode('utf-8')+b'cc656').hexdigest() == '802b3ac05e13da5af515a08d1dd4a5c8a1d89cbf', 'Wrong answer for startpoint_b :('\n",
    "print('Correct answer for startpoint_b :)')\n",
    "### BEGIN HIDDEN TESTS\n",
    "import numpy as np\n",
    "import hashlib\n",
    "import random\n",
    "\n",
    "\n",
    "task_ID = 0x3b\n",
    "precision = 0\n",
    "variable_name = 'startpoint_a'\n",
    "solution = globals()[variable_name]\n",
    "\n",
    "solution = float(solution)\n",
    "random.seed(task_ID)\n",
    "salt = hex(int(hashlib.sha256((str(random.randint(0, 0xFF))).encode('utf-8')).hexdigest(), 16) % 10**6)[2:]\n",
    "test_result = hashlib.sha1(str(round(solution, precision)).encode('utf-8')+bytes(salt, \"utf-8\")).hexdigest()\n",
    "test_string =f\"from hashlib import sha1\\nassert sha1(str(round(float({variable_name}), {precision})).encode('utf-8')+b'{salt}').hexdigest() == '{test_result}', 'Wrong answer for {variable_name} :('\\nprint('Correct answer for {variable_name} :)')\"\n",
    "print(test_string)\n",
    "\n",
    "variable_name = 'startpoint_b'\n",
    "solution = globals()[variable_name]\n",
    "\n",
    "solution = float(solution)\n",
    "random.seed(task_ID)\n",
    "salt = hex(int(hashlib.sha256((str(random.randint(0, 0xFF))).encode('utf-8')).hexdigest(), 16) % 10**6)[2:]\n",
    "test_result = hashlib.sha1(str(round(solution, precision)).encode('utf-8')+bytes(salt, \"utf-8\")).hexdigest()\n",
    "test_string =f\"assert sha1(str(round(float({variable_name}), {precision})).encode('utf-8')+b'{salt}').hexdigest() == '{test_result}', 'Wrong answer for {variable_name} :('\\nprint('Correct answer for {variable_name} :)')\"\n",
    "print(test_string)\n",
    "### END HIDDEN TESTS"
   ]
  },
  {
   "cell_type": "markdown",
   "id": "a9e03e0e-d692-4b1b-a4aa-e89239e68486",
   "metadata": {},
   "source": [
    "## d)\n",
    "Once all the pieces are in place, we are ready to add the code which will start up the sampling process:\n",
    "\n",
    "```C\n",
    "/* USER CODE BEGIN 2 */\n",
    "HAL_Delay(100); /* Add a short delay between ADC config and ADC startup.*/\n",
    "HAL_TIM_PWM_Start(&htim2, TIM_CHANNEL_1);\n",
    "HAL_ADC_Start_DMA(&hadc1, /* Start sampling on ADC instance hadc1 */\n",
    "                  (uint32_t*) ADC_buffer, /* Cast ADC_Buffer as an array of uint32_t values */\n",
    "                  ADC_BUFFER_SIZE);\n",
    "/* USER CODE END 2 */\n",
    "```\n",
    "\n",
    "Add the code and verify that the project is compiled successfully. You can now do some testing with the debugger/HAL_UART_Transmit if you wish to verify that the buffer setup works as intended, or you can move on to problem 4: RFFT implementation."
   ]
  }
 ],
 "metadata": {
  "kernelspec": {
   "display_name": "Python 3 (ipykernel)",
   "language": "python",
   "name": "python3"
  },
  "language_info": {
   "codemirror_mode": {
    "name": "ipython",
    "version": 3
   },
   "file_extension": ".py",
   "mimetype": "text/x-python",
   "name": "python",
   "nbconvert_exporter": "python",
   "pygments_lexer": "ipython3",
   "version": "3.12.6"
  }
 },
 "nbformat": 4,
 "nbformat_minor": 5
}
