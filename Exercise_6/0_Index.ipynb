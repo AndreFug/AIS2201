{
 "cells": [
  {
   "cell_type": "markdown",
   "id": "8fa7bb71-594e-4127-be56-b6c046e6528c",
   "metadata": {},
   "source": [
    "## Introduction\n",
    "\n",
    "The goal of this assignment is to program the STM32 microcontroller to run a simple frequency detection algorithm. The algorithm in question will perform frequency detecion in 3 steps:\n",
    "1. Compute the real-valued fast fourier transform ([`rfft`](https://numpy.org/doc/stable/reference/generated/numpy.fft.rfft.html)) of the sampled input signal.\n",
    "    * The `rfft` function exploits the symmetric nature of a real-valued signal's DFT, so it does not have to perform quite as many calculations. The output is limited to *only* the positive half of the frequency spectrum, meaning that for $N$ signal samples the `rfft` output has length $\\frac{N}{2} + 1$.\n",
    "2. Identify the highest peak location in the `rfft` output.\n",
    "3. Convert peak location to wave frequency measured in $\\text{Hz}$, and present this value as system output.\n",
    "\n",
    "Using python, the implementation of this algorithm is fairly straightforward:\n"
   ]
  },
  {
   "cell_type": "code",
   "execution_count": 6,
   "id": "dcf9f525-781c-45ee-a31a-c3c021732274",
   "metadata": {},
   "outputs": [],
   "source": [
    "import numpy as np\n",
    "def freq_detection(x_n: np.ndarray, fs: int)->float:\n",
    "    \"\"\"\n",
    "    Identifies the primary sinusoidal component in a signal x[n]\n",
    "    by calculting the DFT of x[n], and selecting the frequency \n",
    "    component with the highest magnitude. \n",
    "\n",
    "    Parameters:\n",
    "    x_n - signal samples x[n] to be analyzed\n",
    "    fs - sampling frequency\n",
    "\n",
    "    Returns:\n",
    "    freq - Frequency of the strongest frequency component measured in Hz\n",
    "    \"\"\"\n",
    "    N = len(x_n)\n",
    "    X_m = np.fft.rfft(x_n)\n",
    "    m_peak = np.argmax(np.abs(X_m))\n",
    "    freq = m_peak/N*fs\n",
    "    return freq"
   ]
  },
  {
   "cell_type": "markdown",
   "id": "575cd0e4-8585-445c-8a65-fa4dcaf6afb4",
   "metadata": {},
   "source": [
    "So far, the task seems pretty uncomplicated: $N$ samples of a signal goes in, the rfft is calculated, some basic peak-finding is used, and out comes the signal's frequency. The main problem we need to solve however, is the following:\n",
    "\n",
    "> How do we implement an algorithm which processes a digital signal $x[n]$ in segments of $N$ samples at a time on a microcontroller which is acquiring new samples in real-time?\n",
    "\n",
    "The solution to this problem is to create a circular buffer which the ADC can write it's samples to, and which will always contain a log of the $N$ most recent samples acquired. Once all the samples in the buffer have been replaced, we can feed the entire buffer into our frequency detection algorithm and calculate a frequency estimate which will update every $\\Delta t = \\frac{f_s}{N}$ seconds.\n",
    "\n",
    "This, at least, is the general shape of the solution. However, the RFFT calculation will take some time, and if the ADC continues writing samples to the same buffer that is used as RFFT input while the calculations are underway, we may get some rather problematic errors in our output. In fact, we will have to set up a [double buffer](https://en.wikipedia.org/wiki/Multiple_buffering) to ensure that the buffer being overwritten by the ADC is not the same as the buffer being fed into our frequency detection algorithm. \n",
    "\n",
    "The simplest way to implement double buffering is to create one big array of length $N\\cdot 2$ to act as both buffers. We can then set up interrupt service routines (ISR) to trigger both when the buffer array is half way full and when it is entirely full. Frequency detection is then accomplished by feeding alternating halves of the buffer array into our frequency detection algorithm. \n",
    "\n",
    "![Dual Buffer Illustration](Figures/DualBufferAnim.gif)\n",
    "\n",
    "Programming the microcontroller to perform this function is a far cry from being trivial, but following the steps laid out in this assignment should lead you to a working solution. \n",
    "\n",
    "|Task | Topic |\n",
    "|---|---|\n",
    "|[Step 1](1_DSP_Library.ipynb)| Getting started with the CMSIS-DSP library. |\n",
    "|[Step 2](2_Device_config.ipynb)| Configuring peripherals.|\n",
    "|[Step 3](3_Buffer_management.ipynb)| Managing the buffers in `C`.|\n",
    "|[Step 4](4_RFFT_on_STM32.ipynb)| Performing the RFFT.|"
   ]
  }
 ],
 "metadata": {
  "kernelspec": {
   "display_name": "Python 3 (ipykernel)",
   "language": "python",
   "name": "python3"
  },
  "language_info": {
   "codemirror_mode": {
    "name": "ipython",
    "version": 3
   },
   "file_extension": ".py",
   "mimetype": "text/x-python",
   "name": "python",
   "nbconvert_exporter": "python",
   "pygments_lexer": "ipython3",
   "version": "3.11.5"
  }
 },
 "nbformat": 4,
 "nbformat_minor": 5
}
