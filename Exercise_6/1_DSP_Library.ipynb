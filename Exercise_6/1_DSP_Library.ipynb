{
 "cells": [
  {
   "cell_type": "markdown",
   "id": "8a769aa9-5475-47da-ba96-bf77382b8241",
   "metadata": {},
   "source": [
    "# Getting started with the CMSIS-DSP library\n",
    "\n",
    "\n",
    "To get started, create a new STM32 project for the STM32 F446RE Nucleo board, and initialize all peripherals with their default values. Build the code by clicking **Project->Generate Code**."
   ]
  },
  {
   "cell_type": "markdown",
   "id": "e772d35d-00d4-492b-a627-9023c3905821",
   "metadata": {
    "nbgrader": {
     "grade": false,
     "grade_id": "cell-d7d5a2792d51f1b3",
     "locked": true,
     "points": 1,
     "schema_version": 3,
     "solution": false,
     "task": true
    }
   },
   "source": [
    "### a) \n",
    "#### Adding DSP libraries to the stm32 project\n",
    "\n",
    "The process of adding the DSP libraries from ARM is rather cumbersome as described on [this page](https://community.st.com/t5/stm32-mcus/how-to-integrate-cmsis-dsp-libraries-on-a-stm32-project/ta-p/666790), we will be taking a shortcut:\n",
    "\n",
    "* Attached to this assignment is a file `CMSIS_DSP.zip` which contains the modules we need to implement our frequency detection algorithm. Unpack folder named `CMSIS_DSP` into the `Drivers` folder within your STM32 project. Then right-click on your project and select `Refresh`. The folder structure for your project should now look something like [this](Figures/Folder_structure.png).\n",
    "* Right click on your project and select `Properties`. Navigate to `C/C++ Build -> Settings -> MCU GCC Compiler -> Include paths`. Add the lines `../Drivers/CMSIS_DSP/Include` and `../Drivers/CMSIS_DSP/PrivateInclude` to the include paths. The final settings should look like [this](Figures/IncludePaths.png).\n",
    "* Verify that the library has been successfully included by including the `arm_math.h` file to the private includes section of `main.c`, and running a build of the project:\n",
    "```C\n",
    "/* Private includes ----------------------------------------------------------*/\n",
    "/* USER CODE BEGIN Includes */\n",
    "#include \"arm_math.h\"\n",
    "/* USER CODE END Includes */\n",
    "```"
   ]
  },
  {
   "cell_type": "markdown",
   "id": "341827ec-e2c3-4653-b83a-1a8b6a6ea413",
   "metadata": {},
   "source": [
    "## About the CMSIS-DSP library\n",
    "\n",
    "The CMSIS-DSP library contains a large number of new functions, structs and data types. Generally the new data types such as `flaot32_t` are simply an alias standard data types such as `float`, but to maintain good pratice we will use the `float32_t` data type. That way, the variable declarations will \"match\" the functions with suffic `_f32` in their function name.\n",
    "\n",
    "The functions themselves are created to process entire arrays of data rather than individual values, similar in spirit to the `numpy` library. However, since this is  `C` and not `Python`, the functions can't return entire arrays as output and instead rely on [*pointers*](https://www.w3schools.com/c/c_pointers.php) to where they should write the calculated output. Below is an example of using a simple copy-function for an array of 32-bit floating point numbers:\n",
    "\n",
    "> #### Code Example:\n",
    ">```C\n",
    ">#define ARR_SIZE 4 \n",
    ">float32_t input_array[ARR_SIZE] = {1.0, 2.0, 3.0, 4.0};\n",
    ">float32_t output_array[ARR_SIZE];\n",
    ">\n",
    ">arm_copy_f32(input_array, output_array, ARR_SIZE);\n",
    ">\n",
    ">```\n",
    ">\n",
    ">#### Explanation:\n",
    "> The function `arm_copy_f32` has return type `void`, meaning it does not return a value. Instead, it recieves a pointer to the array `output_array`, whose values will be changed by the execution of the function. In other words, once the function call is executed, the content of  `input_array` is copied to `output_array`. Since a pointer is merely a reference to \"where the array starts\" with no added information about e.g. length, we also need to pass an argument `ARR_SIZE` so that the function can know how long the arrays are.\n",
    "\n",
    "### Processing complex data\n",
    "\n",
    "Many of the functions in the CMSIS-DSP library use complex numbers as input/output. Complex data is stored in a normal array with length $2\\ \\times$ the number of complex values. Real and complex parts are then stored alternately as follows:\n",
    "\n",
    "#### Array representing complex data $z[n] = x[n] + j\\cdot y[n]$:\n",
    "\n",
    "|index: | 0 | 1 | 2 | 3 | 4 | 5 | 6 | 7 |\n",
    "|:--|--:|--:|--:|--:|--:|--:|--:|--:|\n",
    "|**data:** | $$x[0]$$| $$y[0]$$| $$x[1]$$| $$y[1]$$| $$x[2]$$| $$y[2]$$| $$x[3]$$| $$y[3]$$|\n"
   ]
  },
  {
   "cell_type": "markdown",
   "id": "3db55856-0184-4247-a62d-dc9927c1cc46",
   "metadata": {},
   "source": [
    "### b) \n",
    "#### Performing simple calculations with complex data\n",
    "\n",
    "A useful function for our signal processing algorithm is the function `arm_cmplx_mag_f32`, which takes three arguments as input data.\n",
    "*   `pSrc`        points to input vector with complex data. Expects `float32_t` array with length $2\\times$`numSamples`.\n",
    "*   `pDst`        points to output vector with real data. Expects `float32_t` array with length `numSamples`.\n",
    "*   `numSamples`  number of samples in each vector\n",
    "\n",
    "Use the function `arm_cmplx_mag_f32` to calculate the magnitude of a complex value $z = 4 - 3j$ on the microcontroller. You can check the that the calculation was successful by entering debug mode, and checking the value of your output vector after calling `arm_cmplx_mag_f32`. Paste the code you used to the cell below.\n"
   ]
  },
  {
   "cell_type": "markdown",
   "id": "ef21e26c-730e-4a19-a228-cb3acd50233a",
   "metadata": {
    "nbgrader": {
     "grade": true,
     "grade_id": "cell-78866839e46ec3f0",
     "locked": false,
     "points": 1,
     "schema_version": 3,
     "solution": true,
     "task": false
    }
   },
   "source": [
    "```C\n",
    "### BEGIN SOLUTION\n",
    "float32_t complex_input[2] = {4.0, 3.0};\n",
    "float32_t complex_output[1];\n",
    "arm_cmplx_mag_f32(complex_input, complex_output, 1);\n",
    "### END SOLUTION\n",
    "```"
   ]
  },
  {
   "cell_type": "markdown",
   "id": "15ff55ba-ba51-4848-8934-faaf160ef828",
   "metadata": {
    "nbgrader": {
     "grade": false,
     "grade_id": "cell-881a6ae87e70d546",
     "locked": true,
     "points": 1,
     "schema_version": 3,
     "solution": false,
     "task": true
    }
   },
   "source": [
    "\n",
    "### Printing results to serial monitor\n",
    "\n",
    "The goal of this lab is to program the STM32 as a frequency detection system, which transmits a constant stream of updated frequency values in $\\text{Hz}$. A logical first step is to program the STM32 to transmit messages to your PC using USART.\n",
    "\n",
    "By default, USART2 is configured for serial communication with a baud rate of $115\\ 200\\text{ bits/s}$ (you can adjust this to a higher setting if you wish, although it's not strictly necessary for our application). To transmit messages to the PC we can use the function `HAL_UART_Transmit`, which is as close as it gets to Arduino C's `Serial.print()`. Below is an example of usage:\n",
    "\n",
    "```C\n",
    "char message[] = \"Hello World!\";\n",
    "HAL_UART_Transmit(&huart2, (uint8_t*) &message, sizeof(message), 10); \n",
    "```\n",
    "\n",
    "Explanation of arguments:\n",
    "* `&huart2`: Reference to UART \"object\"\n",
    "* `message`: Character array with message to be transmitted.\n",
    "* `(uint8_t*) &message`: Number of bytes in message\n",
    "* `10`: Timeout. Milliseconds before exiting transmit function.\n",
    "\n",
    "\n",
    "## c)\n",
    "Program the STM32 to transmit the result from our complex magnitude calculation in problem **b)**. You can view the transmitted data using e.g. a serial monitor such as the one included in the Arduino IDE.\n",
    "\n",
    "*Hint: the function `sprintf` from `stdio.h` may come in handy.*"
   ]
  }
 ],
 "metadata": {
  "kernelspec": {
   "display_name": "Python 3 (ipykernel)",
   "language": "python",
   "name": "python3"
  },
  "language_info": {
   "codemirror_mode": {
    "name": "ipython",
    "version": 3
   },
   "file_extension": ".py",
   "mimetype": "text/x-python",
   "name": "python",
   "nbconvert_exporter": "python",
   "pygments_lexer": "ipython3",
   "version": "3.11.5"
  }
 },
 "nbformat": 4,
 "nbformat_minor": 5
}
